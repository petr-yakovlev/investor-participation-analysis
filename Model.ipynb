{
 "cells": [
  {
   "cell_type": "code",
   "execution_count": 27,
   "metadata": {},
   "outputs": [],
   "source": [
    "#------------------------------------------------------------------------------------------------------------------------------#\n",
    "#                                        Вызов библиотек                                                                       #\n",
    "#------------------------------------------------------------------------------------------------------------------------------#\n",
    "\n",
    "import numpy as np\n",
    "import matplotlib as mb\n",
    "import pandas as pd\n",
    "from sklearn import linear_model\n",
    "import statsmodels.api as sm\n",
    "import statsmodels.stats.api as sms\n",
    "import seaborn as sns\n",
    "import matplotlib.pyplot as plt\n",
    "from statsmodels.stats.outliers_influence import variance_inflation_factor\n",
    "from statsmodels.graphics.gofplots import qqplot\n",
    "from matplotlib import pyplot\n",
    "import scipy as sp\n",
    "from scipy import stats"
   ]
  },
  {
   "cell_type": "code",
   "execution_count": 42,
   "metadata": {
    "collapsed": true
   },
   "outputs": [
    {
     "data": {
      "text/html": [
       "<div>\n",
       "<style scoped>\n",
       "    .dataframe tbody tr th:only-of-type {\n",
       "        vertical-align: middle;\n",
       "    }\n",
       "\n",
       "    .dataframe tbody tr th {\n",
       "        vertical-align: top;\n",
       "    }\n",
       "\n",
       "    .dataframe thead th {\n",
       "        text-align: right;\n",
       "    }\n",
       "</style>\n",
       "<table border=\"1\" class=\"dataframe\">\n",
       "  <thead>\n",
       "    <tr style=\"text-align: right;\">\n",
       "      <th></th>\n",
       "      <th>Date</th>\n",
       "      <th>Overall Traded volume USA -dollars</th>\n",
       "      <th>PartRate</th>\n",
       "      <th>Retail volumes -dollars</th>\n",
       "      <th>Retail volumes -billion dollars</th>\n",
       "      <th>ln (Retail volumes)</th>\n",
       "      <th>VIX</th>\n",
       "      <th>Unemployment rate</th>\n",
       "      <th>Index Return</th>\n",
       "      <th>Fin Literacy</th>\n",
       "      <th>...</th>\n",
       "      <th>After Capital Gain tax</th>\n",
       "      <th>After Capital Gain tax total</th>\n",
       "      <th>Dividends monthly</th>\n",
       "      <th>Dividend tax</th>\n",
       "      <th>After Dividend tax</th>\n",
       "      <th>Total Gain</th>\n",
       "      <th>Comission (for trading)</th>\n",
       "      <th>Comissions paid</th>\n",
       "      <th>Comissions paid total</th>\n",
       "      <th>Cost To Trade total</th>\n",
       "    </tr>\n",
       "  </thead>\n",
       "  <tbody>\n",
       "    <tr>\n",
       "      <td>0</td>\n",
       "      <td>01.02.2021</td>\n",
       "      <td>1.135068e+13</td>\n",
       "      <td>19,50%</td>\n",
       "      <td>2.213382e+12</td>\n",
       "      <td>2213.38</td>\n",
       "      <td>7.70</td>\n",
       "      <td>30.24</td>\n",
       "      <td>0.06</td>\n",
       "      <td>0.02</td>\n",
       "      <td>1.0</td>\n",
       "      <td>...</td>\n",
       "      <td>56.418827</td>\n",
       "      <td>56.418827</td>\n",
       "      <td>4.0</td>\n",
       "      <td>0.88</td>\n",
       "      <td>3.12</td>\n",
       "      <td>59.538827</td>\n",
       "      <td>0,00%</td>\n",
       "      <td>0.000000</td>\n",
       "      <td>0.000000</td>\n",
       "      <td>57.298827</td>\n",
       "    </tr>\n",
       "    <tr>\n",
       "      <td>1</td>\n",
       "      <td>04.01.2021</td>\n",
       "      <td>1.179530e+13</td>\n",
       "      <td>19,50%</td>\n",
       "      <td>2.300083e+12</td>\n",
       "      <td>2300.08</td>\n",
       "      <td>7.74</td>\n",
       "      <td>26.97</td>\n",
       "      <td>0.06</td>\n",
       "      <td>0.01</td>\n",
       "      <td>1.0</td>\n",
       "      <td>...</td>\n",
       "      <td>29.883334</td>\n",
       "      <td>29.883334</td>\n",
       "      <td>4.0</td>\n",
       "      <td>0.88</td>\n",
       "      <td>3.12</td>\n",
       "      <td>33.003334</td>\n",
       "      <td>0,00%</td>\n",
       "      <td>0.000000</td>\n",
       "      <td>0.000000</td>\n",
       "      <td>30.763334</td>\n",
       "    </tr>\n",
       "    <tr>\n",
       "      <td>2</td>\n",
       "      <td>01.12.2020</td>\n",
       "      <td>1.091668e+13</td>\n",
       "      <td>19,50%</td>\n",
       "      <td>2.128752e+12</td>\n",
       "      <td>2128.75</td>\n",
       "      <td>7.66</td>\n",
       "      <td>20.77</td>\n",
       "      <td>0.07</td>\n",
       "      <td>0.10</td>\n",
       "      <td>1.0</td>\n",
       "      <td>...</td>\n",
       "      <td>291.201489</td>\n",
       "      <td>291.201489</td>\n",
       "      <td>4.0</td>\n",
       "      <td>0.88</td>\n",
       "      <td>3.12</td>\n",
       "      <td>294.321489</td>\n",
       "      <td>0,00%</td>\n",
       "      <td>0.000000</td>\n",
       "      <td>0.000000</td>\n",
       "      <td>292.081489</td>\n",
       "    </tr>\n",
       "    <tr>\n",
       "      <td>3</td>\n",
       "      <td>02.11.2020</td>\n",
       "      <td>1.026411e+13</td>\n",
       "      <td>19,50%</td>\n",
       "      <td>2.001501e+12</td>\n",
       "      <td>2001.50</td>\n",
       "      <td>7.60</td>\n",
       "      <td>37.13</td>\n",
       "      <td>0.07</td>\n",
       "      <td>-0.02</td>\n",
       "      <td>1.0</td>\n",
       "      <td>...</td>\n",
       "      <td>-60.744020</td>\n",
       "      <td>0.000000</td>\n",
       "      <td>4.0</td>\n",
       "      <td>0.88</td>\n",
       "      <td>3.12</td>\n",
       "      <td>-57.624020</td>\n",
       "      <td>0,00%</td>\n",
       "      <td>0.000000</td>\n",
       "      <td>0.000000</td>\n",
       "      <td>0.880000</td>\n",
       "    </tr>\n",
       "    <tr>\n",
       "      <td>4</td>\n",
       "      <td>01.10.2020</td>\n",
       "      <td>9.523329e+12</td>\n",
       "      <td>19,50%</td>\n",
       "      <td>1.857049e+12</td>\n",
       "      <td>1857.05</td>\n",
       "      <td>7.53</td>\n",
       "      <td>26.70</td>\n",
       "      <td>0.07</td>\n",
       "      <td>-0.04</td>\n",
       "      <td>1.0</td>\n",
       "      <td>...</td>\n",
       "      <td>-121.639807</td>\n",
       "      <td>0.000000</td>\n",
       "      <td>4.0</td>\n",
       "      <td>0.88</td>\n",
       "      <td>3.12</td>\n",
       "      <td>-118.519807</td>\n",
       "      <td>0,00%</td>\n",
       "      <td>0.000000</td>\n",
       "      <td>0.000000</td>\n",
       "      <td>0.880000</td>\n",
       "    </tr>\n",
       "    <tr>\n",
       "      <td>...</td>\n",
       "      <td>...</td>\n",
       "      <td>...</td>\n",
       "      <td>...</td>\n",
       "      <td>...</td>\n",
       "      <td>...</td>\n",
       "      <td>...</td>\n",
       "      <td>...</td>\n",
       "      <td>...</td>\n",
       "      <td>...</td>\n",
       "      <td>...</td>\n",
       "      <td>...</td>\n",
       "      <td>...</td>\n",
       "      <td>...</td>\n",
       "      <td>...</td>\n",
       "      <td>...</td>\n",
       "      <td>...</td>\n",
       "      <td>...</td>\n",
       "      <td>...</td>\n",
       "      <td>...</td>\n",
       "      <td>...</td>\n",
       "      <td>...</td>\n",
       "    </tr>\n",
       "    <tr>\n",
       "      <td>93</td>\n",
       "      <td>01.05.2013</td>\n",
       "      <td>5.049741e+12</td>\n",
       "      <td>12,00%</td>\n",
       "      <td>6.059689e+11</td>\n",
       "      <td>605.97</td>\n",
       "      <td>6.41</td>\n",
       "      <td>14.49</td>\n",
       "      <td>0.08</td>\n",
       "      <td>0.01</td>\n",
       "      <td>0.0</td>\n",
       "      <td>...</td>\n",
       "      <td>37.602343</td>\n",
       "      <td>37.602343</td>\n",
       "      <td>4.0</td>\n",
       "      <td>0.76</td>\n",
       "      <td>3.24</td>\n",
       "      <td>40.842343</td>\n",
       "      <td>5,00%</td>\n",
       "      <td>2.042117</td>\n",
       "      <td>2.042117</td>\n",
       "      <td>40.404460</td>\n",
       "    </tr>\n",
       "    <tr>\n",
       "      <td>94</td>\n",
       "      <td>01.04.2013</td>\n",
       "      <td>4.980839e+12</td>\n",
       "      <td>12,00%</td>\n",
       "      <td>5.977007e+11</td>\n",
       "      <td>597.70</td>\n",
       "      <td>6.39</td>\n",
       "      <td>13.58</td>\n",
       "      <td>0.08</td>\n",
       "      <td>0.03</td>\n",
       "      <td>0.0</td>\n",
       "      <td>...</td>\n",
       "      <td>82.225318</td>\n",
       "      <td>82.225318</td>\n",
       "      <td>4.0</td>\n",
       "      <td>0.76</td>\n",
       "      <td>3.24</td>\n",
       "      <td>85.465318</td>\n",
       "      <td>5,00%</td>\n",
       "      <td>4.273266</td>\n",
       "      <td>4.273266</td>\n",
       "      <td>87.258584</td>\n",
       "    </tr>\n",
       "    <tr>\n",
       "      <td>95</td>\n",
       "      <td>01.03.2013</td>\n",
       "      <td>4.205203e+12</td>\n",
       "      <td>12,00%</td>\n",
       "      <td>5.046243e+11</td>\n",
       "      <td>504.62</td>\n",
       "      <td>6.22</td>\n",
       "      <td>15.36</td>\n",
       "      <td>0.08</td>\n",
       "      <td>0.00</td>\n",
       "      <td>0.0</td>\n",
       "      <td>...</td>\n",
       "      <td>9.557668</td>\n",
       "      <td>9.557668</td>\n",
       "      <td>4.0</td>\n",
       "      <td>0.76</td>\n",
       "      <td>3.24</td>\n",
       "      <td>12.797668</td>\n",
       "      <td>5,00%</td>\n",
       "      <td>0.639883</td>\n",
       "      <td>0.639883</td>\n",
       "      <td>10.957551</td>\n",
       "    </tr>\n",
       "    <tr>\n",
       "      <td>96</td>\n",
       "      <td>01.02.2013</td>\n",
       "      <td>4.339547e+12</td>\n",
       "      <td>12,00%</td>\n",
       "      <td>5.207456e+11</td>\n",
       "      <td>520.75</td>\n",
       "      <td>6.26</td>\n",
       "      <td>12.90</td>\n",
       "      <td>0.08</td>\n",
       "      <td>0.03</td>\n",
       "      <td>0.0</td>\n",
       "      <td>...</td>\n",
       "      <td>98.248868</td>\n",
       "      <td>98.248868</td>\n",
       "      <td>4.0</td>\n",
       "      <td>0.76</td>\n",
       "      <td>3.24</td>\n",
       "      <td>101.488868</td>\n",
       "      <td>5,00%</td>\n",
       "      <td>5.074443</td>\n",
       "      <td>5.074443</td>\n",
       "      <td>104.083311</td>\n",
       "    </tr>\n",
       "    <tr>\n",
       "      <td>97</td>\n",
       "      <td>NaN</td>\n",
       "      <td>NaN</td>\n",
       "      <td>NaN</td>\n",
       "      <td>NaN</td>\n",
       "      <td>NaN</td>\n",
       "      <td>NaN</td>\n",
       "      <td>NaN</td>\n",
       "      <td>NaN</td>\n",
       "      <td>NaN</td>\n",
       "      <td>NaN</td>\n",
       "      <td>...</td>\n",
       "      <td>NaN</td>\n",
       "      <td>NaN</td>\n",
       "      <td>NaN</td>\n",
       "      <td>NaN</td>\n",
       "      <td>NaN</td>\n",
       "      <td>NaN</td>\n",
       "      <td>NaN</td>\n",
       "      <td>NaN</td>\n",
       "      <td>NaN</td>\n",
       "      <td>NaN</td>\n",
       "    </tr>\n",
       "  </tbody>\n",
       "</table>\n",
       "<p>98 rows × 28 columns</p>\n",
       "</div>"
      ],
      "text/plain": [
       "          Date  Overall Traded volume USA -dollars PartRate  \\\n",
       "0   01.02.2021                        1.135068e+13   19,50%   \n",
       "1   04.01.2021                        1.179530e+13   19,50%   \n",
       "2   01.12.2020                        1.091668e+13   19,50%   \n",
       "3   02.11.2020                        1.026411e+13   19,50%   \n",
       "4   01.10.2020                        9.523329e+12   19,50%   \n",
       "..         ...                                 ...      ...   \n",
       "93  01.05.2013                        5.049741e+12   12,00%   \n",
       "94  01.04.2013                        4.980839e+12   12,00%   \n",
       "95  01.03.2013                        4.205203e+12   12,00%   \n",
       "96  01.02.2013                        4.339547e+12   12,00%   \n",
       "97         NaN                                 NaN      NaN   \n",
       "\n",
       "    Retail volumes -dollars  Retail volumes -billion dollars  \\\n",
       "0              2.213382e+12                          2213.38   \n",
       "1              2.300083e+12                          2300.08   \n",
       "2              2.128752e+12                          2128.75   \n",
       "3              2.001501e+12                          2001.50   \n",
       "4              1.857049e+12                          1857.05   \n",
       "..                      ...                              ...   \n",
       "93             6.059689e+11                           605.97   \n",
       "94             5.977007e+11                           597.70   \n",
       "95             5.046243e+11                           504.62   \n",
       "96             5.207456e+11                           520.75   \n",
       "97                      NaN                              NaN   \n",
       "\n",
       "    ln (Retail volumes)    VIX  Unemployment rate  Index Return  Fin Literacy  \\\n",
       "0                  7.70  30.24               0.06          0.02           1.0   \n",
       "1                  7.74  26.97               0.06          0.01           1.0   \n",
       "2                  7.66  20.77               0.07          0.10           1.0   \n",
       "3                  7.60  37.13               0.07         -0.02           1.0   \n",
       "4                  7.53  26.70               0.07         -0.04           1.0   \n",
       "..                  ...    ...                ...           ...           ...   \n",
       "93                 6.41  14.49               0.08          0.01           0.0   \n",
       "94                 6.39  13.58               0.08          0.03           0.0   \n",
       "95                 6.22  15.36               0.08          0.00           0.0   \n",
       "96                 6.26  12.90               0.08          0.03           0.0   \n",
       "97                  NaN    NaN                NaN           NaN           NaN   \n",
       "\n",
       "    ...  After Capital Gain tax  After Capital Gain tax total  \\\n",
       "0   ...               56.418827                     56.418827   \n",
       "1   ...               29.883334                     29.883334   \n",
       "2   ...              291.201489                    291.201489   \n",
       "3   ...              -60.744020                      0.000000   \n",
       "4   ...             -121.639807                      0.000000   \n",
       "..  ...                     ...                           ...   \n",
       "93  ...               37.602343                     37.602343   \n",
       "94  ...               82.225318                     82.225318   \n",
       "95  ...                9.557668                      9.557668   \n",
       "96  ...               98.248868                     98.248868   \n",
       "97  ...                     NaN                           NaN   \n",
       "\n",
       "    Dividends monthly  Dividend tax  After Dividend tax  Total Gain  \\\n",
       "0                 4.0          0.88                3.12   59.538827   \n",
       "1                 4.0          0.88                3.12   33.003334   \n",
       "2                 4.0          0.88                3.12  294.321489   \n",
       "3                 4.0          0.88                3.12  -57.624020   \n",
       "4                 4.0          0.88                3.12 -118.519807   \n",
       "..                ...           ...                 ...         ...   \n",
       "93                4.0          0.76                3.24   40.842343   \n",
       "94                4.0          0.76                3.24   85.465318   \n",
       "95                4.0          0.76                3.24   12.797668   \n",
       "96                4.0          0.76                3.24  101.488868   \n",
       "97                NaN           NaN                 NaN         NaN   \n",
       "\n",
       "    Comission (for trading)  Comissions paid  Comissions paid total  \\\n",
       "0                     0,00%         0.000000               0.000000   \n",
       "1                     0,00%         0.000000               0.000000   \n",
       "2                     0,00%         0.000000               0.000000   \n",
       "3                     0,00%         0.000000               0.000000   \n",
       "4                     0,00%         0.000000               0.000000   \n",
       "..                      ...              ...                    ...   \n",
       "93                    5,00%         2.042117               2.042117   \n",
       "94                    5,00%         4.273266               4.273266   \n",
       "95                    5,00%         0.639883               0.639883   \n",
       "96                    5,00%         5.074443               5.074443   \n",
       "97                      NaN              NaN                    NaN   \n",
       "\n",
       "    Cost To Trade total  \n",
       "0             57.298827  \n",
       "1             30.763334  \n",
       "2            292.081489  \n",
       "3              0.880000  \n",
       "4              0.880000  \n",
       "..                  ...  \n",
       "93            40.404460  \n",
       "94            87.258584  \n",
       "95            10.957551  \n",
       "96           104.083311  \n",
       "97                  NaN  \n",
       "\n",
       "[98 rows x 28 columns]"
      ]
     },
     "execution_count": 42,
     "metadata": {},
     "output_type": "execute_result"
    }
   ],
   "source": [
    "#------------------------------------------------------------------------------------------------------------------------------#\n",
    "#                                        Загрузка датафрейма                                                                  #\n",
    "#------------------------------------------------------------------------------------------------------------------------------#\n",
    "\n",
    "import os\n",
    "ROOT_DIR = os.path.realpath(os.path.join(os.path.dirname('data'), '..'))\n",
    "\n",
    "dataset_US = pd.read_csv(os.path.join(ROOT_DIR, 'data', 'data_usa.xlsx')), delimiter = ';', decimal = ',')\n",
    "dataset_US = pd.DataFrame(dataset_US)\n",
    "dataset_US"
   ]
  },
  {
   "cell_type": "code",
   "execution_count": 43,
   "metadata": {
    "collapsed": true
   },
   "outputs": [
    {
     "data": {
      "text/html": [
       "<div>\n",
       "<style scoped>\n",
       "    .dataframe tbody tr th:only-of-type {\n",
       "        vertical-align: middle;\n",
       "    }\n",
       "\n",
       "    .dataframe tbody tr th {\n",
       "        vertical-align: top;\n",
       "    }\n",
       "\n",
       "    .dataframe thead th {\n",
       "        text-align: right;\n",
       "    }\n",
       "</style>\n",
       "<table border=\"1\" class=\"dataframe\">\n",
       "  <thead>\n",
       "    <tr style=\"text-align: right;\">\n",
       "      <th></th>\n",
       "      <th>Date</th>\n",
       "      <th>Overall Traded volume USA -dollars</th>\n",
       "      <th>PartRate</th>\n",
       "      <th>Retail volumes -dollars</th>\n",
       "      <th>Retail volumes -billion dollars</th>\n",
       "      <th>ln (Retail volumes)</th>\n",
       "      <th>VIX</th>\n",
       "      <th>Unemployment rate</th>\n",
       "      <th>Index Return</th>\n",
       "      <th>Fin Literacy</th>\n",
       "      <th>...</th>\n",
       "      <th>After Capital Gain tax</th>\n",
       "      <th>After Capital Gain tax total</th>\n",
       "      <th>Dividends monthly</th>\n",
       "      <th>Dividend tax</th>\n",
       "      <th>After Dividend tax</th>\n",
       "      <th>Total Gain</th>\n",
       "      <th>Comission (for trading)</th>\n",
       "      <th>Comissions paid</th>\n",
       "      <th>Comissions paid total</th>\n",
       "      <th>Cost To Trade total</th>\n",
       "    </tr>\n",
       "  </thead>\n",
       "  <tbody>\n",
       "    <tr>\n",
       "      <td>0</td>\n",
       "      <td>01.02.2021</td>\n",
       "      <td>1.135068e+13</td>\n",
       "      <td>19,50%</td>\n",
       "      <td>2.213382e+12</td>\n",
       "      <td>2213.38</td>\n",
       "      <td>7.70</td>\n",
       "      <td>30.24</td>\n",
       "      <td>0.06</td>\n",
       "      <td>0.02</td>\n",
       "      <td>1.0</td>\n",
       "      <td>...</td>\n",
       "      <td>56.418827</td>\n",
       "      <td>56.418827</td>\n",
       "      <td>4.0</td>\n",
       "      <td>0.88</td>\n",
       "      <td>3.12</td>\n",
       "      <td>59.538827</td>\n",
       "      <td>0,00%</td>\n",
       "      <td>0.000000</td>\n",
       "      <td>0.000000</td>\n",
       "      <td>57.298827</td>\n",
       "    </tr>\n",
       "    <tr>\n",
       "      <td>1</td>\n",
       "      <td>04.01.2021</td>\n",
       "      <td>1.179530e+13</td>\n",
       "      <td>19,50%</td>\n",
       "      <td>2.300083e+12</td>\n",
       "      <td>2300.08</td>\n",
       "      <td>7.74</td>\n",
       "      <td>26.97</td>\n",
       "      <td>0.06</td>\n",
       "      <td>0.01</td>\n",
       "      <td>1.0</td>\n",
       "      <td>...</td>\n",
       "      <td>29.883334</td>\n",
       "      <td>29.883334</td>\n",
       "      <td>4.0</td>\n",
       "      <td>0.88</td>\n",
       "      <td>3.12</td>\n",
       "      <td>33.003334</td>\n",
       "      <td>0,00%</td>\n",
       "      <td>0.000000</td>\n",
       "      <td>0.000000</td>\n",
       "      <td>30.763334</td>\n",
       "    </tr>\n",
       "    <tr>\n",
       "      <td>2</td>\n",
       "      <td>01.12.2020</td>\n",
       "      <td>1.091668e+13</td>\n",
       "      <td>19,50%</td>\n",
       "      <td>2.128752e+12</td>\n",
       "      <td>2128.75</td>\n",
       "      <td>7.66</td>\n",
       "      <td>20.77</td>\n",
       "      <td>0.07</td>\n",
       "      <td>0.10</td>\n",
       "      <td>1.0</td>\n",
       "      <td>...</td>\n",
       "      <td>291.201489</td>\n",
       "      <td>291.201489</td>\n",
       "      <td>4.0</td>\n",
       "      <td>0.88</td>\n",
       "      <td>3.12</td>\n",
       "      <td>294.321489</td>\n",
       "      <td>0,00%</td>\n",
       "      <td>0.000000</td>\n",
       "      <td>0.000000</td>\n",
       "      <td>292.081489</td>\n",
       "    </tr>\n",
       "    <tr>\n",
       "      <td>3</td>\n",
       "      <td>02.11.2020</td>\n",
       "      <td>1.026411e+13</td>\n",
       "      <td>19,50%</td>\n",
       "      <td>2.001501e+12</td>\n",
       "      <td>2001.50</td>\n",
       "      <td>7.60</td>\n",
       "      <td>37.13</td>\n",
       "      <td>0.07</td>\n",
       "      <td>-0.02</td>\n",
       "      <td>1.0</td>\n",
       "      <td>...</td>\n",
       "      <td>-60.744020</td>\n",
       "      <td>0.000000</td>\n",
       "      <td>4.0</td>\n",
       "      <td>0.88</td>\n",
       "      <td>3.12</td>\n",
       "      <td>-57.624020</td>\n",
       "      <td>0,00%</td>\n",
       "      <td>0.000000</td>\n",
       "      <td>0.000000</td>\n",
       "      <td>0.880000</td>\n",
       "    </tr>\n",
       "    <tr>\n",
       "      <td>4</td>\n",
       "      <td>01.10.2020</td>\n",
       "      <td>9.523329e+12</td>\n",
       "      <td>19,50%</td>\n",
       "      <td>1.857049e+12</td>\n",
       "      <td>1857.05</td>\n",
       "      <td>7.53</td>\n",
       "      <td>26.70</td>\n",
       "      <td>0.07</td>\n",
       "      <td>-0.04</td>\n",
       "      <td>1.0</td>\n",
       "      <td>...</td>\n",
       "      <td>-121.639807</td>\n",
       "      <td>0.000000</td>\n",
       "      <td>4.0</td>\n",
       "      <td>0.88</td>\n",
       "      <td>3.12</td>\n",
       "      <td>-118.519807</td>\n",
       "      <td>0,00%</td>\n",
       "      <td>0.000000</td>\n",
       "      <td>0.000000</td>\n",
       "      <td>0.880000</td>\n",
       "    </tr>\n",
       "    <tr>\n",
       "      <td>...</td>\n",
       "      <td>...</td>\n",
       "      <td>...</td>\n",
       "      <td>...</td>\n",
       "      <td>...</td>\n",
       "      <td>...</td>\n",
       "      <td>...</td>\n",
       "      <td>...</td>\n",
       "      <td>...</td>\n",
       "      <td>...</td>\n",
       "      <td>...</td>\n",
       "      <td>...</td>\n",
       "      <td>...</td>\n",
       "      <td>...</td>\n",
       "      <td>...</td>\n",
       "      <td>...</td>\n",
       "      <td>...</td>\n",
       "      <td>...</td>\n",
       "      <td>...</td>\n",
       "      <td>...</td>\n",
       "      <td>...</td>\n",
       "      <td>...</td>\n",
       "    </tr>\n",
       "    <tr>\n",
       "      <td>92</td>\n",
       "      <td>03.06.2013</td>\n",
       "      <td>5.077340e+12</td>\n",
       "      <td>12,00%</td>\n",
       "      <td>6.092808e+11</td>\n",
       "      <td>609.28</td>\n",
       "      <td>6.41</td>\n",
       "      <td>16.28</td>\n",
       "      <td>0.08</td>\n",
       "      <td>0.04</td>\n",
       "      <td>0.0</td>\n",
       "      <td>...</td>\n",
       "      <td>103.161765</td>\n",
       "      <td>103.161765</td>\n",
       "      <td>4.0</td>\n",
       "      <td>0.76</td>\n",
       "      <td>3.24</td>\n",
       "      <td>106.401765</td>\n",
       "      <td>5,00%</td>\n",
       "      <td>5.320088</td>\n",
       "      <td>5.320088</td>\n",
       "      <td>109.241853</td>\n",
       "    </tr>\n",
       "    <tr>\n",
       "      <td>93</td>\n",
       "      <td>01.05.2013</td>\n",
       "      <td>5.049741e+12</td>\n",
       "      <td>12,00%</td>\n",
       "      <td>6.059689e+11</td>\n",
       "      <td>605.97</td>\n",
       "      <td>6.41</td>\n",
       "      <td>14.49</td>\n",
       "      <td>0.08</td>\n",
       "      <td>0.01</td>\n",
       "      <td>0.0</td>\n",
       "      <td>...</td>\n",
       "      <td>37.602343</td>\n",
       "      <td>37.602343</td>\n",
       "      <td>4.0</td>\n",
       "      <td>0.76</td>\n",
       "      <td>3.24</td>\n",
       "      <td>40.842343</td>\n",
       "      <td>5,00%</td>\n",
       "      <td>2.042117</td>\n",
       "      <td>2.042117</td>\n",
       "      <td>40.404460</td>\n",
       "    </tr>\n",
       "    <tr>\n",
       "      <td>94</td>\n",
       "      <td>01.04.2013</td>\n",
       "      <td>4.980839e+12</td>\n",
       "      <td>12,00%</td>\n",
       "      <td>5.977007e+11</td>\n",
       "      <td>597.70</td>\n",
       "      <td>6.39</td>\n",
       "      <td>13.58</td>\n",
       "      <td>0.08</td>\n",
       "      <td>0.03</td>\n",
       "      <td>0.0</td>\n",
       "      <td>...</td>\n",
       "      <td>82.225318</td>\n",
       "      <td>82.225318</td>\n",
       "      <td>4.0</td>\n",
       "      <td>0.76</td>\n",
       "      <td>3.24</td>\n",
       "      <td>85.465318</td>\n",
       "      <td>5,00%</td>\n",
       "      <td>4.273266</td>\n",
       "      <td>4.273266</td>\n",
       "      <td>87.258584</td>\n",
       "    </tr>\n",
       "    <tr>\n",
       "      <td>95</td>\n",
       "      <td>01.03.2013</td>\n",
       "      <td>4.205203e+12</td>\n",
       "      <td>12,00%</td>\n",
       "      <td>5.046243e+11</td>\n",
       "      <td>504.62</td>\n",
       "      <td>6.22</td>\n",
       "      <td>15.36</td>\n",
       "      <td>0.08</td>\n",
       "      <td>0.00</td>\n",
       "      <td>0.0</td>\n",
       "      <td>...</td>\n",
       "      <td>9.557668</td>\n",
       "      <td>9.557668</td>\n",
       "      <td>4.0</td>\n",
       "      <td>0.76</td>\n",
       "      <td>3.24</td>\n",
       "      <td>12.797668</td>\n",
       "      <td>5,00%</td>\n",
       "      <td>0.639883</td>\n",
       "      <td>0.639883</td>\n",
       "      <td>10.957551</td>\n",
       "    </tr>\n",
       "    <tr>\n",
       "      <td>96</td>\n",
       "      <td>01.02.2013</td>\n",
       "      <td>4.339547e+12</td>\n",
       "      <td>12,00%</td>\n",
       "      <td>5.207456e+11</td>\n",
       "      <td>520.75</td>\n",
       "      <td>6.26</td>\n",
       "      <td>12.90</td>\n",
       "      <td>0.08</td>\n",
       "      <td>0.03</td>\n",
       "      <td>0.0</td>\n",
       "      <td>...</td>\n",
       "      <td>98.248868</td>\n",
       "      <td>98.248868</td>\n",
       "      <td>4.0</td>\n",
       "      <td>0.76</td>\n",
       "      <td>3.24</td>\n",
       "      <td>101.488868</td>\n",
       "      <td>5,00%</td>\n",
       "      <td>5.074443</td>\n",
       "      <td>5.074443</td>\n",
       "      <td>104.083311</td>\n",
       "    </tr>\n",
       "  </tbody>\n",
       "</table>\n",
       "<p>97 rows × 28 columns</p>\n",
       "</div>"
      ],
      "text/plain": [
       "          Date  Overall Traded volume USA -dollars PartRate  \\\n",
       "0   01.02.2021                        1.135068e+13   19,50%   \n",
       "1   04.01.2021                        1.179530e+13   19,50%   \n",
       "2   01.12.2020                        1.091668e+13   19,50%   \n",
       "3   02.11.2020                        1.026411e+13   19,50%   \n",
       "4   01.10.2020                        9.523329e+12   19,50%   \n",
       "..         ...                                 ...      ...   \n",
       "92  03.06.2013                        5.077340e+12   12,00%   \n",
       "93  01.05.2013                        5.049741e+12   12,00%   \n",
       "94  01.04.2013                        4.980839e+12   12,00%   \n",
       "95  01.03.2013                        4.205203e+12   12,00%   \n",
       "96  01.02.2013                        4.339547e+12   12,00%   \n",
       "\n",
       "    Retail volumes -dollars  Retail volumes -billion dollars  \\\n",
       "0              2.213382e+12                          2213.38   \n",
       "1              2.300083e+12                          2300.08   \n",
       "2              2.128752e+12                          2128.75   \n",
       "3              2.001501e+12                          2001.50   \n",
       "4              1.857049e+12                          1857.05   \n",
       "..                      ...                              ...   \n",
       "92             6.092808e+11                           609.28   \n",
       "93             6.059689e+11                           605.97   \n",
       "94             5.977007e+11                           597.70   \n",
       "95             5.046243e+11                           504.62   \n",
       "96             5.207456e+11                           520.75   \n",
       "\n",
       "    ln (Retail volumes)    VIX  Unemployment rate  Index Return  Fin Literacy  \\\n",
       "0                  7.70  30.24               0.06          0.02           1.0   \n",
       "1                  7.74  26.97               0.06          0.01           1.0   \n",
       "2                  7.66  20.77               0.07          0.10           1.0   \n",
       "3                  7.60  37.13               0.07         -0.02           1.0   \n",
       "4                  7.53  26.70               0.07         -0.04           1.0   \n",
       "..                  ...    ...                ...           ...           ...   \n",
       "92                 6.41  16.28               0.08          0.04           0.0   \n",
       "93                 6.41  14.49               0.08          0.01           0.0   \n",
       "94                 6.39  13.58               0.08          0.03           0.0   \n",
       "95                 6.22  15.36               0.08          0.00           0.0   \n",
       "96                 6.26  12.90               0.08          0.03           0.0   \n",
       "\n",
       "    ...  After Capital Gain tax  After Capital Gain tax total  \\\n",
       "0   ...               56.418827                     56.418827   \n",
       "1   ...               29.883334                     29.883334   \n",
       "2   ...              291.201489                    291.201489   \n",
       "3   ...              -60.744020                      0.000000   \n",
       "4   ...             -121.639807                      0.000000   \n",
       "..  ...                     ...                           ...   \n",
       "92  ...              103.161765                    103.161765   \n",
       "93  ...               37.602343                     37.602343   \n",
       "94  ...               82.225318                     82.225318   \n",
       "95  ...                9.557668                      9.557668   \n",
       "96  ...               98.248868                     98.248868   \n",
       "\n",
       "    Dividends monthly  Dividend tax  After Dividend tax  Total Gain  \\\n",
       "0                 4.0          0.88                3.12   59.538827   \n",
       "1                 4.0          0.88                3.12   33.003334   \n",
       "2                 4.0          0.88                3.12  294.321489   \n",
       "3                 4.0          0.88                3.12  -57.624020   \n",
       "4                 4.0          0.88                3.12 -118.519807   \n",
       "..                ...           ...                 ...         ...   \n",
       "92                4.0          0.76                3.24  106.401765   \n",
       "93                4.0          0.76                3.24   40.842343   \n",
       "94                4.0          0.76                3.24   85.465318   \n",
       "95                4.0          0.76                3.24   12.797668   \n",
       "96                4.0          0.76                3.24  101.488868   \n",
       "\n",
       "    Comission (for trading)  Comissions paid  Comissions paid total  \\\n",
       "0                     0,00%         0.000000               0.000000   \n",
       "1                     0,00%         0.000000               0.000000   \n",
       "2                     0,00%         0.000000               0.000000   \n",
       "3                     0,00%         0.000000               0.000000   \n",
       "4                     0,00%         0.000000               0.000000   \n",
       "..                      ...              ...                    ...   \n",
       "92                    5,00%         5.320088               5.320088   \n",
       "93                    5,00%         2.042117               2.042117   \n",
       "94                    5,00%         4.273266               4.273266   \n",
       "95                    5,00%         0.639883               0.639883   \n",
       "96                    5,00%         5.074443               5.074443   \n",
       "\n",
       "    Cost To Trade total  \n",
       "0             57.298827  \n",
       "1             30.763334  \n",
       "2            292.081489  \n",
       "3              0.880000  \n",
       "4              0.880000  \n",
       "..                  ...  \n",
       "92           109.241853  \n",
       "93            40.404460  \n",
       "94            87.258584  \n",
       "95            10.957551  \n",
       "96           104.083311  \n",
       "\n",
       "[97 rows x 28 columns]"
      ]
     },
     "execution_count": 43,
     "metadata": {},
     "output_type": "execute_result"
    }
   ],
   "source": [
    "dataset_US = dataset_US.drop (dataset_US.tail (1) .index)\n",
    "dataset_US"
   ]
  },
  {
   "cell_type": "code",
   "execution_count": 44,
   "metadata": {},
   "outputs": [],
   "source": [
    "#------------------------------------------------------------------------------------------------------------------------------#\n",
    "#                                        Декларирования переменных                                                                 #\n",
    "#------------------------------------------------------------------------------------------------------------------------------#\n",
    "\n",
    "Cost_to_trade = dataset_US[\"Cost To Trade total\"]\n",
    "Fin_lit = dataset_US[\"Fin Literacy\"]\n",
    "Infl = dataset_US[\"Infl\"]\n",
    "Int_rate = dataset_US[\"Int rate\"]\n",
    "Deriv = dataset_US[\"Der Turnover\"]\n",
    "GDP = dataset_US[\"GDP growth\"]\n",
    "Marg_Trade = dataset_US[\"Marginal Trading\"]\n",
    "Return = dataset_US[\"Index Return\"]\n",
    "Unempl = dataset_US[\"Unemployment rate\"]\n",
    "VIX = dataset_US[\"VIX\"]\n",
    "ln_retail_volumes = dataset_US[\"ln (Retail volumes)\"]"
   ]
  },
  {
   "cell_type": "code",
   "execution_count": 45,
   "metadata": {
    "collapsed": true
   },
   "outputs": [
    {
     "data": {
      "text/plain": [
       "0     0     7.70\n",
       "1     7.74\n",
       "2     7.66\n",
       "3     7.60\n",
       "4 ...\n",
       "1     0     0.02\n",
       "1     0.01\n",
       "2     0.10\n",
       "3    -0.02\n",
       "4 ...\n",
       "2     0     0.06\n",
       "1     0.06\n",
       "2     0.07\n",
       "3     0.07\n",
       "4 ...\n",
       "3     0     30.24\n",
       "1     26.97\n",
       "2     20.77\n",
       "3     37.1...\n",
       "4     0     1.0\n",
       "1     1.0\n",
       "2     1.0\n",
       "3     1.0\n",
       "4     ...\n",
       "5     0     0.065\n",
       "1     0.065\n",
       "2     0.043\n",
       "3     0.04...\n",
       "6     0     2894627.0\n",
       "1     2894627.0\n",
       "2     2696624....\n",
       "7     0     0.0043\n",
       "1     0.0055\n",
       "2     0.0009\n",
       "3    -0...\n",
       "8     0     0.0007\n",
       "1     0.0008\n",
       "2     0.0009\n",
       "3     0...\n",
       "9     0     1.0\n",
       "1     1.0\n",
       "2     1.0\n",
       "3     1.0\n",
       "4     ...\n",
       "10    0      57.298827\n",
       "1      30.763334\n",
       "2     292.08...\n",
       "dtype: object"
      ]
     },
     "execution_count": 45,
     "metadata": {},
     "output_type": "execute_result"
    }
   ],
   "source": [
    "#------------------------------------------------------------------------------------------------------------------------------#\n",
    "#                                        Создание датасета для США                                                                   #\n",
    "#------------------------------------------------------------------------------------------------------------------------------#\n",
    "\n",
    "series_1 = pd.Series([ln_retail_volumes, Return, Unempl, VIX, Marg_Trade, GDP, Deriv, Infl, Int_rate, Fin_lit, Cost_to_trade])\n",
    "series_1"
   ]
  },
  {
   "cell_type": "code",
   "execution_count": 46,
   "metadata": {
    "collapsed": true
   },
   "outputs": [
    {
     "data": {
      "text/html": [
       "<div>\n",
       "<style scoped>\n",
       "    .dataframe tbody tr th:only-of-type {\n",
       "        vertical-align: middle;\n",
       "    }\n",
       "\n",
       "    .dataframe tbody tr th {\n",
       "        vertical-align: top;\n",
       "    }\n",
       "\n",
       "    .dataframe thead th {\n",
       "        text-align: right;\n",
       "    }\n",
       "</style>\n",
       "<table border=\"1\" class=\"dataframe\">\n",
       "  <thead>\n",
       "    <tr style=\"text-align: right;\">\n",
       "      <th></th>\n",
       "      <th>ln_retail_volumes</th>\n",
       "      <th>VIX</th>\n",
       "      <th>Cost_to_trade</th>\n",
       "      <th>Unempl</th>\n",
       "      <th>GDP</th>\n",
       "      <th>Fin_lit</th>\n",
       "      <th>Marg_Trade</th>\n",
       "      <th>Return</th>\n",
       "      <th>Infl</th>\n",
       "      <th>Int_rate</th>\n",
       "      <th>Deriv</th>\n",
       "    </tr>\n",
       "  </thead>\n",
       "  <tbody>\n",
       "    <tr>\n",
       "      <td>0</td>\n",
       "      <td>7.70</td>\n",
       "      <td>30.24</td>\n",
       "      <td>57.298827</td>\n",
       "      <td>0.06</td>\n",
       "      <td>0.065</td>\n",
       "      <td>1.0</td>\n",
       "      <td>1.0</td>\n",
       "      <td>0.02</td>\n",
       "      <td>0.0043</td>\n",
       "      <td>0.0007</td>\n",
       "      <td>2894627.0</td>\n",
       "    </tr>\n",
       "    <tr>\n",
       "      <td>1</td>\n",
       "      <td>7.74</td>\n",
       "      <td>26.97</td>\n",
       "      <td>30.763334</td>\n",
       "      <td>0.06</td>\n",
       "      <td>0.065</td>\n",
       "      <td>1.0</td>\n",
       "      <td>1.0</td>\n",
       "      <td>0.01</td>\n",
       "      <td>0.0055</td>\n",
       "      <td>0.0008</td>\n",
       "      <td>2894627.0</td>\n",
       "    </tr>\n",
       "    <tr>\n",
       "      <td>2</td>\n",
       "      <td>7.66</td>\n",
       "      <td>20.77</td>\n",
       "      <td>292.081489</td>\n",
       "      <td>0.07</td>\n",
       "      <td>0.043</td>\n",
       "      <td>1.0</td>\n",
       "      <td>1.0</td>\n",
       "      <td>0.10</td>\n",
       "      <td>0.0009</td>\n",
       "      <td>0.0009</td>\n",
       "      <td>2696624.0</td>\n",
       "    </tr>\n",
       "    <tr>\n",
       "      <td>3</td>\n",
       "      <td>7.60</td>\n",
       "      <td>37.13</td>\n",
       "      <td>0.880000</td>\n",
       "      <td>0.07</td>\n",
       "      <td>0.043</td>\n",
       "      <td>1.0</td>\n",
       "      <td>1.0</td>\n",
       "      <td>-0.02</td>\n",
       "      <td>-0.0006</td>\n",
       "      <td>0.0009</td>\n",
       "      <td>2879377.0</td>\n",
       "    </tr>\n",
       "    <tr>\n",
       "      <td>4</td>\n",
       "      <td>7.53</td>\n",
       "      <td>26.70</td>\n",
       "      <td>0.880000</td>\n",
       "      <td>0.07</td>\n",
       "      <td>0.043</td>\n",
       "      <td>1.0</td>\n",
       "      <td>1.0</td>\n",
       "      <td>-0.04</td>\n",
       "      <td>0.0004</td>\n",
       "      <td>0.0009</td>\n",
       "      <td>2203521.0</td>\n",
       "    </tr>\n",
       "    <tr>\n",
       "      <td>...</td>\n",
       "      <td>...</td>\n",
       "      <td>...</td>\n",
       "      <td>...</td>\n",
       "      <td>...</td>\n",
       "      <td>...</td>\n",
       "      <td>...</td>\n",
       "      <td>...</td>\n",
       "      <td>...</td>\n",
       "      <td>...</td>\n",
       "      <td>...</td>\n",
       "      <td>...</td>\n",
       "    </tr>\n",
       "    <tr>\n",
       "      <td>92</td>\n",
       "      <td>6.41</td>\n",
       "      <td>16.28</td>\n",
       "      <td>109.241853</td>\n",
       "      <td>0.08</td>\n",
       "      <td>0.005</td>\n",
       "      <td>0.0</td>\n",
       "      <td>0.0</td>\n",
       "      <td>0.04</td>\n",
       "      <td>0.0024</td>\n",
       "      <td>0.0009</td>\n",
       "      <td>3082222.0</td>\n",
       "    </tr>\n",
       "    <tr>\n",
       "      <td>93</td>\n",
       "      <td>6.41</td>\n",
       "      <td>14.49</td>\n",
       "      <td>40.404460</td>\n",
       "      <td>0.08</td>\n",
       "      <td>0.005</td>\n",
       "      <td>0.0</td>\n",
       "      <td>0.0</td>\n",
       "      <td>0.01</td>\n",
       "      <td>0.0018</td>\n",
       "      <td>0.0009</td>\n",
       "      <td>2643380.0</td>\n",
       "    </tr>\n",
       "    <tr>\n",
       "      <td>94</td>\n",
       "      <td>6.39</td>\n",
       "      <td>13.58</td>\n",
       "      <td>87.258584</td>\n",
       "      <td>0.08</td>\n",
       "      <td>0.005</td>\n",
       "      <td>0.0</td>\n",
       "      <td>0.0</td>\n",
       "      <td>0.03</td>\n",
       "      <td>-0.0010</td>\n",
       "      <td>0.0011</td>\n",
       "      <td>2568009.0</td>\n",
       "    </tr>\n",
       "    <tr>\n",
       "      <td>95</td>\n",
       "      <td>6.22</td>\n",
       "      <td>15.36</td>\n",
       "      <td>10.957551</td>\n",
       "      <td>0.08</td>\n",
       "      <td>0.036</td>\n",
       "      <td>0.0</td>\n",
       "      <td>0.0</td>\n",
       "      <td>0.00</td>\n",
       "      <td>0.0026</td>\n",
       "      <td>0.0015</td>\n",
       "      <td>3351551.0</td>\n",
       "    </tr>\n",
       "    <tr>\n",
       "      <td>96</td>\n",
       "      <td>6.26</td>\n",
       "      <td>12.90</td>\n",
       "      <td>104.083311</td>\n",
       "      <td>0.08</td>\n",
       "      <td>0.036</td>\n",
       "      <td>0.0</td>\n",
       "      <td>0.0</td>\n",
       "      <td>0.03</td>\n",
       "      <td>0.0082</td>\n",
       "      <td>0.0014</td>\n",
       "      <td>2704619.0</td>\n",
       "    </tr>\n",
       "  </tbody>\n",
       "</table>\n",
       "<p>97 rows × 11 columns</p>\n",
       "</div>"
      ],
      "text/plain": [
       "    ln_retail_volumes    VIX  Cost_to_trade  Unempl    GDP  Fin_lit  \\\n",
       "0                7.70  30.24      57.298827    0.06  0.065      1.0   \n",
       "1                7.74  26.97      30.763334    0.06  0.065      1.0   \n",
       "2                7.66  20.77     292.081489    0.07  0.043      1.0   \n",
       "3                7.60  37.13       0.880000    0.07  0.043      1.0   \n",
       "4                7.53  26.70       0.880000    0.07  0.043      1.0   \n",
       "..                ...    ...            ...     ...    ...      ...   \n",
       "92               6.41  16.28     109.241853    0.08  0.005      0.0   \n",
       "93               6.41  14.49      40.404460    0.08  0.005      0.0   \n",
       "94               6.39  13.58      87.258584    0.08  0.005      0.0   \n",
       "95               6.22  15.36      10.957551    0.08  0.036      0.0   \n",
       "96               6.26  12.90     104.083311    0.08  0.036      0.0   \n",
       "\n",
       "    Marg_Trade  Return    Infl  Int_rate      Deriv  \n",
       "0          1.0    0.02  0.0043    0.0007  2894627.0  \n",
       "1          1.0    0.01  0.0055    0.0008  2894627.0  \n",
       "2          1.0    0.10  0.0009    0.0009  2696624.0  \n",
       "3          1.0   -0.02 -0.0006    0.0009  2879377.0  \n",
       "4          1.0   -0.04  0.0004    0.0009  2203521.0  \n",
       "..         ...     ...     ...       ...        ...  \n",
       "92         0.0    0.04  0.0024    0.0009  3082222.0  \n",
       "93         0.0    0.01  0.0018    0.0009  2643380.0  \n",
       "94         0.0    0.03 -0.0010    0.0011  2568009.0  \n",
       "95         0.0    0.00  0.0026    0.0015  3351551.0  \n",
       "96         0.0    0.03  0.0082    0.0014  2704619.0  \n",
       "\n",
       "[97 rows x 11 columns]"
      ]
     },
     "execution_count": 46,
     "metadata": {},
     "output_type": "execute_result"
    }
   ],
   "source": [
    "frame_1 = {'ln_retail_volumes' : ln_retail_volumes, 'VIX' : VIX, 'Cost_to_trade' : Cost_to_trade, 'Unempl' : Unempl, \n",
    "        'GDP' : GDP, 'Fin_lit' : Fin_lit, 'Marg_Trade' : Marg_Trade, 'Return' : Return, 'Infl' : Infl, 'Int_rate' : Int_rate,\n",
    "         'Deriv' : Deriv}\n",
    "new_data_US = pd.DataFrame(frame_1)\n",
    "new_data_US"
   ]
  },
  {
   "cell_type": "code",
   "execution_count": 48,
   "metadata": {},
   "outputs": [
    {
     "data": {
      "text/plain": [
       "<matplotlib.axes._subplots.AxesSubplot at 0x20bbadcac08>"
      ]
     },
     "execution_count": 48,
     "metadata": {},
     "output_type": "execute_result"
    },
    {
     "data": {
      "image/png": "[encoded data removed]",
      "text/plain": [
       "<Figure size 432x288 with 1 Axes>"
      ]
     },
     "metadata": {
      "needs_background": "light"
     },
     "output_type": "display_data"
    }
   ],
   "source": [
    "#------------------------------------------------------------------------------------------------------------------------------#\n",
    "#                                        Построение гистограмм для переменных                                                               #\n",
    "#------------------------------------------------------------------------------------------------------------------------------#\n",
    "\n",
    "\n",
    "new_data_US['ln_retail_volumes'].hist(bins=100)"
   ]
  },
  {
   "cell_type": "code",
   "execution_count": 49,
   "metadata": {},
   "outputs": [
    {
     "data": {
      "text/plain": [
       "<matplotlib.axes._subplots.AxesSubplot at 0x20bbaf3f288>"
      ]
     },
     "execution_count": 49,
     "metadata": {},
     "output_type": "execute_result"
    },
    {
     "data": {
      "image/png": "[encoded data removed]",
      "text/plain": [
       "<Figure size 432x288 with 1 Axes>"
      ]
     },
     "metadata": {
      "needs_background": "light"
     },
     "output_type": "display_data"
    }
   ],
   "source": [
    "new_data_US['VIX'].hist(bins=100)"
   ]
  },
  {
   "cell_type": "code",
   "execution_count": 50,
   "metadata": {
    "collapsed": true
   },
   "outputs": [
    {
     "data": {
      "text/plain": [
       "0     3.409166\n",
       "1     3.294725\n",
       "2     3.033510\n",
       "3     3.614425\n",
       "4     3.284664\n",
       "        ...   \n",
       "92    2.789937\n",
       "93    2.673459\n",
       "94    2.608598\n",
       "95    2.731767\n",
       "96    2.557227\n",
       "Name: VIX, Length: 97, dtype: float64"
      ]
     },
     "execution_count": 50,
     "metadata": {},
     "output_type": "execute_result"
    }
   ],
   "source": [
    "ln_VIX = np.log(VIX)"
   ]
  },
  {
   "cell_type": "code",
   "execution_count": 51,
   "metadata": {},
   "outputs": [
    {
     "data": {
      "text/plain": [
       "<matplotlib.axes._subplots.AxesSubplot at 0x20bbb051448>"
      ]
     },
     "execution_count": 51,
     "metadata": {},
     "output_type": "execute_result"
    },
    {
     "data": {
      "image/png": "[encoded data removed]",
      "text/plain": [
       "<Figure size 432x288 with 1 Axes>"
      ]
     },
     "metadata": {
      "needs_background": "light"
     },
     "output_type": "display_data"
    }
   ],
   "source": [
    "new_data_US['Cost_to_trade'].hist(bins=100)"
   ]
  },
  {
   "cell_type": "code",
   "execution_count": 52,
   "metadata": {
    "collapsed": true
   },
   "outputs": [
    {
     "data": {
      "text/plain": [
       "0     4.048280\n",
       "1     3.426324\n",
       "2     5.677033\n",
       "3    -0.127833\n",
       "4    -0.127833\n",
       "        ...   \n",
       "92    4.693564\n",
       "93    3.698940\n",
       "94    4.468876\n",
       "95    2.394029\n",
       "96    4.645192\n",
       "Name: Cost To Trade total, Length: 97, dtype: float64"
      ]
     },
     "execution_count": 52,
     "metadata": {},
     "output_type": "execute_result"
    }
   ],
   "source": [
    "ln_Cost_to_trade = np.log(Cost_to_trade)"
   ]
  },
  {
   "cell_type": "code",
   "execution_count": 53,
   "metadata": {},
   "outputs": [
    {
     "data": {
      "text/plain": [
       "<matplotlib.axes._subplots.AxesSubplot at 0x20bbad89588>"
      ]
     },
     "execution_count": 53,
     "metadata": {},
     "output_type": "execute_result"
    },
    {
     "data": {
      "image/png": "[encoded data removed]",
      "text/plain": [
       "<Figure size 432x288 with 1 Axes>"
      ]
     },
     "metadata": {
      "needs_background": "light"
     },
     "output_type": "display_data"
    }
   ],
   "source": [
    "new_data_US['Deriv'].hist(bins=100)"
   ]
  },
  {
   "cell_type": "code",
   "execution_count": 54,
   "metadata": {
    "collapsed": true
   },
   "outputs": [
    {
     "data": {
      "text/plain": [
       "0     14.878367\n",
       "1     14.878367\n",
       "2     14.807511\n",
       "3     14.873085\n",
       "4     14.605567\n",
       "        ...    \n",
       "92    14.941161\n",
       "93    14.787569\n",
       "94    14.758641\n",
       "95    15.024934\n",
       "96    14.810472\n",
       "Name: Der Turnover, Length: 97, dtype: float64"
      ]
     },
     "execution_count": 54,
     "metadata": {},
     "output_type": "execute_result"
    }
   ],
   "source": [
    "ln_Deriv = np.log(Deriv)"
   ]
  },
  {
   "cell_type": "code",
   "execution_count": 55,
   "metadata": {},
   "outputs": [
    {
     "data": {
      "text/html": [
       "<div>\n",
       "<style scoped>\n",
       "    .dataframe tbody tr th:only-of-type {\n",
       "        vertical-align: middle;\n",
       "    }\n",
       "\n",
       "    .dataframe tbody tr th {\n",
       "        vertical-align: top;\n",
       "    }\n",
       "\n",
       "    .dataframe thead th {\n",
       "        text-align: right;\n",
       "    }\n",
       "</style>\n",
       "<table border=\"1\" class=\"dataframe\">\n",
       "  <thead>\n",
       "    <tr style=\"text-align: right;\">\n",
       "      <th></th>\n",
       "      <th>ln_retail_volumes</th>\n",
       "      <th>VIX</th>\n",
       "      <th>Cost_to_trade</th>\n",
       "      <th>Unempl</th>\n",
       "      <th>GDP</th>\n",
       "      <th>Fin_lit</th>\n",
       "      <th>Marg_Trade</th>\n",
       "      <th>Return</th>\n",
       "      <th>Infl</th>\n",
       "      <th>Int_rate</th>\n",
       "      <th>Deriv</th>\n",
       "      <th>ln_Deriv</th>\n",
       "      <th>ln_Cost_to_trade</th>\n",
       "      <th>ln_VIX</th>\n",
       "    </tr>\n",
       "  </thead>\n",
       "  <tbody>\n",
       "    <tr>\n",
       "      <td>0</td>\n",
       "      <td>7.70</td>\n",
       "      <td>30.24</td>\n",
       "      <td>57.298827</td>\n",
       "      <td>0.06</td>\n",
       "      <td>0.065</td>\n",
       "      <td>1.0</td>\n",
       "      <td>1.0</td>\n",
       "      <td>0.02</td>\n",
       "      <td>0.0043</td>\n",
       "      <td>0.0007</td>\n",
       "      <td>2894627.0</td>\n",
       "      <td>14.878367</td>\n",
       "      <td>4.048280</td>\n",
       "      <td>3.409166</td>\n",
       "    </tr>\n",
       "    <tr>\n",
       "      <td>1</td>\n",
       "      <td>7.74</td>\n",
       "      <td>26.97</td>\n",
       "      <td>30.763334</td>\n",
       "      <td>0.06</td>\n",
       "      <td>0.065</td>\n",
       "      <td>1.0</td>\n",
       "      <td>1.0</td>\n",
       "      <td>0.01</td>\n",
       "      <td>0.0055</td>\n",
       "      <td>0.0008</td>\n",
       "      <td>2894627.0</td>\n",
       "      <td>14.878367</td>\n",
       "      <td>3.426324</td>\n",
       "      <td>3.294725</td>\n",
       "    </tr>\n",
       "    <tr>\n",
       "      <td>2</td>\n",
       "      <td>7.66</td>\n",
       "      <td>20.77</td>\n",
       "      <td>292.081489</td>\n",
       "      <td>0.07</td>\n",
       "      <td>0.043</td>\n",
       "      <td>1.0</td>\n",
       "      <td>1.0</td>\n",
       "      <td>0.10</td>\n",
       "      <td>0.0009</td>\n",
       "      <td>0.0009</td>\n",
       "      <td>2696624.0</td>\n",
       "      <td>14.807511</td>\n",
       "      <td>5.677033</td>\n",
       "      <td>3.033510</td>\n",
       "    </tr>\n",
       "    <tr>\n",
       "      <td>3</td>\n",
       "      <td>7.60</td>\n",
       "      <td>37.13</td>\n",
       "      <td>0.880000</td>\n",
       "      <td>0.07</td>\n",
       "      <td>0.043</td>\n",
       "      <td>1.0</td>\n",
       "      <td>1.0</td>\n",
       "      <td>-0.02</td>\n",
       "      <td>-0.0006</td>\n",
       "      <td>0.0009</td>\n",
       "      <td>2879377.0</td>\n",
       "      <td>14.873085</td>\n",
       "      <td>-0.127833</td>\n",
       "      <td>3.614425</td>\n",
       "    </tr>\n",
       "    <tr>\n",
       "      <td>4</td>\n",
       "      <td>7.53</td>\n",
       "      <td>26.70</td>\n",
       "      <td>0.880000</td>\n",
       "      <td>0.07</td>\n",
       "      <td>0.043</td>\n",
       "      <td>1.0</td>\n",
       "      <td>1.0</td>\n",
       "      <td>-0.04</td>\n",
       "      <td>0.0004</td>\n",
       "      <td>0.0009</td>\n",
       "      <td>2203521.0</td>\n",
       "      <td>14.605567</td>\n",
       "      <td>-0.127833</td>\n",
       "      <td>3.284664</td>\n",
       "    </tr>\n",
       "    <tr>\n",
       "      <td>...</td>\n",
       "      <td>...</td>\n",
       "      <td>...</td>\n",
       "      <td>...</td>\n",
       "      <td>...</td>\n",
       "      <td>...</td>\n",
       "      <td>...</td>\n",
       "      <td>...</td>\n",
       "      <td>...</td>\n",
       "      <td>...</td>\n",
       "      <td>...</td>\n",
       "      <td>...</td>\n",
       "      <td>...</td>\n",
       "      <td>...</td>\n",
       "      <td>...</td>\n",
       "    </tr>\n",
       "    <tr>\n",
       "      <td>92</td>\n",
       "      <td>6.41</td>\n",
       "      <td>16.28</td>\n",
       "      <td>109.241853</td>\n",
       "      <td>0.08</td>\n",
       "      <td>0.005</td>\n",
       "      <td>0.0</td>\n",
       "      <td>0.0</td>\n",
       "      <td>0.04</td>\n",
       "      <td>0.0024</td>\n",
       "      <td>0.0009</td>\n",
       "      <td>3082222.0</td>\n",
       "      <td>14.941161</td>\n",
       "      <td>4.693564</td>\n",
       "      <td>2.789937</td>\n",
       "    </tr>\n",
       "    <tr>\n",
       "      <td>93</td>\n",
       "      <td>6.41</td>\n",
       "      <td>14.49</td>\n",
       "      <td>40.404460</td>\n",
       "      <td>0.08</td>\n",
       "      <td>0.005</td>\n",
       "      <td>0.0</td>\n",
       "      <td>0.0</td>\n",
       "      <td>0.01</td>\n",
       "      <td>0.0018</td>\n",
       "      <td>0.0009</td>\n",
       "      <td>2643380.0</td>\n",
       "      <td>14.787569</td>\n",
       "      <td>3.698940</td>\n",
       "      <td>2.673459</td>\n",
       "    </tr>\n",
       "    <tr>\n",
       "      <td>94</td>\n",
       "      <td>6.39</td>\n",
       "      <td>13.58</td>\n",
       "      <td>87.258584</td>\n",
       "      <td>0.08</td>\n",
       "      <td>0.005</td>\n",
       "      <td>0.0</td>\n",
       "      <td>0.0</td>\n",
       "      <td>0.03</td>\n",
       "      <td>-0.0010</td>\n",
       "      <td>0.0011</td>\n",
       "      <td>2568009.0</td>\n",
       "      <td>14.758641</td>\n",
       "      <td>4.468876</td>\n",
       "      <td>2.608598</td>\n",
       "    </tr>\n",
       "    <tr>\n",
       "      <td>95</td>\n",
       "      <td>6.22</td>\n",
       "      <td>15.36</td>\n",
       "      <td>10.957551</td>\n",
       "      <td>0.08</td>\n",
       "      <td>0.036</td>\n",
       "      <td>0.0</td>\n",
       "      <td>0.0</td>\n",
       "      <td>0.00</td>\n",
       "      <td>0.0026</td>\n",
       "      <td>0.0015</td>\n",
       "      <td>3351551.0</td>\n",
       "      <td>15.024934</td>\n",
       "      <td>2.394029</td>\n",
       "      <td>2.731767</td>\n",
       "    </tr>\n",
       "    <tr>\n",
       "      <td>96</td>\n",
       "      <td>6.26</td>\n",
       "      <td>12.90</td>\n",
       "      <td>104.083311</td>\n",
       "      <td>0.08</td>\n",
       "      <td>0.036</td>\n",
       "      <td>0.0</td>\n",
       "      <td>0.0</td>\n",
       "      <td>0.03</td>\n",
       "      <td>0.0082</td>\n",
       "      <td>0.0014</td>\n",
       "      <td>2704619.0</td>\n",
       "      <td>14.810472</td>\n",
       "      <td>4.645192</td>\n",
       "      <td>2.557227</td>\n",
       "    </tr>\n",
       "  </tbody>\n",
       "</table>\n",
       "<p>97 rows × 14 columns</p>\n",
       "</div>"
      ],
      "text/plain": [
       "    ln_retail_volumes    VIX  Cost_to_trade  Unempl    GDP  Fin_lit  \\\n",
       "0                7.70  30.24      57.298827    0.06  0.065      1.0   \n",
       "1                7.74  26.97      30.763334    0.06  0.065      1.0   \n",
       "2                7.66  20.77     292.081489    0.07  0.043      1.0   \n",
       "3                7.60  37.13       0.880000    0.07  0.043      1.0   \n",
       "4                7.53  26.70       0.880000    0.07  0.043      1.0   \n",
       "..                ...    ...            ...     ...    ...      ...   \n",
       "92               6.41  16.28     109.241853    0.08  0.005      0.0   \n",
       "93               6.41  14.49      40.404460    0.08  0.005      0.0   \n",
       "94               6.39  13.58      87.258584    0.08  0.005      0.0   \n",
       "95               6.22  15.36      10.957551    0.08  0.036      0.0   \n",
       "96               6.26  12.90     104.083311    0.08  0.036      0.0   \n",
       "\n",
       "    Marg_Trade  Return    Infl  Int_rate      Deriv   ln_Deriv  \\\n",
       "0          1.0    0.02  0.0043    0.0007  2894627.0  14.878367   \n",
       "1          1.0    0.01  0.0055    0.0008  2894627.0  14.878367   \n",
       "2          1.0    0.10  0.0009    0.0009  2696624.0  14.807511   \n",
       "3          1.0   -0.02 -0.0006    0.0009  2879377.0  14.873085   \n",
       "4          1.0   -0.04  0.0004    0.0009  2203521.0  14.605567   \n",
       "..         ...     ...     ...       ...        ...        ...   \n",
       "92         0.0    0.04  0.0024    0.0009  3082222.0  14.941161   \n",
       "93         0.0    0.01  0.0018    0.0009  2643380.0  14.787569   \n",
       "94         0.0    0.03 -0.0010    0.0011  2568009.0  14.758641   \n",
       "95         0.0    0.00  0.0026    0.0015  3351551.0  15.024934   \n",
       "96         0.0    0.03  0.0082    0.0014  2704619.0  14.810472   \n",
       "\n",
       "    ln_Cost_to_trade    ln_VIX  \n",
       "0           4.048280  3.409166  \n",
       "1           3.426324  3.294725  \n",
       "2           5.677033  3.033510  \n",
       "3          -0.127833  3.614425  \n",
       "4          -0.127833  3.284664  \n",
       "..               ...       ...  \n",
       "92          4.693564  2.789937  \n",
       "93          3.698940  2.673459  \n",
       "94          4.468876  2.608598  \n",
       "95          2.394029  2.731767  \n",
       "96          4.645192  2.557227  \n",
       "\n",
       "[97 rows x 14 columns]"
      ]
     },
     "execution_count": 55,
     "metadata": {},
     "output_type": "execute_result"
    }
   ],
   "source": [
    "#------------------------------------------------------------------------------------------------------------------------------#\n",
    "#                                        Датасет для США с логарифмическими преобразованиями                                                                 #\n",
    "#------------------------------------------------------------------------------------------------------------------------------#\n",
    "\n",
    "\n",
    "new_data_US['ln_Deriv'] = ln_Deriv\n",
    "new_data_US['ln_Cost_to_trade'] = ln_Cost_to_trade\n",
    "new_data_US['ln_VIX'] = ln_VIX\n",
    "new_data_US"
   ]
  },
  {
   "cell_type": "code",
   "execution_count": 56,
   "metadata": {},
   "outputs": [
    {
     "data": {
      "text/plain": [
       "<matplotlib.axes._subplots.AxesSubplot at 0x20bbb2fab08>"
      ]
     },
     "execution_count": 56,
     "metadata": {},
     "output_type": "execute_result"
    },
    {
     "data": {
      "image/png": "[encoded data removed]",
      "text/plain": [
       "<Figure size 432x288 with 1 Axes>"
      ]
     },
     "metadata": {
      "needs_background": "light"
     },
     "output_type": "display_data"
    }
   ],
   "source": [
    "new_data_US['ln_VIX'].hist(bins=100)"
   ]
  },
  {
   "cell_type": "code",
   "execution_count": 57,
   "metadata": {},
   "outputs": [
    {
     "data": {
      "text/plain": [
       "<matplotlib.axes._subplots.AxesSubplot at 0x20bbb482908>"
      ]
     },
     "execution_count": 57,
     "metadata": {},
     "output_type": "execute_result"
    },
    {
     "data": {
      "image/png": "[encoded data removed]",
      "text/plain": [
       "<Figure size 432x288 with 1 Axes>"
      ]
     },
     "metadata": {
      "needs_background": "light"
     },
     "output_type": "display_data"
    }
   ],
   "source": [
    "new_data_US['ln_Cost_to_trade'].hist(bins=100)"
   ]
  },
  {
   "cell_type": "code",
   "execution_count": 58,
   "metadata": {},
   "outputs": [
    {
     "data": {
      "text/plain": [
       "<matplotlib.axes._subplots.AxesSubplot at 0x20bbb5f0708>"
      ]
     },
     "execution_count": 58,
     "metadata": {},
     "output_type": "execute_result"
    },
    {
     "data": {
      "image/png": "[encoded data removed]",
      "text/plain": [
       "<Figure size 432x288 with 1 Axes>"
      ]
     },
     "metadata": {
      "needs_background": "light"
     },
     "output_type": "display_data"
    }
   ],
   "source": [
    "new_data_US['ln_Deriv'].hist(bins=100)"
   ]
  },
  {
   "cell_type": "code",
   "execution_count": 59,
   "metadata": {},
   "outputs": [
    {
     "data": {
      "image/png": "[encoded data removed]",
      "text/plain": [
       "<Figure size 432x288 with 1 Axes>"
      ]
     },
     "metadata": {
      "needs_background": "light"
     },
     "output_type": "display_data"
    }
   ],
   "source": [
    "#------------------------------------------------------------------------------------------------------------------------------#\n",
    "#                                        Визуальный анализ распределения переменных                                                                   #\n",
    "#------------------------------------------------------------------------------------------------------------------------------#\n",
    "\n",
    "\n",
    "sns_plot = sns.distplot(new_data_US['ln_VIX'])\n",
    "fig = sns_plot.get_figure()"
   ]
  },
  {
   "cell_type": "code",
   "execution_count": 60,
   "metadata": {},
   "outputs": [
    {
     "data": {
      "image/png": "[encoded data removed]",
      "text/plain": [
       "<Figure size 432x288 with 1 Axes>"
      ]
     },
     "metadata": {
      "needs_background": "light"
     },
     "output_type": "display_data"
    }
   ],
   "source": [
    "sns_plot = sns.distplot(new_data_US['VIX'])\n",
    "fig = sns_plot.get_figure()"
   ]
  },
  {
   "cell_type": "code",
   "execution_count": 61,
   "metadata": {
    "scrolled": false
   },
   "outputs": [
    {
     "data": {
      "image/png": "[encoded data removed]",
      "text/plain": [
       "<Figure size 432x288 with 1 Axes>"
      ]
     },
     "metadata": {
      "needs_background": "light"
     },
     "output_type": "display_data"
    }
   ],
   "source": [
    "sns_plot = sns.distplot(new_data_US['ln_Deriv'])\n",
    "fig = sns_plot.get_figure()"
   ]
  },
  {
   "cell_type": "code",
   "execution_count": 62,
   "metadata": {},
   "outputs": [
    {
     "data": {
      "image/png": "[encoded data removed]",
      "text/plain": [
       "<Figure size 432x288 with 1 Axes>"
      ]
     },
     "metadata": {
      "needs_background": "light"
     },
     "output_type": "display_data"
    }
   ],
   "source": [
    "sns_plot = sns.distplot(new_data_US['Deriv'])\n",
    "fig = sns_plot.get_figure()"
   ]
  },
  {
   "cell_type": "code",
   "execution_count": 63,
   "metadata": {},
   "outputs": [
    {
     "data": {
      "image/png": "[encoded data removed]",
      "text/plain": [
       "<Figure size 432x288 with 1 Axes>"
      ]
     },
     "metadata": {
      "needs_background": "light"
     },
     "output_type": "display_data"
    }
   ],
   "source": [
    "sns_plot = sns.distplot(new_data_US['ln_Cost_to_trade'])\n",
    "fig = sns_plot.get_figure()"
   ]
  },
  {
   "cell_type": "code",
   "execution_count": 64,
   "metadata": {},
   "outputs": [
    {
     "data": {
      "image/png": "[encoded data removed]",
      "text/plain": [
       "<Figure size 432x288 with 1 Axes>"
      ]
     },
     "metadata": {
      "needs_background": "light"
     },
     "output_type": "display_data"
    }
   ],
   "source": [
    "sns_plot = sns.distplot(new_data_US['Cost_to_trade'])\n",
    "fig = sns_plot.get_figure()"
   ]
  },
  {
   "cell_type": "code",
   "execution_count": 65,
   "metadata": {},
   "outputs": [
    {
     "data": {
      "text/plain": [
       "<matplotlib.axes._subplots.AxesSubplot at 0x20bbca9afc8>"
      ]
     },
     "execution_count": 65,
     "metadata": {},
     "output_type": "execute_result"
    },
    {
     "data": {
      "image/png": "[encoded data removed]",
      "text/plain": [
       "<Figure size 432x288 with 1 Axes>"
      ]
     },
     "metadata": {
      "needs_background": "light"
     },
     "output_type": "display_data"
    }
   ],
   "source": [
    "#------------------------------------------------------------------------------------------------------------------------------#\n",
    "#                                        Выявление выбросов                                                                    #\n",
    "#------------------------------------------------------------------------------------------------------------------------------#\n",
    "\n",
    "\n",
    "new_data_US.boxplot(column=['ln_retail_volumes'])"
   ]
  },
  {
   "cell_type": "code",
   "execution_count": 429,
   "metadata": {},
   "outputs": [
    {
     "data": {
      "text/plain": [
       "<matplotlib.axes._subplots.AxesSubplot at 0x20bbce3bd48>"
      ]
     },
     "execution_count": 429,
     "metadata": {},
     "output_type": "execute_result"
    },
    {
     "data": {
      "image/png": "[encoded data removed]",
      "text/plain": [
       "<Figure size 432x288 with 1 Axes>"
      ]
     },
     "metadata": {
      "needs_background": "light"
     },
     "output_type": "display_data"
    }
   ],
   "source": [
    "new_data_US.boxplot(column=['VIX'])"
   ]
  },
  {
   "cell_type": "code",
   "execution_count": 430,
   "metadata": {},
   "outputs": [
    {
     "data": {
      "text/plain": [
       "<matplotlib.axes._subplots.AxesSubplot at 0x20bbce02d48>"
      ]
     },
     "execution_count": 430,
     "metadata": {},
     "output_type": "execute_result"
    },
    {
     "data": {
      "image/png": "[encoded data removed]",
      "text/plain": [
       "<Figure size 432x288 with 1 Axes>"
      ]
     },
     "metadata": {
      "needs_background": "light"
     },
     "output_type": "display_data"
    }
   ],
   "source": [
    "new_data_US.boxplot(column=['Deriv'])"
   ]
  },
  {
   "cell_type": "code",
   "execution_count": 431,
   "metadata": {},
   "outputs": [
    {
     "data": {
      "text/plain": [
       "<matplotlib.axes._subplots.AxesSubplot at 0x20bbd046b48>"
      ]
     },
     "execution_count": 431,
     "metadata": {},
     "output_type": "execute_result"
    },
    {
     "data": {
      "image/png": "[encoded data removed]",
      "text/plain": [
       "<Figure size 432x288 with 1 Axes>"
      ]
     },
     "metadata": {
      "needs_background": "light"
     },
     "output_type": "display_data"
    }
   ],
   "source": [
    "new_data_US.boxplot(column=['Cost_to_trade'])"
   ]
  },
  {
   "cell_type": "code",
   "execution_count": 69,
   "metadata": {},
   "outputs": [
    {
     "data": {
      "text/plain": [
       "<matplotlib.axes._subplots.AxesSubplot at 0x20bbc887c48>"
      ]
     },
     "execution_count": 69,
     "metadata": {},
     "output_type": "execute_result"
    },
    {
     "data": {
      "image/png": "[encoded data removed]",
      "text/plain": [
       "<Figure size 432x288 with 1 Axes>"
      ]
     },
     "metadata": {
      "needs_background": "light"
     },
     "output_type": "display_data"
    }
   ],
   "source": [
    "new_data_US.boxplot(column=['GDP'])"
   ]
  },
  {
   "cell_type": "code",
   "execution_count": 70,
   "metadata": {},
   "outputs": [
    {
     "data": {
      "text/plain": [
       "<matplotlib.axes._subplots.AxesSubplot at 0x20bbc7f4f88>"
      ]
     },
     "execution_count": 70,
     "metadata": {},
     "output_type": "execute_result"
    },
    {
     "data": {
      "image/png": "[encoded data removed]",
      "text/plain": [
       "<Figure size 432x288 with 1 Axes>"
      ]
     },
     "metadata": {
      "needs_background": "light"
     },
     "output_type": "display_data"
    }
   ],
   "source": [
    "new_data_US.boxplot(column=['Return'])"
   ]
  },
  {
   "cell_type": "code",
   "execution_count": 71,
   "metadata": {},
   "outputs": [
    {
     "data": {
      "text/plain": [
       "<matplotlib.axes._subplots.AxesSubplot at 0x20bbc90db08>"
      ]
     },
     "execution_count": 71,
     "metadata": {},
     "output_type": "execute_result"
    },
    {
     "data": {
      "image/png": "[encoded data removed]",
      "text/plain": [
       "<Figure size 432x288 with 1 Axes>"
      ]
     },
     "metadata": {
      "needs_background": "light"
     },
     "output_type": "display_data"
    }
   ],
   "source": [
    "new_data_US.boxplot(column=['Infl'])"
   ]
  },
  {
   "cell_type": "code",
   "execution_count": 72,
   "metadata": {},
   "outputs": [
    {
     "data": {
      "text/plain": [
       "<matplotlib.axes._subplots.AxesSubplot at 0x20bbc8780c8>"
      ]
     },
     "execution_count": 72,
     "metadata": {},
     "output_type": "execute_result"
    },
    {
     "data": {
      "image/png": "[encoded data removed]",
      "text/plain": [
       "<Figure size 432x288 with 1 Axes>"
      ]
     },
     "metadata": {
      "needs_background": "light"
     },
     "output_type": "display_data"
    }
   ],
   "source": [
    "new_data_US.boxplot(column=['Int_rate'])"
   ]
  },
  {
   "cell_type": "code",
   "execution_count": 73,
   "metadata": {
    "scrolled": false
   },
   "outputs": [
    {
     "data": {
      "text/plain": [
       "<matplotlib.axes._subplots.AxesSubplot at 0x20bbb7ac7c8>"
      ]
     },
     "execution_count": 73,
     "metadata": {},
     "output_type": "execute_result"
    },
    {
     "data": {
      "image/png": "[encoded data removed]",
      "text/plain": [
       "<Figure size 432x288 with 1 Axes>"
      ]
     },
     "metadata": {
      "needs_background": "light"
     },
     "output_type": "display_data"
    }
   ],
   "source": [
    "new_data_US.boxplot(column=['Unempl'])"
   ]
  },
  {
   "cell_type": "code",
   "execution_count": 411,
   "metadata": {},
   "outputs": [
    {
     "name": "stderr",
     "output_type": "stream",
     "text": [
      "C:\\Users\\peter\\Anaconda3\\lib\\site-packages\\numpy\\core\\fromnumeric.py:2389: FutureWarning: Method .ptp is deprecated and will be removed in a future version. Use numpy.ptp instead.\n",
      "  return ptp(axis=axis, out=out, **kwargs)\n"
     ]
    },
    {
     "data": {
      "text/html": [
       "<table class=\"simpletable\">\n",
       "<caption>OLS Regression Results</caption>\n",
       "<tr>\n",
       "  <th>Dep. Variable:</th>    <td>ln_retail_volumes</td> <th>  R-squared:         </th> <td>   0.787</td>\n",
       "</tr>\n",
       "<tr>\n",
       "  <th>Model:</th>                   <td>OLS</td>        <th>  Adj. R-squared:    </th> <td>   0.762</td>\n",
       "</tr>\n",
       "<tr>\n",
       "  <th>Method:</th>             <td>Least Squares</td>   <th>  F-statistic:       </th> <td>   31.82</td>\n",
       "</tr>\n",
       "<tr>\n",
       "  <th>Date:</th>             <td>Wed, 28 Apr 2021</td>  <th>  Prob (F-statistic):</th> <td>8.84e-25</td>\n",
       "</tr>\n",
       "<tr>\n",
       "  <th>Time:</th>                 <td>18:05:52</td>      <th>  Log-Likelihood:    </th> <td>  36.019</td>\n",
       "</tr>\n",
       "<tr>\n",
       "  <th>No. Observations:</th>      <td>    97</td>       <th>  AIC:               </th> <td>  -50.04</td>\n",
       "</tr>\n",
       "<tr>\n",
       "  <th>Df Residuals:</th>          <td>    86</td>       <th>  BIC:               </th> <td>  -21.72</td>\n",
       "</tr>\n",
       "<tr>\n",
       "  <th>Df Model:</th>              <td>    10</td>       <th>                     </th>     <td> </td>   \n",
       "</tr>\n",
       "<tr>\n",
       "  <th>Covariance Type:</th>      <td>nonrobust</td>     <th>                     </th>     <td> </td>   \n",
       "</tr>\n",
       "</table>\n",
       "<table class=\"simpletable\">\n",
       "<tr>\n",
       "        <td></td>           <th>coef</th>     <th>std err</th>      <th>t</th>      <th>P>|t|</th>  <th>[0.025</th>    <th>0.975]</th>  \n",
       "</tr>\n",
       "<tr>\n",
       "  <th>const</th>         <td>    6.1223</td> <td>    0.149</td> <td>   41.106</td> <td> 0.000</td> <td>    5.826</td> <td>    6.418</td>\n",
       "</tr>\n",
       "<tr>\n",
       "  <th>VIX</th>           <td>    0.0359</td> <td>    0.005</td> <td>    6.592</td> <td> 0.000</td> <td>    0.025</td> <td>    0.047</td>\n",
       "</tr>\n",
       "<tr>\n",
       "  <th>Cost_to_trade</th> <td>   -0.0007</td> <td>    0.001</td> <td>   -1.308</td> <td> 0.194</td> <td>   -0.002</td> <td>    0.000</td>\n",
       "</tr>\n",
       "<tr>\n",
       "  <th>GDP</th>           <td>    0.0231</td> <td>    0.257</td> <td>    0.090</td> <td> 0.929</td> <td>   -0.487</td> <td>    0.533</td>\n",
       "</tr>\n",
       "<tr>\n",
       "  <th>Fin_lit</th>       <td>    0.4089</td> <td>    0.067</td> <td>    6.061</td> <td> 0.000</td> <td>    0.275</td> <td>    0.543</td>\n",
       "</tr>\n",
       "<tr>\n",
       "  <th>Marg_Trade</th>    <td>    0.3048</td> <td>    0.100</td> <td>    3.043</td> <td> 0.003</td> <td>    0.106</td> <td>    0.504</td>\n",
       "</tr>\n",
       "<tr>\n",
       "  <th>Return</th>        <td>    3.0021</td> <td>    1.006</td> <td>    2.984</td> <td> 0.004</td> <td>    1.002</td> <td>    5.002</td>\n",
       "</tr>\n",
       "<tr>\n",
       "  <th>Infl</th>          <td>    1.7421</td> <td>    6.971</td> <td>    0.250</td> <td> 0.803</td> <td>  -12.117</td> <td>   15.601</td>\n",
       "</tr>\n",
       "<tr>\n",
       "  <th>Int_rate</th>      <td>    4.7390</td> <td>    3.488</td> <td>    1.359</td> <td> 0.178</td> <td>   -2.194</td> <td>   11.672</td>\n",
       "</tr>\n",
       "<tr>\n",
       "  <th>Deriv</th>         <td>-3.055e-08</td> <td> 1.21e-08</td> <td>   -2.523</td> <td> 0.013</td> <td>-5.46e-08</td> <td>-6.48e-09</td>\n",
       "</tr>\n",
       "<tr>\n",
       "  <th>Unempl</th>        <td>   -1.7133</td> <td>    1.988</td> <td>   -0.862</td> <td> 0.391</td> <td>   -5.665</td> <td>    2.239</td>\n",
       "</tr>\n",
       "</table>\n",
       "<table class=\"simpletable\">\n",
       "<tr>\n",
       "  <th>Omnibus:</th>       <td>13.081</td> <th>  Durbin-Watson:     </th> <td>   1.389</td>\n",
       "</tr>\n",
       "<tr>\n",
       "  <th>Prob(Omnibus):</th> <td> 0.001</td> <th>  Jarque-Bera (JB):  </th> <td>  13.917</td>\n",
       "</tr>\n",
       "<tr>\n",
       "  <th>Skew:</th>          <td> 0.860</td> <th>  Prob(JB):          </th> <td>0.000951</td>\n",
       "</tr>\n",
       "<tr>\n",
       "  <th>Kurtosis:</th>      <td> 3.694</td> <th>  Cond. No.          </th> <td>2.04e+09</td>\n",
       "</tr>\n",
       "</table><br/><br/>Warnings:<br/>[1] Standard Errors assume that the covariance matrix of the errors is correctly specified.<br/>[2] The condition number is large, 2.04e+09. This might indicate that there are<br/>strong multicollinearity or other numerical problems."
      ],
      "text/plain": [
       "<class 'statsmodels.iolib.summary.Summary'>\n",
       "\"\"\"\n",
       "                            OLS Regression Results                            \n",
       "==============================================================================\n",
       "Dep. Variable:      ln_retail_volumes   R-squared:                       0.787\n",
       "Model:                            OLS   Adj. R-squared:                  0.762\n",
       "Method:                 Least Squares   F-statistic:                     31.82\n",
       "Date:                Wed, 28 Apr 2021   Prob (F-statistic):           8.84e-25\n",
       "Time:                        18:05:52   Log-Likelihood:                 36.019\n",
       "No. Observations:                  97   AIC:                            -50.04\n",
       "Df Residuals:                      86   BIC:                            -21.72\n",
       "Df Model:                          10                                         \n",
       "Covariance Type:            nonrobust                                         \n",
       "=================================================================================\n",
       "                    coef    std err          t      P>|t|      [0.025      0.975]\n",
       "---------------------------------------------------------------------------------\n",
       "const             6.1223      0.149     41.106      0.000       5.826       6.418\n",
       "VIX               0.0359      0.005      6.592      0.000       0.025       0.047\n",
       "Cost_to_trade    -0.0007      0.001     -1.308      0.194      -0.002       0.000\n",
       "GDP               0.0231      0.257      0.090      0.929      -0.487       0.533\n",
       "Fin_lit           0.4089      0.067      6.061      0.000       0.275       0.543\n",
       "Marg_Trade        0.3048      0.100      3.043      0.003       0.106       0.504\n",
       "Return            3.0021      1.006      2.984      0.004       1.002       5.002\n",
       "Infl              1.7421      6.971      0.250      0.803     -12.117      15.601\n",
       "Int_rate          4.7390      3.488      1.359      0.178      -2.194      11.672\n",
       "Deriv         -3.055e-08   1.21e-08     -2.523      0.013   -5.46e-08   -6.48e-09\n",
       "Unempl           -1.7133      1.988     -0.862      0.391      -5.665       2.239\n",
       "==============================================================================\n",
       "Omnibus:                       13.081   Durbin-Watson:                   1.389\n",
       "Prob(Omnibus):                  0.001   Jarque-Bera (JB):               13.917\n",
       "Skew:                           0.860   Prob(JB):                     0.000951\n",
       "Kurtosis:                       3.694   Cond. No.                     2.04e+09\n",
       "==============================================================================\n",
       "\n",
       "Warnings:\n",
       "[1] Standard Errors assume that the covariance matrix of the errors is correctly specified.\n",
       "[2] The condition number is large, 2.04e+09. This might indicate that there are\n",
       "strong multicollinearity or other numerical problems.\n",
       "\"\"\""
      ]
     },
     "execution_count": 411,
     "metadata": {},
     "output_type": "execute_result"
    }
   ],
   "source": [
    "#------------------------------------------------------------------------------------------------------------------------------#\n",
    "#                                       Построение регрессионной модели для США                                                #\n",
    "#------------------------------------------------------------------------------------------------------------------------------#\n",
    "\n",
    "\n",
    "Y = new_data_US['ln_retail_volumes'] \n",
    "X = new_data_US[['VIX', 'Cost_to_trade', 'GDP', 'Fin_lit', 'Marg_Trade', 'Return', 'Infl', 'Int_rate',\n",
    "         'Deriv', 'Unempl']]\n",
    "X = sm.add_constant(X)\n",
    "\n",
    "model = sm.OLS(Y, X).fit()\n",
    "predictions = model.predict(X)\n",
    "model.summary()"
   ]
  },
  {
   "cell_type": "code",
   "execution_count": 420,
   "metadata": {},
   "outputs": [
    {
     "data": {
      "text/html": [
       "<table class=\"simpletable\">\n",
       "<caption>OLS Regression Results</caption>\n",
       "<tr>\n",
       "  <th>Dep. Variable:</th>    <td>ln_retail_volumes</td> <th>  R-squared:         </th> <td>   0.770</td>\n",
       "</tr>\n",
       "<tr>\n",
       "  <th>Model:</th>                   <td>OLS</td>        <th>  Adj. R-squared:    </th> <td>   0.744</td>\n",
       "</tr>\n",
       "<tr>\n",
       "  <th>Method:</th>             <td>Least Squares</td>   <th>  F-statistic:       </th> <td>   28.86</td>\n",
       "</tr>\n",
       "<tr>\n",
       "  <th>Date:</th>             <td>Wed, 28 Apr 2021</td>  <th>  Prob (F-statistic):</th> <td>2.13e-23</td>\n",
       "</tr>\n",
       "<tr>\n",
       "  <th>Time:</th>                 <td>18:51:14</td>      <th>  Log-Likelihood:    </th> <td>  32.334</td>\n",
       "</tr>\n",
       "<tr>\n",
       "  <th>No. Observations:</th>      <td>    97</td>       <th>  AIC:               </th> <td>  -42.67</td>\n",
       "</tr>\n",
       "<tr>\n",
       "  <th>Df Residuals:</th>          <td>    86</td>       <th>  BIC:               </th> <td>  -14.35</td>\n",
       "</tr>\n",
       "<tr>\n",
       "  <th>Df Model:</th>              <td>    10</td>       <th>                     </th>     <td> </td>   \n",
       "</tr>\n",
       "<tr>\n",
       "  <th>Covariance Type:</th>      <td>nonrobust</td>     <th>                     </th>     <td> </td>   \n",
       "</tr>\n",
       "</table>\n",
       "<table class=\"simpletable\">\n",
       "<tr>\n",
       "          <td></td>            <th>coef</th>     <th>std err</th>      <th>t</th>      <th>P>|t|</th>  <th>[0.025</th>    <th>0.975]</th>  \n",
       "</tr>\n",
       "<tr>\n",
       "  <th>const</th>            <td>    8.3092</td> <td>    1.142</td> <td>    7.276</td> <td> 0.000</td> <td>    6.039</td> <td>   10.579</td>\n",
       "</tr>\n",
       "<tr>\n",
       "  <th>ln_VIX</th>           <td>    0.5295</td> <td>    0.093</td> <td>    5.703</td> <td> 0.000</td> <td>    0.345</td> <td>    0.714</td>\n",
       "</tr>\n",
       "<tr>\n",
       "  <th>ln_Cost_to_trade</th> <td>    0.0079</td> <td>    0.019</td> <td>    0.417</td> <td> 0.678</td> <td>   -0.030</td> <td>    0.045</td>\n",
       "</tr>\n",
       "<tr>\n",
       "  <th>GDP</th>              <td>   -0.1040</td> <td>    0.261</td> <td>   -0.399</td> <td> 0.691</td> <td>   -0.623</td> <td>    0.415</td>\n",
       "</tr>\n",
       "<tr>\n",
       "  <th>Fin_lit</th>          <td>    0.5184</td> <td>    0.068</td> <td>    7.667</td> <td> 0.000</td> <td>    0.384</td> <td>    0.653</td>\n",
       "</tr>\n",
       "<tr>\n",
       "  <th>Marg_Trade</th>       <td>    0.3338</td> <td>    0.105</td> <td>    3.191</td> <td> 0.002</td> <td>    0.126</td> <td>    0.542</td>\n",
       "</tr>\n",
       "<tr>\n",
       "  <th>Return</th>           <td>    1.0307</td> <td>    0.712</td> <td>    1.447</td> <td> 0.151</td> <td>   -0.385</td> <td>    2.447</td>\n",
       "</tr>\n",
       "<tr>\n",
       "  <th>Infl</th>             <td>    0.0449</td> <td>    7.161</td> <td>    0.006</td> <td> 0.995</td> <td>  -14.190</td> <td>   14.280</td>\n",
       "</tr>\n",
       "<tr>\n",
       "  <th>Int_rate</th>         <td>    3.7727</td> <td>    3.633</td> <td>    1.039</td> <td> 0.302</td> <td>   -3.449</td> <td>   10.994</td>\n",
       "</tr>\n",
       "<tr>\n",
       "  <th>ln_Deriv</th>         <td>   -0.2242</td> <td>    0.070</td> <td>   -3.190</td> <td> 0.002</td> <td>   -0.364</td> <td>   -0.084</td>\n",
       "</tr>\n",
       "<tr>\n",
       "  <th>Unempl</th>           <td>    0.2566</td> <td>    1.824</td> <td>    0.141</td> <td> 0.888</td> <td>   -3.369</td> <td>    3.882</td>\n",
       "</tr>\n",
       "</table>\n",
       "<table class=\"simpletable\">\n",
       "<tr>\n",
       "  <th>Omnibus:</th>       <td>20.856</td> <th>  Durbin-Watson:     </th> <td>   1.251</td>\n",
       "</tr>\n",
       "<tr>\n",
       "  <th>Prob(Omnibus):</th> <td> 0.000</td> <th>  Jarque-Bera (JB):  </th> <td>  26.823</td>\n",
       "</tr>\n",
       "<tr>\n",
       "  <th>Skew:</th>          <td> 1.087</td> <th>  Prob(JB):          </th> <td>1.50e-06</td>\n",
       "</tr>\n",
       "<tr>\n",
       "  <th>Kurtosis:</th>      <td> 4.382</td> <th>  Cond. No.          </th> <td>6.13e+03</td>\n",
       "</tr>\n",
       "</table><br/><br/>Warnings:<br/>[1] Standard Errors assume that the covariance matrix of the errors is correctly specified.<br/>[2] The condition number is large, 6.13e+03. This might indicate that there are<br/>strong multicollinearity or other numerical problems."
      ],
      "text/plain": [
       "<class 'statsmodels.iolib.summary.Summary'>\n",
       "\"\"\"\n",
       "                            OLS Regression Results                            \n",
       "==============================================================================\n",
       "Dep. Variable:      ln_retail_volumes   R-squared:                       0.770\n",
       "Model:                            OLS   Adj. R-squared:                  0.744\n",
       "Method:                 Least Squares   F-statistic:                     28.86\n",
       "Date:                Wed, 28 Apr 2021   Prob (F-statistic):           2.13e-23\n",
       "Time:                        18:51:14   Log-Likelihood:                 32.334\n",
       "No. Observations:                  97   AIC:                            -42.67\n",
       "Df Residuals:                      86   BIC:                            -14.35\n",
       "Df Model:                          10                                         \n",
       "Covariance Type:            nonrobust                                         \n",
       "====================================================================================\n",
       "                       coef    std err          t      P>|t|      [0.025      0.975]\n",
       "------------------------------------------------------------------------------------\n",
       "const                8.3092      1.142      7.276      0.000       6.039      10.579\n",
       "ln_VIX               0.5295      0.093      5.703      0.000       0.345       0.714\n",
       "ln_Cost_to_trade     0.0079      0.019      0.417      0.678      -0.030       0.045\n",
       "GDP                 -0.1040      0.261     -0.399      0.691      -0.623       0.415\n",
       "Fin_lit              0.5184      0.068      7.667      0.000       0.384       0.653\n",
       "Marg_Trade           0.3338      0.105      3.191      0.002       0.126       0.542\n",
       "Return               1.0307      0.712      1.447      0.151      -0.385       2.447\n",
       "Infl                 0.0449      7.161      0.006      0.995     -14.190      14.280\n",
       "Int_rate             3.7727      3.633      1.039      0.302      -3.449      10.994\n",
       "ln_Deriv            -0.2242      0.070     -3.190      0.002      -0.364      -0.084\n",
       "Unempl               0.2566      1.824      0.141      0.888      -3.369       3.882\n",
       "==============================================================================\n",
       "Omnibus:                       20.856   Durbin-Watson:                   1.251\n",
       "Prob(Omnibus):                  0.000   Jarque-Bera (JB):               26.823\n",
       "Skew:                           1.087   Prob(JB):                     1.50e-06\n",
       "Kurtosis:                       4.382   Cond. No.                     6.13e+03\n",
       "==============================================================================\n",
       "\n",
       "Warnings:\n",
       "[1] Standard Errors assume that the covariance matrix of the errors is correctly specified.\n",
       "[2] The condition number is large, 6.13e+03. This might indicate that there are\n",
       "strong multicollinearity or other numerical problems.\n",
       "\"\"\""
      ]
     },
     "execution_count": 420,
     "metadata": {},
     "output_type": "execute_result"
    }
   ],
   "source": [
    "Y = new_data_US['ln_retail_volumes'] \n",
    "X = new_data_US[['ln_VIX', 'ln_Cost_to_trade', 'GDP', 'Fin_lit', 'Marg_Trade', 'Return', 'Infl', 'Int_rate',\n",
    "         'ln_Deriv', 'Unempl']]\n",
    "X = sm.add_constant(X)\n",
    "\n",
    "model = sm.OLS(Y, X).fit()\n",
    "predictions = model.predict(X)\n",
    "model.summary()"
   ]
  },
  {
   "cell_type": "code",
   "execution_count": 412,
   "metadata": {},
   "outputs": [
    {
     "data": {
      "text/html": [
       "<div>\n",
       "<style scoped>\n",
       "    .dataframe tbody tr th:only-of-type {\n",
       "        vertical-align: middle;\n",
       "    }\n",
       "\n",
       "    .dataframe tbody tr th {\n",
       "        vertical-align: top;\n",
       "    }\n",
       "\n",
       "    .dataframe thead th {\n",
       "        text-align: right;\n",
       "    }\n",
       "</style>\n",
       "<table border=\"1\" class=\"dataframe\">\n",
       "  <thead>\n",
       "    <tr style=\"text-align: right;\">\n",
       "      <th></th>\n",
       "      <th>VIF Factor</th>\n",
       "      <th>features</th>\n",
       "    </tr>\n",
       "  </thead>\n",
       "  <tbody>\n",
       "    <tr>\n",
       "      <td>0</td>\n",
       "      <td>68.475118</td>\n",
       "      <td>const</td>\n",
       "    </tr>\n",
       "    <tr>\n",
       "      <td>1</td>\n",
       "      <td>4.659595</td>\n",
       "      <td>VIX</td>\n",
       "    </tr>\n",
       "    <tr>\n",
       "      <td>2</td>\n",
       "      <td>5.330270</td>\n",
       "      <td>Cost_to_trade</td>\n",
       "    </tr>\n",
       "    <tr>\n",
       "      <td>3</td>\n",
       "      <td>1.396029</td>\n",
       "      <td>GDP</td>\n",
       "    </tr>\n",
       "    <tr>\n",
       "      <td>4</td>\n",
       "      <td>1.630969</td>\n",
       "      <td>Fin_lit</td>\n",
       "    </tr>\n",
       "    <tr>\n",
       "      <td>5</td>\n",
       "      <td>1.796645</td>\n",
       "      <td>Marg_Trade</td>\n",
       "    </tr>\n",
       "    <tr>\n",
       "      <td>6</td>\n",
       "      <td>6.467534</td>\n",
       "      <td>Return</td>\n",
       "    </tr>\n",
       "    <tr>\n",
       "      <td>7</td>\n",
       "      <td>1.237922</td>\n",
       "      <td>Infl</td>\n",
       "    </tr>\n",
       "    <tr>\n",
       "      <td>8</td>\n",
       "      <td>2.464645</td>\n",
       "      <td>Int_rate</td>\n",
       "    </tr>\n",
       "    <tr>\n",
       "      <td>9</td>\n",
       "      <td>1.572682</td>\n",
       "      <td>Deriv</td>\n",
       "    </tr>\n",
       "    <tr>\n",
       "      <td>10</td>\n",
       "      <td>4.503672</td>\n",
       "      <td>Unempl</td>\n",
       "    </tr>\n",
       "  </tbody>\n",
       "</table>\n",
       "</div>"
      ],
      "text/plain": [
       "    VIF Factor       features\n",
       "0    68.475118          const\n",
       "1     4.659595            VIX\n",
       "2     5.330270  Cost_to_trade\n",
       "3     1.396029            GDP\n",
       "4     1.630969        Fin_lit\n",
       "5     1.796645     Marg_Trade\n",
       "6     6.467534         Return\n",
       "7     1.237922           Infl\n",
       "8     2.464645       Int_rate\n",
       "9     1.572682          Deriv\n",
       "10    4.503672         Unempl"
      ]
     },
     "execution_count": 412,
     "metadata": {},
     "output_type": "execute_result"
    }
   ],
   "source": [
    "#------------------------------------------------------------------------------------------------------------------------------#\n",
    "#                                       Проыверка на мультиколлинеарность                                                                 #\n",
    "#------------------------------------------------------------------------------------------------------------------------------#\n",
    "\n",
    "\n",
    "vif = pd.DataFrame()\n",
    "vif[\"VIF Factor\"] = [variance_inflation_factor(X.values, i) for i in range(X.shape[1])]\n",
    "vif[\"features\"] = X.columns\n",
    "vif"
   ]
  },
  {
   "cell_type": "code",
   "execution_count": 78,
   "metadata": {},
   "outputs": [],
   "source": [
    "#------------------------------------------------------------------------------------------------------------------------------#\n",
    "#                                        Проверка на линейность                                                                  #\n",
    "#------------------------------------------------------------------------------------------------------------------------------#\n",
    "\n",
    "\n",
    "def linearity_test(model, y):\n",
    "    \n",
    "    fitted_vals = model.predict()\n",
    "    resids = model.resid\n",
    "\n",
    "    fig, ax = plt.subplots(1,2)\n",
    "    \n",
    "    sns.regplot(x=fitted_vals, y=y, lowess=True, ax=ax[0], line_kws={'color': 'red'})\n",
    "    ax[0].set_title('Observed vs. Predicted Values', fontsize=10)\n",
    "    ax[0].set(xlabel='Predicted', ylabel='Observed')\n",
    "    \n",
    "    sns.regplot(x=fitted_vals, y=resids, lowess=True, ax=ax[1], line_kws={'color': 'red'})\n",
    "    ax[1].set_title('Residuals vs. Predicted Values', fontsize=10)\n",
    "    ax[1].set(xlabel='Predicted', ylabel='Residuals')"
   ]
  },
  {
   "cell_type": "code",
   "execution_count": 415,
   "metadata": {},
   "outputs": [
    {
     "data": {
      "image/png": "[encoded data removed]",
      "text/plain": [
       "<Figure size 432x288 with 2 Axes>"
      ]
     },
     "metadata": {
      "needs_background": "light"
     },
     "output_type": "display_data"
    }
   ],
   "source": [
    "linearity_test(model, Y)"
   ]
  },
  {
   "cell_type": "code",
   "execution_count": 89,
   "metadata": {},
   "outputs": [
    {
     "data": {
      "text/plain": [
       "1.1463911149119142e-14"
      ]
     },
     "execution_count": 89,
     "metadata": {},
     "output_type": "execute_result"
    }
   ],
   "source": [
    "#------------------------------------------------------------------------------------------------------------------------------#\n",
    "#                                       Проверка предпосылки о нулевом математическом ожидании остатков                                                                   #\n",
    "#------------------------------------------------------------------------------------------------------------------------------#\n",
    "\n",
    "\n",
    "model.resid.mean()"
   ]
  },
  {
   "cell_type": "code",
   "execution_count": 99,
   "metadata": {},
   "outputs": [
    {
     "data": {
      "text/plain": [
       "0.94977748724929"
      ]
     },
     "execution_count": 99,
     "metadata": {},
     "output_type": "execute_result"
    },
    {
     "data": {
      "image/png": "[encoded data removed]",
      "text/plain": [
       "<Figure size 432x180 with 1 Axes>"
      ]
     },
     "metadata": {
      "needs_background": "light"
     },
     "output_type": "display_data"
    }
   ],
   "source": [
    "#------------------------------------------------------------------------------------------------------------------------------#\n",
    "#                                        Проерка на нормальность остатков                                                                   #\n",
    "#------------------------------------------------------------------------------------------------------------------------------#\n",
    "\n",
    "\n",
    "fig, ax = plt.subplots(figsize=(6,2.5))\n",
    "_, (__, ___, r) = sp.stats.probplot(model.resid, plot=ax, fit=True)\n",
    "r**2"
   ]
  },
  {
   "cell_type": "code",
   "execution_count": 100,
   "metadata": {},
   "outputs": [
    {
     "data": {
      "text/plain": [
       "(0.949722945690155, 0.000980587094090879)"
      ]
     },
     "execution_count": 100,
     "metadata": {},
     "output_type": "execute_result"
    }
   ],
   "source": [
    "shapiro_test = stats.shapiro(model.resid)\n",
    "shapiro_test"
   ]
  },
  {
   "cell_type": "code",
   "execution_count": 101,
   "metadata": {},
   "outputs": [
    {
     "data": {
      "text/plain": [
       "(13.916575847387596, 0.0009507228920910826)"
      ]
     },
     "execution_count": 101,
     "metadata": {},
     "output_type": "execute_result"
    }
   ],
   "source": [
    "jb = stats.jarque_bera(model.resid)\n",
    "jb"
   ]
  },
  {
   "cell_type": "code",
   "execution_count": 102,
   "metadata": {},
   "outputs": [
    {
     "data": {
      "text/html": [
       "<div>\n",
       "<style scoped>\n",
       "    .dataframe tbody tr th:only-of-type {\n",
       "        vertical-align: middle;\n",
       "    }\n",
       "\n",
       "    .dataframe tbody tr th {\n",
       "        vertical-align: top;\n",
       "    }\n",
       "\n",
       "    .dataframe thead th {\n",
       "        text-align: right;\n",
       "    }\n",
       "</style>\n",
       "<table border=\"1\" class=\"dataframe\">\n",
       "  <thead>\n",
       "    <tr style=\"text-align: right;\">\n",
       "      <th></th>\n",
       "      <th>ln_retail_volumes</th>\n",
       "      <th>VIX</th>\n",
       "      <th>Cost_to_trade</th>\n",
       "      <th>Unempl</th>\n",
       "      <th>GDP</th>\n",
       "      <th>Fin_lit</th>\n",
       "      <th>Marg_Trade</th>\n",
       "      <th>Return</th>\n",
       "      <th>Infl</th>\n",
       "      <th>Int_rate</th>\n",
       "      <th>Deriv</th>\n",
       "      <th>ln_Deriv</th>\n",
       "      <th>ln_Cost_to_trade</th>\n",
       "      <th>ln_VIX</th>\n",
       "    </tr>\n",
       "  </thead>\n",
       "  <tbody>\n",
       "    <tr>\n",
       "      <td>0</td>\n",
       "      <td>7.70</td>\n",
       "      <td>30.24</td>\n",
       "      <td>57.298827</td>\n",
       "      <td>0.06</td>\n",
       "      <td>0.065</td>\n",
       "      <td>1.0</td>\n",
       "      <td>1.0</td>\n",
       "      <td>0.02</td>\n",
       "      <td>0.0043</td>\n",
       "      <td>0.0007</td>\n",
       "      <td>2894627.0</td>\n",
       "      <td>14.878367</td>\n",
       "      <td>4.048280</td>\n",
       "      <td>3.409166</td>\n",
       "    </tr>\n",
       "    <tr>\n",
       "      <td>1</td>\n",
       "      <td>7.74</td>\n",
       "      <td>26.97</td>\n",
       "      <td>30.763334</td>\n",
       "      <td>0.06</td>\n",
       "      <td>0.065</td>\n",
       "      <td>1.0</td>\n",
       "      <td>1.0</td>\n",
       "      <td>0.01</td>\n",
       "      <td>0.0055</td>\n",
       "      <td>0.0008</td>\n",
       "      <td>2894627.0</td>\n",
       "      <td>14.878367</td>\n",
       "      <td>3.426324</td>\n",
       "      <td>3.294725</td>\n",
       "    </tr>\n",
       "    <tr>\n",
       "      <td>2</td>\n",
       "      <td>7.66</td>\n",
       "      <td>20.77</td>\n",
       "      <td>292.081489</td>\n",
       "      <td>0.07</td>\n",
       "      <td>0.043</td>\n",
       "      <td>1.0</td>\n",
       "      <td>1.0</td>\n",
       "      <td>0.10</td>\n",
       "      <td>0.0009</td>\n",
       "      <td>0.0009</td>\n",
       "      <td>2696624.0</td>\n",
       "      <td>14.807511</td>\n",
       "      <td>5.677033</td>\n",
       "      <td>3.033510</td>\n",
       "    </tr>\n",
       "    <tr>\n",
       "      <td>3</td>\n",
       "      <td>7.60</td>\n",
       "      <td>37.13</td>\n",
       "      <td>0.880000</td>\n",
       "      <td>0.07</td>\n",
       "      <td>0.043</td>\n",
       "      <td>1.0</td>\n",
       "      <td>1.0</td>\n",
       "      <td>-0.02</td>\n",
       "      <td>-0.0006</td>\n",
       "      <td>0.0009</td>\n",
       "      <td>2879377.0</td>\n",
       "      <td>14.873085</td>\n",
       "      <td>-0.127833</td>\n",
       "      <td>3.614425</td>\n",
       "    </tr>\n",
       "    <tr>\n",
       "      <td>4</td>\n",
       "      <td>7.53</td>\n",
       "      <td>26.70</td>\n",
       "      <td>0.880000</td>\n",
       "      <td>0.07</td>\n",
       "      <td>0.043</td>\n",
       "      <td>1.0</td>\n",
       "      <td>1.0</td>\n",
       "      <td>-0.04</td>\n",
       "      <td>0.0004</td>\n",
       "      <td>0.0009</td>\n",
       "      <td>2203521.0</td>\n",
       "      <td>14.605567</td>\n",
       "      <td>-0.127833</td>\n",
       "      <td>3.284664</td>\n",
       "    </tr>\n",
       "    <tr>\n",
       "      <td>...</td>\n",
       "      <td>...</td>\n",
       "      <td>...</td>\n",
       "      <td>...</td>\n",
       "      <td>...</td>\n",
       "      <td>...</td>\n",
       "      <td>...</td>\n",
       "      <td>...</td>\n",
       "      <td>...</td>\n",
       "      <td>...</td>\n",
       "      <td>...</td>\n",
       "      <td>...</td>\n",
       "      <td>...</td>\n",
       "      <td>...</td>\n",
       "      <td>...</td>\n",
       "    </tr>\n",
       "    <tr>\n",
       "      <td>92</td>\n",
       "      <td>6.41</td>\n",
       "      <td>16.28</td>\n",
       "      <td>109.241853</td>\n",
       "      <td>0.08</td>\n",
       "      <td>0.005</td>\n",
       "      <td>0.0</td>\n",
       "      <td>0.0</td>\n",
       "      <td>0.04</td>\n",
       "      <td>0.0024</td>\n",
       "      <td>0.0009</td>\n",
       "      <td>3082222.0</td>\n",
       "      <td>14.941161</td>\n",
       "      <td>4.693564</td>\n",
       "      <td>2.789937</td>\n",
       "    </tr>\n",
       "    <tr>\n",
       "      <td>93</td>\n",
       "      <td>6.41</td>\n",
       "      <td>14.49</td>\n",
       "      <td>40.404460</td>\n",
       "      <td>0.08</td>\n",
       "      <td>0.005</td>\n",
       "      <td>0.0</td>\n",
       "      <td>0.0</td>\n",
       "      <td>0.01</td>\n",
       "      <td>0.0018</td>\n",
       "      <td>0.0009</td>\n",
       "      <td>2643380.0</td>\n",
       "      <td>14.787569</td>\n",
       "      <td>3.698940</td>\n",
       "      <td>2.673459</td>\n",
       "    </tr>\n",
       "    <tr>\n",
       "      <td>94</td>\n",
       "      <td>6.39</td>\n",
       "      <td>13.58</td>\n",
       "      <td>87.258584</td>\n",
       "      <td>0.08</td>\n",
       "      <td>0.005</td>\n",
       "      <td>0.0</td>\n",
       "      <td>0.0</td>\n",
       "      <td>0.03</td>\n",
       "      <td>-0.0010</td>\n",
       "      <td>0.0011</td>\n",
       "      <td>2568009.0</td>\n",
       "      <td>14.758641</td>\n",
       "      <td>4.468876</td>\n",
       "      <td>2.608598</td>\n",
       "    </tr>\n",
       "    <tr>\n",
       "      <td>95</td>\n",
       "      <td>6.22</td>\n",
       "      <td>15.36</td>\n",
       "      <td>10.957551</td>\n",
       "      <td>0.08</td>\n",
       "      <td>0.036</td>\n",
       "      <td>0.0</td>\n",
       "      <td>0.0</td>\n",
       "      <td>0.00</td>\n",
       "      <td>0.0026</td>\n",
       "      <td>0.0015</td>\n",
       "      <td>3351551.0</td>\n",
       "      <td>15.024934</td>\n",
       "      <td>2.394029</td>\n",
       "      <td>2.731767</td>\n",
       "    </tr>\n",
       "    <tr>\n",
       "      <td>96</td>\n",
       "      <td>6.26</td>\n",
       "      <td>12.90</td>\n",
       "      <td>104.083311</td>\n",
       "      <td>0.08</td>\n",
       "      <td>0.036</td>\n",
       "      <td>0.0</td>\n",
       "      <td>0.0</td>\n",
       "      <td>0.03</td>\n",
       "      <td>0.0082</td>\n",
       "      <td>0.0014</td>\n",
       "      <td>2704619.0</td>\n",
       "      <td>14.810472</td>\n",
       "      <td>4.645192</td>\n",
       "      <td>2.557227</td>\n",
       "    </tr>\n",
       "  </tbody>\n",
       "</table>\n",
       "<p>97 rows × 14 columns</p>\n",
       "</div>"
      ],
      "text/plain": [
       "    ln_retail_volumes    VIX  Cost_to_trade  Unempl    GDP  Fin_lit  \\\n",
       "0                7.70  30.24      57.298827    0.06  0.065      1.0   \n",
       "1                7.74  26.97      30.763334    0.06  0.065      1.0   \n",
       "2                7.66  20.77     292.081489    0.07  0.043      1.0   \n",
       "3                7.60  37.13       0.880000    0.07  0.043      1.0   \n",
       "4                7.53  26.70       0.880000    0.07  0.043      1.0   \n",
       "..                ...    ...            ...     ...    ...      ...   \n",
       "92               6.41  16.28     109.241853    0.08  0.005      0.0   \n",
       "93               6.41  14.49      40.404460    0.08  0.005      0.0   \n",
       "94               6.39  13.58      87.258584    0.08  0.005      0.0   \n",
       "95               6.22  15.36      10.957551    0.08  0.036      0.0   \n",
       "96               6.26  12.90     104.083311    0.08  0.036      0.0   \n",
       "\n",
       "    Marg_Trade  Return    Infl  Int_rate      Deriv   ln_Deriv  \\\n",
       "0          1.0    0.02  0.0043    0.0007  2894627.0  14.878367   \n",
       "1          1.0    0.01  0.0055    0.0008  2894627.0  14.878367   \n",
       "2          1.0    0.10  0.0009    0.0009  2696624.0  14.807511   \n",
       "3          1.0   -0.02 -0.0006    0.0009  2879377.0  14.873085   \n",
       "4          1.0   -0.04  0.0004    0.0009  2203521.0  14.605567   \n",
       "..         ...     ...     ...       ...        ...        ...   \n",
       "92         0.0    0.04  0.0024    0.0009  3082222.0  14.941161   \n",
       "93         0.0    0.01  0.0018    0.0009  2643380.0  14.787569   \n",
       "94         0.0    0.03 -0.0010    0.0011  2568009.0  14.758641   \n",
       "95         0.0    0.00  0.0026    0.0015  3351551.0  15.024934   \n",
       "96         0.0    0.03  0.0082    0.0014  2704619.0  14.810472   \n",
       "\n",
       "    ln_Cost_to_trade    ln_VIX  \n",
       "0           4.048280  3.409166  \n",
       "1           3.426324  3.294725  \n",
       "2           5.677033  3.033510  \n",
       "3          -0.127833  3.614425  \n",
       "4          -0.127833  3.284664  \n",
       "..               ...       ...  \n",
       "92          4.693564  2.789937  \n",
       "93          3.698940  2.673459  \n",
       "94          4.468876  2.608598  \n",
       "95          2.394029  2.731767  \n",
       "96          4.645192  2.557227  \n",
       "\n",
       "[97 rows x 14 columns]"
      ]
     },
     "execution_count": 102,
     "metadata": {},
     "output_type": "execute_result"
    }
   ],
   "source": [
    "new_data_US"
   ]
  },
  {
   "cell_type": "code",
   "execution_count": 31,
   "metadata": {},
   "outputs": [],
   "source": [
    "#------------------------------------------------------------------------------------------------------------------------------#\n",
    "#                                        Проверка на гетероскедастичность                                                                   #\n",
    "#------------------------------------------------------------------------------------------------------------------------------#\n",
    "\n",
    "\n",
    "def homoscedasticity_test(model):\n",
    "    \n",
    "    fitted_vals = model.predict()\n",
    "    resids = model.resid\n",
    "    resids_standardized = model.get_influence().resid_studentized_internal\n",
    "\n",
    "    fig, ax = plt.subplots(1,2)\n",
    "\n",
    "    sns.regplot(x=fitted_vals, y=resids, lowess=True, ax=ax[0], line_kws={'color': 'red'})\n",
    "    ax[0].set_title('Residuals vs Fitted', fontsize=16)\n",
    "    ax[0].set(xlabel='Fitted Values', ylabel='Residuals')\n",
    "\n",
    "    sns.regplot(x=fitted_vals, y=np.sqrt(np.abs(resids_standardized)), lowess=True, ax=ax[1], line_kws={'color': 'red'})\n",
    "    ax[1].set_title('Scale-Location', fontsize=16)\n",
    "    ax[1].set(xlabel='Fitted Values', ylabel='sqrt(abs(Residuals))')\n",
    "\n",
    "    bp_test = pd.DataFrame(sms.het_breuschpagan(resids, model.model.exog), \n",
    "                           columns=['value'],\n",
    "                           index=['Lagrange multiplier statistic', 'p-value', 'f-value', 'f p-value'])\n",
    "\n",
    "    gq_test = pd.DataFrame(sms.het_goldfeldquandt(resids, model.model.exog)[:-1],\n",
    "                           columns=['value'],\n",
    "                           index=['F statistic', 'p-value'])\n",
    "\n",
    "    print('\\n Breusch-Pagan test ----')\n",
    "    print(bp_test)\n",
    "    print('\\n Goldfeld-Quandt test ----')\n",
    "    print(gq_test)\n",
    "    print('\\n Residuals plots ----')"
   ]
  },
  {
   "cell_type": "code",
   "execution_count": 32,
   "metadata": {
    "scrolled": true
   },
   "outputs": [
    {
     "name": "stdout",
     "output_type": "stream",
     "text": [
      "\n",
      " Breusch-Pagan test ----\n",
      "                                  value\n",
      "Lagrange multiplier statistic  2.553897\n",
      "p-value                        0.990067\n",
      "f-value                        0.228576\n",
      "f p-value                      0.992597\n",
      "\n",
      " Goldfeld-Quandt test ----\n",
      "                value\n",
      "F statistic  0.854436\n",
      "p-value      0.668443\n",
      "\n",
      " Residuals plots ----\n"
     ]
    },
    {
     "data": {
      "image/png": "[encoded data removed]",
      "text/plain": [
       "<Figure size 432x288 with 2 Axes>"
      ]
     },
     "metadata": {
      "needs_background": "light"
     },
     "output_type": "display_data"
    }
   ],
   "source": [
    "homoscedasticity_test(model)"
   ]
  },
  {
   "cell_type": "code",
   "execution_count": 35,
   "metadata": {},
   "outputs": [
    {
     "name": "stderr",
     "output_type": "stream",
     "text": [
      "C:\\Users\\peter\\Anaconda3\\lib\\site-packages\\numpy\\core\\fromnumeric.py:2389: FutureWarning: Method .ptp is deprecated and will be removed in a future version. Use numpy.ptp instead.\n",
      "  return ptp(axis=axis, out=out, **kwargs)\n",
      "C:\\Users\\peter\\Anaconda3\\lib\\site-packages\\statsmodels\\base\\model.py:1834: ValueWarning: covariance of constraints does not have full rank. The number of constraints is 10, but rank is 9\n",
      "  'rank is %d' % (J, J_), ValueWarning)\n"
     ]
    },
    {
     "data": {
      "text/html": [
       "<table class=\"simpletable\">\n",
       "<caption>OLS Regression Results</caption>\n",
       "<tr>\n",
       "  <th>Dep. Variable:</th>    <td>ln_retail_volumes</td> <th>  R-squared:         </th> <td>   0.862</td>\n",
       "</tr>\n",
       "<tr>\n",
       "  <th>Model:</th>                   <td>OLS</td>        <th>  Adj. R-squared:    </th> <td>   0.843</td>\n",
       "</tr>\n",
       "<tr>\n",
       "  <th>Method:</th>             <td>Least Squares</td>   <th>  F-statistic:       </th> <td>   82.31</td>\n",
       "</tr>\n",
       "<tr>\n",
       "  <th>Date:</th>             <td>Fri, 30 Apr 2021</td>  <th>  Prob (F-statistic):</th> <td>2.76e-34</td>\n",
       "</tr>\n",
       "<tr>\n",
       "  <th>Time:</th>                 <td>11:20:32</td>      <th>  Log-Likelihood:    </th> <td>  63.949</td>\n",
       "</tr>\n",
       "<tr>\n",
       "  <th>No. Observations:</th>      <td>    83</td>       <th>  AIC:               </th> <td>  -105.9</td>\n",
       "</tr>\n",
       "<tr>\n",
       "  <th>Df Residuals:</th>          <td>    72</td>       <th>  BIC:               </th> <td>  -79.29</td>\n",
       "</tr>\n",
       "<tr>\n",
       "  <th>Df Model:</th>              <td>    10</td>       <th>                     </th>     <td> </td>   \n",
       "</tr>\n",
       "<tr>\n",
       "  <th>Covariance Type:</th>         <td>HC0</td>        <th>                     </th>     <td> </td>   \n",
       "</tr>\n",
       "</table>\n",
       "<table class=\"simpletable\">\n",
       "<tr>\n",
       "        <td></td>           <th>coef</th>     <th>std err</th>      <th>z</th>      <th>P>|z|</th>  <th>[0.025</th>    <th>0.975]</th>  \n",
       "</tr>\n",
       "<tr>\n",
       "  <th>const</th>         <td>    6.8277</td> <td>    0.202</td> <td>   33.818</td> <td> 0.000</td> <td>    6.432</td> <td>    7.223</td>\n",
       "</tr>\n",
       "<tr>\n",
       "  <th>VIX</th>           <td>    0.0105</td> <td>    0.005</td> <td>    2.216</td> <td> 0.027</td> <td>    0.001</td> <td>    0.020</td>\n",
       "</tr>\n",
       "<tr>\n",
       "  <th>Cost_to_trade</th> <td>   -0.0003</td> <td>    0.000</td> <td>   -0.528</td> <td> 0.598</td> <td>   -0.001</td> <td>    0.001</td>\n",
       "</tr>\n",
       "<tr>\n",
       "  <th>GDP</th>           <td>   -4.5930</td> <td>    1.031</td> <td>   -4.457</td> <td> 0.000</td> <td>   -6.613</td> <td>   -2.573</td>\n",
       "</tr>\n",
       "<tr>\n",
       "  <th>Fin_lit</th>       <td>    0.2074</td> <td>    0.084</td> <td>    2.462</td> <td> 0.014</td> <td>    0.042</td> <td>    0.372</td>\n",
       "</tr>\n",
       "<tr>\n",
       "  <th>Marg_Trade</th>    <td>    1.0006</td> <td>    0.112</td> <td>    8.895</td> <td> 0.000</td> <td>    0.780</td> <td>    1.221</td>\n",
       "</tr>\n",
       "<tr>\n",
       "  <th>Return</th>        <td>    0.4315</td> <td>    0.956</td> <td>    0.451</td> <td> 0.652</td> <td>   -1.443</td> <td>    2.306</td>\n",
       "</tr>\n",
       "<tr>\n",
       "  <th>Infl</th>          <td>    2.3086</td> <td>    4.960</td> <td>    0.465</td> <td> 0.642</td> <td>   -7.413</td> <td>   12.030</td>\n",
       "</tr>\n",
       "<tr>\n",
       "  <th>Int_rate</th>      <td>    4.5938</td> <td>    2.913</td> <td>    1.577</td> <td> 0.115</td> <td>   -1.116</td> <td>   10.304</td>\n",
       "</tr>\n",
       "<tr>\n",
       "  <th>Deriv</th>         <td> 1.203e-08</td> <td> 1.35e-08</td> <td>    0.893</td> <td> 0.372</td> <td>-1.44e-08</td> <td> 3.84e-08</td>\n",
       "</tr>\n",
       "<tr>\n",
       "  <th>Unempl</th>        <td>   -7.2526</td> <td>    2.714</td> <td>   -2.672</td> <td> 0.008</td> <td>  -12.572</td> <td>   -1.933</td>\n",
       "</tr>\n",
       "</table>\n",
       "<table class=\"simpletable\">\n",
       "<tr>\n",
       "  <th>Omnibus:</th>       <td> 5.849</td> <th>  Durbin-Watson:     </th> <td>   1.591</td>\n",
       "</tr>\n",
       "<tr>\n",
       "  <th>Prob(Omnibus):</th> <td> 0.054</td> <th>  Jarque-Bera (JB):  </th> <td>   5.501</td>\n",
       "</tr>\n",
       "<tr>\n",
       "  <th>Skew:</th>          <td> 0.628</td> <th>  Prob(JB):          </th> <td>  0.0639</td>\n",
       "</tr>\n",
       "<tr>\n",
       "  <th>Kurtosis:</th>      <td> 3.113</td> <th>  Cond. No.          </th> <td>1.86e+09</td>\n",
       "</tr>\n",
       "</table><br/><br/>Notes:<br/>[1] Standard Errors are heteroscedasticity robust (HC0)<br/>[2] The condition number is large, 1.86e+09. This might indicate that there are<br/>strong multicollinearity or other numerical problems."
      ],
      "text/plain": [
       "<class 'statsmodels.iolib.summary.Summary'>\n",
       "\"\"\"\n",
       "                            OLS Regression Results                            \n",
       "==============================================================================\n",
       "Dep. Variable:      ln_retail_volumes   R-squared:                       0.862\n",
       "Model:                            OLS   Adj. R-squared:                  0.843\n",
       "Method:                 Least Squares   F-statistic:                     82.31\n",
       "Date:                Fri, 30 Apr 2021   Prob (F-statistic):           2.76e-34\n",
       "Time:                        11:20:32   Log-Likelihood:                 63.949\n",
       "No. Observations:                  83   AIC:                            -105.9\n",
       "Df Residuals:                      72   BIC:                            -79.29\n",
       "Df Model:                          10                                         \n",
       "Covariance Type:                  HC0                                         \n",
       "=================================================================================\n",
       "                    coef    std err          z      P>|z|      [0.025      0.975]\n",
       "---------------------------------------------------------------------------------\n",
       "const             6.8277      0.202     33.818      0.000       6.432       7.223\n",
       "VIX               0.0105      0.005      2.216      0.027       0.001       0.020\n",
       "Cost_to_trade    -0.0003      0.000     -0.528      0.598      -0.001       0.001\n",
       "GDP              -4.5930      1.031     -4.457      0.000      -6.613      -2.573\n",
       "Fin_lit           0.2074      0.084      2.462      0.014       0.042       0.372\n",
       "Marg_Trade        1.0006      0.112      8.895      0.000       0.780       1.221\n",
       "Return            0.4315      0.956      0.451      0.652      -1.443       2.306\n",
       "Infl              2.3086      4.960      0.465      0.642      -7.413      12.030\n",
       "Int_rate          4.5938      2.913      1.577      0.115      -1.116      10.304\n",
       "Deriv          1.203e-08   1.35e-08      0.893      0.372   -1.44e-08    3.84e-08\n",
       "Unempl           -7.2526      2.714     -2.672      0.008     -12.572      -1.933\n",
       "==============================================================================\n",
       "Omnibus:                        5.849   Durbin-Watson:                   1.591\n",
       "Prob(Omnibus):                  0.054   Jarque-Bera (JB):                5.501\n",
       "Skew:                           0.628   Prob(JB):                       0.0639\n",
       "Kurtosis:                       3.113   Cond. No.                     1.86e+09\n",
       "==============================================================================\n",
       "\n",
       "Notes:\n",
       "[1] Standard Errors are heteroscedasticity robust (HC0)\n",
       "[2] The condition number is large, 1.86e+09. This might indicate that there are\n",
       "strong multicollinearity or other numerical problems.\n",
       "\"\"\""
      ]
     },
     "execution_count": 35,
     "metadata": {},
     "output_type": "execute_result"
    }
   ],
   "source": [
    "#------------------------------------------------------------------------------------------------------------------------------#\n",
    "#                                        Построение регрессии для США со стандартными ошибками в форме Уайта                                                                 #\n",
    "#------------------------------------------------------------------------------------------------------------------------------#\n",
    "\n",
    "model_w_o = sm.OLS(Y, X).fit(cov_type='HC0')\n",
    "predictions = model_w_o.predict(X)\n",
    "model_w_o.summary()"
   ]
  },
  {
   "cell_type": "code",
   "execution_count": 36,
   "metadata": {},
   "outputs": [
    {
     "data": {
      "text/plain": [
       "(0.9662619829177856, 0.02805459313094616)"
      ]
     },
     "execution_count": 36,
     "metadata": {},
     "output_type": "execute_result"
    }
   ],
   "source": [
    "shapiro_test = stats.shapiro(model_w_o.resid)\n",
    "shapiro_test"
   ]
  },
  {
   "cell_type": "code",
   "execution_count": 37,
   "metadata": {},
   "outputs": [
    {
     "data": {
      "text/html": [
       "<div>\n",
       "<style scoped>\n",
       "    .dataframe tbody tr th:only-of-type {\n",
       "        vertical-align: middle;\n",
       "    }\n",
       "\n",
       "    .dataframe tbody tr th {\n",
       "        vertical-align: top;\n",
       "    }\n",
       "\n",
       "    .dataframe thead th {\n",
       "        text-align: right;\n",
       "    }\n",
       "</style>\n",
       "<table border=\"1\" class=\"dataframe\">\n",
       "  <thead>\n",
       "    <tr style=\"text-align: right;\">\n",
       "      <th></th>\n",
       "      <th>VIF Factor</th>\n",
       "      <th>features</th>\n",
       "    </tr>\n",
       "  </thead>\n",
       "  <tbody>\n",
       "    <tr>\n",
       "      <td>0</td>\n",
       "      <td>295.791372</td>\n",
       "      <td>const</td>\n",
       "    </tr>\n",
       "    <tr>\n",
       "      <td>1</td>\n",
       "      <td>3.394636</td>\n",
       "      <td>VIX</td>\n",
       "    </tr>\n",
       "    <tr>\n",
       "      <td>2</td>\n",
       "      <td>5.790186</td>\n",
       "      <td>Cost_to_trade</td>\n",
       "    </tr>\n",
       "    <tr>\n",
       "      <td>3</td>\n",
       "      <td>1.449302</td>\n",
       "      <td>GDP</td>\n",
       "    </tr>\n",
       "    <tr>\n",
       "      <td>4</td>\n",
       "      <td>4.687804</td>\n",
       "      <td>Fin_lit</td>\n",
       "    </tr>\n",
       "    <tr>\n",
       "      <td>5</td>\n",
       "      <td>4.504948</td>\n",
       "      <td>Marg_Trade</td>\n",
       "    </tr>\n",
       "    <tr>\n",
       "      <td>6</td>\n",
       "      <td>6.615761</td>\n",
       "      <td>Return</td>\n",
       "    </tr>\n",
       "    <tr>\n",
       "      <td>7</td>\n",
       "      <td>1.058133</td>\n",
       "      <td>Infl</td>\n",
       "    </tr>\n",
       "    <tr>\n",
       "      <td>8</td>\n",
       "      <td>4.111579</td>\n",
       "      <td>Int_rate</td>\n",
       "    </tr>\n",
       "    <tr>\n",
       "      <td>9</td>\n",
       "      <td>2.456340</td>\n",
       "      <td>Deriv</td>\n",
       "    </tr>\n",
       "    <tr>\n",
       "      <td>10</td>\n",
       "      <td>8.007632</td>\n",
       "      <td>Unempl</td>\n",
       "    </tr>\n",
       "  </tbody>\n",
       "</table>\n",
       "</div>"
      ],
      "text/plain": [
       "    VIF Factor       features\n",
       "0   295.791372          const\n",
       "1     3.394636            VIX\n",
       "2     5.790186  Cost_to_trade\n",
       "3     1.449302            GDP\n",
       "4     4.687804        Fin_lit\n",
       "5     4.504948     Marg_Trade\n",
       "6     6.615761         Return\n",
       "7     1.058133           Infl\n",
       "8     4.111579       Int_rate\n",
       "9     2.456340          Deriv\n",
       "10    8.007632         Unempl"
      ]
     },
     "execution_count": 37,
     "metadata": {},
     "output_type": "execute_result"
    }
   ],
   "source": [
    "vif_w_o = pd.DataFrame()\n",
    "vif_w_o[\"VIF Factor\"] = [variance_inflation_factor(X.values, i) for i in range(X.shape[1])]\n",
    "vif_w_o[\"features\"] = X.columns\n",
    "vif_w_o"
   ]
  },
  {
   "cell_type": "code",
   "execution_count": 189,
   "metadata": {},
   "outputs": [
    {
     "name": "stderr",
     "output_type": "stream",
     "text": [
      "C:\\Users\\peter\\Anaconda3\\lib\\site-packages\\ipykernel_launcher.py:4: UserWarning: Matplotlib is currently using module://ipykernel.pylab.backend_inline, which is a non-GUI backend, so cannot show the figure.\n",
      "  after removing the cwd from sys.path.\n"
     ]
    },
    {
     "data": {
      "image/png": "[encoded data removed]",
      "text/plain": [
       "<Figure size 432x288 with 1 Axes>"
      ]
     },
     "metadata": {
      "needs_background": "light"
     },
     "output_type": "display_data"
    }
   ],
   "source": [
    "#------------------------------------------------------------------------------------------------------------------------------#\n",
    "#                                        Проверка на автокорреляцию в остатках                                                            #\n",
    "#------------------------------------------------------------------------------------------------------------------------------#\n",
    "\n",
    "import statsmodels.tsa.api as smt\n",
    "\n",
    "acf = smt.graphics.plot_acf(model_w_o.resid, lags=40 , alpha=0.05)\n",
    "acf.show()"
   ]
  },
  {
   "cell_type": "code",
   "execution_count": 190,
   "metadata": {},
   "outputs": [
    {
     "name": "stdout",
     "output_type": "stream",
     "text": [
      "Variable: const --- correlation: nan, p-value: nan\n",
      "Variable: VIX --- correlation: -0.0000, p-value: 1.0000\n",
      "Variable: Cost_to_trade --- correlation: -0.0000, p-value: 1.0000\n",
      "Variable: GDP --- correlation: 0.0000, p-value: 1.0000\n",
      "Variable: Fin_lit --- correlation: 0.0000, p-value: 1.0000\n",
      "Variable: Marg_Trade --- correlation: -0.0000, p-value: 1.0000\n",
      "Variable: Return --- correlation: -0.0000, p-value: 1.0000\n",
      "Variable: Infl --- correlation: -0.0000, p-value: 1.0000\n",
      "Variable: Int_rate --- correlation: -0.0000, p-value: 1.0000\n",
      "Variable: Deriv --- correlation: 0.0000, p-value: 1.0000\n",
      "Variable: Unempl --- correlation: 0.0000, p-value: 1.0000\n"
     ]
    },
    {
     "name": "stderr",
     "output_type": "stream",
     "text": [
      "C:\\Users\\peter\\Anaconda3\\lib\\site-packages\\scipy\\stats\\stats.py:3399: PearsonRConstantInputWarning: An input array is constant; the correlation coefficent is not defined.\n",
      "  warnings.warn(PearsonRConstantInputWarning())\n"
     ]
    }
   ],
   "source": [
    "#------------------------------------------------------------------------------------------------------------------------------#\n",
    "#                                        Проверка на корреляцию между регрессороми и оишбками                                                                 #\n",
    "#------------------------------------------------------------------------------------------------------------------------------#\n",
    "\n",
    "from scipy.stats.stats import pearsonr\n",
    "\n",
    "for column in X.columns:\n",
    "    corr_test = pearsonr(X[column], model_w_o.resid)\n",
    "    print(f'Variable: {column} --- correlation: {corr_test[0]:.4f}, p-value: {corr_test[1]:.4f}')\n"
   ]
  },
  {
   "cell_type": "code",
   "execution_count": 421,
   "metadata": {},
   "outputs": [
    {
     "data": {
      "image/png": "[encoded data removed]",
      "text/plain": [
       "<Figure size 864x432 with 1 Axes>"
      ]
     },
     "metadata": {
      "needs_background": "light"
     },
     "output_type": "display_data"
    }
   ],
   "source": [
    "plt.subplots(figsize=(12, 6))\n",
    "plt.title('Distribution of Residuals')\n",
    "sns.distplot(model.resid)\n",
    "plt.show()"
   ]
  }
 ],
 "metadata": {
  "kernelspec": {
   "display_name": "Python 3 (ipykernel)",
   "language": "python",
   "name": "python3"
  },
  "language_info": {
   "codemirror_mode": {
    "name": "ipython",
    "version": 3
   },
   "file_extension": ".py",
   "mimetype": "text/x-python",
   "name": "python",
   "nbconvert_exporter": "python",
   "pygments_lexer": "ipython3",
   "version": "3.9.13"
  }
 },
 "nbformat": 4,
 "nbformat_minor": 2
}
