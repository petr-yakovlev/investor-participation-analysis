{
 "cells": [
  {
   "cell_type": "code",
   "execution_count": 27,
   "metadata": {},
   "outputs": [],
   "source": [
    "#------------------------------------------------------------------------------------------------------------------------------#\n",
    "#                                        Вызов библиотек                                                                       #\n",
    "#------------------------------------------------------------------------------------------------------------------------------#\n",
    "\n",
    "import numpy as np\n",
    "import matplotlib as mb\n",
    "import pandas as pd\n",
    "from sklearn import linear_model\n",
    "import statsmodels.api as sm\n",
    "import statsmodels.stats.api as sms\n",
    "import seaborn as sns\n",
    "import matplotlib.pyplot as plt\n",
    "from statsmodels.stats.outliers_influence import variance_inflation_factor\n",
    "from statsmodels.graphics.gofplots import qqplot\n",
    "from matplotlib import pyplot\n",
    "import scipy as sp\n",
    "from scipy import stats"
   ]
  },
  {
   "cell_type": "code",
   "execution_count": 42,
   "metadata": {
    "collapsed": true
   },
   "outputs": [
    {
     "data": {
      "text/html": [
       "<div>\n",
       "<style scoped>\n",
       "    .dataframe tbody tr th:only-of-type {\n",
       "        vertical-align: middle;\n",
       "    }\n",
       "\n",
       "    .dataframe tbody tr th {\n",
       "        vertical-align: top;\n",
       "    }\n",
       "\n",
       "    .dataframe thead th {\n",
       "        text-align: right;\n",
       "    }\n",
       "</style>\n",
       "<table border=\"1\" class=\"dataframe\">\n",
       "  <thead>\n",
       "    <tr style=\"text-align: right;\">\n",
       "      <th></th>\n",
       "      <th>Date</th>\n",
       "      <th>Overall Traded volume USA -dollars</th>\n",
       "      <th>PartRate</th>\n",
       "      <th>Retail volumes -dollars</th>\n",
       "      <th>Retail volumes -billion dollars</th>\n",
       "      <th>ln (Retail volumes)</th>\n",
       "      <th>VIX</th>\n",
       "      <th>Unemployment rate</th>\n",
       "      <th>Index Return</th>\n",
       "      <th>Fin Literacy</th>\n",
       "      <th>...</th>\n",
       "      <th>After Capital Gain tax</th>\n",
       "      <th>After Capital Gain tax total</th>\n",
       "      <th>Dividends monthly</th>\n",
       "      <th>Dividend tax</th>\n",
       "      <th>After Dividend tax</th>\n",
       "      <th>Total Gain</th>\n",
       "      <th>Comission (for trading)</th>\n",
       "      <th>Comissions paid</th>\n",
       "      <th>Comissions paid total</th>\n",
       "      <th>Cost To Trade total</th>\n",
       "    </tr>\n",
       "  </thead>\n",
       "  <tbody>\n",
       "    <tr>\n",
       "      <td>0</td>\n",
       "      <td>01.02.2021</td>\n",
       "      <td>1.135068e+13</td>\n",
       "      <td>19,50%</td>\n",
       "      <td>2.213382e+12</td>\n",
       "      <td>2213.38</td>\n",
       "      <td>7.70</td>\n",
       "      <td>30.24</td>\n",
       "      <td>0.06</td>\n",
       "      <td>0.02</td>\n",
       "      <td>1.0</td>\n",
       "      <td>...</td>\n",
       "      <td>56.418827</td>\n",
       "      <td>56.418827</td>\n",
       "      <td>4.0</td>\n",
       "      <td>0.88</td>\n",
       "      <td>3.12</td>\n",
       "      <td>59.538827</td>\n",
       "      <td>0,00%</td>\n",
       "      <td>0.000000</td>\n",
       "      <td>0.000000</td>\n",
       "      <td>57.298827</td>\n",
       "    </tr>\n",
       "    <tr>\n",
       "      <td>1</td>\n",
       "      <td>04.01.2021</td>\n",
       "      <td>1.179530e+13</td>\n",
       "      <td>19,50%</td>\n",
       "      <td>2.300083e+12</td>\n",
       "      <td>2300.08</td>\n",
       "      <td>7.74</td>\n",
       "      <td>26.97</td>\n",
       "      <td>0.06</td>\n",
       "      <td>0.01</td>\n",
       "      <td>1.0</td>\n",
       "      <td>...</td>\n",
       "      <td>29.883334</td>\n",
       "      <td>29.883334</td>\n",
       "      <td>4.0</td>\n",
       "      <td>0.88</td>\n",
       "      <td>3.12</td>\n",
       "      <td>33.003334</td>\n",
       "      <td>0,00%</td>\n",
       "      <td>0.000000</td>\n",
       "      <td>0.000000</td>\n",
       "      <td>30.763334</td>\n",
       "    </tr>\n",
       "    <tr>\n",
       "      <td>2</td>\n",
       "      <td>01.12.2020</td>\n",
       "      <td>1.091668e+13</td>\n",
       "      <td>19,50%</td>\n",
       "      <td>2.128752e+12</td>\n",
       "      <td>2128.75</td>\n",
       "      <td>7.66</td>\n",
       "      <td>20.77</td>\n",
       "      <td>0.07</td>\n",
       "      <td>0.10</td>\n",
       "      <td>1.0</td>\n",
       "      <td>...</td>\n",
       "      <td>291.201489</td>\n",
       "      <td>291.201489</td>\n",
       "      <td>4.0</td>\n",
       "      <td>0.88</td>\n",
       "      <td>3.12</td>\n",
       "      <td>294.321489</td>\n",
       "      <td>0,00%</td>\n",
       "      <td>0.000000</td>\n",
       "      <td>0.000000</td>\n",
       "      <td>292.081489</td>\n",
       "    </tr>\n",
       "    <tr>\n",
       "      <td>3</td>\n",
       "      <td>02.11.2020</td>\n",
       "      <td>1.026411e+13</td>\n",
       "      <td>19,50%</td>\n",
       "      <td>2.001501e+12</td>\n",
       "      <td>2001.50</td>\n",
       "      <td>7.60</td>\n",
       "      <td>37.13</td>\n",
       "      <td>0.07</td>\n",
       "      <td>-0.02</td>\n",
       "      <td>1.0</td>\n",
       "      <td>...</td>\n",
       "      <td>-60.744020</td>\n",
       "      <td>0.000000</td>\n",
       "      <td>4.0</td>\n",
       "      <td>0.88</td>\n",
       "      <td>3.12</td>\n",
       "      <td>-57.624020</td>\n",
       "      <td>0,00%</td>\n",
       "      <td>0.000000</td>\n",
       "      <td>0.000000</td>\n",
       "      <td>0.880000</td>\n",
       "    </tr>\n",
       "    <tr>\n",
       "      <td>4</td>\n",
       "      <td>01.10.2020</td>\n",
       "      <td>9.523329e+12</td>\n",
       "      <td>19,50%</td>\n",
       "      <td>1.857049e+12</td>\n",
       "      <td>1857.05</td>\n",
       "      <td>7.53</td>\n",
       "      <td>26.70</td>\n",
       "      <td>0.07</td>\n",
       "      <td>-0.04</td>\n",
       "      <td>1.0</td>\n",
       "      <td>...</td>\n",
       "      <td>-121.639807</td>\n",
       "      <td>0.000000</td>\n",
       "      <td>4.0</td>\n",
       "      <td>0.88</td>\n",
       "      <td>3.12</td>\n",
       "      <td>-118.519807</td>\n",
       "      <td>0,00%</td>\n",
       "      <td>0.000000</td>\n",
       "      <td>0.000000</td>\n",
       "      <td>0.880000</td>\n",
       "    </tr>\n",
       "    <tr>\n",
       "      <td>...</td>\n",
       "      <td>...</td>\n",
       "      <td>...</td>\n",
       "      <td>...</td>\n",
       "      <td>...</td>\n",
       "      <td>...</td>\n",
       "      <td>...</td>\n",
       "      <td>...</td>\n",
       "      <td>...</td>\n",
       "      <td>...</td>\n",
       "      <td>...</td>\n",
       "      <td>...</td>\n",
       "      <td>...</td>\n",
       "      <td>...</td>\n",
       "      <td>...</td>\n",
       "      <td>...</td>\n",
       "      <td>...</td>\n",
       "      <td>...</td>\n",
       "      <td>...</td>\n",
       "      <td>...</td>\n",
       "      <td>...</td>\n",
       "      <td>...</td>\n",
       "    </tr>\n",
       "    <tr>\n",
       "      <td>93</td>\n",
       "      <td>01.05.2013</td>\n",
       "      <td>5.049741e+12</td>\n",
       "      <td>12,00%</td>\n",
       "      <td>6.059689e+11</td>\n",
       "      <td>605.97</td>\n",
       "      <td>6.41</td>\n",
       "      <td>14.49</td>\n",
       "      <td>0.08</td>\n",
       "      <td>0.01</td>\n",
       "      <td>0.0</td>\n",
       "      <td>...</td>\n",
       "      <td>37.602343</td>\n",
       "      <td>37.602343</td>\n",
       "      <td>4.0</td>\n",
       "      <td>0.76</td>\n",
       "      <td>3.24</td>\n",
       "      <td>40.842343</td>\n",
       "      <td>5,00%</td>\n",
       "      <td>2.042117</td>\n",
       "      <td>2.042117</td>\n",
       "      <td>40.404460</td>\n",
       "    </tr>\n",
       "    <tr>\n",
       "      <td>94</td>\n",
       "      <td>01.04.2013</td>\n",
       "      <td>4.980839e+12</td>\n",
       "      <td>12,00%</td>\n",
       "      <td>5.977007e+11</td>\n",
       "      <td>597.70</td>\n",
       "      <td>6.39</td>\n",
       "      <td>13.58</td>\n",
       "      <td>0.08</td>\n",
       "      <td>0.03</td>\n",
       "      <td>0.0</td>\n",
       "      <td>...</td>\n",
       "      <td>82.225318</td>\n",
       "      <td>82.225318</td>\n",
       "      <td>4.0</td>\n",
       "      <td>0.76</td>\n",
       "      <td>3.24</td>\n",
       "      <td>85.465318</td>\n",
       "      <td>5,00%</td>\n",
       "      <td>4.273266</td>\n",
       "      <td>4.273266</td>\n",
       "      <td>87.258584</td>\n",
       "    </tr>\n",
       "    <tr>\n",
       "      <td>95</td>\n",
       "      <td>01.03.2013</td>\n",
       "      <td>4.205203e+12</td>\n",
       "      <td>12,00%</td>\n",
       "      <td>5.046243e+11</td>\n",
       "      <td>504.62</td>\n",
       "      <td>6.22</td>\n",
       "      <td>15.36</td>\n",
       "      <td>0.08</td>\n",
       "      <td>0.00</td>\n",
       "      <td>0.0</td>\n",
       "      <td>...</td>\n",
       "      <td>9.557668</td>\n",
       "      <td>9.557668</td>\n",
       "      <td>4.0</td>\n",
       "      <td>0.76</td>\n",
       "      <td>3.24</td>\n",
       "      <td>12.797668</td>\n",
       "      <td>5,00%</td>\n",
       "      <td>0.639883</td>\n",
       "      <td>0.639883</td>\n",
       "      <td>10.957551</td>\n",
       "    </tr>\n",
       "    <tr>\n",
       "      <td>96</td>\n",
       "      <td>01.02.2013</td>\n",
       "      <td>4.339547e+12</td>\n",
       "      <td>12,00%</td>\n",
       "      <td>5.207456e+11</td>\n",
       "      <td>520.75</td>\n",
       "      <td>6.26</td>\n",
       "      <td>12.90</td>\n",
       "      <td>0.08</td>\n",
       "      <td>0.03</td>\n",
       "      <td>0.0</td>\n",
       "      <td>...</td>\n",
       "      <td>98.248868</td>\n",
       "      <td>98.248868</td>\n",
       "      <td>4.0</td>\n",
       "      <td>0.76</td>\n",
       "      <td>3.24</td>\n",
       "      <td>101.488868</td>\n",
       "      <td>5,00%</td>\n",
       "      <td>5.074443</td>\n",
       "      <td>5.074443</td>\n",
       "      <td>104.083311</td>\n",
       "    </tr>\n",
       "    <tr>\n",
       "      <td>97</td>\n",
       "      <td>NaN</td>\n",
       "      <td>NaN</td>\n",
       "      <td>NaN</td>\n",
       "      <td>NaN</td>\n",
       "      <td>NaN</td>\n",
       "      <td>NaN</td>\n",
       "      <td>NaN</td>\n",
       "      <td>NaN</td>\n",
       "      <td>NaN</td>\n",
       "      <td>NaN</td>\n",
       "      <td>...</td>\n",
       "      <td>NaN</td>\n",
       "      <td>NaN</td>\n",
       "      <td>NaN</td>\n",
       "      <td>NaN</td>\n",
       "      <td>NaN</td>\n",
       "      <td>NaN</td>\n",
       "      <td>NaN</td>\n",
       "      <td>NaN</td>\n",
       "      <td>NaN</td>\n",
       "      <td>NaN</td>\n",
       "    </tr>\n",
       "  </tbody>\n",
       "</table>\n",
       "<p>98 rows × 28 columns</p>\n",
       "</div>"
      ],
      "text/plain": [
       "          Date  Overall Traded volume USA -dollars PartRate  \\\n",
       "0   01.02.2021                        1.135068e+13   19,50%   \n",
       "1   04.01.2021                        1.179530e+13   19,50%   \n",
       "2   01.12.2020                        1.091668e+13   19,50%   \n",
       "3   02.11.2020                        1.026411e+13   19,50%   \n",
       "4   01.10.2020                        9.523329e+12   19,50%   \n",
       "..         ...                                 ...      ...   \n",
       "93  01.05.2013                        5.049741e+12   12,00%   \n",
       "94  01.04.2013                        4.980839e+12   12,00%   \n",
       "95  01.03.2013                        4.205203e+12   12,00%   \n",
       "96  01.02.2013                        4.339547e+12   12,00%   \n",
       "97         NaN                                 NaN      NaN   \n",
       "\n",
       "    Retail volumes -dollars  Retail volumes -billion dollars  \\\n",
       "0              2.213382e+12                          2213.38   \n",
       "1              2.300083e+12                          2300.08   \n",
       "2              2.128752e+12                          2128.75   \n",
       "3              2.001501e+12                          2001.50   \n",
       "4              1.857049e+12                          1857.05   \n",
       "..                      ...                              ...   \n",
       "93             6.059689e+11                           605.97   \n",
       "94             5.977007e+11                           597.70   \n",
       "95             5.046243e+11                           504.62   \n",
       "96             5.207456e+11                           520.75   \n",
       "97                      NaN                              NaN   \n",
       "\n",
       "    ln (Retail volumes)    VIX  Unemployment rate  Index Return  Fin Literacy  \\\n",
       "0                  7.70  30.24               0.06          0.02           1.0   \n",
       "1                  7.74  26.97               0.06          0.01           1.0   \n",
       "2                  7.66  20.77               0.07          0.10           1.0   \n",
       "3                  7.60  37.13               0.07         -0.02           1.0   \n",
       "4                  7.53  26.70               0.07         -0.04           1.0   \n",
       "..                  ...    ...                ...           ...           ...   \n",
       "93                 6.41  14.49               0.08          0.01           0.0   \n",
       "94                 6.39  13.58               0.08          0.03           0.0   \n",
       "95                 6.22  15.36               0.08          0.00           0.0   \n",
       "96                 6.26  12.90               0.08          0.03           0.0   \n",
       "97                  NaN    NaN                NaN           NaN           NaN   \n",
       "\n",
       "    ...  After Capital Gain tax  After Capital Gain tax total  \\\n",
       "0   ...               56.418827                     56.418827   \n",
       "1   ...               29.883334                     29.883334   \n",
       "2   ...              291.201489                    291.201489   \n",
       "3   ...              -60.744020                      0.000000   \n",
       "4   ...             -121.639807                      0.000000   \n",
       "..  ...                     ...                           ...   \n",
       "93  ...               37.602343                     37.602343   \n",
       "94  ...               82.225318                     82.225318   \n",
       "95  ...                9.557668                      9.557668   \n",
       "96  ...               98.248868                     98.248868   \n",
       "97  ...                     NaN                           NaN   \n",
       "\n",
       "    Dividends monthly  Dividend tax  After Dividend tax  Total Gain  \\\n",
       "0                 4.0          0.88                3.12   59.538827   \n",
       "1                 4.0          0.88                3.12   33.003334   \n",
       "2                 4.0          0.88                3.12  294.321489   \n",
       "3                 4.0          0.88                3.12  -57.624020   \n",
       "4                 4.0          0.88                3.12 -118.519807   \n",
       "..                ...           ...                 ...         ...   \n",
       "93                4.0          0.76                3.24   40.842343   \n",
       "94                4.0          0.76                3.24   85.465318   \n",
       "95                4.0          0.76                3.24   12.797668   \n",
       "96                4.0          0.76                3.24  101.488868   \n",
       "97                NaN           NaN                 NaN         NaN   \n",
       "\n",
       "    Comission (for trading)  Comissions paid  Comissions paid total  \\\n",
       "0                     0,00%         0.000000               0.000000   \n",
       "1                     0,00%         0.000000               0.000000   \n",
       "2                     0,00%         0.000000               0.000000   \n",
       "3                     0,00%         0.000000               0.000000   \n",
       "4                     0,00%         0.000000               0.000000   \n",
       "..                      ...              ...                    ...   \n",
       "93                    5,00%         2.042117               2.042117   \n",
       "94                    5,00%         4.273266               4.273266   \n",
       "95                    5,00%         0.639883               0.639883   \n",
       "96                    5,00%         5.074443               5.074443   \n",
       "97                      NaN              NaN                    NaN   \n",
       "\n",
       "    Cost To Trade total  \n",
       "0             57.298827  \n",
       "1             30.763334  \n",
       "2            292.081489  \n",
       "3              0.880000  \n",
       "4              0.880000  \n",
       "..                  ...  \n",
       "93            40.404460  \n",
       "94            87.258584  \n",
       "95            10.957551  \n",
       "96           104.083311  \n",
       "97                  NaN  \n",
       "\n",
       "[98 rows x 28 columns]"
      ]
     },
     "execution_count": 42,
     "metadata": {},
     "output_type": "execute_result"
    }
   ],
   "source": [
    "#------------------------------------------------------------------------------------------------------------------------------#\n",
    "#                                        Загрузка датафрейма для США                                                                   #\n",
    "#------------------------------------------------------------------------------------------------------------------------------#\n",
    "\n",
    "\n",
    "dataset_US = pd.read_csv(r\"C:\\Users\\peter\\OneDrive\\Документы\\ВКР\\ВКР работа\\Dataset_USA.csv\", delimiter = ';', decimal = ',')\n",
    "dataset_US = pd.DataFrame(dataset_US)\n",
    "dataset_US"
   ]
  },
  {
   "cell_type": "code",
   "execution_count": 43,
   "metadata": {
    "collapsed": true
   },
   "outputs": [
    {
     "data": {
      "text/html": [
       "<div>\n",
       "<style scoped>\n",
       "    .dataframe tbody tr th:only-of-type {\n",
       "        vertical-align: middle;\n",
       "    }\n",
       "\n",
       "    .dataframe tbody tr th {\n",
       "        vertical-align: top;\n",
       "    }\n",
       "\n",
       "    .dataframe thead th {\n",
       "        text-align: right;\n",
       "    }\n",
       "</style>\n",
       "<table border=\"1\" class=\"dataframe\">\n",
       "  <thead>\n",
       "    <tr style=\"text-align: right;\">\n",
       "      <th></th>\n",
       "      <th>Date</th>\n",
       "      <th>Overall Traded volume USA -dollars</th>\n",
       "      <th>PartRate</th>\n",
       "      <th>Retail volumes -dollars</th>\n",
       "      <th>Retail volumes -billion dollars</th>\n",
       "      <th>ln (Retail volumes)</th>\n",
       "      <th>VIX</th>\n",
       "      <th>Unemployment rate</th>\n",
       "      <th>Index Return</th>\n",
       "      <th>Fin Literacy</th>\n",
       "      <th>...</th>\n",
       "      <th>After Capital Gain tax</th>\n",
       "      <th>After Capital Gain tax total</th>\n",
       "      <th>Dividends monthly</th>\n",
       "      <th>Dividend tax</th>\n",
       "      <th>After Dividend tax</th>\n",
       "      <th>Total Gain</th>\n",
       "      <th>Comission (for trading)</th>\n",
       "      <th>Comissions paid</th>\n",
       "      <th>Comissions paid total</th>\n",
       "      <th>Cost To Trade total</th>\n",
       "    </tr>\n",
       "  </thead>\n",
       "  <tbody>\n",
       "    <tr>\n",
       "      <td>0</td>\n",
       "      <td>01.02.2021</td>\n",
       "      <td>1.135068e+13</td>\n",
       "      <td>19,50%</td>\n",
       "      <td>2.213382e+12</td>\n",
       "      <td>2213.38</td>\n",
       "      <td>7.70</td>\n",
       "      <td>30.24</td>\n",
       "      <td>0.06</td>\n",
       "      <td>0.02</td>\n",
       "      <td>1.0</td>\n",
       "      <td>...</td>\n",
       "      <td>56.418827</td>\n",
       "      <td>56.418827</td>\n",
       "      <td>4.0</td>\n",
       "      <td>0.88</td>\n",
       "      <td>3.12</td>\n",
       "      <td>59.538827</td>\n",
       "      <td>0,00%</td>\n",
       "      <td>0.000000</td>\n",
       "      <td>0.000000</td>\n",
       "      <td>57.298827</td>\n",
       "    </tr>\n",
       "    <tr>\n",
       "      <td>1</td>\n",
       "      <td>04.01.2021</td>\n",
       "      <td>1.179530e+13</td>\n",
       "      <td>19,50%</td>\n",
       "      <td>2.300083e+12</td>\n",
       "      <td>2300.08</td>\n",
       "      <td>7.74</td>\n",
       "      <td>26.97</td>\n",
       "      <td>0.06</td>\n",
       "      <td>0.01</td>\n",
       "      <td>1.0</td>\n",
       "      <td>...</td>\n",
       "      <td>29.883334</td>\n",
       "      <td>29.883334</td>\n",
       "      <td>4.0</td>\n",
       "      <td>0.88</td>\n",
       "      <td>3.12</td>\n",
       "      <td>33.003334</td>\n",
       "      <td>0,00%</td>\n",
       "      <td>0.000000</td>\n",
       "      <td>0.000000</td>\n",
       "      <td>30.763334</td>\n",
       "    </tr>\n",
       "    <tr>\n",
       "      <td>2</td>\n",
       "      <td>01.12.2020</td>\n",
       "      <td>1.091668e+13</td>\n",
       "      <td>19,50%</td>\n",
       "      <td>2.128752e+12</td>\n",
       "      <td>2128.75</td>\n",
       "      <td>7.66</td>\n",
       "      <td>20.77</td>\n",
       "      <td>0.07</td>\n",
       "      <td>0.10</td>\n",
       "      <td>1.0</td>\n",
       "      <td>...</td>\n",
       "      <td>291.201489</td>\n",
       "      <td>291.201489</td>\n",
       "      <td>4.0</td>\n",
       "      <td>0.88</td>\n",
       "      <td>3.12</td>\n",
       "      <td>294.321489</td>\n",
       "      <td>0,00%</td>\n",
       "      <td>0.000000</td>\n",
       "      <td>0.000000</td>\n",
       "      <td>292.081489</td>\n",
       "    </tr>\n",
       "    <tr>\n",
       "      <td>3</td>\n",
       "      <td>02.11.2020</td>\n",
       "      <td>1.026411e+13</td>\n",
       "      <td>19,50%</td>\n",
       "      <td>2.001501e+12</td>\n",
       "      <td>2001.50</td>\n",
       "      <td>7.60</td>\n",
       "      <td>37.13</td>\n",
       "      <td>0.07</td>\n",
       "      <td>-0.02</td>\n",
       "      <td>1.0</td>\n",
       "      <td>...</td>\n",
       "      <td>-60.744020</td>\n",
       "      <td>0.000000</td>\n",
       "      <td>4.0</td>\n",
       "      <td>0.88</td>\n",
       "      <td>3.12</td>\n",
       "      <td>-57.624020</td>\n",
       "      <td>0,00%</td>\n",
       "      <td>0.000000</td>\n",
       "      <td>0.000000</td>\n",
       "      <td>0.880000</td>\n",
       "    </tr>\n",
       "    <tr>\n",
       "      <td>4</td>\n",
       "      <td>01.10.2020</td>\n",
       "      <td>9.523329e+12</td>\n",
       "      <td>19,50%</td>\n",
       "      <td>1.857049e+12</td>\n",
       "      <td>1857.05</td>\n",
       "      <td>7.53</td>\n",
       "      <td>26.70</td>\n",
       "      <td>0.07</td>\n",
       "      <td>-0.04</td>\n",
       "      <td>1.0</td>\n",
       "      <td>...</td>\n",
       "      <td>-121.639807</td>\n",
       "      <td>0.000000</td>\n",
       "      <td>4.0</td>\n",
       "      <td>0.88</td>\n",
       "      <td>3.12</td>\n",
       "      <td>-118.519807</td>\n",
       "      <td>0,00%</td>\n",
       "      <td>0.000000</td>\n",
       "      <td>0.000000</td>\n",
       "      <td>0.880000</td>\n",
       "    </tr>\n",
       "    <tr>\n",
       "      <td>...</td>\n",
       "      <td>...</td>\n",
       "      <td>...</td>\n",
       "      <td>...</td>\n",
       "      <td>...</td>\n",
       "      <td>...</td>\n",
       "      <td>...</td>\n",
       "      <td>...</td>\n",
       "      <td>...</td>\n",
       "      <td>...</td>\n",
       "      <td>...</td>\n",
       "      <td>...</td>\n",
       "      <td>...</td>\n",
       "      <td>...</td>\n",
       "      <td>...</td>\n",
       "      <td>...</td>\n",
       "      <td>...</td>\n",
       "      <td>...</td>\n",
       "      <td>...</td>\n",
       "      <td>...</td>\n",
       "      <td>...</td>\n",
       "      <td>...</td>\n",
       "    </tr>\n",
       "    <tr>\n",
       "      <td>92</td>\n",
       "      <td>03.06.2013</td>\n",
       "      <td>5.077340e+12</td>\n",
       "      <td>12,00%</td>\n",
       "      <td>6.092808e+11</td>\n",
       "      <td>609.28</td>\n",
       "      <td>6.41</td>\n",
       "      <td>16.28</td>\n",
       "      <td>0.08</td>\n",
       "      <td>0.04</td>\n",
       "      <td>0.0</td>\n",
       "      <td>...</td>\n",
       "      <td>103.161765</td>\n",
       "      <td>103.161765</td>\n",
       "      <td>4.0</td>\n",
       "      <td>0.76</td>\n",
       "      <td>3.24</td>\n",
       "      <td>106.401765</td>\n",
       "      <td>5,00%</td>\n",
       "      <td>5.320088</td>\n",
       "      <td>5.320088</td>\n",
       "      <td>109.241853</td>\n",
       "    </tr>\n",
       "    <tr>\n",
       "      <td>93</td>\n",
       "      <td>01.05.2013</td>\n",
       "      <td>5.049741e+12</td>\n",
       "      <td>12,00%</td>\n",
       "      <td>6.059689e+11</td>\n",
       "      <td>605.97</td>\n",
       "      <td>6.41</td>\n",
       "      <td>14.49</td>\n",
       "      <td>0.08</td>\n",
       "      <td>0.01</td>\n",
       "      <td>0.0</td>\n",
       "      <td>...</td>\n",
       "      <td>37.602343</td>\n",
       "      <td>37.602343</td>\n",
       "      <td>4.0</td>\n",
       "      <td>0.76</td>\n",
       "      <td>3.24</td>\n",
       "      <td>40.842343</td>\n",
       "      <td>5,00%</td>\n",
       "      <td>2.042117</td>\n",
       "      <td>2.042117</td>\n",
       "      <td>40.404460</td>\n",
       "    </tr>\n",
       "    <tr>\n",
       "      <td>94</td>\n",
       "      <td>01.04.2013</td>\n",
       "      <td>4.980839e+12</td>\n",
       "      <td>12,00%</td>\n",
       "      <td>5.977007e+11</td>\n",
       "      <td>597.70</td>\n",
       "      <td>6.39</td>\n",
       "      <td>13.58</td>\n",
       "      <td>0.08</td>\n",
       "      <td>0.03</td>\n",
       "      <td>0.0</td>\n",
       "      <td>...</td>\n",
       "      <td>82.225318</td>\n",
       "      <td>82.225318</td>\n",
       "      <td>4.0</td>\n",
       "      <td>0.76</td>\n",
       "      <td>3.24</td>\n",
       "      <td>85.465318</td>\n",
       "      <td>5,00%</td>\n",
       "      <td>4.273266</td>\n",
       "      <td>4.273266</td>\n",
       "      <td>87.258584</td>\n",
       "    </tr>\n",
       "    <tr>\n",
       "      <td>95</td>\n",
       "      <td>01.03.2013</td>\n",
       "      <td>4.205203e+12</td>\n",
       "      <td>12,00%</td>\n",
       "      <td>5.046243e+11</td>\n",
       "      <td>504.62</td>\n",
       "      <td>6.22</td>\n",
       "      <td>15.36</td>\n",
       "      <td>0.08</td>\n",
       "      <td>0.00</td>\n",
       "      <td>0.0</td>\n",
       "      <td>...</td>\n",
       "      <td>9.557668</td>\n",
       "      <td>9.557668</td>\n",
       "      <td>4.0</td>\n",
       "      <td>0.76</td>\n",
       "      <td>3.24</td>\n",
       "      <td>12.797668</td>\n",
       "      <td>5,00%</td>\n",
       "      <td>0.639883</td>\n",
       "      <td>0.639883</td>\n",
       "      <td>10.957551</td>\n",
       "    </tr>\n",
       "    <tr>\n",
       "      <td>96</td>\n",
       "      <td>01.02.2013</td>\n",
       "      <td>4.339547e+12</td>\n",
       "      <td>12,00%</td>\n",
       "      <td>5.207456e+11</td>\n",
       "      <td>520.75</td>\n",
       "      <td>6.26</td>\n",
       "      <td>12.90</td>\n",
       "      <td>0.08</td>\n",
       "      <td>0.03</td>\n",
       "      <td>0.0</td>\n",
       "      <td>...</td>\n",
       "      <td>98.248868</td>\n",
       "      <td>98.248868</td>\n",
       "      <td>4.0</td>\n",
       "      <td>0.76</td>\n",
       "      <td>3.24</td>\n",
       "      <td>101.488868</td>\n",
       "      <td>5,00%</td>\n",
       "      <td>5.074443</td>\n",
       "      <td>5.074443</td>\n",
       "      <td>104.083311</td>\n",
       "    </tr>\n",
       "  </tbody>\n",
       "</table>\n",
       "<p>97 rows × 28 columns</p>\n",
       "</div>"
      ],
      "text/plain": [
       "          Date  Overall Traded volume USA -dollars PartRate  \\\n",
       "0   01.02.2021                        1.135068e+13   19,50%   \n",
       "1   04.01.2021                        1.179530e+13   19,50%   \n",
       "2   01.12.2020                        1.091668e+13   19,50%   \n",
       "3   02.11.2020                        1.026411e+13   19,50%   \n",
       "4   01.10.2020                        9.523329e+12   19,50%   \n",
       "..         ...                                 ...      ...   \n",
       "92  03.06.2013                        5.077340e+12   12,00%   \n",
       "93  01.05.2013                        5.049741e+12   12,00%   \n",
       "94  01.04.2013                        4.980839e+12   12,00%   \n",
       "95  01.03.2013                        4.205203e+12   12,00%   \n",
       "96  01.02.2013                        4.339547e+12   12,00%   \n",
       "\n",
       "    Retail volumes -dollars  Retail volumes -billion dollars  \\\n",
       "0              2.213382e+12                          2213.38   \n",
       "1              2.300083e+12                          2300.08   \n",
       "2              2.128752e+12                          2128.75   \n",
       "3              2.001501e+12                          2001.50   \n",
       "4              1.857049e+12                          1857.05   \n",
       "..                      ...                              ...   \n",
       "92             6.092808e+11                           609.28   \n",
       "93             6.059689e+11                           605.97   \n",
       "94             5.977007e+11                           597.70   \n",
       "95             5.046243e+11                           504.62   \n",
       "96             5.207456e+11                           520.75   \n",
       "\n",
       "    ln (Retail volumes)    VIX  Unemployment rate  Index Return  Fin Literacy  \\\n",
       "0                  7.70  30.24               0.06          0.02           1.0   \n",
       "1                  7.74  26.97               0.06          0.01           1.0   \n",
       "2                  7.66  20.77               0.07          0.10           1.0   \n",
       "3                  7.60  37.13               0.07         -0.02           1.0   \n",
       "4                  7.53  26.70               0.07         -0.04           1.0   \n",
       "..                  ...    ...                ...           ...           ...   \n",
       "92                 6.41  16.28               0.08          0.04           0.0   \n",
       "93                 6.41  14.49               0.08          0.01           0.0   \n",
       "94                 6.39  13.58               0.08          0.03           0.0   \n",
       "95                 6.22  15.36               0.08          0.00           0.0   \n",
       "96                 6.26  12.90               0.08          0.03           0.0   \n",
       "\n",
       "    ...  After Capital Gain tax  After Capital Gain tax total  \\\n",
       "0   ...               56.418827                     56.418827   \n",
       "1   ...               29.883334                     29.883334   \n",
       "2   ...              291.201489                    291.201489   \n",
       "3   ...              -60.744020                      0.000000   \n",
       "4   ...             -121.639807                      0.000000   \n",
       "..  ...                     ...                           ...   \n",
       "92  ...              103.161765                    103.161765   \n",
       "93  ...               37.602343                     37.602343   \n",
       "94  ...               82.225318                     82.225318   \n",
       "95  ...                9.557668                      9.557668   \n",
       "96  ...               98.248868                     98.248868   \n",
       "\n",
       "    Dividends monthly  Dividend tax  After Dividend tax  Total Gain  \\\n",
       "0                 4.0          0.88                3.12   59.538827   \n",
       "1                 4.0          0.88                3.12   33.003334   \n",
       "2                 4.0          0.88                3.12  294.321489   \n",
       "3                 4.0          0.88                3.12  -57.624020   \n",
       "4                 4.0          0.88                3.12 -118.519807   \n",
       "..                ...           ...                 ...         ...   \n",
       "92                4.0          0.76                3.24  106.401765   \n",
       "93                4.0          0.76                3.24   40.842343   \n",
       "94                4.0          0.76                3.24   85.465318   \n",
       "95                4.0          0.76                3.24   12.797668   \n",
       "96                4.0          0.76                3.24  101.488868   \n",
       "\n",
       "    Comission (for trading)  Comissions paid  Comissions paid total  \\\n",
       "0                     0,00%         0.000000               0.000000   \n",
       "1                     0,00%         0.000000               0.000000   \n",
       "2                     0,00%         0.000000               0.000000   \n",
       "3                     0,00%         0.000000               0.000000   \n",
       "4                     0,00%         0.000000               0.000000   \n",
       "..                      ...              ...                    ...   \n",
       "92                    5,00%         5.320088               5.320088   \n",
       "93                    5,00%         2.042117               2.042117   \n",
       "94                    5,00%         4.273266               4.273266   \n",
       "95                    5,00%         0.639883               0.639883   \n",
       "96                    5,00%         5.074443               5.074443   \n",
       "\n",
       "    Cost To Trade total  \n",
       "0             57.298827  \n",
       "1             30.763334  \n",
       "2            292.081489  \n",
       "3              0.880000  \n",
       "4              0.880000  \n",
       "..                  ...  \n",
       "92           109.241853  \n",
       "93            40.404460  \n",
       "94            87.258584  \n",
       "95            10.957551  \n",
       "96           104.083311  \n",
       "\n",
       "[97 rows x 28 columns]"
      ]
     },
     "execution_count": 43,
     "metadata": {},
     "output_type": "execute_result"
    }
   ],
   "source": [
    "dataset_US = dataset_US.drop (dataset_US.tail (1) .index)\n",
    "dataset_US"
   ]
  },
  {
   "cell_type": "code",
   "execution_count": 44,
   "metadata": {},
   "outputs": [],
   "source": [
    "#------------------------------------------------------------------------------------------------------------------------------#\n",
    "#                                        Декларирования переменных                                                                 #\n",
    "#------------------------------------------------------------------------------------------------------------------------------#\n",
    "\n",
    "Cost_to_trade = dataset_US[\"Cost To Trade total\"]\n",
    "Fin_lit = dataset_US[\"Fin Literacy\"]\n",
    "Infl = dataset_US[\"Infl\"]\n",
    "Int_rate = dataset_US[\"Int rate\"]\n",
    "Deriv = dataset_US[\"Der Turnover\"]\n",
    "GDP = dataset_US[\"GDP growth\"]\n",
    "Marg_Trade = dataset_US[\"Marginal Trading\"]\n",
    "Return = dataset_US[\"Index Return\"]\n",
    "Unempl = dataset_US[\"Unemployment rate\"]\n",
    "VIX = dataset_US[\"VIX\"]\n",
    "ln_retail_volumes = dataset_US[\"ln (Retail volumes)\"]"
   ]
  },
  {
   "cell_type": "code",
   "execution_count": 45,
   "metadata": {
    "collapsed": true
   },
   "outputs": [
    {
     "data": {
      "text/plain": [
       "0     0     7.70\n",
       "1     7.74\n",
       "2     7.66\n",
       "3     7.60\n",
       "4 ...\n",
       "1     0     0.02\n",
       "1     0.01\n",
       "2     0.10\n",
       "3    -0.02\n",
       "4 ...\n",
       "2     0     0.06\n",
       "1     0.06\n",
       "2     0.07\n",
       "3     0.07\n",
       "4 ...\n",
       "3     0     30.24\n",
       "1     26.97\n",
       "2     20.77\n",
       "3     37.1...\n",
       "4     0     1.0\n",
       "1     1.0\n",
       "2     1.0\n",
       "3     1.0\n",
       "4     ...\n",
       "5     0     0.065\n",
       "1     0.065\n",
       "2     0.043\n",
       "3     0.04...\n",
       "6     0     2894627.0\n",
       "1     2894627.0\n",
       "2     2696624....\n",
       "7     0     0.0043\n",
       "1     0.0055\n",
       "2     0.0009\n",
       "3    -0...\n",
       "8     0     0.0007\n",
       "1     0.0008\n",
       "2     0.0009\n",
       "3     0...\n",
       "9     0     1.0\n",
       "1     1.0\n",
       "2     1.0\n",
       "3     1.0\n",
       "4     ...\n",
       "10    0      57.298827\n",
       "1      30.763334\n",
       "2     292.08...\n",
       "dtype: object"
      ]
     },
     "execution_count": 45,
     "metadata": {},
     "output_type": "execute_result"
    }
   ],
   "source": [
    "#------------------------------------------------------------------------------------------------------------------------------#\n",
    "#                                        Создание датасета для США                                                                   #\n",
    "#------------------------------------------------------------------------------------------------------------------------------#\n",
    "\n",
    "series_1 = pd.Series([ln_retail_volumes, Return, Unempl, VIX, Marg_Trade, GDP, Deriv, Infl, Int_rate, Fin_lit, Cost_to_trade])\n",
    "series_1"
   ]
  },
  {
   "cell_type": "code",
   "execution_count": 46,
   "metadata": {
    "collapsed": true
   },
   "outputs": [
    {
     "data": {
      "text/html": [
       "<div>\n",
       "<style scoped>\n",
       "    .dataframe tbody tr th:only-of-type {\n",
       "        vertical-align: middle;\n",
       "    }\n",
       "\n",
       "    .dataframe tbody tr th {\n",
       "        vertical-align: top;\n",
       "    }\n",
       "\n",
       "    .dataframe thead th {\n",
       "        text-align: right;\n",
       "    }\n",
       "</style>\n",
       "<table border=\"1\" class=\"dataframe\">\n",
       "  <thead>\n",
       "    <tr style=\"text-align: right;\">\n",
       "      <th></th>\n",
       "      <th>ln_retail_volumes</th>\n",
       "      <th>VIX</th>\n",
       "      <th>Cost_to_trade</th>\n",
       "      <th>Unempl</th>\n",
       "      <th>GDP</th>\n",
       "      <th>Fin_lit</th>\n",
       "      <th>Marg_Trade</th>\n",
       "      <th>Return</th>\n",
       "      <th>Infl</th>\n",
       "      <th>Int_rate</th>\n",
       "      <th>Deriv</th>\n",
       "    </tr>\n",
       "  </thead>\n",
       "  <tbody>\n",
       "    <tr>\n",
       "      <td>0</td>\n",
       "      <td>7.70</td>\n",
       "      <td>30.24</td>\n",
       "      <td>57.298827</td>\n",
       "      <td>0.06</td>\n",
       "      <td>0.065</td>\n",
       "      <td>1.0</td>\n",
       "      <td>1.0</td>\n",
       "      <td>0.02</td>\n",
       "      <td>0.0043</td>\n",
       "      <td>0.0007</td>\n",
       "      <td>2894627.0</td>\n",
       "    </tr>\n",
       "    <tr>\n",
       "      <td>1</td>\n",
       "      <td>7.74</td>\n",
       "      <td>26.97</td>\n",
       "      <td>30.763334</td>\n",
       "      <td>0.06</td>\n",
       "      <td>0.065</td>\n",
       "      <td>1.0</td>\n",
       "      <td>1.0</td>\n",
       "      <td>0.01</td>\n",
       "      <td>0.0055</td>\n",
       "      <td>0.0008</td>\n",
       "      <td>2894627.0</td>\n",
       "    </tr>\n",
       "    <tr>\n",
       "      <td>2</td>\n",
       "      <td>7.66</td>\n",
       "      <td>20.77</td>\n",
       "      <td>292.081489</td>\n",
       "      <td>0.07</td>\n",
       "      <td>0.043</td>\n",
       "      <td>1.0</td>\n",
       "      <td>1.0</td>\n",
       "      <td>0.10</td>\n",
       "      <td>0.0009</td>\n",
       "      <td>0.0009</td>\n",
       "      <td>2696624.0</td>\n",
       "    </tr>\n",
       "    <tr>\n",
       "      <td>3</td>\n",
       "      <td>7.60</td>\n",
       "      <td>37.13</td>\n",
       "      <td>0.880000</td>\n",
       "      <td>0.07</td>\n",
       "      <td>0.043</td>\n",
       "      <td>1.0</td>\n",
       "      <td>1.0</td>\n",
       "      <td>-0.02</td>\n",
       "      <td>-0.0006</td>\n",
       "      <td>0.0009</td>\n",
       "      <td>2879377.0</td>\n",
       "    </tr>\n",
       "    <tr>\n",
       "      <td>4</td>\n",
       "      <td>7.53</td>\n",
       "      <td>26.70</td>\n",
       "      <td>0.880000</td>\n",
       "      <td>0.07</td>\n",
       "      <td>0.043</td>\n",
       "      <td>1.0</td>\n",
       "      <td>1.0</td>\n",
       "      <td>-0.04</td>\n",
       "      <td>0.0004</td>\n",
       "      <td>0.0009</td>\n",
       "      <td>2203521.0</td>\n",
       "    </tr>\n",
       "    <tr>\n",
       "      <td>...</td>\n",
       "      <td>...</td>\n",
       "      <td>...</td>\n",
       "      <td>...</td>\n",
       "      <td>...</td>\n",
       "      <td>...</td>\n",
       "      <td>...</td>\n",
       "      <td>...</td>\n",
       "      <td>...</td>\n",
       "      <td>...</td>\n",
       "      <td>...</td>\n",
       "      <td>...</td>\n",
       "    </tr>\n",
       "    <tr>\n",
       "      <td>92</td>\n",
       "      <td>6.41</td>\n",
       "      <td>16.28</td>\n",
       "      <td>109.241853</td>\n",
       "      <td>0.08</td>\n",
       "      <td>0.005</td>\n",
       "      <td>0.0</td>\n",
       "      <td>0.0</td>\n",
       "      <td>0.04</td>\n",
       "      <td>0.0024</td>\n",
       "      <td>0.0009</td>\n",
       "      <td>3082222.0</td>\n",
       "    </tr>\n",
       "    <tr>\n",
       "      <td>93</td>\n",
       "      <td>6.41</td>\n",
       "      <td>14.49</td>\n",
       "      <td>40.404460</td>\n",
       "      <td>0.08</td>\n",
       "      <td>0.005</td>\n",
       "      <td>0.0</td>\n",
       "      <td>0.0</td>\n",
       "      <td>0.01</td>\n",
       "      <td>0.0018</td>\n",
       "      <td>0.0009</td>\n",
       "      <td>2643380.0</td>\n",
       "    </tr>\n",
       "    <tr>\n",
       "      <td>94</td>\n",
       "      <td>6.39</td>\n",
       "      <td>13.58</td>\n",
       "      <td>87.258584</td>\n",
       "      <td>0.08</td>\n",
       "      <td>0.005</td>\n",
       "      <td>0.0</td>\n",
       "      <td>0.0</td>\n",
       "      <td>0.03</td>\n",
       "      <td>-0.0010</td>\n",
       "      <td>0.0011</td>\n",
       "      <td>2568009.0</td>\n",
       "    </tr>\n",
       "    <tr>\n",
       "      <td>95</td>\n",
       "      <td>6.22</td>\n",
       "      <td>15.36</td>\n",
       "      <td>10.957551</td>\n",
       "      <td>0.08</td>\n",
       "      <td>0.036</td>\n",
       "      <td>0.0</td>\n",
       "      <td>0.0</td>\n",
       "      <td>0.00</td>\n",
       "      <td>0.0026</td>\n",
       "      <td>0.0015</td>\n",
       "      <td>3351551.0</td>\n",
       "    </tr>\n",
       "    <tr>\n",
       "      <td>96</td>\n",
       "      <td>6.26</td>\n",
       "      <td>12.90</td>\n",
       "      <td>104.083311</td>\n",
       "      <td>0.08</td>\n",
       "      <td>0.036</td>\n",
       "      <td>0.0</td>\n",
       "      <td>0.0</td>\n",
       "      <td>0.03</td>\n",
       "      <td>0.0082</td>\n",
       "      <td>0.0014</td>\n",
       "      <td>2704619.0</td>\n",
       "    </tr>\n",
       "  </tbody>\n",
       "</table>\n",
       "<p>97 rows × 11 columns</p>\n",
       "</div>"
      ],
      "text/plain": [
       "    ln_retail_volumes    VIX  Cost_to_trade  Unempl    GDP  Fin_lit  \\\n",
       "0                7.70  30.24      57.298827    0.06  0.065      1.0   \n",
       "1                7.74  26.97      30.763334    0.06  0.065      1.0   \n",
       "2                7.66  20.77     292.081489    0.07  0.043      1.0   \n",
       "3                7.60  37.13       0.880000    0.07  0.043      1.0   \n",
       "4                7.53  26.70       0.880000    0.07  0.043      1.0   \n",
       "..                ...    ...            ...     ...    ...      ...   \n",
       "92               6.41  16.28     109.241853    0.08  0.005      0.0   \n",
       "93               6.41  14.49      40.404460    0.08  0.005      0.0   \n",
       "94               6.39  13.58      87.258584    0.08  0.005      0.0   \n",
       "95               6.22  15.36      10.957551    0.08  0.036      0.0   \n",
       "96               6.26  12.90     104.083311    0.08  0.036      0.0   \n",
       "\n",
       "    Marg_Trade  Return    Infl  Int_rate      Deriv  \n",
       "0          1.0    0.02  0.0043    0.0007  2894627.0  \n",
       "1          1.0    0.01  0.0055    0.0008  2894627.0  \n",
       "2          1.0    0.10  0.0009    0.0009  2696624.0  \n",
       "3          1.0   -0.02 -0.0006    0.0009  2879377.0  \n",
       "4          1.0   -0.04  0.0004    0.0009  2203521.0  \n",
       "..         ...     ...     ...       ...        ...  \n",
       "92         0.0    0.04  0.0024    0.0009  3082222.0  \n",
       "93         0.0    0.01  0.0018    0.0009  2643380.0  \n",
       "94         0.0    0.03 -0.0010    0.0011  2568009.0  \n",
       "95         0.0    0.00  0.0026    0.0015  3351551.0  \n",
       "96         0.0    0.03  0.0082    0.0014  2704619.0  \n",
       "\n",
       "[97 rows x 11 columns]"
      ]
     },
     "execution_count": 46,
     "metadata": {},
     "output_type": "execute_result"
    }
   ],
   "source": [
    "frame_1 = {'ln_retail_volumes' : ln_retail_volumes, 'VIX' : VIX, 'Cost_to_trade' : Cost_to_trade, 'Unempl' : Unempl, \n",
    "        'GDP' : GDP, 'Fin_lit' : Fin_lit, 'Marg_Trade' : Marg_Trade, 'Return' : Return, 'Infl' : Infl, 'Int_rate' : Int_rate,\n",
    "         'Deriv' : Deriv}\n",
    "new_data_US = pd.DataFrame(frame_1)\n",
    "new_data_US"
   ]
  },
  {
   "cell_type": "code",
   "execution_count": 48,
   "metadata": {},
   "outputs": [
    {
     "data": {
      "text/plain": [
       "<matplotlib.axes._subplots.AxesSubplot at 0x20bbadcac08>"
      ]
     },
     "execution_count": 48,
     "metadata": {},
     "output_type": "execute_result"
    },
    {
     "data": {
      "image/png": "[encoded data removed]",
      "text/plain": [
       "<Figure size 432x288 with 1 Axes>"
      ]
     },
     "metadata": {
      "needs_background": "light"
     },
     "output_type": "display_data"
    }
   ],
   "source": [
    "#------------------------------------------------------------------------------------------------------------------------------#\n",
    "#                                        Построение гистограмм для переменных                                                               #\n",
    "#------------------------------------------------------------------------------------------------------------------------------#\n",
    "\n",
    "\n",
    "new_data_US['ln_retail_volumes'].hist(bins=100)"
   ]
  },
  {
   "cell_type": "code",
   "execution_count": 49,
   "metadata": {},
   "outputs": [
    {
     "data": {
      "text/plain": [
       "<matplotlib.axes._subplots.AxesSubplot at 0x20bbaf3f288>"
      ]
     },
     "execution_count": 49,
     "metadata": {},
     "output_type": "execute_result"
    },
    {
     "data": {
      "image/png": "[encoded data removed]",
      "text/plain": [
       "<Figure size 432x288 with 1 Axes>"
      ]
     },
     "metadata": {
      "needs_background": "light"
     },
     "output_type": "display_data"
    }
   ],
   "source": [
    "new_data_US['VIX'].hist(bins=100)"
   ]
  },
  {
   "cell_type": "code",
   "execution_count": 50,
   "metadata": {
    "collapsed": true
   },
   "outputs": [
    {
     "data": {
      "text/plain": [
       "0     3.409166\n",
       "1     3.294725\n",
       "2     3.033510\n",
       "3     3.614425\n",
       "4     3.284664\n",
       "        ...   \n",
       "92    2.789937\n",
       "93    2.673459\n",
       "94    2.608598\n",
       "95    2.731767\n",
       "96    2.557227\n",
       "Name: VIX, Length: 97, dtype: float64"
      ]
     },
     "execution_count": 50,
     "metadata": {},
     "output_type": "execute_result"
    }
   ],
   "source": [
    "ln_VIX = np.log(VIX)"
   ]
  },
  {
   "cell_type": "code",
   "execution_count": 51,
   "metadata": {},
   "outputs": [
    {
     "data": {
      "text/plain": [
       "<matplotlib.axes._subplots.AxesSubplot at 0x20bbb051448>"
      ]
     },
     "execution_count": 51,
     "metadata": {},
     "output_type": "execute_result"
    },
    {
     "data": {
      "image/png": "[encoded data removed]",
      "text/plain": [
       "<Figure size 432x288 with 1 Axes>"
      ]
     },
     "metadata": {
      "needs_background": "light"
     },
     "output_type": "display_data"
    }
   ],
   "source": [
    "new_data_US['Cost_to_trade'].hist(bins=100)"
   ]
  },
  {
   "cell_type": "code",
   "execution_count": 52,
   "metadata": {
    "collapsed": true
   },
   "outputs": [
    {
     "data": {
      "text/plain": [
       "0     4.048280\n",
       "1     3.426324\n",
       "2     5.677033\n",
       "3    -0.127833\n",
       "4    -0.127833\n",
       "        ...   \n",
       "92    4.693564\n",
       "93    3.698940\n",
       "94    4.468876\n",
       "95    2.394029\n",
       "96    4.645192\n",
       "Name: Cost To Trade total, Length: 97, dtype: float64"
      ]
     },
     "execution_count": 52,
     "metadata": {},
     "output_type": "execute_result"
    }
   ],
   "source": [
    "ln_Cost_to_trade = np.log(Cost_to_trade)"
   ]
  },
  {
   "cell_type": "code",
   "execution_count": 53,
   "metadata": {},
   "outputs": [
    {
     "data": {
      "text/plain": [
       "<matplotlib.axes._subplots.AxesSubplot at 0x20bbad89588>"
      ]
     },
     "execution_count": 53,
     "metadata": {},
     "output_type": "execute_result"
    },
    {
     "data": {
      "image/png": "[encoded data removed]",
      "text/plain": [
       "<Figure size 432x288 with 1 Axes>"
      ]
     },
     "metadata": {
      "needs_background": "light"
     },
     "output_type": "display_data"
    }
   ],
   "source": [
    "new_data_US['Deriv'].hist(bins=100)"
   ]
  },
  {
   "cell_type": "code",
   "execution_count": 54,
   "metadata": {
    "collapsed": true
   },
   "outputs": [
    {
     "data": {
      "text/plain": [
       "0     14.878367\n",
       "1     14.878367\n",
       "2     14.807511\n",
       "3     14.873085\n",
       "4     14.605567\n",
       "        ...    \n",
       "92    14.941161\n",
       "93    14.787569\n",
       "94    14.758641\n",
       "95    15.024934\n",
       "96    14.810472\n",
       "Name: Der Turnover, Length: 97, dtype: float64"
      ]
     },
     "execution_count": 54,
     "metadata": {},
     "output_type": "execute_result"
    }
   ],
   "source": [
    "ln_Deriv = np.log(Deriv)"
   ]
  },
  {
   "cell_type": "code",
   "execution_count": 55,
   "metadata": {},
   "outputs": [
    {
     "data": {
      "text/html": [
       "<div>\n",
       "<style scoped>\n",
       "    .dataframe tbody tr th:only-of-type {\n",
       "        vertical-align: middle;\n",
       "    }\n",
       "\n",
       "    .dataframe tbody tr th {\n",
       "        vertical-align: top;\n",
       "    }\n",
       "\n",
       "    .dataframe thead th {\n",
       "        text-align: right;\n",
       "    }\n",
       "</style>\n",
       "<table border=\"1\" class=\"dataframe\">\n",
       "  <thead>\n",
       "    <tr style=\"text-align: right;\">\n",
       "      <th></th>\n",
       "      <th>ln_retail_volumes</th>\n",
       "      <th>VIX</th>\n",
       "      <th>Cost_to_trade</th>\n",
       "      <th>Unempl</th>\n",
       "      <th>GDP</th>\n",
       "      <th>Fin_lit</th>\n",
       "      <th>Marg_Trade</th>\n",
       "      <th>Return</th>\n",
       "      <th>Infl</th>\n",
       "      <th>Int_rate</th>\n",
       "      <th>Deriv</th>\n",
       "      <th>ln_Deriv</th>\n",
       "      <th>ln_Cost_to_trade</th>\n",
       "      <th>ln_VIX</th>\n",
       "    </tr>\n",
       "  </thead>\n",
       "  <tbody>\n",
       "    <tr>\n",
       "      <td>0</td>\n",
       "      <td>7.70</td>\n",
       "      <td>30.24</td>\n",
       "      <td>57.298827</td>\n",
       "      <td>0.06</td>\n",
       "      <td>0.065</td>\n",
       "      <td>1.0</td>\n",
       "      <td>1.0</td>\n",
       "      <td>0.02</td>\n",
       "      <td>0.0043</td>\n",
       "      <td>0.0007</td>\n",
       "      <td>2894627.0</td>\n",
       "      <td>14.878367</td>\n",
       "      <td>4.048280</td>\n",
       "      <td>3.409166</td>\n",
       "    </tr>\n",
       "    <tr>\n",
       "      <td>1</td>\n",
       "      <td>7.74</td>\n",
       "      <td>26.97</td>\n",
       "      <td>30.763334</td>\n",
       "      <td>0.06</td>\n",
       "      <td>0.065</td>\n",
       "      <td>1.0</td>\n",
       "      <td>1.0</td>\n",
       "      <td>0.01</td>\n",
       "      <td>0.0055</td>\n",
       "      <td>0.0008</td>\n",
       "      <td>2894627.0</td>\n",
       "      <td>14.878367</td>\n",
       "      <td>3.426324</td>\n",
       "      <td>3.294725</td>\n",
       "    </tr>\n",
       "    <tr>\n",
       "      <td>2</td>\n",
       "      <td>7.66</td>\n",
       "      <td>20.77</td>\n",
       "      <td>292.081489</td>\n",
       "      <td>0.07</td>\n",
       "      <td>0.043</td>\n",
       "      <td>1.0</td>\n",
       "      <td>1.0</td>\n",
       "      <td>0.10</td>\n",
       "      <td>0.0009</td>\n",
       "      <td>0.0009</td>\n",
       "      <td>2696624.0</td>\n",
       "      <td>14.807511</td>\n",
       "      <td>5.677033</td>\n",
       "      <td>3.033510</td>\n",
       "    </tr>\n",
       "    <tr>\n",
       "      <td>3</td>\n",
       "      <td>7.60</td>\n",
       "      <td>37.13</td>\n",
       "      <td>0.880000</td>\n",
       "      <td>0.07</td>\n",
       "      <td>0.043</td>\n",
       "      <td>1.0</td>\n",
       "      <td>1.0</td>\n",
       "      <td>-0.02</td>\n",
       "      <td>-0.0006</td>\n",
       "      <td>0.0009</td>\n",
       "      <td>2879377.0</td>\n",
       "      <td>14.873085</td>\n",
       "      <td>-0.127833</td>\n",
       "      <td>3.614425</td>\n",
       "    </tr>\n",
       "    <tr>\n",
       "      <td>4</td>\n",
       "      <td>7.53</td>\n",
       "      <td>26.70</td>\n",
       "      <td>0.880000</td>\n",
       "      <td>0.07</td>\n",
       "      <td>0.043</td>\n",
       "      <td>1.0</td>\n",
       "      <td>1.0</td>\n",
       "      <td>-0.04</td>\n",
       "      <td>0.0004</td>\n",
       "      <td>0.0009</td>\n",
       "      <td>2203521.0</td>\n",
       "      <td>14.605567</td>\n",
       "      <td>-0.127833</td>\n",
       "      <td>3.284664</td>\n",
       "    </tr>\n",
       "    <tr>\n",
       "      <td>...</td>\n",
       "      <td>...</td>\n",
       "      <td>...</td>\n",
       "      <td>...</td>\n",
       "      <td>...</td>\n",
       "      <td>...</td>\n",
       "      <td>...</td>\n",
       "      <td>...</td>\n",
       "      <td>...</td>\n",
       "      <td>...</td>\n",
       "      <td>...</td>\n",
       "      <td>...</td>\n",
       "      <td>...</td>\n",
       "      <td>...</td>\n",
       "      <td>...</td>\n",
       "    </tr>\n",
       "    <tr>\n",
       "      <td>92</td>\n",
       "      <td>6.41</td>\n",
       "      <td>16.28</td>\n",
       "      <td>109.241853</td>\n",
       "      <td>0.08</td>\n",
       "      <td>0.005</td>\n",
       "      <td>0.0</td>\n",
       "      <td>0.0</td>\n",
       "      <td>0.04</td>\n",
       "      <td>0.0024</td>\n",
       "      <td>0.0009</td>\n",
       "      <td>3082222.0</td>\n",
       "      <td>14.941161</td>\n",
       "      <td>4.693564</td>\n",
       "      <td>2.789937</td>\n",
       "    </tr>\n",
       "    <tr>\n",
       "      <td>93</td>\n",
       "      <td>6.41</td>\n",
       "      <td>14.49</td>\n",
       "      <td>40.404460</td>\n",
       "      <td>0.08</td>\n",
       "      <td>0.005</td>\n",
       "      <td>0.0</td>\n",
       "      <td>0.0</td>\n",
       "      <td>0.01</td>\n",
       "      <td>0.0018</td>\n",
       "      <td>0.0009</td>\n",
       "      <td>2643380.0</td>\n",
       "      <td>14.787569</td>\n",
       "      <td>3.698940</td>\n",
       "      <td>2.673459</td>\n",
       "    </tr>\n",
       "    <tr>\n",
       "      <td>94</td>\n",
       "      <td>6.39</td>\n",
       "      <td>13.58</td>\n",
       "      <td>87.258584</td>\n",
       "      <td>0.08</td>\n",
       "      <td>0.005</td>\n",
       "      <td>0.0</td>\n",
       "      <td>0.0</td>\n",
       "      <td>0.03</td>\n",
       "      <td>-0.0010</td>\n",
       "      <td>0.0011</td>\n",
       "      <td>2568009.0</td>\n",
       "      <td>14.758641</td>\n",
       "      <td>4.468876</td>\n",
       "      <td>2.608598</td>\n",
       "    </tr>\n",
       "    <tr>\n",
       "      <td>95</td>\n",
       "      <td>6.22</td>\n",
       "      <td>15.36</td>\n",
       "      <td>10.957551</td>\n",
       "      <td>0.08</td>\n",
       "      <td>0.036</td>\n",
       "      <td>0.0</td>\n",
       "      <td>0.0</td>\n",
       "      <td>0.00</td>\n",
       "      <td>0.0026</td>\n",
       "      <td>0.0015</td>\n",
       "      <td>3351551.0</td>\n",
       "      <td>15.024934</td>\n",
       "      <td>2.394029</td>\n",
       "      <td>2.731767</td>\n",
       "    </tr>\n",
       "    <tr>\n",
       "      <td>96</td>\n",
       "      <td>6.26</td>\n",
       "      <td>12.90</td>\n",
       "      <td>104.083311</td>\n",
       "      <td>0.08</td>\n",
       "      <td>0.036</td>\n",
       "      <td>0.0</td>\n",
       "      <td>0.0</td>\n",
       "      <td>0.03</td>\n",
       "      <td>0.0082</td>\n",
       "      <td>0.0014</td>\n",
       "      <td>2704619.0</td>\n",
       "      <td>14.810472</td>\n",
       "      <td>4.645192</td>\n",
       "      <td>2.557227</td>\n",
       "    </tr>\n",
       "  </tbody>\n",
       "</table>\n",
       "<p>97 rows × 14 columns</p>\n",
       "</div>"
      ],
      "text/plain": [
       "    ln_retail_volumes    VIX  Cost_to_trade  Unempl    GDP  Fin_lit  \\\n",
       "0                7.70  30.24      57.298827    0.06  0.065      1.0   \n",
       "1                7.74  26.97      30.763334    0.06  0.065      1.0   \n",
       "2                7.66  20.77     292.081489    0.07  0.043      1.0   \n",
       "3                7.60  37.13       0.880000    0.07  0.043      1.0   \n",
       "4                7.53  26.70       0.880000    0.07  0.043      1.0   \n",
       "..                ...    ...            ...     ...    ...      ...   \n",
       "92               6.41  16.28     109.241853    0.08  0.005      0.0   \n",
       "93               6.41  14.49      40.404460    0.08  0.005      0.0   \n",
       "94               6.39  13.58      87.258584    0.08  0.005      0.0   \n",
       "95               6.22  15.36      10.957551    0.08  0.036      0.0   \n",
       "96               6.26  12.90     104.083311    0.08  0.036      0.0   \n",
       "\n",
       "    Marg_Trade  Return    Infl  Int_rate      Deriv   ln_Deriv  \\\n",
       "0          1.0    0.02  0.0043    0.0007  2894627.0  14.878367   \n",
       "1          1.0    0.01  0.0055    0.0008  2894627.0  14.878367   \n",
       "2          1.0    0.10  0.0009    0.0009  2696624.0  14.807511   \n",
       "3          1.0   -0.02 -0.0006    0.0009  2879377.0  14.873085   \n",
       "4          1.0   -0.04  0.0004    0.0009  2203521.0  14.605567   \n",
       "..         ...     ...     ...       ...        ...        ...   \n",
       "92         0.0    0.04  0.0024    0.0009  3082222.0  14.941161   \n",
       "93         0.0    0.01  0.0018    0.0009  2643380.0  14.787569   \n",
       "94         0.0    0.03 -0.0010    0.0011  2568009.0  14.758641   \n",
       "95         0.0    0.00  0.0026    0.0015  3351551.0  15.024934   \n",
       "96         0.0    0.03  0.0082    0.0014  2704619.0  14.810472   \n",
       "\n",
       "    ln_Cost_to_trade    ln_VIX  \n",
       "0           4.048280  3.409166  \n",
       "1           3.426324  3.294725  \n",
       "2           5.677033  3.033510  \n",
       "3          -0.127833  3.614425  \n",
       "4          -0.127833  3.284664  \n",
       "..               ...       ...  \n",
       "92          4.693564  2.789937  \n",
       "93          3.698940  2.673459  \n",
       "94          4.468876  2.608598  \n",
       "95          2.394029  2.731767  \n",
       "96          4.645192  2.557227  \n",
       "\n",
       "[97 rows x 14 columns]"
      ]
     },
     "execution_count": 55,
     "metadata": {},
     "output_type": "execute_result"
    }
   ],
   "source": [
    "#------------------------------------------------------------------------------------------------------------------------------#\n",
    "#                                        Датасет для США с логарифмическими преобразованиями                                                                 #\n",
    "#------------------------------------------------------------------------------------------------------------------------------#\n",
    "\n",
    "\n",
    "new_data_US['ln_Deriv'] = ln_Deriv\n",
    "new_data_US['ln_Cost_to_trade'] = ln_Cost_to_trade\n",
    "new_data_US['ln_VIX'] = ln_VIX\n",
    "new_data_US"
   ]
  },
  {
   "cell_type": "code",
   "execution_count": 56,
   "metadata": {},
   "outputs": [
    {
     "data": {
      "text/plain": [
       "<matplotlib.axes._subplots.AxesSubplot at 0x20bbb2fab08>"
      ]
     },
     "execution_count": 56,
     "metadata": {},
     "output_type": "execute_result"
    },
    {
     "data": {
      "image/png": "[encoded data removed]",
      "text/plain": [
       "<Figure size 432x288 with 1 Axes>"
      ]
     },
     "metadata": {
      "needs_background": "light"
     },
     "output_type": "display_data"
    }
   ],
   "source": [
    "new_data_US['ln_VIX'].hist(bins=100)"
   ]
  },
  {
   "cell_type": "code",
   "execution_count": 57,
   "metadata": {},
   "outputs": [
    {
     "data": {
      "text/plain": [
       "<matplotlib.axes._subplots.AxesSubplot at 0x20bbb482908>"
      ]
     },
     "execution_count": 57,
     "metadata": {},
     "output_type": "execute_result"
    },
    {
     "data": {
      "image/png": "[encoded data removed]",
      "text/plain": [
       "<Figure size 432x288 with 1 Axes>"
      ]
     },
     "metadata": {
      "needs_background": "light"
     },
     "output_type": "display_data"
    }
   ],
   "source": [
    "new_data_US['ln_Cost_to_trade'].hist(bins=100)"
   ]
  },
  {
   "cell_type": "code",
   "execution_count": 58,
   "metadata": {},
   "outputs": [
    {
     "data": {
      "text/plain": [
       "<matplotlib.axes._subplots.AxesSubplot at 0x20bbb5f0708>"
      ]
     },
     "execution_count": 58,
     "metadata": {},
     "output_type": "execute_result"
    },
    {
     "data": {
      "image/png": "[encoded data removed]",
      "text/plain": [
       "<Figure size 432x288 with 1 Axes>"
      ]
     },
     "metadata": {
      "needs_background": "light"
     },
     "output_type": "display_data"
    }
   ],
   "source": [
    "new_data_US['ln_Deriv'].hist(bins=100)"
   ]
  },
  {
   "cell_type": "code",
   "execution_count": 59,
   "metadata": {},
   "outputs": [
    {
     "data": {
      "image/png": "[encoded data removed]",
      "text/plain": [
       "<Figure size 432x288 with 1 Axes>"
      ]
     },
     "metadata": {
      "needs_background": "light"
     },
     "output_type": "display_data"
    }
   ],
   "source": [
    "#------------------------------------------------------------------------------------------------------------------------------#\n",
    "#                                        Визуальный анализ распределения переменных                                                                   #\n",
    "#------------------------------------------------------------------------------------------------------------------------------#\n",
    "\n",
    "\n",
    "sns_plot = sns.distplot(new_data_US['ln_VIX'])\n",
    "fig = sns_plot.get_figure()"
   ]
  },
  {
   "cell_type": "code",
   "execution_count": 60,
   "metadata": {},
   "outputs": [
    {
     "data": {
      "image/png": "[encoded data removed]",
      "text/plain": [
       "<Figure size 432x288 with 1 Axes>"
      ]
     },
     "metadata": {
      "needs_background": "light"
     },
     "output_type": "display_data"
    }
   ],
   "source": [
    "sns_plot = sns.distplot(new_data_US['VIX'])\n",
    "fig = sns_plot.get_figure()"
   ]
  },
  {
   "cell_type": "code",
   "execution_count": 61,
   "metadata": {
    "scrolled": false
   },
   "outputs": [
    {
     "data": {
      "image/png": "[encoded data removed]",
      "text/plain": [
       "<Figure size 432x288 with 1 Axes>"
      ]
     },
     "metadata": {
      "needs_background": "light"
     },
     "output_type": "display_data"
    }
   ],
   "source": [
    "sns_plot = sns.distplot(new_data_US['ln_Deriv'])\n",
    "fig = sns_plot.get_figure()"
   ]
  },
  {
   "cell_type": "code",
   "execution_count": 62,
   "metadata": {},
   "outputs": [
    {
     "data": {
      "image/png": "[encoded data removed]",
      "text/plain": [
       "<Figure size 432x288 with 1 Axes>"
      ]
     },
     "metadata": {
      "needs_background": "light"
     },
     "output_type": "display_data"
    }
   ],
   "source": [
    "sns_plot = sns.distplot(new_data_US['Deriv'])\n",
    "fig = sns_plot.get_figure()"
   ]
  },
  {
   "cell_type": "code",
   "execution_count": 63,
   "metadata": {},
   "outputs": [
    {
     "data": {
      "image/png": "[encoded data removed]",
      "text/plain": [
       "<Figure size 432x288 with 1 Axes>"
      ]
     },
     "metadata": {
      "needs_background": "light"
     },
     "output_type": "display_data"
    }
   ],
   "source": [
    "sns_plot = sns.distplot(new_data_US['ln_Cost_to_trade'])\n",
    "fig = sns_plot.get_figure()"
   ]
  },
  {
   "cell_type": "code",
   "execution_count": 64,
   "metadata": {},
   "outputs": [
    {
     "data": {
      "image/png": "[encoded data removed]",
      "text/plain": [
       "<Figure size 432x288 with 1 Axes>"
      ]
     },
     "metadata": {
      "needs_background": "light"
     },
     "output_type": "display_data"
    }
   ],
   "source": [
    "sns_plot = sns.distplot(new_data_US['Cost_to_trade'])\n",
    "fig = sns_plot.get_figure()"
   ]
  },
  {
   "cell_type": "code",
   "execution_count": 65,
   "metadata": {},
   "outputs": [
    {
     "data": {
      "text/plain": [
       "<matplotlib.axes._subplots.AxesSubplot at 0x20bbca9afc8>"
      ]
     },
     "execution_count": 65,
     "metadata": {},
     "output_type": "execute_result"
    },
    {
     "data": {
      "image/png": "[encoded data removed]",
      "text/plain": [
       "<Figure size 432x288 with 1 Axes>"
      ]
     },
     "metadata": {
      "needs_background": "light"
     },
     "output_type": "display_data"
    }
   ],
   "source": [
    "#------------------------------------------------------------------------------------------------------------------------------#\n",
    "#                                        Выявление выбросов                                                                    #\n",
    "#------------------------------------------------------------------------------------------------------------------------------#\n",
    "\n",
    "\n",
    "new_data_US.boxplot(column=['ln_retail_volumes'])"
   ]
  },
  {
   "cell_type": "code",
   "execution_count": 429,
   "metadata": {},
   "outputs": [
    {
     "data": {
      "text/plain": [
       "<matplotlib.axes._subplots.AxesSubplot at 0x20bbce3bd48>"
      ]
     },
     "execution_count": 429,
     "metadata": {},
     "output_type": "execute_result"
    },
    {
     "data": {
      "image/png": "[encoded data removed]",
      "text/plain": [
       "<Figure size 432x288 with 1 Axes>"
      ]
     },
     "metadata": {
      "needs_background": "light"
     },
     "output_type": "display_data"
    }
   ],
   "source": [
    "new_data_US.boxplot(column=['VIX'])"
   ]
  },
  {
   "cell_type": "code",
   "execution_count": 430,
   "metadata": {},
   "outputs": [
    {
     "data": {
      "text/plain": [
       "<matplotlib.axes._subplots.AxesSubplot at 0x20bbce02d48>"
      ]
     },
     "execution_count": 430,
     "metadata": {},
     "output_type": "execute_result"
    },
    {
     "data": {
      "image/png": "[encoded data removed]",
      "text/plain": [
       "<Figure size 432x288 with 1 Axes>"
      ]
     },
     "metadata": {
      "needs_background": "light"
     },
     "output_type": "display_data"
    }
   ],
   "source": [
    "new_data_US.boxplot(column=['Deriv'])"
   ]
  },
  {
   "cell_type": "code",
   "execution_count": 431,
   "metadata": {},
   "outputs": [
    {
     "data": {
      "text/plain": [
       "<matplotlib.axes._subplots.AxesSubplot at 0x20bbd046b48>"
      ]
     },
     "execution_count": 431,
     "metadata": {},
     "output_type": "execute_result"
    },
    {
     "data": {
      "image/png": "[encoded data removed]",
      "text/plain": [
       "<Figure size 432x288 with 1 Axes>"
      ]
     },
     "metadata": {
      "needs_background": "light"
     },
     "output_type": "display_data"
    }
   ],
   "source": [
    "new_data_US.boxplot(column=['Cost_to_trade'])"
   ]
  },
  {
   "cell_type": "code",
   "execution_count": 69,
   "metadata": {},
   "outputs": [
    {
     "data": {
      "text/plain": [
       "<matplotlib.axes._subplots.AxesSubplot at 0x20bbc887c48>"
      ]
     },
     "execution_count": 69,
     "metadata": {},
     "output_type": "execute_result"
    },
    {
     "data": {
      "image/png": "[encoded data removed]",
      "text/plain": [
       "<Figure size 432x288 with 1 Axes>"
      ]
     },
     "metadata": {
      "needs_background": "light"
     },
     "output_type": "display_data"
    }
   ],
   "source": [
    "new_data_US.boxplot(column=['GDP'])"
   ]
  },
  {
   "cell_type": "code",
   "execution_count": 70,
   "metadata": {},
   "outputs": [
    {
     "data": {
      "text/plain": [
       "<matplotlib.axes._subplots.AxesSubplot at 0x20bbc7f4f88>"
      ]
     },
     "execution_count": 70,
     "metadata": {},
     "output_type": "execute_result"
    },
    {
     "data": {
      "image/png": "[encoded data removed]",
      "text/plain": [
       "<Figure size 432x288 with 1 Axes>"
      ]
     },
     "metadata": {
      "needs_background": "light"
     },
     "output_type": "display_data"
    }
   ],
   "source": [
    "new_data_US.boxplot(column=['Return'])"
   ]
  },
  {
   "cell_type": "code",
   "execution_count": 71,
   "metadata": {},
   "outputs": [
    {
     "data": {
      "text/plain": [
       "<matplotlib.axes._subplots.AxesSubplot at 0x20bbc90db08>"
      ]
     },
     "execution_count": 71,
     "metadata": {},
     "output_type": "execute_result"
    },
    {
     "data": {
      "image/png": "[encoded data removed]",
      "text/plain": [
       "<Figure size 432x288 with 1 Axes>"
      ]
     },
     "metadata": {
      "needs_background": "light"
     },
     "output_type": "display_data"
    }
   ],
   "source": [
    "new_data_US.boxplot(column=['Infl'])"
   ]
  },
  {
   "cell_type": "code",
   "execution_count": 72,
   "metadata": {},
   "outputs": [
    {
     "data": {
      "text/plain": [
       "<matplotlib.axes._subplots.AxesSubplot at 0x20bbc8780c8>"
      ]
     },
     "execution_count": 72,
     "metadata": {},
     "output_type": "execute_result"
    },
    {
     "data": {
      "image/png": "[encoded data removed]",
      "text/plain": [
       "<Figure size 432x288 with 1 Axes>"
      ]
     },
     "metadata": {
      "needs_background": "light"
     },
     "output_type": "display_data"
    }
   ],
   "source": [
    "new_data_US.boxplot(column=['Int_rate'])"
   ]
  },
  {
   "cell_type": "code",
   "execution_count": 73,
   "metadata": {
    "scrolled": false
   },
   "outputs": [
    {
     "data": {
      "text/plain": [
       "<matplotlib.axes._subplots.AxesSubplot at 0x20bbb7ac7c8>"
      ]
     },
     "execution_count": 73,
     "metadata": {},
     "output_type": "execute_result"
    },
    {
     "data": {
      "image/png": "[encoded data removed]",
      "text/plain": [
       "<Figure size 432x288 with 1 Axes>"
      ]
     },
     "metadata": {
      "needs_background": "light"
     },
     "output_type": "display_data"
    }
   ],
   "source": [
    "new_data_US.boxplot(column=['Unempl'])"
   ]
  },
  {
   "cell_type": "code",
   "execution_count": 411,
   "metadata": {
    "scrolled": false
   },
   "outputs": [
    {
     "name": "stderr",
     "output_type": "stream",
     "text": [
      "C:\\Users\\peter\\Anaconda3\\lib\\site-packages\\numpy\\core\\fromnumeric.py:2389: FutureWarning: Method .ptp is deprecated and will be removed in a future version. Use numpy.ptp instead.\n",
      "  return ptp(axis=axis, out=out, **kwargs)\n"
     ]
    },
    {
     "data": {
      "text/html": [
       "<table class=\"simpletable\">\n",
       "<caption>OLS Regression Results</caption>\n",
       "<tr>\n",
       "  <th>Dep. Variable:</th>    <td>ln_retail_volumes</td> <th>  R-squared:         </th> <td>   0.787</td>\n",
       "</tr>\n",
       "<tr>\n",
       "  <th>Model:</th>                   <td>OLS</td>        <th>  Adj. R-squared:    </th> <td>   0.762</td>\n",
       "</tr>\n",
       "<tr>\n",
       "  <th>Method:</th>             <td>Least Squares</td>   <th>  F-statistic:       </th> <td>   31.82</td>\n",
       "</tr>\n",
       "<tr>\n",
       "  <th>Date:</th>             <td>Wed, 28 Apr 2021</td>  <th>  Prob (F-statistic):</th> <td>8.84e-25</td>\n",
       "</tr>\n",
       "<tr>\n",
       "  <th>Time:</th>                 <td>18:05:52</td>      <th>  Log-Likelihood:    </th> <td>  36.019</td>\n",
       "</tr>\n",
       "<tr>\n",
       "  <th>No. Observations:</th>      <td>    97</td>       <th>  AIC:               </th> <td>  -50.04</td>\n",
       "</tr>\n",
       "<tr>\n",
       "  <th>Df Residuals:</th>          <td>    86</td>       <th>  BIC:               </th> <td>  -21.72</td>\n",
       "</tr>\n",
       "<tr>\n",
       "  <th>Df Model:</th>              <td>    10</td>       <th>                     </th>     <td> </td>   \n",
       "</tr>\n",
       "<tr>\n",
       "  <th>Covariance Type:</th>      <td>nonrobust</td>     <th>                     </th>     <td> </td>   \n",
       "</tr>\n",
       "</table>\n",
       "<table class=\"simpletable\">\n",
       "<tr>\n",
       "        <td></td>           <th>coef</th>     <th>std err</th>      <th>t</th>      <th>P>|t|</th>  <th>[0.025</th>    <th>0.975]</th>  \n",
       "</tr>\n",
       "<tr>\n",
       "  <th>const</th>         <td>    6.1223</td> <td>    0.149</td> <td>   41.106</td> <td> 0.000</td> <td>    5.826</td> <td>    6.418</td>\n",
       "</tr>\n",
       "<tr>\n",
       "  <th>VIX</th>           <td>    0.0359</td> <td>    0.005</td> <td>    6.592</td> <td> 0.000</td> <td>    0.025</td> <td>    0.047</td>\n",
       "</tr>\n",
       "<tr>\n",
       "  <th>Cost_to_trade</th> <td>   -0.0007</td> <td>    0.001</td> <td>   -1.308</td> <td> 0.194</td> <td>   -0.002</td> <td>    0.000</td>\n",
       "</tr>\n",
       "<tr>\n",
       "  <th>GDP</th>           <td>    0.0231</td> <td>    0.257</td> <td>    0.090</td> <td> 0.929</td> <td>   -0.487</td> <td>    0.533</td>\n",
       "</tr>\n",
       "<tr>\n",
       "  <th>Fin_lit</th>       <td>    0.4089</td> <td>    0.067</td> <td>    6.061</td> <td> 0.000</td> <td>    0.275</td> <td>    0.543</td>\n",
       "</tr>\n",
       "<tr>\n",
       "  <th>Marg_Trade</th>    <td>    0.3048</td> <td>    0.100</td> <td>    3.043</td> <td> 0.003</td> <td>    0.106</td> <td>    0.504</td>\n",
       "</tr>\n",
       "<tr>\n",
       "  <th>Return</th>        <td>    3.0021</td> <td>    1.006</td> <td>    2.984</td> <td> 0.004</td> <td>    1.002</td> <td>    5.002</td>\n",
       "</tr>\n",
       "<tr>\n",
       "  <th>Infl</th>          <td>    1.7421</td> <td>    6.971</td> <td>    0.250</td> <td> 0.803</td> <td>  -12.117</td> <td>   15.601</td>\n",
       "</tr>\n",
       "<tr>\n",
       "  <th>Int_rate</th>      <td>    4.7390</td> <td>    3.488</td> <td>    1.359</td> <td> 0.178</td> <td>   -2.194</td> <td>   11.672</td>\n",
       "</tr>\n",
       "<tr>\n",
       "  <th>Deriv</th>         <td>-3.055e-08</td> <td> 1.21e-08</td> <td>   -2.523</td> <td> 0.013</td> <td>-5.46e-08</td> <td>-6.48e-09</td>\n",
       "</tr>\n",
       "<tr>\n",
       "  <th>Unempl</th>        <td>   -1.7133</td> <td>    1.988</td> <td>   -0.862</td> <td> 0.391</td> <td>   -5.665</td> <td>    2.239</td>\n",
       "</tr>\n",
       "</table>\n",
       "<table class=\"simpletable\">\n",
       "<tr>\n",
       "  <th>Omnibus:</th>       <td>13.081</td> <th>  Durbin-Watson:     </th> <td>   1.389</td>\n",
       "</tr>\n",
       "<tr>\n",
       "  <th>Prob(Omnibus):</th> <td> 0.001</td> <th>  Jarque-Bera (JB):  </th> <td>  13.917</td>\n",
       "</tr>\n",
       "<tr>\n",
       "  <th>Skew:</th>          <td> 0.860</td> <th>  Prob(JB):          </th> <td>0.000951</td>\n",
       "</tr>\n",
       "<tr>\n",
       "  <th>Kurtosis:</th>      <td> 3.694</td> <th>  Cond. No.          </th> <td>2.04e+09</td>\n",
       "</tr>\n",
       "</table><br/><br/>Warnings:<br/>[1] Standard Errors assume that the covariance matrix of the errors is correctly specified.<br/>[2] The condition number is large, 2.04e+09. This might indicate that there are<br/>strong multicollinearity or other numerical problems."
      ],
      "text/plain": [
       "<class 'statsmodels.iolib.summary.Summary'>\n",
       "\"\"\"\n",
       "                            OLS Regression Results                            \n",
       "==============================================================================\n",
       "Dep. Variable:      ln_retail_volumes   R-squared:                       0.787\n",
       "Model:                            OLS   Adj. R-squared:                  0.762\n",
       "Method:                 Least Squares   F-statistic:                     31.82\n",
       "Date:                Wed, 28 Apr 2021   Prob (F-statistic):           8.84e-25\n",
       "Time:                        18:05:52   Log-Likelihood:                 36.019\n",
       "No. Observations:                  97   AIC:                            -50.04\n",
       "Df Residuals:                      86   BIC:                            -21.72\n",
       "Df Model:                          10                                         \n",
       "Covariance Type:            nonrobust                                         \n",
       "=================================================================================\n",
       "                    coef    std err          t      P>|t|      [0.025      0.975]\n",
       "---------------------------------------------------------------------------------\n",
       "const             6.1223      0.149     41.106      0.000       5.826       6.418\n",
       "VIX               0.0359      0.005      6.592      0.000       0.025       0.047\n",
       "Cost_to_trade    -0.0007      0.001     -1.308      0.194      -0.002       0.000\n",
       "GDP               0.0231      0.257      0.090      0.929      -0.487       0.533\n",
       "Fin_lit           0.4089      0.067      6.061      0.000       0.275       0.543\n",
       "Marg_Trade        0.3048      0.100      3.043      0.003       0.106       0.504\n",
       "Return            3.0021      1.006      2.984      0.004       1.002       5.002\n",
       "Infl              1.7421      6.971      0.250      0.803     -12.117      15.601\n",
       "Int_rate          4.7390      3.488      1.359      0.178      -2.194      11.672\n",
       "Deriv         -3.055e-08   1.21e-08     -2.523      0.013   -5.46e-08   -6.48e-09\n",
       "Unempl           -1.7133      1.988     -0.862      0.391      -5.665       2.239\n",
       "==============================================================================\n",
       "Omnibus:                       13.081   Durbin-Watson:                   1.389\n",
       "Prob(Omnibus):                  0.001   Jarque-Bera (JB):               13.917\n",
       "Skew:                           0.860   Prob(JB):                     0.000951\n",
       "Kurtosis:                       3.694   Cond. No.                     2.04e+09\n",
       "==============================================================================\n",
       "\n",
       "Warnings:\n",
       "[1] Standard Errors assume that the covariance matrix of the errors is correctly specified.\n",
       "[2] The condition number is large, 2.04e+09. This might indicate that there are\n",
       "strong multicollinearity or other numerical problems.\n",
       "\"\"\""
      ]
     },
     "execution_count": 411,
     "metadata": {},
     "output_type": "execute_result"
    }
   ],
   "source": [
    "#------------------------------------------------------------------------------------------------------------------------------#\n",
    "#                                       Построение регрессионной модели для США                                                #\n",
    "#------------------------------------------------------------------------------------------------------------------------------#\n",
    "\n",
    "\n",
    "Y = new_data_US['ln_retail_volumes'] \n",
    "X = new_data_US[['VIX', 'Cost_to_trade', 'GDP', 'Fin_lit', 'Marg_Trade', 'Return', 'Infl', 'Int_rate',\n",
    "         'Deriv', 'Unempl']]\n",
    "X = sm.add_constant(X)\n",
    "\n",
    "model = sm.OLS(Y, X).fit()\n",
    "predictions = model.predict(X)\n",
    "model.summary()"
   ]
  },
  {
   "cell_type": "code",
   "execution_count": 420,
   "metadata": {},
   "outputs": [
    {
     "data": {
      "text/html": [
       "<table class=\"simpletable\">\n",
       "<caption>OLS Regression Results</caption>\n",
       "<tr>\n",
       "  <th>Dep. Variable:</th>    <td>ln_retail_volumes</td> <th>  R-squared:         </th> <td>   0.770</td>\n",
       "</tr>\n",
       "<tr>\n",
       "  <th>Model:</th>                   <td>OLS</td>        <th>  Adj. R-squared:    </th> <td>   0.744</td>\n",
       "</tr>\n",
       "<tr>\n",
       "  <th>Method:</th>             <td>Least Squares</td>   <th>  F-statistic:       </th> <td>   28.86</td>\n",
       "</tr>\n",
       "<tr>\n",
       "  <th>Date:</th>             <td>Wed, 28 Apr 2021</td>  <th>  Prob (F-statistic):</th> <td>2.13e-23</td>\n",
       "</tr>\n",
       "<tr>\n",
       "  <th>Time:</th>                 <td>18:51:14</td>      <th>  Log-Likelihood:    </th> <td>  32.334</td>\n",
       "</tr>\n",
       "<tr>\n",
       "  <th>No. Observations:</th>      <td>    97</td>       <th>  AIC:               </th> <td>  -42.67</td>\n",
       "</tr>\n",
       "<tr>\n",
       "  <th>Df Residuals:</th>          <td>    86</td>       <th>  BIC:               </th> <td>  -14.35</td>\n",
       "</tr>\n",
       "<tr>\n",
       "  <th>Df Model:</th>              <td>    10</td>       <th>                     </th>     <td> </td>   \n",
       "</tr>\n",
       "<tr>\n",
       "  <th>Covariance Type:</th>      <td>nonrobust</td>     <th>                     </th>     <td> </td>   \n",
       "</tr>\n",
       "</table>\n",
       "<table class=\"simpletable\">\n",
       "<tr>\n",
       "          <td></td>            <th>coef</th>     <th>std err</th>      <th>t</th>      <th>P>|t|</th>  <th>[0.025</th>    <th>0.975]</th>  \n",
       "</tr>\n",
       "<tr>\n",
       "  <th>const</th>            <td>    8.3092</td> <td>    1.142</td> <td>    7.276</td> <td> 0.000</td> <td>    6.039</td> <td>   10.579</td>\n",
       "</tr>\n",
       "<tr>\n",
       "  <th>ln_VIX</th>           <td>    0.5295</td> <td>    0.093</td> <td>    5.703</td> <td> 0.000</td> <td>    0.345</td> <td>    0.714</td>\n",
       "</tr>\n",
       "<tr>\n",
       "  <th>ln_Cost_to_trade</th> <td>    0.0079</td> <td>    0.019</td> <td>    0.417</td> <td> 0.678</td> <td>   -0.030</td> <td>    0.045</td>\n",
       "</tr>\n",
       "<tr>\n",
       "  <th>GDP</th>              <td>   -0.1040</td> <td>    0.261</td> <td>   -0.399</td> <td> 0.691</td> <td>   -0.623</td> <td>    0.415</td>\n",
       "</tr>\n",
       "<tr>\n",
       "  <th>Fin_lit</th>          <td>    0.5184</td> <td>    0.068</td> <td>    7.667</td> <td> 0.000</td> <td>    0.384</td> <td>    0.653</td>\n",
       "</tr>\n",
       "<tr>\n",
       "  <th>Marg_Trade</th>       <td>    0.3338</td> <td>    0.105</td> <td>    3.191</td> <td> 0.002</td> <td>    0.126</td> <td>    0.542</td>\n",
       "</tr>\n",
       "<tr>\n",
       "  <th>Return</th>           <td>    1.0307</td> <td>    0.712</td> <td>    1.447</td> <td> 0.151</td> <td>   -0.385</td> <td>    2.447</td>\n",
       "</tr>\n",
       "<tr>\n",
       "  <th>Infl</th>             <td>    0.0449</td> <td>    7.161</td> <td>    0.006</td> <td> 0.995</td> <td>  -14.190</td> <td>   14.280</td>\n",
       "</tr>\n",
       "<tr>\n",
       "  <th>Int_rate</th>         <td>    3.7727</td> <td>    3.633</td> <td>    1.039</td> <td> 0.302</td> <td>   -3.449</td> <td>   10.994</td>\n",
       "</tr>\n",
       "<tr>\n",
       "  <th>ln_Deriv</th>         <td>   -0.2242</td> <td>    0.070</td> <td>   -3.190</td> <td> 0.002</td> <td>   -0.364</td> <td>   -0.084</td>\n",
       "</tr>\n",
       "<tr>\n",
       "  <th>Unempl</th>           <td>    0.2566</td> <td>    1.824</td> <td>    0.141</td> <td> 0.888</td> <td>   -3.369</td> <td>    3.882</td>\n",
       "</tr>\n",
       "</table>\n",
       "<table class=\"simpletable\">\n",
       "<tr>\n",
       "  <th>Omnibus:</th>       <td>20.856</td> <th>  Durbin-Watson:     </th> <td>   1.251</td>\n",
       "</tr>\n",
       "<tr>\n",
       "  <th>Prob(Omnibus):</th> <td> 0.000</td> <th>  Jarque-Bera (JB):  </th> <td>  26.823</td>\n",
       "</tr>\n",
       "<tr>\n",
       "  <th>Skew:</th>          <td> 1.087</td> <th>  Prob(JB):          </th> <td>1.50e-06</td>\n",
       "</tr>\n",
       "<tr>\n",
       "  <th>Kurtosis:</th>      <td> 4.382</td> <th>  Cond. No.          </th> <td>6.13e+03</td>\n",
       "</tr>\n",
       "</table><br/><br/>Warnings:<br/>[1] Standard Errors assume that the covariance matrix of the errors is correctly specified.<br/>[2] The condition number is large, 6.13e+03. This might indicate that there are<br/>strong multicollinearity or other numerical problems."
      ],
      "text/plain": [
       "<class 'statsmodels.iolib.summary.Summary'>\n",
       "\"\"\"\n",
       "                            OLS Regression Results                            \n",
       "==============================================================================\n",
       "Dep. Variable:      ln_retail_volumes   R-squared:                       0.770\n",
       "Model:                            OLS   Adj. R-squared:                  0.744\n",
       "Method:                 Least Squares   F-statistic:                     28.86\n",
       "Date:                Wed, 28 Apr 2021   Prob (F-statistic):           2.13e-23\n",
       "Time:                        18:51:14   Log-Likelihood:                 32.334\n",
       "No. Observations:                  97   AIC:                            -42.67\n",
       "Df Residuals:                      86   BIC:                            -14.35\n",
       "Df Model:                          10                                         \n",
       "Covariance Type:            nonrobust                                         \n",
       "====================================================================================\n",
       "                       coef    std err          t      P>|t|      [0.025      0.975]\n",
       "------------------------------------------------------------------------------------\n",
       "const                8.3092      1.142      7.276      0.000       6.039      10.579\n",
       "ln_VIX               0.5295      0.093      5.703      0.000       0.345       0.714\n",
       "ln_Cost_to_trade     0.0079      0.019      0.417      0.678      -0.030       0.045\n",
       "GDP                 -0.1040      0.261     -0.399      0.691      -0.623       0.415\n",
       "Fin_lit              0.5184      0.068      7.667      0.000       0.384       0.653\n",
       "Marg_Trade           0.3338      0.105      3.191      0.002       0.126       0.542\n",
       "Return               1.0307      0.712      1.447      0.151      -0.385       2.447\n",
       "Infl                 0.0449      7.161      0.006      0.995     -14.190      14.280\n",
       "Int_rate             3.7727      3.633      1.039      0.302      -3.449      10.994\n",
       "ln_Deriv            -0.2242      0.070     -3.190      0.002      -0.364      -0.084\n",
       "Unempl               0.2566      1.824      0.141      0.888      -3.369       3.882\n",
       "==============================================================================\n",
       "Omnibus:                       20.856   Durbin-Watson:                   1.251\n",
       "Prob(Omnibus):                  0.000   Jarque-Bera (JB):               26.823\n",
       "Skew:                           1.087   Prob(JB):                     1.50e-06\n",
       "Kurtosis:                       4.382   Cond. No.                     6.13e+03\n",
       "==============================================================================\n",
       "\n",
       "Warnings:\n",
       "[1] Standard Errors assume that the covariance matrix of the errors is correctly specified.\n",
       "[2] The condition number is large, 6.13e+03. This might indicate that there are\n",
       "strong multicollinearity or other numerical problems.\n",
       "\"\"\""
      ]
     },
     "execution_count": 420,
     "metadata": {},
     "output_type": "execute_result"
    }
   ],
   "source": [
    "Y = new_data_US['ln_retail_volumes'] \n",
    "X = new_data_US[['ln_VIX', 'ln_Cost_to_trade', 'GDP', 'Fin_lit', 'Marg_Trade', 'Return', 'Infl', 'Int_rate',\n",
    "         'ln_Deriv', 'Unempl']]\n",
    "X = sm.add_constant(X)\n",
    "\n",
    "model = sm.OLS(Y, X).fit()\n",
    "predictions = model.predict(X)\n",
    "model.summary()"
   ]
  },
  {
   "cell_type": "code",
   "execution_count": 412,
   "metadata": {},
   "outputs": [
    {
     "data": {
      "text/html": [
       "<div>\n",
       "<style scoped>\n",
       "    .dataframe tbody tr th:only-of-type {\n",
       "        vertical-align: middle;\n",
       "    }\n",
       "\n",
       "    .dataframe tbody tr th {\n",
       "        vertical-align: top;\n",
       "    }\n",
       "\n",
       "    .dataframe thead th {\n",
       "        text-align: right;\n",
       "    }\n",
       "</style>\n",
       "<table border=\"1\" class=\"dataframe\">\n",
       "  <thead>\n",
       "    <tr style=\"text-align: right;\">\n",
       "      <th></th>\n",
       "      <th>VIF Factor</th>\n",
       "      <th>features</th>\n",
       "    </tr>\n",
       "  </thead>\n",
       "  <tbody>\n",
       "    <tr>\n",
       "      <td>0</td>\n",
       "      <td>68.475118</td>\n",
       "      <td>const</td>\n",
       "    </tr>\n",
       "    <tr>\n",
       "      <td>1</td>\n",
       "      <td>4.659595</td>\n",
       "      <td>VIX</td>\n",
       "    </tr>\n",
       "    <tr>\n",
       "      <td>2</td>\n",
       "      <td>5.330270</td>\n",
       "      <td>Cost_to_trade</td>\n",
       "    </tr>\n",
       "    <tr>\n",
       "      <td>3</td>\n",
       "      <td>1.396029</td>\n",
       "      <td>GDP</td>\n",
       "    </tr>\n",
       "    <tr>\n",
       "      <td>4</td>\n",
       "      <td>1.630969</td>\n",
       "      <td>Fin_lit</td>\n",
       "    </tr>\n",
       "    <tr>\n",
       "      <td>5</td>\n",
       "      <td>1.796645</td>\n",
       "      <td>Marg_Trade</td>\n",
       "    </tr>\n",
       "    <tr>\n",
       "      <td>6</td>\n",
       "      <td>6.467534</td>\n",
       "      <td>Return</td>\n",
       "    </tr>\n",
       "    <tr>\n",
       "      <td>7</td>\n",
       "      <td>1.237922</td>\n",
       "      <td>Infl</td>\n",
       "    </tr>\n",
       "    <tr>\n",
       "      <td>8</td>\n",
       "      <td>2.464645</td>\n",
       "      <td>Int_rate</td>\n",
       "    </tr>\n",
       "    <tr>\n",
       "      <td>9</td>\n",
       "      <td>1.572682</td>\n",
       "      <td>Deriv</td>\n",
       "    </tr>\n",
       "    <tr>\n",
       "      <td>10</td>\n",
       "      <td>4.503672</td>\n",
       "      <td>Unempl</td>\n",
       "    </tr>\n",
       "  </tbody>\n",
       "</table>\n",
       "</div>"
      ],
      "text/plain": [
       "    VIF Factor       features\n",
       "0    68.475118          const\n",
       "1     4.659595            VIX\n",
       "2     5.330270  Cost_to_trade\n",
       "3     1.396029            GDP\n",
       "4     1.630969        Fin_lit\n",
       "5     1.796645     Marg_Trade\n",
       "6     6.467534         Return\n",
       "7     1.237922           Infl\n",
       "8     2.464645       Int_rate\n",
       "9     1.572682          Deriv\n",
       "10    4.503672         Unempl"
      ]
     },
     "execution_count": 412,
     "metadata": {},
     "output_type": "execute_result"
    }
   ],
   "source": [
    "#------------------------------------------------------------------------------------------------------------------------------#\n",
    "#                                       Проыверка на мультиколлинеарность                                                                 #\n",
    "#------------------------------------------------------------------------------------------------------------------------------#\n",
    "\n",
    "\n",
    "vif = pd.DataFrame()\n",
    "vif[\"VIF Factor\"] = [variance_inflation_factor(X.values, i) for i in range(X.shape[1])]\n",
    "vif[\"features\"] = X.columns\n",
    "vif"
   ]
  },
  {
   "cell_type": "code",
   "execution_count": 78,
   "metadata": {},
   "outputs": [],
   "source": [
    "#------------------------------------------------------------------------------------------------------------------------------#\n",
    "#                                        Проверка на линейность                                                                  #\n",
    "#------------------------------------------------------------------------------------------------------------------------------#\n",
    "\n",
    "\n",
    "def linearity_test(model, y):\n",
    "    \n",
    "    fitted_vals = model.predict()\n",
    "    resids = model.resid\n",
    "\n",
    "    fig, ax = plt.subplots(1,2)\n",
    "    \n",
    "    sns.regplot(x=fitted_vals, y=y, lowess=True, ax=ax[0], line_kws={'color': 'red'})\n",
    "    ax[0].set_title('Observed vs. Predicted Values', fontsize=10)\n",
    "    ax[0].set(xlabel='Predicted', ylabel='Observed')\n",
    "    \n",
    "    sns.regplot(x=fitted_vals, y=resids, lowess=True, ax=ax[1], line_kws={'color': 'red'})\n",
    "    ax[1].set_title('Residuals vs. Predicted Values', fontsize=10)\n",
    "    ax[1].set(xlabel='Predicted', ylabel='Residuals')"
   ]
  },
  {
   "cell_type": "code",
   "execution_count": 415,
   "metadata": {},
   "outputs": [
    {
     "data": {
      "image/png": "[encoded data removed]",
      "text/plain": [
       "<Figure size 432x288 with 2 Axes>"
      ]
     },
     "metadata": {
      "needs_background": "light"
     },
     "output_type": "display_data"
    }
   ],
   "source": [
    "linearity_test(model, Y)"
   ]
  },
  {
   "cell_type": "code",
   "execution_count": 98,
   "metadata": {
    "collapsed": true
   },
   "outputs": [
    {
     "ename": "AttributeError",
     "evalue": "module 'statsmodels.stats.diagnostic' has no attribute 'linear_reset'",
     "output_type": "error",
     "traceback": [
      "\u001b[1;31m---------------------------------------------------------------------------\u001b[0m",
      "\u001b[1;31mAttributeError\u001b[0m                            Traceback (most recent call last)",
      "\u001b[1;32m<ipython-input-98-fb6a579f17c0>\u001b[0m in \u001b[0;36m<module>\u001b[1;34m\u001b[0m\n\u001b[1;32m----> 1\u001b[1;33m \u001b[0msm\u001b[0m\u001b[1;33m.\u001b[0m\u001b[0mstats\u001b[0m\u001b[1;33m.\u001b[0m\u001b[0mdiagnostic\u001b[0m\u001b[1;33m.\u001b[0m\u001b[0mlinear_reset\u001b[0m\u001b[1;33m(\u001b[0m\u001b[0mmodel\u001b[0m\u001b[1;33m)\u001b[0m\u001b[1;33m\u001b[0m\u001b[1;33m\u001b[0m\u001b[0m\n\u001b[0m",
      "\u001b[1;31mAttributeError\u001b[0m: module 'statsmodels.stats.diagnostic' has no attribute 'linear_reset'"
     ]
    }
   ],
   "source": [
    "#------------------------------------------------------------------------------------------------------------------------------#\n",
    "#                                        Тест Рамсея по неизвестной причине показывает ошибку                                                                  #\n",
    "#------------------------------------------------------------------------------------------------------------------------------#\n",
    "\n",
    "\n",
    "sm.stats.diagnostic.linear_reset(model)"
   ]
  },
  {
   "cell_type": "code",
   "execution_count": 89,
   "metadata": {},
   "outputs": [
    {
     "data": {
      "text/plain": [
       "1.1463911149119142e-14"
      ]
     },
     "execution_count": 89,
     "metadata": {},
     "output_type": "execute_result"
    }
   ],
   "source": [
    "#------------------------------------------------------------------------------------------------------------------------------#\n",
    "#                                       Проверка предпосылки о нулевом математическом ожидании остатков                                                                   #\n",
    "#------------------------------------------------------------------------------------------------------------------------------#\n",
    "\n",
    "\n",
    "model.resid.mean()"
   ]
  },
  {
   "cell_type": "code",
   "execution_count": 99,
   "metadata": {},
   "outputs": [
    {
     "data": {
      "text/plain": [
       "0.94977748724929"
      ]
     },
     "execution_count": 99,
     "metadata": {},
     "output_type": "execute_result"
    },
    {
     "data": {
      "image/png": "[encoded data removed]",
      "text/plain": [
       "<Figure size 432x180 with 1 Axes>"
      ]
     },
     "metadata": {
      "needs_background": "light"
     },
     "output_type": "display_data"
    }
   ],
   "source": [
    "#------------------------------------------------------------------------------------------------------------------------------#\n",
    "#                                        Проерка на нормальность остатков                                                                   #\n",
    "#------------------------------------------------------------------------------------------------------------------------------#\n",
    "\n",
    "\n",
    "fig, ax = plt.subplots(figsize=(6,2.5))\n",
    "_, (__, ___, r) = sp.stats.probplot(model.resid, plot=ax, fit=True)\n",
    "r**2"
   ]
  },
  {
   "cell_type": "code",
   "execution_count": 100,
   "metadata": {},
   "outputs": [
    {
     "data": {
      "text/plain": [
       "(0.949722945690155, 0.000980587094090879)"
      ]
     },
     "execution_count": 100,
     "metadata": {},
     "output_type": "execute_result"
    }
   ],
   "source": [
    "shapiro_test = stats.shapiro(model.resid)\n",
    "shapiro_test"
   ]
  },
  {
   "cell_type": "code",
   "execution_count": 101,
   "metadata": {},
   "outputs": [
    {
     "data": {
      "text/plain": [
       "(13.916575847387596, 0.0009507228920910826)"
      ]
     },
     "execution_count": 101,
     "metadata": {},
     "output_type": "execute_result"
    }
   ],
   "source": [
    "jb = stats.jarque_bera(model.resid)\n",
    "jb"
   ]
  },
  {
   "cell_type": "code",
   "execution_count": 102,
   "metadata": {},
   "outputs": [
    {
     "data": {
      "text/html": [
       "<div>\n",
       "<style scoped>\n",
       "    .dataframe tbody tr th:only-of-type {\n",
       "        vertical-align: middle;\n",
       "    }\n",
       "\n",
       "    .dataframe tbody tr th {\n",
       "        vertical-align: top;\n",
       "    }\n",
       "\n",
       "    .dataframe thead th {\n",
       "        text-align: right;\n",
       "    }\n",
       "</style>\n",
       "<table border=\"1\" class=\"dataframe\">\n",
       "  <thead>\n",
       "    <tr style=\"text-align: right;\">\n",
       "      <th></th>\n",
       "      <th>ln_retail_volumes</th>\n",
       "      <th>VIX</th>\n",
       "      <th>Cost_to_trade</th>\n",
       "      <th>Unempl</th>\n",
       "      <th>GDP</th>\n",
       "      <th>Fin_lit</th>\n",
       "      <th>Marg_Trade</th>\n",
       "      <th>Return</th>\n",
       "      <th>Infl</th>\n",
       "      <th>Int_rate</th>\n",
       "      <th>Deriv</th>\n",
       "      <th>ln_Deriv</th>\n",
       "      <th>ln_Cost_to_trade</th>\n",
       "      <th>ln_VIX</th>\n",
       "    </tr>\n",
       "  </thead>\n",
       "  <tbody>\n",
       "    <tr>\n",
       "      <td>0</td>\n",
       "      <td>7.70</td>\n",
       "      <td>30.24</td>\n",
       "      <td>57.298827</td>\n",
       "      <td>0.06</td>\n",
       "      <td>0.065</td>\n",
       "      <td>1.0</td>\n",
       "      <td>1.0</td>\n",
       "      <td>0.02</td>\n",
       "      <td>0.0043</td>\n",
       "      <td>0.0007</td>\n",
       "      <td>2894627.0</td>\n",
       "      <td>14.878367</td>\n",
       "      <td>4.048280</td>\n",
       "      <td>3.409166</td>\n",
       "    </tr>\n",
       "    <tr>\n",
       "      <td>1</td>\n",
       "      <td>7.74</td>\n",
       "      <td>26.97</td>\n",
       "      <td>30.763334</td>\n",
       "      <td>0.06</td>\n",
       "      <td>0.065</td>\n",
       "      <td>1.0</td>\n",
       "      <td>1.0</td>\n",
       "      <td>0.01</td>\n",
       "      <td>0.0055</td>\n",
       "      <td>0.0008</td>\n",
       "      <td>2894627.0</td>\n",
       "      <td>14.878367</td>\n",
       "      <td>3.426324</td>\n",
       "      <td>3.294725</td>\n",
       "    </tr>\n",
       "    <tr>\n",
       "      <td>2</td>\n",
       "      <td>7.66</td>\n",
       "      <td>20.77</td>\n",
       "      <td>292.081489</td>\n",
       "      <td>0.07</td>\n",
       "      <td>0.043</td>\n",
       "      <td>1.0</td>\n",
       "      <td>1.0</td>\n",
       "      <td>0.10</td>\n",
       "      <td>0.0009</td>\n",
       "      <td>0.0009</td>\n",
       "      <td>2696624.0</td>\n",
       "      <td>14.807511</td>\n",
       "      <td>5.677033</td>\n",
       "      <td>3.033510</td>\n",
       "    </tr>\n",
       "    <tr>\n",
       "      <td>3</td>\n",
       "      <td>7.60</td>\n",
       "      <td>37.13</td>\n",
       "      <td>0.880000</td>\n",
       "      <td>0.07</td>\n",
       "      <td>0.043</td>\n",
       "      <td>1.0</td>\n",
       "      <td>1.0</td>\n",
       "      <td>-0.02</td>\n",
       "      <td>-0.0006</td>\n",
       "      <td>0.0009</td>\n",
       "      <td>2879377.0</td>\n",
       "      <td>14.873085</td>\n",
       "      <td>-0.127833</td>\n",
       "      <td>3.614425</td>\n",
       "    </tr>\n",
       "    <tr>\n",
       "      <td>4</td>\n",
       "      <td>7.53</td>\n",
       "      <td>26.70</td>\n",
       "      <td>0.880000</td>\n",
       "      <td>0.07</td>\n",
       "      <td>0.043</td>\n",
       "      <td>1.0</td>\n",
       "      <td>1.0</td>\n",
       "      <td>-0.04</td>\n",
       "      <td>0.0004</td>\n",
       "      <td>0.0009</td>\n",
       "      <td>2203521.0</td>\n",
       "      <td>14.605567</td>\n",
       "      <td>-0.127833</td>\n",
       "      <td>3.284664</td>\n",
       "    </tr>\n",
       "    <tr>\n",
       "      <td>...</td>\n",
       "      <td>...</td>\n",
       "      <td>...</td>\n",
       "      <td>...</td>\n",
       "      <td>...</td>\n",
       "      <td>...</td>\n",
       "      <td>...</td>\n",
       "      <td>...</td>\n",
       "      <td>...</td>\n",
       "      <td>...</td>\n",
       "      <td>...</td>\n",
       "      <td>...</td>\n",
       "      <td>...</td>\n",
       "      <td>...</td>\n",
       "      <td>...</td>\n",
       "    </tr>\n",
       "    <tr>\n",
       "      <td>92</td>\n",
       "      <td>6.41</td>\n",
       "      <td>16.28</td>\n",
       "      <td>109.241853</td>\n",
       "      <td>0.08</td>\n",
       "      <td>0.005</td>\n",
       "      <td>0.0</td>\n",
       "      <td>0.0</td>\n",
       "      <td>0.04</td>\n",
       "      <td>0.0024</td>\n",
       "      <td>0.0009</td>\n",
       "      <td>3082222.0</td>\n",
       "      <td>14.941161</td>\n",
       "      <td>4.693564</td>\n",
       "      <td>2.789937</td>\n",
       "    </tr>\n",
       "    <tr>\n",
       "      <td>93</td>\n",
       "      <td>6.41</td>\n",
       "      <td>14.49</td>\n",
       "      <td>40.404460</td>\n",
       "      <td>0.08</td>\n",
       "      <td>0.005</td>\n",
       "      <td>0.0</td>\n",
       "      <td>0.0</td>\n",
       "      <td>0.01</td>\n",
       "      <td>0.0018</td>\n",
       "      <td>0.0009</td>\n",
       "      <td>2643380.0</td>\n",
       "      <td>14.787569</td>\n",
       "      <td>3.698940</td>\n",
       "      <td>2.673459</td>\n",
       "    </tr>\n",
       "    <tr>\n",
       "      <td>94</td>\n",
       "      <td>6.39</td>\n",
       "      <td>13.58</td>\n",
       "      <td>87.258584</td>\n",
       "      <td>0.08</td>\n",
       "      <td>0.005</td>\n",
       "      <td>0.0</td>\n",
       "      <td>0.0</td>\n",
       "      <td>0.03</td>\n",
       "      <td>-0.0010</td>\n",
       "      <td>0.0011</td>\n",
       "      <td>2568009.0</td>\n",
       "      <td>14.758641</td>\n",
       "      <td>4.468876</td>\n",
       "      <td>2.608598</td>\n",
       "    </tr>\n",
       "    <tr>\n",
       "      <td>95</td>\n",
       "      <td>6.22</td>\n",
       "      <td>15.36</td>\n",
       "      <td>10.957551</td>\n",
       "      <td>0.08</td>\n",
       "      <td>0.036</td>\n",
       "      <td>0.0</td>\n",
       "      <td>0.0</td>\n",
       "      <td>0.00</td>\n",
       "      <td>0.0026</td>\n",
       "      <td>0.0015</td>\n",
       "      <td>3351551.0</td>\n",
       "      <td>15.024934</td>\n",
       "      <td>2.394029</td>\n",
       "      <td>2.731767</td>\n",
       "    </tr>\n",
       "    <tr>\n",
       "      <td>96</td>\n",
       "      <td>6.26</td>\n",
       "      <td>12.90</td>\n",
       "      <td>104.083311</td>\n",
       "      <td>0.08</td>\n",
       "      <td>0.036</td>\n",
       "      <td>0.0</td>\n",
       "      <td>0.0</td>\n",
       "      <td>0.03</td>\n",
       "      <td>0.0082</td>\n",
       "      <td>0.0014</td>\n",
       "      <td>2704619.0</td>\n",
       "      <td>14.810472</td>\n",
       "      <td>4.645192</td>\n",
       "      <td>2.557227</td>\n",
       "    </tr>\n",
       "  </tbody>\n",
       "</table>\n",
       "<p>97 rows × 14 columns</p>\n",
       "</div>"
      ],
      "text/plain": [
       "    ln_retail_volumes    VIX  Cost_to_trade  Unempl    GDP  Fin_lit  \\\n",
       "0                7.70  30.24      57.298827    0.06  0.065      1.0   \n",
       "1                7.74  26.97      30.763334    0.06  0.065      1.0   \n",
       "2                7.66  20.77     292.081489    0.07  0.043      1.0   \n",
       "3                7.60  37.13       0.880000    0.07  0.043      1.0   \n",
       "4                7.53  26.70       0.880000    0.07  0.043      1.0   \n",
       "..                ...    ...            ...     ...    ...      ...   \n",
       "92               6.41  16.28     109.241853    0.08  0.005      0.0   \n",
       "93               6.41  14.49      40.404460    0.08  0.005      0.0   \n",
       "94               6.39  13.58      87.258584    0.08  0.005      0.0   \n",
       "95               6.22  15.36      10.957551    0.08  0.036      0.0   \n",
       "96               6.26  12.90     104.083311    0.08  0.036      0.0   \n",
       "\n",
       "    Marg_Trade  Return    Infl  Int_rate      Deriv   ln_Deriv  \\\n",
       "0          1.0    0.02  0.0043    0.0007  2894627.0  14.878367   \n",
       "1          1.0    0.01  0.0055    0.0008  2894627.0  14.878367   \n",
       "2          1.0    0.10  0.0009    0.0009  2696624.0  14.807511   \n",
       "3          1.0   -0.02 -0.0006    0.0009  2879377.0  14.873085   \n",
       "4          1.0   -0.04  0.0004    0.0009  2203521.0  14.605567   \n",
       "..         ...     ...     ...       ...        ...        ...   \n",
       "92         0.0    0.04  0.0024    0.0009  3082222.0  14.941161   \n",
       "93         0.0    0.01  0.0018    0.0009  2643380.0  14.787569   \n",
       "94         0.0    0.03 -0.0010    0.0011  2568009.0  14.758641   \n",
       "95         0.0    0.00  0.0026    0.0015  3351551.0  15.024934   \n",
       "96         0.0    0.03  0.0082    0.0014  2704619.0  14.810472   \n",
       "\n",
       "    ln_Cost_to_trade    ln_VIX  \n",
       "0           4.048280  3.409166  \n",
       "1           3.426324  3.294725  \n",
       "2           5.677033  3.033510  \n",
       "3          -0.127833  3.614425  \n",
       "4          -0.127833  3.284664  \n",
       "..               ...       ...  \n",
       "92          4.693564  2.789937  \n",
       "93          3.698940  2.673459  \n",
       "94          4.468876  2.608598  \n",
       "95          2.394029  2.731767  \n",
       "96          4.645192  2.557227  \n",
       "\n",
       "[97 rows x 14 columns]"
      ]
     },
     "execution_count": 102,
     "metadata": {},
     "output_type": "execute_result"
    }
   ],
   "source": [
    "new_data_US"
   ]
  },
  {
   "cell_type": "code",
   "execution_count": 4,
   "metadata": {},
   "outputs": [
    {
     "data": {
      "text/html": [
       "<div>\n",
       "<style scoped>\n",
       "    .dataframe tbody tr th:only-of-type {\n",
       "        vertical-align: middle;\n",
       "    }\n",
       "\n",
       "    .dataframe tbody tr th {\n",
       "        vertical-align: top;\n",
       "    }\n",
       "\n",
       "    .dataframe thead th {\n",
       "        text-align: right;\n",
       "    }\n",
       "</style>\n",
       "<table border=\"1\" class=\"dataframe\">\n",
       "  <thead>\n",
       "    <tr style=\"text-align: right;\">\n",
       "      <th></th>\n",
       "      <th>Date</th>\n",
       "      <th>Overall Traded volume USA -dollars</th>\n",
       "      <th>PartRate</th>\n",
       "      <th>Retail volumes -dollars</th>\n",
       "      <th>Retail volumes -billion dollars</th>\n",
       "      <th>ln (Retail volumes)</th>\n",
       "      <th>VIX</th>\n",
       "      <th>Unemployment rate</th>\n",
       "      <th>Index Return</th>\n",
       "      <th>Fin Literacy</th>\n",
       "      <th>...</th>\n",
       "      <th>After Capital Gain tax</th>\n",
       "      <th>After Capital Gain tax total</th>\n",
       "      <th>Dividends monthly</th>\n",
       "      <th>Dividend tax</th>\n",
       "      <th>After Dividend tax</th>\n",
       "      <th>Total Gain</th>\n",
       "      <th>Comission (for trading)</th>\n",
       "      <th>Comissions paid</th>\n",
       "      <th>Comissions paid total</th>\n",
       "      <th>Cost To Trade total</th>\n",
       "    </tr>\n",
       "  </thead>\n",
       "  <tbody>\n",
       "    <tr>\n",
       "      <td>0</td>\n",
       "      <td>01.02.2021</td>\n",
       "      <td>1.135070e+13</td>\n",
       "      <td>19,50%</td>\n",
       "      <td>2.213380e+12</td>\n",
       "      <td>2213.38</td>\n",
       "      <td>7.70</td>\n",
       "      <td>30.24</td>\n",
       "      <td>0.06</td>\n",
       "      <td>0.02</td>\n",
       "      <td>1</td>\n",
       "      <td>...</td>\n",
       "      <td>56.418827</td>\n",
       "      <td>56.418827</td>\n",
       "      <td>4</td>\n",
       "      <td>0.88</td>\n",
       "      <td>3.12</td>\n",
       "      <td>59.538827</td>\n",
       "      <td>0,00%</td>\n",
       "      <td>0.000000</td>\n",
       "      <td>0.000000</td>\n",
       "      <td>57.298827</td>\n",
       "    </tr>\n",
       "    <tr>\n",
       "      <td>1</td>\n",
       "      <td>04.01.2021</td>\n",
       "      <td>1.179530e+13</td>\n",
       "      <td>19,50%</td>\n",
       "      <td>2.300080e+12</td>\n",
       "      <td>2300.08</td>\n",
       "      <td>7.74</td>\n",
       "      <td>26.97</td>\n",
       "      <td>0.06</td>\n",
       "      <td>0.01</td>\n",
       "      <td>1</td>\n",
       "      <td>...</td>\n",
       "      <td>29.883334</td>\n",
       "      <td>29.883334</td>\n",
       "      <td>4</td>\n",
       "      <td>0.88</td>\n",
       "      <td>3.12</td>\n",
       "      <td>33.003334</td>\n",
       "      <td>0,00%</td>\n",
       "      <td>0.000000</td>\n",
       "      <td>0.000000</td>\n",
       "      <td>30.763334</td>\n",
       "    </tr>\n",
       "    <tr>\n",
       "      <td>2</td>\n",
       "      <td>01.12.2020</td>\n",
       "      <td>1.091670e+13</td>\n",
       "      <td>19,50%</td>\n",
       "      <td>2.128750e+12</td>\n",
       "      <td>2128.75</td>\n",
       "      <td>7.66</td>\n",
       "      <td>20.77</td>\n",
       "      <td>0.07</td>\n",
       "      <td>0.10</td>\n",
       "      <td>1</td>\n",
       "      <td>...</td>\n",
       "      <td>291.201489</td>\n",
       "      <td>291.201489</td>\n",
       "      <td>4</td>\n",
       "      <td>0.88</td>\n",
       "      <td>3.12</td>\n",
       "      <td>294.321489</td>\n",
       "      <td>0,00%</td>\n",
       "      <td>0.000000</td>\n",
       "      <td>0.000000</td>\n",
       "      <td>292.081489</td>\n",
       "    </tr>\n",
       "    <tr>\n",
       "      <td>3</td>\n",
       "      <td>02.11.2020</td>\n",
       "      <td>1.026410e+13</td>\n",
       "      <td>19,50%</td>\n",
       "      <td>2.001500e+12</td>\n",
       "      <td>2001.50</td>\n",
       "      <td>7.60</td>\n",
       "      <td>37.13</td>\n",
       "      <td>0.07</td>\n",
       "      <td>-0.02</td>\n",
       "      <td>1</td>\n",
       "      <td>...</td>\n",
       "      <td>-60.744020</td>\n",
       "      <td>0.000000</td>\n",
       "      <td>4</td>\n",
       "      <td>0.88</td>\n",
       "      <td>3.12</td>\n",
       "      <td>-57.624020</td>\n",
       "      <td>0,00%</td>\n",
       "      <td>0.000000</td>\n",
       "      <td>0.000000</td>\n",
       "      <td>0.880000</td>\n",
       "    </tr>\n",
       "    <tr>\n",
       "      <td>4</td>\n",
       "      <td>01.10.2020</td>\n",
       "      <td>9.523330e+12</td>\n",
       "      <td>19,50%</td>\n",
       "      <td>1.857050e+12</td>\n",
       "      <td>1857.05</td>\n",
       "      <td>7.53</td>\n",
       "      <td>26.70</td>\n",
       "      <td>0.07</td>\n",
       "      <td>-0.04</td>\n",
       "      <td>1</td>\n",
       "      <td>...</td>\n",
       "      <td>-121.639807</td>\n",
       "      <td>0.000000</td>\n",
       "      <td>4</td>\n",
       "      <td>0.88</td>\n",
       "      <td>3.12</td>\n",
       "      <td>-118.519807</td>\n",
       "      <td>0,00%</td>\n",
       "      <td>0.000000</td>\n",
       "      <td>0.000000</td>\n",
       "      <td>0.880000</td>\n",
       "    </tr>\n",
       "    <tr>\n",
       "      <td>...</td>\n",
       "      <td>...</td>\n",
       "      <td>...</td>\n",
       "      <td>...</td>\n",
       "      <td>...</td>\n",
       "      <td>...</td>\n",
       "      <td>...</td>\n",
       "      <td>...</td>\n",
       "      <td>...</td>\n",
       "      <td>...</td>\n",
       "      <td>...</td>\n",
       "      <td>...</td>\n",
       "      <td>...</td>\n",
       "      <td>...</td>\n",
       "      <td>...</td>\n",
       "      <td>...</td>\n",
       "      <td>...</td>\n",
       "      <td>...</td>\n",
       "      <td>...</td>\n",
       "      <td>...</td>\n",
       "      <td>...</td>\n",
       "      <td>...</td>\n",
       "    </tr>\n",
       "    <tr>\n",
       "      <td>78</td>\n",
       "      <td>03.06.2013</td>\n",
       "      <td>5.077340e+12</td>\n",
       "      <td>12,00%</td>\n",
       "      <td>6.092810e+11</td>\n",
       "      <td>609.28</td>\n",
       "      <td>6.41</td>\n",
       "      <td>16.28</td>\n",
       "      <td>0.08</td>\n",
       "      <td>0.04</td>\n",
       "      <td>0</td>\n",
       "      <td>...</td>\n",
       "      <td>103.161765</td>\n",
       "      <td>103.161765</td>\n",
       "      <td>4</td>\n",
       "      <td>0.76</td>\n",
       "      <td>3.24</td>\n",
       "      <td>106.401765</td>\n",
       "      <td>5,00%</td>\n",
       "      <td>5.320088</td>\n",
       "      <td>5.320088</td>\n",
       "      <td>109.241853</td>\n",
       "    </tr>\n",
       "    <tr>\n",
       "      <td>79</td>\n",
       "      <td>01.05.2013</td>\n",
       "      <td>5.049740e+12</td>\n",
       "      <td>12,00%</td>\n",
       "      <td>6.059690e+11</td>\n",
       "      <td>605.97</td>\n",
       "      <td>6.41</td>\n",
       "      <td>14.49</td>\n",
       "      <td>0.08</td>\n",
       "      <td>0.01</td>\n",
       "      <td>0</td>\n",
       "      <td>...</td>\n",
       "      <td>37.602343</td>\n",
       "      <td>37.602343</td>\n",
       "      <td>4</td>\n",
       "      <td>0.76</td>\n",
       "      <td>3.24</td>\n",
       "      <td>40.842343</td>\n",
       "      <td>5,00%</td>\n",
       "      <td>2.042117</td>\n",
       "      <td>2.042117</td>\n",
       "      <td>40.404460</td>\n",
       "    </tr>\n",
       "    <tr>\n",
       "      <td>80</td>\n",
       "      <td>01.04.2013</td>\n",
       "      <td>4.980840e+12</td>\n",
       "      <td>12,00%</td>\n",
       "      <td>5.977010e+11</td>\n",
       "      <td>597.70</td>\n",
       "      <td>6.39</td>\n",
       "      <td>13.58</td>\n",
       "      <td>0.08</td>\n",
       "      <td>0.03</td>\n",
       "      <td>0</td>\n",
       "      <td>...</td>\n",
       "      <td>82.225318</td>\n",
       "      <td>82.225318</td>\n",
       "      <td>4</td>\n",
       "      <td>0.76</td>\n",
       "      <td>3.24</td>\n",
       "      <td>85.465318</td>\n",
       "      <td>5,00%</td>\n",
       "      <td>4.273266</td>\n",
       "      <td>4.273266</td>\n",
       "      <td>87.258584</td>\n",
       "    </tr>\n",
       "    <tr>\n",
       "      <td>81</td>\n",
       "      <td>01.03.2013</td>\n",
       "      <td>4.205200e+12</td>\n",
       "      <td>12,00%</td>\n",
       "      <td>5.046240e+11</td>\n",
       "      <td>504.62</td>\n",
       "      <td>6.22</td>\n",
       "      <td>15.36</td>\n",
       "      <td>0.08</td>\n",
       "      <td>0.00</td>\n",
       "      <td>0</td>\n",
       "      <td>...</td>\n",
       "      <td>9.557668</td>\n",
       "      <td>9.557668</td>\n",
       "      <td>4</td>\n",
       "      <td>0.76</td>\n",
       "      <td>3.24</td>\n",
       "      <td>12.797668</td>\n",
       "      <td>5,00%</td>\n",
       "      <td>0.639883</td>\n",
       "      <td>0.639883</td>\n",
       "      <td>10.957551</td>\n",
       "    </tr>\n",
       "    <tr>\n",
       "      <td>82</td>\n",
       "      <td>01.02.2013</td>\n",
       "      <td>4.339550e+12</td>\n",
       "      <td>12,00%</td>\n",
       "      <td>5.207460e+11</td>\n",
       "      <td>520.75</td>\n",
       "      <td>6.26</td>\n",
       "      <td>12.90</td>\n",
       "      <td>0.08</td>\n",
       "      <td>0.03</td>\n",
       "      <td>0</td>\n",
       "      <td>...</td>\n",
       "      <td>98.248868</td>\n",
       "      <td>98.248868</td>\n",
       "      <td>4</td>\n",
       "      <td>0.76</td>\n",
       "      <td>3.24</td>\n",
       "      <td>101.488868</td>\n",
       "      <td>5,00%</td>\n",
       "      <td>5.074443</td>\n",
       "      <td>5.074443</td>\n",
       "      <td>104.083311</td>\n",
       "    </tr>\n",
       "  </tbody>\n",
       "</table>\n",
       "<p>83 rows × 28 columns</p>\n",
       "</div>"
      ],
      "text/plain": [
       "          Date  Overall Traded volume USA -dollars PartRate  \\\n",
       "0   01.02.2021                        1.135070e+13   19,50%   \n",
       "1   04.01.2021                        1.179530e+13   19,50%   \n",
       "2   01.12.2020                        1.091670e+13   19,50%   \n",
       "3   02.11.2020                        1.026410e+13   19,50%   \n",
       "4   01.10.2020                        9.523330e+12   19,50%   \n",
       "..         ...                                 ...      ...   \n",
       "78  03.06.2013                        5.077340e+12   12,00%   \n",
       "79  01.05.2013                        5.049740e+12   12,00%   \n",
       "80  01.04.2013                        4.980840e+12   12,00%   \n",
       "81  01.03.2013                        4.205200e+12   12,00%   \n",
       "82  01.02.2013                        4.339550e+12   12,00%   \n",
       "\n",
       "    Retail volumes -dollars  Retail volumes -billion dollars  \\\n",
       "0              2.213380e+12                          2213.38   \n",
       "1              2.300080e+12                          2300.08   \n",
       "2              2.128750e+12                          2128.75   \n",
       "3              2.001500e+12                          2001.50   \n",
       "4              1.857050e+12                          1857.05   \n",
       "..                      ...                              ...   \n",
       "78             6.092810e+11                           609.28   \n",
       "79             6.059690e+11                           605.97   \n",
       "80             5.977010e+11                           597.70   \n",
       "81             5.046240e+11                           504.62   \n",
       "82             5.207460e+11                           520.75   \n",
       "\n",
       "    ln (Retail volumes)    VIX  Unemployment rate  Index Return  Fin Literacy  \\\n",
       "0                  7.70  30.24               0.06          0.02             1   \n",
       "1                  7.74  26.97               0.06          0.01             1   \n",
       "2                  7.66  20.77               0.07          0.10             1   \n",
       "3                  7.60  37.13               0.07         -0.02             1   \n",
       "4                  7.53  26.70               0.07         -0.04             1   \n",
       "..                  ...    ...                ...           ...           ...   \n",
       "78                 6.41  16.28               0.08          0.04             0   \n",
       "79                 6.41  14.49               0.08          0.01             0   \n",
       "80                 6.39  13.58               0.08          0.03             0   \n",
       "81                 6.22  15.36               0.08          0.00             0   \n",
       "82                 6.26  12.90               0.08          0.03             0   \n",
       "\n",
       "    ...  After Capital Gain tax  After Capital Gain tax total  \\\n",
       "0   ...               56.418827                     56.418827   \n",
       "1   ...               29.883334                     29.883334   \n",
       "2   ...              291.201489                    291.201489   \n",
       "3   ...              -60.744020                      0.000000   \n",
       "4   ...             -121.639807                      0.000000   \n",
       "..  ...                     ...                           ...   \n",
       "78  ...              103.161765                    103.161765   \n",
       "79  ...               37.602343                     37.602343   \n",
       "80  ...               82.225318                     82.225318   \n",
       "81  ...                9.557668                      9.557668   \n",
       "82  ...               98.248868                     98.248868   \n",
       "\n",
       "    Dividends monthly  Dividend tax  After Dividend tax  Total Gain  \\\n",
       "0                   4          0.88                3.12   59.538827   \n",
       "1                   4          0.88                3.12   33.003334   \n",
       "2                   4          0.88                3.12  294.321489   \n",
       "3                   4          0.88                3.12  -57.624020   \n",
       "4                   4          0.88                3.12 -118.519807   \n",
       "..                ...           ...                 ...         ...   \n",
       "78                  4          0.76                3.24  106.401765   \n",
       "79                  4          0.76                3.24   40.842343   \n",
       "80                  4          0.76                3.24   85.465318   \n",
       "81                  4          0.76                3.24   12.797668   \n",
       "82                  4          0.76                3.24  101.488868   \n",
       "\n",
       "    Comission (for trading)  Comissions paid  Comissions paid total  \\\n",
       "0                     0,00%         0.000000               0.000000   \n",
       "1                     0,00%         0.000000               0.000000   \n",
       "2                     0,00%         0.000000               0.000000   \n",
       "3                     0,00%         0.000000               0.000000   \n",
       "4                     0,00%         0.000000               0.000000   \n",
       "..                      ...              ...                    ...   \n",
       "78                    5,00%         5.320088               5.320088   \n",
       "79                    5,00%         2.042117               2.042117   \n",
       "80                    5,00%         4.273266               4.273266   \n",
       "81                    5,00%         0.639883               0.639883   \n",
       "82                    5,00%         5.074443               5.074443   \n",
       "\n",
       "    Cost To Trade total  \n",
       "0             57.298827  \n",
       "1             30.763334  \n",
       "2            292.081489  \n",
       "3              0.880000  \n",
       "4              0.880000  \n",
       "..                  ...  \n",
       "78           109.241853  \n",
       "79            40.404460  \n",
       "80            87.258584  \n",
       "81            10.957551  \n",
       "82           104.083311  \n",
       "\n",
       "[83 rows x 28 columns]"
      ]
     },
     "execution_count": 4,
     "metadata": {},
     "output_type": "execute_result"
    }
   ],
   "source": [
    "#------------------------------------------------------------------------------------------------------------------------------#\n",
    "#                                        Загрузка датафрейма c удаленными выбросами                                                                #\n",
    "#------------------------------------------------------------------------------------------------------------------------------#\n",
    "\n",
    "\n",
    "dataset_US_w_outliers = pd.read_csv(r\"C:\\Users\\peter\\OneDrive\\Документы\\ВКР\\ВКР работа\\Dataset_USA_without_outliers.csv\", delimiter = ';', decimal = ',')\n",
    "dataset_US_w_outliers = pd.DataFrame(dataset_US_w_outliers)\n",
    "dataset_US_w_outliers"
   ]
  },
  {
   "cell_type": "code",
   "execution_count": 5,
   "metadata": {},
   "outputs": [],
   "source": [
    "Cost_to_trade_w_o = dataset_US_w_outliers[\"Cost To Trade total\"]\n",
    "Fin_lit_w_o = dataset_US_w_outliers[\"Fin Literacy\"]\n",
    "Infl_w_o = dataset_US_w_outliers[\"Infl\"]\n",
    "Int_rate_w_o = dataset_US_w_outliers[\"Int rate\"]\n",
    "Deriv_w_o = dataset_US_w_outliers[\"Der Turnover\"]\n",
    "GDP_w_o = dataset_US_w_outliers[\"GDP growth\"]\n",
    "Marg_Trade_w_o = dataset_US_w_outliers[\"Marginal Trading\"]\n",
    "Return_w_o = dataset_US_w_outliers[\"Index Return\"]\n",
    "Unempl_w_o = dataset_US_w_outliers[\"Unemployment rate\"]\n",
    "VIX_w_o = dataset_US_w_outliers[\"VIX\"]\n",
    "ln_retail_volumes_w_o = dataset_US_w_outliers[\"ln (Retail volumes)\"]"
   ]
  },
  {
   "cell_type": "code",
   "execution_count": 6,
   "metadata": {},
   "outputs": [],
   "source": [
    "series_1_w_o = pd.Series([ln_retail_volumes_w_o, Return_w_o, Unempl_w_o, VIX_w_o, Marg_Trade_w_o, GDP_w_o, Deriv_w_o, Infl_w_o, Int_rate_w_o, Fin_lit_w_o, Cost_to_trade_w_o])"
   ]
  },
  {
   "cell_type": "code",
   "execution_count": 7,
   "metadata": {},
   "outputs": [
    {
     "data": {
      "text/html": [
       "<div>\n",
       "<style scoped>\n",
       "    .dataframe tbody tr th:only-of-type {\n",
       "        vertical-align: middle;\n",
       "    }\n",
       "\n",
       "    .dataframe tbody tr th {\n",
       "        vertical-align: top;\n",
       "    }\n",
       "\n",
       "    .dataframe thead th {\n",
       "        text-align: right;\n",
       "    }\n",
       "</style>\n",
       "<table border=\"1\" class=\"dataframe\">\n",
       "  <thead>\n",
       "    <tr style=\"text-align: right;\">\n",
       "      <th></th>\n",
       "      <th>ln_retail_volumes</th>\n",
       "      <th>VIX</th>\n",
       "      <th>Cost_to_trade</th>\n",
       "      <th>Unempl</th>\n",
       "      <th>GDP</th>\n",
       "      <th>Fin_lit</th>\n",
       "      <th>Marg_Trade</th>\n",
       "      <th>Return</th>\n",
       "      <th>Infl</th>\n",
       "      <th>Int_rate</th>\n",
       "      <th>Deriv</th>\n",
       "    </tr>\n",
       "  </thead>\n",
       "  <tbody>\n",
       "    <tr>\n",
       "      <td>0</td>\n",
       "      <td>7.70</td>\n",
       "      <td>30.24</td>\n",
       "      <td>57.298827</td>\n",
       "      <td>0.06</td>\n",
       "      <td>0.065</td>\n",
       "      <td>1</td>\n",
       "      <td>1</td>\n",
       "      <td>0.02</td>\n",
       "      <td>0.0043</td>\n",
       "      <td>0.0007</td>\n",
       "      <td>2894627</td>\n",
       "    </tr>\n",
       "    <tr>\n",
       "      <td>1</td>\n",
       "      <td>7.74</td>\n",
       "      <td>26.97</td>\n",
       "      <td>30.763334</td>\n",
       "      <td>0.06</td>\n",
       "      <td>0.065</td>\n",
       "      <td>1</td>\n",
       "      <td>1</td>\n",
       "      <td>0.01</td>\n",
       "      <td>0.0055</td>\n",
       "      <td>0.0008</td>\n",
       "      <td>2894627</td>\n",
       "    </tr>\n",
       "    <tr>\n",
       "      <td>2</td>\n",
       "      <td>7.66</td>\n",
       "      <td>20.77</td>\n",
       "      <td>292.081489</td>\n",
       "      <td>0.07</td>\n",
       "      <td>0.043</td>\n",
       "      <td>1</td>\n",
       "      <td>1</td>\n",
       "      <td>0.10</td>\n",
       "      <td>0.0009</td>\n",
       "      <td>0.0009</td>\n",
       "      <td>2696624</td>\n",
       "    </tr>\n",
       "    <tr>\n",
       "      <td>3</td>\n",
       "      <td>7.60</td>\n",
       "      <td>37.13</td>\n",
       "      <td>0.880000</td>\n",
       "      <td>0.07</td>\n",
       "      <td>0.043</td>\n",
       "      <td>1</td>\n",
       "      <td>1</td>\n",
       "      <td>-0.02</td>\n",
       "      <td>-0.0006</td>\n",
       "      <td>0.0009</td>\n",
       "      <td>2879377</td>\n",
       "    </tr>\n",
       "    <tr>\n",
       "      <td>4</td>\n",
       "      <td>7.53</td>\n",
       "      <td>26.70</td>\n",
       "      <td>0.880000</td>\n",
       "      <td>0.07</td>\n",
       "      <td>0.043</td>\n",
       "      <td>1</td>\n",
       "      <td>1</td>\n",
       "      <td>-0.04</td>\n",
       "      <td>0.0004</td>\n",
       "      <td>0.0009</td>\n",
       "      <td>2203521</td>\n",
       "    </tr>\n",
       "    <tr>\n",
       "      <td>...</td>\n",
       "      <td>...</td>\n",
       "      <td>...</td>\n",
       "      <td>...</td>\n",
       "      <td>...</td>\n",
       "      <td>...</td>\n",
       "      <td>...</td>\n",
       "      <td>...</td>\n",
       "      <td>...</td>\n",
       "      <td>...</td>\n",
       "      <td>...</td>\n",
       "      <td>...</td>\n",
       "    </tr>\n",
       "    <tr>\n",
       "      <td>78</td>\n",
       "      <td>6.41</td>\n",
       "      <td>16.28</td>\n",
       "      <td>109.241853</td>\n",
       "      <td>0.08</td>\n",
       "      <td>0.005</td>\n",
       "      <td>0</td>\n",
       "      <td>0</td>\n",
       "      <td>0.04</td>\n",
       "      <td>0.0024</td>\n",
       "      <td>0.0009</td>\n",
       "      <td>3082222</td>\n",
       "    </tr>\n",
       "    <tr>\n",
       "      <td>79</td>\n",
       "      <td>6.41</td>\n",
       "      <td>14.49</td>\n",
       "      <td>40.404460</td>\n",
       "      <td>0.08</td>\n",
       "      <td>0.005</td>\n",
       "      <td>0</td>\n",
       "      <td>0</td>\n",
       "      <td>0.01</td>\n",
       "      <td>0.0018</td>\n",
       "      <td>0.0009</td>\n",
       "      <td>2643380</td>\n",
       "    </tr>\n",
       "    <tr>\n",
       "      <td>80</td>\n",
       "      <td>6.39</td>\n",
       "      <td>13.58</td>\n",
       "      <td>87.258584</td>\n",
       "      <td>0.08</td>\n",
       "      <td>0.005</td>\n",
       "      <td>0</td>\n",
       "      <td>0</td>\n",
       "      <td>0.03</td>\n",
       "      <td>-0.0010</td>\n",
       "      <td>0.0011</td>\n",
       "      <td>2568009</td>\n",
       "    </tr>\n",
       "    <tr>\n",
       "      <td>81</td>\n",
       "      <td>6.22</td>\n",
       "      <td>15.36</td>\n",
       "      <td>10.957551</td>\n",
       "      <td>0.08</td>\n",
       "      <td>0.036</td>\n",
       "      <td>0</td>\n",
       "      <td>0</td>\n",
       "      <td>0.00</td>\n",
       "      <td>0.0026</td>\n",
       "      <td>0.0015</td>\n",
       "      <td>3351551</td>\n",
       "    </tr>\n",
       "    <tr>\n",
       "      <td>82</td>\n",
       "      <td>6.26</td>\n",
       "      <td>12.90</td>\n",
       "      <td>104.083311</td>\n",
       "      <td>0.08</td>\n",
       "      <td>0.036</td>\n",
       "      <td>0</td>\n",
       "      <td>0</td>\n",
       "      <td>0.03</td>\n",
       "      <td>0.0082</td>\n",
       "      <td>0.0014</td>\n",
       "      <td>2704619</td>\n",
       "    </tr>\n",
       "  </tbody>\n",
       "</table>\n",
       "<p>83 rows × 11 columns</p>\n",
       "</div>"
      ],
      "text/plain": [
       "    ln_retail_volumes    VIX  Cost_to_trade  Unempl    GDP  Fin_lit  \\\n",
       "0                7.70  30.24      57.298827    0.06  0.065        1   \n",
       "1                7.74  26.97      30.763334    0.06  0.065        1   \n",
       "2                7.66  20.77     292.081489    0.07  0.043        1   \n",
       "3                7.60  37.13       0.880000    0.07  0.043        1   \n",
       "4                7.53  26.70       0.880000    0.07  0.043        1   \n",
       "..                ...    ...            ...     ...    ...      ...   \n",
       "78               6.41  16.28     109.241853    0.08  0.005        0   \n",
       "79               6.41  14.49      40.404460    0.08  0.005        0   \n",
       "80               6.39  13.58      87.258584    0.08  0.005        0   \n",
       "81               6.22  15.36      10.957551    0.08  0.036        0   \n",
       "82               6.26  12.90     104.083311    0.08  0.036        0   \n",
       "\n",
       "    Marg_Trade  Return    Infl  Int_rate    Deriv  \n",
       "0            1    0.02  0.0043    0.0007  2894627  \n",
       "1            1    0.01  0.0055    0.0008  2894627  \n",
       "2            1    0.10  0.0009    0.0009  2696624  \n",
       "3            1   -0.02 -0.0006    0.0009  2879377  \n",
       "4            1   -0.04  0.0004    0.0009  2203521  \n",
       "..         ...     ...     ...       ...      ...  \n",
       "78           0    0.04  0.0024    0.0009  3082222  \n",
       "79           0    0.01  0.0018    0.0009  2643380  \n",
       "80           0    0.03 -0.0010    0.0011  2568009  \n",
       "81           0    0.00  0.0026    0.0015  3351551  \n",
       "82           0    0.03  0.0082    0.0014  2704619  \n",
       "\n",
       "[83 rows x 11 columns]"
      ]
     },
     "execution_count": 7,
     "metadata": {},
     "output_type": "execute_result"
    }
   ],
   "source": [
    "frame_1_w_o = {'ln_retail_volumes' : ln_retail_volumes_w_o, 'VIX' : VIX_w_o, 'Cost_to_trade' : Cost_to_trade_w_o, 'Unempl' : Unempl_w_o, \n",
    "        'GDP' : GDP_w_o, 'Fin_lit' : Fin_lit_w_o, 'Marg_Trade' : Marg_Trade_w_o, 'Return' : Return_w_o, 'Infl' : Infl_w_o, 'Int_rate' : Int_rate_w_o,\n",
    "         'Deriv' : Deriv_w_o}\n",
    "new_data_US_w_o = pd.DataFrame(frame_1_w_o)\n",
    "new_data_US_w_o"
   ]
  },
  {
   "cell_type": "code",
   "execution_count": 29,
   "metadata": {},
   "outputs": [
    {
     "name": "stderr",
     "output_type": "stream",
     "text": [
      "C:\\Users\\peter\\Anaconda3\\lib\\site-packages\\numpy\\core\\fromnumeric.py:2389: FutureWarning: Method .ptp is deprecated and will be removed in a future version. Use numpy.ptp instead.\n",
      "  return ptp(axis=axis, out=out, **kwargs)\n"
     ]
    },
    {
     "data": {
      "text/html": [
       "<table class=\"simpletable\">\n",
       "<caption>OLS Regression Results</caption>\n",
       "<tr>\n",
       "  <th>Dep. Variable:</th>    <td>ln_retail_volumes</td> <th>  R-squared:         </th> <td>   0.862</td>\n",
       "</tr>\n",
       "<tr>\n",
       "  <th>Model:</th>                   <td>OLS</td>        <th>  Adj. R-squared:    </th> <td>   0.843</td>\n",
       "</tr>\n",
       "<tr>\n",
       "  <th>Method:</th>             <td>Least Squares</td>   <th>  F-statistic:       </th> <td>   45.11</td>\n",
       "</tr>\n",
       "<tr>\n",
       "  <th>Date:</th>             <td>Fri, 30 Apr 2021</td>  <th>  Prob (F-statistic):</th> <td>5.08e-27</td>\n",
       "</tr>\n",
       "<tr>\n",
       "  <th>Time:</th>                 <td>11:19:42</td>      <th>  Log-Likelihood:    </th> <td>  63.949</td>\n",
       "</tr>\n",
       "<tr>\n",
       "  <th>No. Observations:</th>      <td>    83</td>       <th>  AIC:               </th> <td>  -105.9</td>\n",
       "</tr>\n",
       "<tr>\n",
       "  <th>Df Residuals:</th>          <td>    72</td>       <th>  BIC:               </th> <td>  -79.29</td>\n",
       "</tr>\n",
       "<tr>\n",
       "  <th>Df Model:</th>              <td>    10</td>       <th>                     </th>     <td> </td>   \n",
       "</tr>\n",
       "<tr>\n",
       "  <th>Covariance Type:</th>      <td>nonrobust</td>     <th>                     </th>     <td> </td>   \n",
       "</tr>\n",
       "</table>\n",
       "<table class=\"simpletable\">\n",
       "<tr>\n",
       "        <td></td>           <th>coef</th>     <th>std err</th>      <th>t</th>      <th>P>|t|</th>  <th>[0.025</th>    <th>0.975]</th>  \n",
       "</tr>\n",
       "<tr>\n",
       "  <th>const</th>         <td>    6.8277</td> <td>    0.227</td> <td>   30.081</td> <td> 0.000</td> <td>    6.375</td> <td>    7.280</td>\n",
       "</tr>\n",
       "<tr>\n",
       "  <th>VIX</th>           <td>    0.0105</td> <td>    0.005</td> <td>    2.014</td> <td> 0.048</td> <td>    0.000</td> <td>    0.021</td>\n",
       "</tr>\n",
       "<tr>\n",
       "  <th>Cost_to_trade</th> <td>   -0.0003</td> <td>    0.000</td> <td>   -0.512</td> <td> 0.610</td> <td>   -0.001</td> <td>    0.001</td>\n",
       "</tr>\n",
       "<tr>\n",
       "  <th>GDP</th>           <td>   -4.5930</td> <td>    0.858</td> <td>   -5.355</td> <td> 0.000</td> <td>   -6.303</td> <td>   -2.883</td>\n",
       "</tr>\n",
       "<tr>\n",
       "  <th>Fin_lit</th>       <td>    0.2074</td> <td>    0.084</td> <td>    2.461</td> <td> 0.016</td> <td>    0.039</td> <td>    0.375</td>\n",
       "</tr>\n",
       "<tr>\n",
       "  <th>Marg_Trade</th>    <td>    1.0006</td> <td>    0.118</td> <td>    8.499</td> <td> 0.000</td> <td>    0.766</td> <td>    1.235</td>\n",
       "</tr>\n",
       "<tr>\n",
       "  <th>Return</th>        <td>    0.4315</td> <td>    1.034</td> <td>    0.417</td> <td> 0.678</td> <td>   -1.631</td> <td>    2.494</td>\n",
       "</tr>\n",
       "<tr>\n",
       "  <th>Infl</th>          <td>    2.3086</td> <td>    4.939</td> <td>    0.467</td> <td> 0.642</td> <td>   -7.537</td> <td>   12.154</td>\n",
       "</tr>\n",
       "<tr>\n",
       "  <th>Int_rate</th>      <td>    4.5938</td> <td>    3.333</td> <td>    1.378</td> <td> 0.172</td> <td>   -2.051</td> <td>   11.239</td>\n",
       "</tr>\n",
       "<tr>\n",
       "  <th>Deriv</th>         <td> 1.203e-08</td> <td> 1.45e-08</td> <td>    0.833</td> <td> 0.408</td> <td>-1.68e-08</td> <td> 4.08e-08</td>\n",
       "</tr>\n",
       "<tr>\n",
       "  <th>Unempl</th>        <td>   -7.2526</td> <td>    3.004</td> <td>   -2.414</td> <td> 0.018</td> <td>  -13.241</td> <td>   -1.264</td>\n",
       "</tr>\n",
       "</table>\n",
       "<table class=\"simpletable\">\n",
       "<tr>\n",
       "  <th>Omnibus:</th>       <td> 5.849</td> <th>  Durbin-Watson:     </th> <td>   1.591</td>\n",
       "</tr>\n",
       "<tr>\n",
       "  <th>Prob(Omnibus):</th> <td> 0.054</td> <th>  Jarque-Bera (JB):  </th> <td>   5.501</td>\n",
       "</tr>\n",
       "<tr>\n",
       "  <th>Skew:</th>          <td> 0.628</td> <th>  Prob(JB):          </th> <td>  0.0639</td>\n",
       "</tr>\n",
       "<tr>\n",
       "  <th>Kurtosis:</th>      <td> 3.113</td> <th>  Cond. No.          </th> <td>1.86e+09</td>\n",
       "</tr>\n",
       "</table><br/><br/>Notes:<br/>[1] Standard Errors assume that the covariance matrix of the errors is correctly specified.<br/>[2] The condition number is large, 1.86e+09. This might indicate that there are<br/>strong multicollinearity or other numerical problems."
      ],
      "text/plain": [
       "<class 'statsmodels.iolib.summary.Summary'>\n",
       "\"\"\"\n",
       "                            OLS Regression Results                            \n",
       "==============================================================================\n",
       "Dep. Variable:      ln_retail_volumes   R-squared:                       0.862\n",
       "Model:                            OLS   Adj. R-squared:                  0.843\n",
       "Method:                 Least Squares   F-statistic:                     45.11\n",
       "Date:                Fri, 30 Apr 2021   Prob (F-statistic):           5.08e-27\n",
       "Time:                        11:19:42   Log-Likelihood:                 63.949\n",
       "No. Observations:                  83   AIC:                            -105.9\n",
       "Df Residuals:                      72   BIC:                            -79.29\n",
       "Df Model:                          10                                         \n",
       "Covariance Type:            nonrobust                                         \n",
       "=================================================================================\n",
       "                    coef    std err          t      P>|t|      [0.025      0.975]\n",
       "---------------------------------------------------------------------------------\n",
       "const             6.8277      0.227     30.081      0.000       6.375       7.280\n",
       "VIX               0.0105      0.005      2.014      0.048       0.000       0.021\n",
       "Cost_to_trade    -0.0003      0.000     -0.512      0.610      -0.001       0.001\n",
       "GDP              -4.5930      0.858     -5.355      0.000      -6.303      -2.883\n",
       "Fin_lit           0.2074      0.084      2.461      0.016       0.039       0.375\n",
       "Marg_Trade        1.0006      0.118      8.499      0.000       0.766       1.235\n",
       "Return            0.4315      1.034      0.417      0.678      -1.631       2.494\n",
       "Infl              2.3086      4.939      0.467      0.642      -7.537      12.154\n",
       "Int_rate          4.5938      3.333      1.378      0.172      -2.051      11.239\n",
       "Deriv          1.203e-08   1.45e-08      0.833      0.408   -1.68e-08    4.08e-08\n",
       "Unempl           -7.2526      3.004     -2.414      0.018     -13.241      -1.264\n",
       "==============================================================================\n",
       "Omnibus:                        5.849   Durbin-Watson:                   1.591\n",
       "Prob(Omnibus):                  0.054   Jarque-Bera (JB):                5.501\n",
       "Skew:                           0.628   Prob(JB):                       0.0639\n",
       "Kurtosis:                       3.113   Cond. No.                     1.86e+09\n",
       "==============================================================================\n",
       "\n",
       "Notes:\n",
       "[1] Standard Errors assume that the covariance matrix of the errors is correctly specified.\n",
       "[2] The condition number is large, 1.86e+09. This might indicate that there are\n",
       "strong multicollinearity or other numerical problems.\n",
       "\"\"\""
      ]
     },
     "execution_count": 29,
     "metadata": {},
     "output_type": "execute_result"
    }
   ],
   "source": [
    "#------------------------------------------------------------------------------------------------------------------------------#\n",
    "#                                        Построение модели для США с удаленными выбросами                                                                #\n",
    "#------------------------------------------------------------------------------------------------------------------------------#\n",
    "\n",
    "\n",
    "Y_w_o = new_data_US_w_o['ln_retail_volumes'] \n",
    "X_w_o = new_data_US_w_o[['VIX', 'Cost_to_trade', 'GDP', 'Fin_lit', 'Marg_Trade', 'Return', 'Infl', 'Int_rate',\n",
    "         'Deriv', 'Unempl']]\n",
    "X_w_o = sm.add_constant(X_w_o)\n",
    "\n",
    "model_w_o = sm.OLS(Y_w_o, X_w_o).fit()\n",
    "predictions = model_w_o.predict(X_w_o)\n",
    "model_w_o.summary()"
   ]
  },
  {
   "cell_type": "code",
   "execution_count": 30,
   "metadata": {},
   "outputs": [
    {
     "data": {
      "text/plain": [
       "0.9688628075915748"
      ]
     },
     "execution_count": 30,
     "metadata": {},
     "output_type": "execute_result"
    },
    {
     "data": {
      "image/png": "[encoded data removed]",
      "text/plain": [
       "<Figure size 432x180 with 1 Axes>"
      ]
     },
     "metadata": {
      "needs_background": "light"
     },
     "output_type": "display_data"
    }
   ],
   "source": [
    "#------------------------------------------------------------------------------------------------------------------------------#\n",
    "#                                        Проверка на нормальность                                                                  #\n",
    "#------------------------------------------------------------------------------------------------------------------------------#\n",
    "\n",
    "\n",
    "shapiro_test_w_o = stats.shapiro(model_w_o.resid)\n",
    "shapiro_test_w_o\n",
    "fig, ax = plt.subplots(figsize=(6,2.5))\n",
    "_, (__, ___, r) = sp.stats.probplot(model_w_o.resid, plot=ax, fit=True)\n",
    "r**2"
   ]
  },
  {
   "cell_type": "code",
   "execution_count": 31,
   "metadata": {},
   "outputs": [],
   "source": [
    "#------------------------------------------------------------------------------------------------------------------------------#\n",
    "#                                        Проверка на гетероскедастичность                                                                   #\n",
    "#------------------------------------------------------------------------------------------------------------------------------#\n",
    "\n",
    "\n",
    "def homoscedasticity_test(model):\n",
    "    \n",
    "    fitted_vals = model.predict()\n",
    "    resids = model.resid\n",
    "    resids_standardized = model.get_influence().resid_studentized_internal\n",
    "\n",
    "    fig, ax = plt.subplots(1,2)\n",
    "\n",
    "    sns.regplot(x=fitted_vals, y=resids, lowess=True, ax=ax[0], line_kws={'color': 'red'})\n",
    "    ax[0].set_title('Residuals vs Fitted', fontsize=16)\n",
    "    ax[0].set(xlabel='Fitted Values', ylabel='Residuals')\n",
    "\n",
    "    sns.regplot(x=fitted_vals, y=np.sqrt(np.abs(resids_standardized)), lowess=True, ax=ax[1], line_kws={'color': 'red'})\n",
    "    ax[1].set_title('Scale-Location', fontsize=16)\n",
    "    ax[1].set(xlabel='Fitted Values', ylabel='sqrt(abs(Residuals))')\n",
    "\n",
    "    bp_test = pd.DataFrame(sms.het_breuschpagan(resids, model.model.exog), \n",
    "                           columns=['value'],\n",
    "                           index=['Lagrange multiplier statistic', 'p-value', 'f-value', 'f p-value'])\n",
    "\n",
    "    gq_test = pd.DataFrame(sms.het_goldfeldquandt(resids, model.model.exog)[:-1],\n",
    "                           columns=['value'],\n",
    "                           index=['F statistic', 'p-value'])\n",
    "\n",
    "    print('\\n Breusch-Pagan test ----')\n",
    "    print(bp_test)\n",
    "    print('\\n Goldfeld-Quandt test ----')\n",
    "    print(gq_test)\n",
    "    print('\\n Residuals plots ----')"
   ]
  },
  {
   "cell_type": "code",
   "execution_count": 32,
   "metadata": {
    "scrolled": true
   },
   "outputs": [
    {
     "name": "stdout",
     "output_type": "stream",
     "text": [
      "\n",
      " Breusch-Pagan test ----\n",
      "                                  value\n",
      "Lagrange multiplier statistic  2.553897\n",
      "p-value                        0.990067\n",
      "f-value                        0.228576\n",
      "f p-value                      0.992597\n",
      "\n",
      " Goldfeld-Quandt test ----\n",
      "                value\n",
      "F statistic  0.854436\n",
      "p-value      0.668443\n",
      "\n",
      " Residuals plots ----\n"
     ]
    },
    {
     "data": {
      "image/png": "[encoded data removed]",
      "text/plain": [
       "<Figure size 432x288 with 2 Axes>"
      ]
     },
     "metadata": {
      "needs_background": "light"
     },
     "output_type": "display_data"
    }
   ],
   "source": [
    "homoscedasticity_test(model_w_o)"
   ]
  },
  {
   "cell_type": "code",
   "execution_count": 25,
   "metadata": {
    "collapsed": true
   },
   "outputs": [
    {
     "ename": "AssertionError",
     "evalue": "",
     "output_type": "error",
     "traceback": [
      "\u001b[1;31m---------------------------------------------------------------------------\u001b[0m",
      "\u001b[1;31mAssertionError\u001b[0m                            Traceback (most recent call last)",
      "\u001b[1;32m<ipython-input-25-750fb6ae9a3c>\u001b[0m in \u001b[0;36m<module>\u001b[1;34m\u001b[0m\n\u001b[1;32m----> 1\u001b[1;33m white_test_w_o = pd.DataFrame(sms.het_white(model_w_o.resid, model_w_o.model.exog), \n\u001b[0m\u001b[0;32m      2\u001b[0m                            \u001b[0mcolumns\u001b[0m\u001b[1;33m=\u001b[0m\u001b[1;33m[\u001b[0m\u001b[1;34m'value'\u001b[0m\u001b[1;33m]\u001b[0m\u001b[1;33m,\u001b[0m\u001b[1;33m\u001b[0m\u001b[1;33m\u001b[0m\u001b[0m\n\u001b[0;32m      3\u001b[0m                            index=['LM statistic', 'p-value', 'f-value', 'f p-value'])\n\u001b[0;32m      4\u001b[0m \u001b[0mprint\u001b[0m\u001b[1;33m(\u001b[0m\u001b[0mwhite_test_w_o\u001b[0m\u001b[1;33m)\u001b[0m\u001b[1;33m\u001b[0m\u001b[1;33m\u001b[0m\u001b[0m\n",
      "\u001b[1;32m~\\Anaconda3\\lib\\site-packages\\statsmodels\\stats\\diagnostic.py\u001b[0m in \u001b[0;36mhet_white\u001b[1;34m(resid, exog)\u001b[0m\n\u001b[0;32m    997\u001b[0m     \u001b[1;31m# df_model checks the rank to determine df\u001b[0m\u001b[1;33m\u001b[0m\u001b[1;33m\u001b[0m\u001b[1;33m\u001b[0m\u001b[0m\n\u001b[0;32m    998\u001b[0m     \u001b[1;31m# extra calculation that can be removed:\u001b[0m\u001b[1;33m\u001b[0m\u001b[1;33m\u001b[0m\u001b[1;33m\u001b[0m\u001b[0m\n\u001b[1;32m--> 999\u001b[1;33m     \u001b[1;32massert\u001b[0m \u001b[0mresols\u001b[0m\u001b[1;33m.\u001b[0m\u001b[0mdf_model\u001b[0m \u001b[1;33m==\u001b[0m \u001b[0mnp\u001b[0m\u001b[1;33m.\u001b[0m\u001b[0mlinalg\u001b[0m\u001b[1;33m.\u001b[0m\u001b[0mmatrix_rank\u001b[0m\u001b[1;33m(\u001b[0m\u001b[0mexog\u001b[0m\u001b[1;33m)\u001b[0m \u001b[1;33m-\u001b[0m \u001b[1;36m1\u001b[0m\u001b[1;33m\u001b[0m\u001b[1;33m\u001b[0m\u001b[0m\n\u001b[0m\u001b[0;32m   1000\u001b[0m     \u001b[0mlmpval\u001b[0m \u001b[1;33m=\u001b[0m \u001b[0mstats\u001b[0m\u001b[1;33m.\u001b[0m\u001b[0mchi2\u001b[0m\u001b[1;33m.\u001b[0m\u001b[0msf\u001b[0m\u001b[1;33m(\u001b[0m\u001b[0mlm\u001b[0m\u001b[1;33m,\u001b[0m \u001b[0mresols\u001b[0m\u001b[1;33m.\u001b[0m\u001b[0mdf_model\u001b[0m\u001b[1;33m)\u001b[0m\u001b[1;33m\u001b[0m\u001b[1;33m\u001b[0m\u001b[0m\n\u001b[0;32m   1001\u001b[0m     \u001b[1;32mreturn\u001b[0m \u001b[0mlm\u001b[0m\u001b[1;33m,\u001b[0m \u001b[0mlmpval\u001b[0m\u001b[1;33m,\u001b[0m \u001b[0mfval\u001b[0m\u001b[1;33m,\u001b[0m \u001b[0mfpval\u001b[0m\u001b[1;33m\u001b[0m\u001b[1;33m\u001b[0m\u001b[0m\n",
      "\u001b[1;31mAssertionError\u001b[0m: "
     ]
    }
   ],
   "source": [
    "white_test_w_o = pd.DataFrame(sms.het_white(model_w_o.resid, model_w_o.model.exog), \n",
    "                           columns=['value'],\n",
    "                           index=['LM statistic', 'p-value', 'f-value', 'f p-value'])\n",
    "print(white_test_w_o)"
   ]
  },
  {
   "cell_type": "code",
   "execution_count": 35,
   "metadata": {},
   "outputs": [
    {
     "name": "stderr",
     "output_type": "stream",
     "text": [
      "C:\\Users\\peter\\Anaconda3\\lib\\site-packages\\numpy\\core\\fromnumeric.py:2389: FutureWarning: Method .ptp is deprecated and will be removed in a future version. Use numpy.ptp instead.\n",
      "  return ptp(axis=axis, out=out, **kwargs)\n",
      "C:\\Users\\peter\\Anaconda3\\lib\\site-packages\\statsmodels\\base\\model.py:1834: ValueWarning: covariance of constraints does not have full rank. The number of constraints is 10, but rank is 9\n",
      "  'rank is %d' % (J, J_), ValueWarning)\n"
     ]
    },
    {
     "data": {
      "text/html": [
       "<table class=\"simpletable\">\n",
       "<caption>OLS Regression Results</caption>\n",
       "<tr>\n",
       "  <th>Dep. Variable:</th>    <td>ln_retail_volumes</td> <th>  R-squared:         </th> <td>   0.862</td>\n",
       "</tr>\n",
       "<tr>\n",
       "  <th>Model:</th>                   <td>OLS</td>        <th>  Adj. R-squared:    </th> <td>   0.843</td>\n",
       "</tr>\n",
       "<tr>\n",
       "  <th>Method:</th>             <td>Least Squares</td>   <th>  F-statistic:       </th> <td>   82.31</td>\n",
       "</tr>\n",
       "<tr>\n",
       "  <th>Date:</th>             <td>Fri, 30 Apr 2021</td>  <th>  Prob (F-statistic):</th> <td>2.76e-34</td>\n",
       "</tr>\n",
       "<tr>\n",
       "  <th>Time:</th>                 <td>11:20:32</td>      <th>  Log-Likelihood:    </th> <td>  63.949</td>\n",
       "</tr>\n",
       "<tr>\n",
       "  <th>No. Observations:</th>      <td>    83</td>       <th>  AIC:               </th> <td>  -105.9</td>\n",
       "</tr>\n",
       "<tr>\n",
       "  <th>Df Residuals:</th>          <td>    72</td>       <th>  BIC:               </th> <td>  -79.29</td>\n",
       "</tr>\n",
       "<tr>\n",
       "  <th>Df Model:</th>              <td>    10</td>       <th>                     </th>     <td> </td>   \n",
       "</tr>\n",
       "<tr>\n",
       "  <th>Covariance Type:</th>         <td>HC0</td>        <th>                     </th>     <td> </td>   \n",
       "</tr>\n",
       "</table>\n",
       "<table class=\"simpletable\">\n",
       "<tr>\n",
       "        <td></td>           <th>coef</th>     <th>std err</th>      <th>z</th>      <th>P>|z|</th>  <th>[0.025</th>    <th>0.975]</th>  \n",
       "</tr>\n",
       "<tr>\n",
       "  <th>const</th>         <td>    6.8277</td> <td>    0.202</td> <td>   33.818</td> <td> 0.000</td> <td>    6.432</td> <td>    7.223</td>\n",
       "</tr>\n",
       "<tr>\n",
       "  <th>VIX</th>           <td>    0.0105</td> <td>    0.005</td> <td>    2.216</td> <td> 0.027</td> <td>    0.001</td> <td>    0.020</td>\n",
       "</tr>\n",
       "<tr>\n",
       "  <th>Cost_to_trade</th> <td>   -0.0003</td> <td>    0.000</td> <td>   -0.528</td> <td> 0.598</td> <td>   -0.001</td> <td>    0.001</td>\n",
       "</tr>\n",
       "<tr>\n",
       "  <th>GDP</th>           <td>   -4.5930</td> <td>    1.031</td> <td>   -4.457</td> <td> 0.000</td> <td>   -6.613</td> <td>   -2.573</td>\n",
       "</tr>\n",
       "<tr>\n",
       "  <th>Fin_lit</th>       <td>    0.2074</td> <td>    0.084</td> <td>    2.462</td> <td> 0.014</td> <td>    0.042</td> <td>    0.372</td>\n",
       "</tr>\n",
       "<tr>\n",
       "  <th>Marg_Trade</th>    <td>    1.0006</td> <td>    0.112</td> <td>    8.895</td> <td> 0.000</td> <td>    0.780</td> <td>    1.221</td>\n",
       "</tr>\n",
       "<tr>\n",
       "  <th>Return</th>        <td>    0.4315</td> <td>    0.956</td> <td>    0.451</td> <td> 0.652</td> <td>   -1.443</td> <td>    2.306</td>\n",
       "</tr>\n",
       "<tr>\n",
       "  <th>Infl</th>          <td>    2.3086</td> <td>    4.960</td> <td>    0.465</td> <td> 0.642</td> <td>   -7.413</td> <td>   12.030</td>\n",
       "</tr>\n",
       "<tr>\n",
       "  <th>Int_rate</th>      <td>    4.5938</td> <td>    2.913</td> <td>    1.577</td> <td> 0.115</td> <td>   -1.116</td> <td>   10.304</td>\n",
       "</tr>\n",
       "<tr>\n",
       "  <th>Deriv</th>         <td> 1.203e-08</td> <td> 1.35e-08</td> <td>    0.893</td> <td> 0.372</td> <td>-1.44e-08</td> <td> 3.84e-08</td>\n",
       "</tr>\n",
       "<tr>\n",
       "  <th>Unempl</th>        <td>   -7.2526</td> <td>    2.714</td> <td>   -2.672</td> <td> 0.008</td> <td>  -12.572</td> <td>   -1.933</td>\n",
       "</tr>\n",
       "</table>\n",
       "<table class=\"simpletable\">\n",
       "<tr>\n",
       "  <th>Omnibus:</th>       <td> 5.849</td> <th>  Durbin-Watson:     </th> <td>   1.591</td>\n",
       "</tr>\n",
       "<tr>\n",
       "  <th>Prob(Omnibus):</th> <td> 0.054</td> <th>  Jarque-Bera (JB):  </th> <td>   5.501</td>\n",
       "</tr>\n",
       "<tr>\n",
       "  <th>Skew:</th>          <td> 0.628</td> <th>  Prob(JB):          </th> <td>  0.0639</td>\n",
       "</tr>\n",
       "<tr>\n",
       "  <th>Kurtosis:</th>      <td> 3.113</td> <th>  Cond. No.          </th> <td>1.86e+09</td>\n",
       "</tr>\n",
       "</table><br/><br/>Notes:<br/>[1] Standard Errors are heteroscedasticity robust (HC0)<br/>[2] The condition number is large, 1.86e+09. This might indicate that there are<br/>strong multicollinearity or other numerical problems."
      ],
      "text/plain": [
       "<class 'statsmodels.iolib.summary.Summary'>\n",
       "\"\"\"\n",
       "                            OLS Regression Results                            \n",
       "==============================================================================\n",
       "Dep. Variable:      ln_retail_volumes   R-squared:                       0.862\n",
       "Model:                            OLS   Adj. R-squared:                  0.843\n",
       "Method:                 Least Squares   F-statistic:                     82.31\n",
       "Date:                Fri, 30 Apr 2021   Prob (F-statistic):           2.76e-34\n",
       "Time:                        11:20:32   Log-Likelihood:                 63.949\n",
       "No. Observations:                  83   AIC:                            -105.9\n",
       "Df Residuals:                      72   BIC:                            -79.29\n",
       "Df Model:                          10                                         \n",
       "Covariance Type:                  HC0                                         \n",
       "=================================================================================\n",
       "                    coef    std err          z      P>|z|      [0.025      0.975]\n",
       "---------------------------------------------------------------------------------\n",
       "const             6.8277      0.202     33.818      0.000       6.432       7.223\n",
       "VIX               0.0105      0.005      2.216      0.027       0.001       0.020\n",
       "Cost_to_trade    -0.0003      0.000     -0.528      0.598      -0.001       0.001\n",
       "GDP              -4.5930      1.031     -4.457      0.000      -6.613      -2.573\n",
       "Fin_lit           0.2074      0.084      2.462      0.014       0.042       0.372\n",
       "Marg_Trade        1.0006      0.112      8.895      0.000       0.780       1.221\n",
       "Return            0.4315      0.956      0.451      0.652      -1.443       2.306\n",
       "Infl              2.3086      4.960      0.465      0.642      -7.413      12.030\n",
       "Int_rate          4.5938      2.913      1.577      0.115      -1.116      10.304\n",
       "Deriv          1.203e-08   1.35e-08      0.893      0.372   -1.44e-08    3.84e-08\n",
       "Unempl           -7.2526      2.714     -2.672      0.008     -12.572      -1.933\n",
       "==============================================================================\n",
       "Omnibus:                        5.849   Durbin-Watson:                   1.591\n",
       "Prob(Omnibus):                  0.054   Jarque-Bera (JB):                5.501\n",
       "Skew:                           0.628   Prob(JB):                       0.0639\n",
       "Kurtosis:                       3.113   Cond. No.                     1.86e+09\n",
       "==============================================================================\n",
       "\n",
       "Notes:\n",
       "[1] Standard Errors are heteroscedasticity robust (HC0)\n",
       "[2] The condition number is large, 1.86e+09. This might indicate that there are\n",
       "strong multicollinearity or other numerical problems.\n",
       "\"\"\""
      ]
     },
     "execution_count": 35,
     "metadata": {},
     "output_type": "execute_result"
    }
   ],
   "source": [
    "#------------------------------------------------------------------------------------------------------------------------------#\n",
    "#                                        Построение регрессии для США со стандартными ошибками в форме Уайта                                                                 #\n",
    "#------------------------------------------------------------------------------------------------------------------------------#\n",
    "\n",
    "Y_w_o = new_data_US_w_o['ln_retail_volumes'] \n",
    "X_w_o = new_data_US_w_o[['VIX', 'Cost_to_trade', 'GDP', 'Fin_lit', 'Marg_Trade', 'Return', 'Infl', 'Int_rate',\n",
    "         'Deriv', 'Unempl']]\n",
    "X_w_o = sm.add_constant(X_w_o)\n",
    "\n",
    "model_w_o = sm.OLS(Y_w_o, X_w_o).fit(cov_type='HC0')\n",
    "predictions = model_w_o.predict(X_w_o)\n",
    "model_w_o.summary()"
   ]
  },
  {
   "cell_type": "code",
   "execution_count": 36,
   "metadata": {},
   "outputs": [
    {
     "data": {
      "text/plain": [
       "(0.9662619829177856, 0.02805459313094616)"
      ]
     },
     "execution_count": 36,
     "metadata": {},
     "output_type": "execute_result"
    }
   ],
   "source": [
    "shapiro_test = stats.shapiro(model_w_o.resid)\n",
    "shapiro_test"
   ]
  },
  {
   "cell_type": "code",
   "execution_count": 426,
   "metadata": {},
   "outputs": [
    {
     "name": "stderr",
     "output_type": "stream",
     "text": [
      "C:\\Users\\peter\\Anaconda3\\lib\\site-packages\\statsmodels\\base\\model.py:1752: ValueWarning: covariance of constraints does not have full rank. The number of constraints is 10, but rank is 9\n",
      "  \n"
     ]
    },
    {
     "data": {
      "text/html": [
       "<table class=\"simpletable\">\n",
       "<caption>OLS Regression Results</caption>\n",
       "<tr>\n",
       "  <th>Dep. Variable:</th>    <td>ln_retail_volumes</td> <th>  R-squared:         </th> <td>   0.862</td>\n",
       "</tr>\n",
       "<tr>\n",
       "  <th>Model:</th>                   <td>OLS</td>        <th>  Adj. R-squared:    </th> <td>   0.843</td>\n",
       "</tr>\n",
       "<tr>\n",
       "  <th>Method:</th>             <td>Least Squares</td>   <th>  F-statistic:       </th> <td>   82.31</td>\n",
       "</tr>\n",
       "<tr>\n",
       "  <th>Date:</th>             <td>Wed, 28 Apr 2021</td>  <th>  Prob (F-statistic):</th> <td>2.76e-34</td>\n",
       "</tr>\n",
       "<tr>\n",
       "  <th>Time:</th>                 <td>19:34:39</td>      <th>  Log-Likelihood:    </th> <td>  63.949</td>\n",
       "</tr>\n",
       "<tr>\n",
       "  <th>No. Observations:</th>      <td>    83</td>       <th>  AIC:               </th> <td>  -105.9</td>\n",
       "</tr>\n",
       "<tr>\n",
       "  <th>Df Residuals:</th>          <td>    72</td>       <th>  BIC:               </th> <td>  -79.29</td>\n",
       "</tr>\n",
       "<tr>\n",
       "  <th>Df Model:</th>              <td>    10</td>       <th>                     </th>     <td> </td>   \n",
       "</tr>\n",
       "<tr>\n",
       "  <th>Covariance Type:</th>         <td>HC0</td>        <th>                     </th>     <td> </td>   \n",
       "</tr>\n",
       "</table>\n",
       "<table class=\"simpletable\">\n",
       "<tr>\n",
       "        <td></td>           <th>coef</th>     <th>std err</th>      <th>z</th>      <th>P>|z|</th>  <th>[0.025</th>    <th>0.975]</th>  \n",
       "</tr>\n",
       "<tr>\n",
       "  <th>const</th>         <td>    6.8277</td> <td>    0.202</td> <td>   33.818</td> <td> 0.000</td> <td>    6.432</td> <td>    7.223</td>\n",
       "</tr>\n",
       "<tr>\n",
       "  <th>VIX</th>           <td>    0.0105</td> <td>    0.005</td> <td>    2.216</td> <td> 0.027</td> <td>    0.001</td> <td>    0.020</td>\n",
       "</tr>\n",
       "<tr>\n",
       "  <th>Cost_to_trade</th> <td>   -0.0003</td> <td>    0.000</td> <td>   -0.528</td> <td> 0.598</td> <td>   -0.001</td> <td>    0.001</td>\n",
       "</tr>\n",
       "<tr>\n",
       "  <th>GDP</th>           <td>   -4.5930</td> <td>    1.031</td> <td>   -4.457</td> <td> 0.000</td> <td>   -6.613</td> <td>   -2.573</td>\n",
       "</tr>\n",
       "<tr>\n",
       "  <th>Fin_lit</th>       <td>    0.2074</td> <td>    0.084</td> <td>    2.462</td> <td> 0.014</td> <td>    0.042</td> <td>    0.372</td>\n",
       "</tr>\n",
       "<tr>\n",
       "  <th>Marg_Trade</th>    <td>    1.0006</td> <td>    0.112</td> <td>    8.895</td> <td> 0.000</td> <td>    0.780</td> <td>    1.221</td>\n",
       "</tr>\n",
       "<tr>\n",
       "  <th>Return</th>        <td>    0.4315</td> <td>    0.956</td> <td>    0.451</td> <td> 0.652</td> <td>   -1.443</td> <td>    2.306</td>\n",
       "</tr>\n",
       "<tr>\n",
       "  <th>Infl</th>          <td>    2.3086</td> <td>    4.960</td> <td>    0.465</td> <td> 0.642</td> <td>   -7.413</td> <td>   12.030</td>\n",
       "</tr>\n",
       "<tr>\n",
       "  <th>Int_rate</th>      <td>    4.5938</td> <td>    2.913</td> <td>    1.577</td> <td> 0.115</td> <td>   -1.116</td> <td>   10.304</td>\n",
       "</tr>\n",
       "<tr>\n",
       "  <th>Deriv</th>         <td> 1.203e-08</td> <td> 1.35e-08</td> <td>    0.893</td> <td> 0.372</td> <td>-1.44e-08</td> <td> 3.84e-08</td>\n",
       "</tr>\n",
       "<tr>\n",
       "  <th>Unempl</th>        <td>   -7.2526</td> <td>    2.714</td> <td>   -2.672</td> <td> 0.008</td> <td>  -12.572</td> <td>   -1.933</td>\n",
       "</tr>\n",
       "</table>\n",
       "<table class=\"simpletable\">\n",
       "<tr>\n",
       "  <th>Omnibus:</th>       <td> 5.849</td> <th>  Durbin-Watson:     </th> <td>   1.591</td>\n",
       "</tr>\n",
       "<tr>\n",
       "  <th>Prob(Omnibus):</th> <td> 0.054</td> <th>  Jarque-Bera (JB):  </th> <td>   5.501</td>\n",
       "</tr>\n",
       "<tr>\n",
       "  <th>Skew:</th>          <td> 0.628</td> <th>  Prob(JB):          </th> <td>  0.0639</td>\n",
       "</tr>\n",
       "<tr>\n",
       "  <th>Kurtosis:</th>      <td> 3.113</td> <th>  Cond. No.          </th> <td>1.86e+09</td>\n",
       "</tr>\n",
       "</table><br/><br/>Warnings:<br/>[1] Standard Errors are heteroscedasticity robust (HC0)<br/>[2] The condition number is large, 1.86e+09. This might indicate that there are<br/>strong multicollinearity or other numerical problems."
      ],
      "text/plain": [
       "<class 'statsmodels.iolib.summary.Summary'>\n",
       "\"\"\"\n",
       "                            OLS Regression Results                            \n",
       "==============================================================================\n",
       "Dep. Variable:      ln_retail_volumes   R-squared:                       0.862\n",
       "Model:                            OLS   Adj. R-squared:                  0.843\n",
       "Method:                 Least Squares   F-statistic:                     82.31\n",
       "Date:                Wed, 28 Apr 2021   Prob (F-statistic):           2.76e-34\n",
       "Time:                        19:34:39   Log-Likelihood:                 63.949\n",
       "No. Observations:                  83   AIC:                            -105.9\n",
       "Df Residuals:                      72   BIC:                            -79.29\n",
       "Df Model:                          10                                         \n",
       "Covariance Type:                  HC0                                         \n",
       "=================================================================================\n",
       "                    coef    std err          z      P>|z|      [0.025      0.975]\n",
       "---------------------------------------------------------------------------------\n",
       "const             6.8277      0.202     33.818      0.000       6.432       7.223\n",
       "VIX               0.0105      0.005      2.216      0.027       0.001       0.020\n",
       "Cost_to_trade    -0.0003      0.000     -0.528      0.598      -0.001       0.001\n",
       "GDP              -4.5930      1.031     -4.457      0.000      -6.613      -2.573\n",
       "Fin_lit           0.2074      0.084      2.462      0.014       0.042       0.372\n",
       "Marg_Trade        1.0006      0.112      8.895      0.000       0.780       1.221\n",
       "Return            0.4315      0.956      0.451      0.652      -1.443       2.306\n",
       "Infl              2.3086      4.960      0.465      0.642      -7.413      12.030\n",
       "Int_rate          4.5938      2.913      1.577      0.115      -1.116      10.304\n",
       "Deriv          1.203e-08   1.35e-08      0.893      0.372   -1.44e-08    3.84e-08\n",
       "Unempl           -7.2526      2.714     -2.672      0.008     -12.572      -1.933\n",
       "==============================================================================\n",
       "Omnibus:                        5.849   Durbin-Watson:                   1.591\n",
       "Prob(Omnibus):                  0.054   Jarque-Bera (JB):                5.501\n",
       "Skew:                           0.628   Prob(JB):                       0.0639\n",
       "Kurtosis:                       3.113   Cond. No.                     1.86e+09\n",
       "==============================================================================\n",
       "\n",
       "Warnings:\n",
       "[1] Standard Errors are heteroscedasticity robust (HC0)\n",
       "[2] The condition number is large, 1.86e+09. This might indicate that there are\n",
       "strong multicollinearity or other numerical problems.\n",
       "\"\"\""
      ]
     },
     "execution_count": 426,
     "metadata": {},
     "output_type": "execute_result"
    }
   ],
   "source": [
    "Y_w_o = new_data_US_w_o['ln_retail_volumes'] \n",
    "X_w_o = new_data_US_w_o[['VIX', 'Cost_to_trade', 'GDP', 'Fin_lit', 'Marg_Trade', 'Return', 'Infl', 'Int_rate',\n",
    "         'Deriv', 'Unempl']]\n",
    "X_w_o = sm.add_constant(X_w_o)\n",
    "\n",
    "model_w_o = sm.OLS(Y_w_o, X_w_o).fit(cov_type='HC0')\n",
    "predictions = model_w_o.predict(X_w_o)\n",
    "model_w_o.summary()"
   ]
  },
  {
   "cell_type": "code",
   "execution_count": 299,
   "metadata": {},
   "outputs": [
    {
     "data": {
      "text/plain": [
       "(0.9662619829177856, 0.02805459313094616)"
      ]
     },
     "execution_count": 299,
     "metadata": {},
     "output_type": "execute_result"
    }
   ],
   "source": [
    "shapiro_test_w_o = stats.shapiro(model_w_o.resid)\n",
    "shapiro_test_w_o"
   ]
  },
  {
   "cell_type": "code",
   "execution_count": 37,
   "metadata": {},
   "outputs": [
    {
     "data": {
      "text/html": [
       "<div>\n",
       "<style scoped>\n",
       "    .dataframe tbody tr th:only-of-type {\n",
       "        vertical-align: middle;\n",
       "    }\n",
       "\n",
       "    .dataframe tbody tr th {\n",
       "        vertical-align: top;\n",
       "    }\n",
       "\n",
       "    .dataframe thead th {\n",
       "        text-align: right;\n",
       "    }\n",
       "</style>\n",
       "<table border=\"1\" class=\"dataframe\">\n",
       "  <thead>\n",
       "    <tr style=\"text-align: right;\">\n",
       "      <th></th>\n",
       "      <th>VIF Factor</th>\n",
       "      <th>features</th>\n",
       "    </tr>\n",
       "  </thead>\n",
       "  <tbody>\n",
       "    <tr>\n",
       "      <td>0</td>\n",
       "      <td>295.791372</td>\n",
       "      <td>const</td>\n",
       "    </tr>\n",
       "    <tr>\n",
       "      <td>1</td>\n",
       "      <td>3.394636</td>\n",
       "      <td>VIX</td>\n",
       "    </tr>\n",
       "    <tr>\n",
       "      <td>2</td>\n",
       "      <td>5.790186</td>\n",
       "      <td>Cost_to_trade</td>\n",
       "    </tr>\n",
       "    <tr>\n",
       "      <td>3</td>\n",
       "      <td>1.449302</td>\n",
       "      <td>GDP</td>\n",
       "    </tr>\n",
       "    <tr>\n",
       "      <td>4</td>\n",
       "      <td>4.687804</td>\n",
       "      <td>Fin_lit</td>\n",
       "    </tr>\n",
       "    <tr>\n",
       "      <td>5</td>\n",
       "      <td>4.504948</td>\n",
       "      <td>Marg_Trade</td>\n",
       "    </tr>\n",
       "    <tr>\n",
       "      <td>6</td>\n",
       "      <td>6.615761</td>\n",
       "      <td>Return</td>\n",
       "    </tr>\n",
       "    <tr>\n",
       "      <td>7</td>\n",
       "      <td>1.058133</td>\n",
       "      <td>Infl</td>\n",
       "    </tr>\n",
       "    <tr>\n",
       "      <td>8</td>\n",
       "      <td>4.111579</td>\n",
       "      <td>Int_rate</td>\n",
       "    </tr>\n",
       "    <tr>\n",
       "      <td>9</td>\n",
       "      <td>2.456340</td>\n",
       "      <td>Deriv</td>\n",
       "    </tr>\n",
       "    <tr>\n",
       "      <td>10</td>\n",
       "      <td>8.007632</td>\n",
       "      <td>Unempl</td>\n",
       "    </tr>\n",
       "  </tbody>\n",
       "</table>\n",
       "</div>"
      ],
      "text/plain": [
       "    VIF Factor       features\n",
       "0   295.791372          const\n",
       "1     3.394636            VIX\n",
       "2     5.790186  Cost_to_trade\n",
       "3     1.449302            GDP\n",
       "4     4.687804        Fin_lit\n",
       "5     4.504948     Marg_Trade\n",
       "6     6.615761         Return\n",
       "7     1.058133           Infl\n",
       "8     4.111579       Int_rate\n",
       "9     2.456340          Deriv\n",
       "10    8.007632         Unempl"
      ]
     },
     "execution_count": 37,
     "metadata": {},
     "output_type": "execute_result"
    }
   ],
   "source": [
    "vif_w_o = pd.DataFrame()\n",
    "vif_w_o[\"VIF Factor\"] = [variance_inflation_factor(X_w_o.values, i) for i in range(X_w_o.shape[1])]\n",
    "vif_w_o[\"features\"] = X_w_o.columns\n",
    "vif_w_o"
   ]
  },
  {
   "cell_type": "code",
   "execution_count": 189,
   "metadata": {},
   "outputs": [
    {
     "name": "stderr",
     "output_type": "stream",
     "text": [
      "C:\\Users\\peter\\Anaconda3\\lib\\site-packages\\ipykernel_launcher.py:4: UserWarning: Matplotlib is currently using module://ipykernel.pylab.backend_inline, which is a non-GUI backend, so cannot show the figure.\n",
      "  after removing the cwd from sys.path.\n"
     ]
    },
    {
     "data": {
      "image/png": "[encoded data removed]",
      "text/plain": [
       "<Figure size 432x288 with 1 Axes>"
      ]
     },
     "metadata": {
      "needs_background": "light"
     },
     "output_type": "display_data"
    }
   ],
   "source": [
    "#------------------------------------------------------------------------------------------------------------------------------#\n",
    "#                                        Проверка на автокорреляцию в остатках                                                            #\n",
    "#------------------------------------------------------------------------------------------------------------------------------#\n",
    "\n",
    "import statsmodels.tsa.api as smt\n",
    "\n",
    "acf = smt.graphics.plot_acf(model_w_o.resid, lags=40 , alpha=0.05)\n",
    "acf.show()"
   ]
  },
  {
   "cell_type": "code",
   "execution_count": 190,
   "metadata": {},
   "outputs": [
    {
     "name": "stdout",
     "output_type": "stream",
     "text": [
      "Variable: const --- correlation: nan, p-value: nan\n",
      "Variable: VIX --- correlation: -0.0000, p-value: 1.0000\n",
      "Variable: Cost_to_trade --- correlation: -0.0000, p-value: 1.0000\n",
      "Variable: GDP --- correlation: 0.0000, p-value: 1.0000\n",
      "Variable: Fin_lit --- correlation: 0.0000, p-value: 1.0000\n",
      "Variable: Marg_Trade --- correlation: -0.0000, p-value: 1.0000\n",
      "Variable: Return --- correlation: -0.0000, p-value: 1.0000\n",
      "Variable: Infl --- correlation: -0.0000, p-value: 1.0000\n",
      "Variable: Int_rate --- correlation: -0.0000, p-value: 1.0000\n",
      "Variable: Deriv --- correlation: 0.0000, p-value: 1.0000\n",
      "Variable: Unempl --- correlation: 0.0000, p-value: 1.0000\n"
     ]
    },
    {
     "name": "stderr",
     "output_type": "stream",
     "text": [
      "C:\\Users\\peter\\Anaconda3\\lib\\site-packages\\scipy\\stats\\stats.py:3399: PearsonRConstantInputWarning: An input array is constant; the correlation coefficent is not defined.\n",
      "  warnings.warn(PearsonRConstantInputWarning())\n"
     ]
    }
   ],
   "source": [
    "#------------------------------------------------------------------------------------------------------------------------------#\n",
    "#                                        Проверка на корреляцию между регрессороми и оишбками                                                                 #\n",
    "#------------------------------------------------------------------------------------------------------------------------------#\n",
    "\n",
    "from scipy.stats.stats import pearsonr\n",
    "\n",
    "for column in X_w_o.columns:\n",
    "    corr_test = pearsonr(X_w_o[column], model_w_o.resid)\n",
    "    print(f'Variable: {column} --- correlation: {corr_test[0]:.4f}, p-value: {corr_test[1]:.4f}')\n"
   ]
  },
  {
   "cell_type": "code",
   "execution_count": 421,
   "metadata": {},
   "outputs": [
    {
     "data": {
      "image/png": "[encoded data removed]",
      "text/plain": [
       "<Figure size 864x432 with 1 Axes>"
      ]
     },
     "metadata": {
      "needs_background": "light"
     },
     "output_type": "display_data"
    }
   ],
   "source": [
    "plt.subplots(figsize=(12, 6))\n",
    "plt.title('Distribution of Residuals')\n",
    "sns.distplot(model.resid)\n",
    "plt.show()"
   ]
  },
  {
   "cell_type": "code",
   "execution_count": 192,
   "metadata": {
    "scrolled": true
   },
   "outputs": [
    {
     "data": {
      "text/plain": [
       "<matplotlib.axes._subplots.AxesSubplot at 0x20bbda728c8>"
      ]
     },
     "execution_count": 192,
     "metadata": {},
     "output_type": "execute_result"
    },
    {
     "data": {
      "image/png": "[encoded data removed]",
      "text/plain": [
       "<Figure size 432x288 with 1 Axes>"
      ]
     },
     "metadata": {
      "needs_background": "light"
     },
     "output_type": "display_data"
    }
   ],
   "source": [
    "new_data_US_w_o.boxplot(column=['Unempl'])"
   ]
  },
  {
   "cell_type": "code",
   "execution_count": 193,
   "metadata": {},
   "outputs": [
    {
     "data": {
      "text/plain": [
       "<matplotlib.axes._subplots.AxesSubplot at 0x20bbdc8c248>"
      ]
     },
     "execution_count": 193,
     "metadata": {},
     "output_type": "execute_result"
    },
    {
     "data": {
      "image/png": "[encoded data removed]",
      "text/plain": [
       "<Figure size 432x288 with 1 Axes>"
      ]
     },
     "metadata": {
      "needs_background": "light"
     },
     "output_type": "display_data"
    }
   ],
   "source": [
    "new_data_US_w_o.boxplot(column=['Infl'])"
   ]
  },
  {
   "cell_type": "code",
   "execution_count": 194,
   "metadata": {},
   "outputs": [
    {
     "data": {
      "text/plain": [
       "<matplotlib.axes._subplots.AxesSubplot at 0x20bbdcecc08>"
      ]
     },
     "execution_count": 194,
     "metadata": {},
     "output_type": "execute_result"
    },
    {
     "data": {
      "image/png": "[encoded data removed]",
      "text/plain": [
       "<Figure size 432x288 with 1 Axes>"
      ]
     },
     "metadata": {
      "needs_background": "light"
     },
     "output_type": "display_data"
    }
   ],
   "source": [
    "new_data_US_w_o.boxplot(column=['Int_rate'])"
   ]
  },
  {
   "cell_type": "code",
   "execution_count": 290,
   "metadata": {},
   "outputs": [
    {
     "data": {
      "text/plain": [
       "<matplotlib.axes._subplots.AxesSubplot at 0x20bbfa84648>"
      ]
     },
     "execution_count": 290,
     "metadata": {},
     "output_type": "execute_result"
    },
    {
     "data": {
      "image/png": "[encoded data removed]",
      "text/plain": [
       "<Figure size 432x288 with 1 Axes>"
      ]
     },
     "metadata": {
      "needs_background": "light"
     },
     "output_type": "display_data"
    }
   ],
   "source": [
    "new_data_US_w_o.boxplot(column=['VIX'])"
   ]
  },
  {
   "cell_type": "code",
   "execution_count": 293,
   "metadata": {},
   "outputs": [
    {
     "data": {
      "text/plain": [
       "<matplotlib.axes._subplots.AxesSubplot at 0x20bbfcec808>"
      ]
     },
     "execution_count": 293,
     "metadata": {},
     "output_type": "execute_result"
    },
    {
     "data": {
      "image/png": "[encoded data removed]",
      "text/plain": [
       "<Figure size 432x288 with 1 Axes>"
      ]
     },
     "metadata": {
      "needs_background": "light"
     },
     "output_type": "display_data"
    }
   ],
   "source": [
    "new_data_US_w_o.boxplot(column=['ln_retail_volumes'])"
   ]
  },
  {
   "cell_type": "code",
   "execution_count": 291,
   "metadata": {},
   "outputs": [
    {
     "data": {
      "text/plain": [
       "<matplotlib.axes._subplots.AxesSubplot at 0x20bbdac2648>"
      ]
     },
     "execution_count": 291,
     "metadata": {},
     "output_type": "execute_result"
    },
    {
     "data": {
      "image/png": "[encoded data removed]",
      "text/plain": [
       "<Figure size 432x288 with 1 Axes>"
      ]
     },
     "metadata": {
      "needs_background": "light"
     },
     "output_type": "display_data"
    }
   ],
   "source": [
    "new_data_US_w_o.boxplot(column=['Deriv'])"
   ]
  },
  {
   "cell_type": "code",
   "execution_count": 292,
   "metadata": {},
   "outputs": [
    {
     "data": {
      "text/plain": [
       "<matplotlib.axes._subplots.AxesSubplot at 0x20bbfc73588>"
      ]
     },
     "execution_count": 292,
     "metadata": {},
     "output_type": "execute_result"
    },
    {
     "data": {
      "image/png": "[encoded data removed]",
      "text/plain": [
       "<Figure size 432x288 with 1 Axes>"
      ]
     },
     "metadata": {
      "needs_background": "light"
     },
     "output_type": "display_data"
    }
   ],
   "source": [
    "new_data_US_w_o.boxplot(column=['Return'])"
   ]
  },
  {
   "cell_type": "code",
   "execution_count": 303,
   "metadata": {},
   "outputs": [
    {
     "data": {
      "text/html": [
       "<div>\n",
       "<style scoped>\n",
       "    .dataframe tbody tr th:only-of-type {\n",
       "        vertical-align: middle;\n",
       "    }\n",
       "\n",
       "    .dataframe tbody tr th {\n",
       "        vertical-align: top;\n",
       "    }\n",
       "\n",
       "    .dataframe thead th {\n",
       "        text-align: right;\n",
       "    }\n",
       "</style>\n",
       "<table border=\"1\" class=\"dataframe\">\n",
       "  <thead>\n",
       "    <tr style=\"text-align: right;\">\n",
       "      <th></th>\n",
       "      <th>Date</th>\n",
       "      <th>Households position - mln euro</th>\n",
       "      <th>Retail volumes - bln euro</th>\n",
       "      <th>ln (Retail volumes)</th>\n",
       "      <th>V1XI</th>\n",
       "      <th>Unemployment rate</th>\n",
       "      <th>Index Return</th>\n",
       "      <th>Fin Literacy</th>\n",
       "      <th>Marginal Trading</th>\n",
       "      <th>CMU</th>\n",
       "      <th>...</th>\n",
       "      <th>After Capital Gain tax</th>\n",
       "      <th>After Capital Gain tax total</th>\n",
       "      <th>Dividends monthly</th>\n",
       "      <th>Dividend tax</th>\n",
       "      <th>After Dividend tax</th>\n",
       "      <th>Total Gain</th>\n",
       "      <th>Comission (for trading)</th>\n",
       "      <th>Comissions paid</th>\n",
       "      <th>Comissions paid total</th>\n",
       "      <th>Cost To Trade total</th>\n",
       "    </tr>\n",
       "  </thead>\n",
       "  <tbody>\n",
       "    <tr>\n",
       "      <td>0</td>\n",
       "      <td>01.02.2021</td>\n",
       "      <td>1275063.0</td>\n",
       "      <td>1275.06</td>\n",
       "      <td>7.15</td>\n",
       "      <td>34.83</td>\n",
       "      <td>0.060</td>\n",
       "      <td>-0.023</td>\n",
       "      <td>1.0</td>\n",
       "      <td>1.0</td>\n",
       "      <td>1.0</td>\n",
       "      <td>...</td>\n",
       "      <td>-67.209764</td>\n",
       "      <td>0.000000</td>\n",
       "      <td>7.00</td>\n",
       "      <td>1.75</td>\n",
       "      <td>5.25</td>\n",
       "      <td>-61.959764</td>\n",
       "      <td>0,00%</td>\n",
       "      <td>0.000000</td>\n",
       "      <td>0.00000</td>\n",
       "      <td>1.750000</td>\n",
       "    </tr>\n",
       "    <tr>\n",
       "      <td>1</td>\n",
       "      <td>04.01.2021</td>\n",
       "      <td>1275063.0</td>\n",
       "      <td>1275.06</td>\n",
       "      <td>7.15</td>\n",
       "      <td>32.66</td>\n",
       "      <td>0.060</td>\n",
       "      <td>0.043</td>\n",
       "      <td>1.0</td>\n",
       "      <td>1.0</td>\n",
       "      <td>1.0</td>\n",
       "      <td>...</td>\n",
       "      <td>125.900661</td>\n",
       "      <td>125.900661</td>\n",
       "      <td>7.00</td>\n",
       "      <td>1.75</td>\n",
       "      <td>5.25</td>\n",
       "      <td>131.150660</td>\n",
       "      <td>0,00%</td>\n",
       "      <td>0.000000</td>\n",
       "      <td>0.00000</td>\n",
       "      <td>127.650661</td>\n",
       "    </tr>\n",
       "    <tr>\n",
       "      <td>2</td>\n",
       "      <td>01.12.2020</td>\n",
       "      <td>1251330.0</td>\n",
       "      <td>1251.33</td>\n",
       "      <td>7.13</td>\n",
       "      <td>28.18</td>\n",
       "      <td>0.061</td>\n",
       "      <td>0.162</td>\n",
       "      <td>1.0</td>\n",
       "      <td>1.0</td>\n",
       "      <td>1.0</td>\n",
       "      <td>...</td>\n",
       "      <td>479.699886</td>\n",
       "      <td>479.699886</td>\n",
       "      <td>7.00</td>\n",
       "      <td>1.75</td>\n",
       "      <td>5.25</td>\n",
       "      <td>484.949886</td>\n",
       "      <td>0,00%</td>\n",
       "      <td>0.000000</td>\n",
       "      <td>0.00000</td>\n",
       "      <td>481.449886</td>\n",
       "    </tr>\n",
       "    <tr>\n",
       "      <td>3</td>\n",
       "      <td>02.11.2020</td>\n",
       "      <td>1225822.0</td>\n",
       "      <td>1225.82</td>\n",
       "      <td>7.11</td>\n",
       "      <td>43.54</td>\n",
       "      <td>0.061</td>\n",
       "      <td>-0.087</td>\n",
       "      <td>1.0</td>\n",
       "      <td>1.0</td>\n",
       "      <td>1.0</td>\n",
       "      <td>...</td>\n",
       "      <td>-257.305951</td>\n",
       "      <td>0.000000</td>\n",
       "      <td>7.00</td>\n",
       "      <td>1.75</td>\n",
       "      <td>5.25</td>\n",
       "      <td>-252.055951</td>\n",
       "      <td>0,00%</td>\n",
       "      <td>0.000000</td>\n",
       "      <td>0.00000</td>\n",
       "      <td>1.750000</td>\n",
       "    </tr>\n",
       "    <tr>\n",
       "      <td>4</td>\n",
       "      <td>01.10.2020</td>\n",
       "      <td>1123552.0</td>\n",
       "      <td>1123.55</td>\n",
       "      <td>7.02</td>\n",
       "      <td>32.54</td>\n",
       "      <td>0.062</td>\n",
       "      <td>-0.035</td>\n",
       "      <td>1.0</td>\n",
       "      <td>1.0</td>\n",
       "      <td>1.0</td>\n",
       "      <td>...</td>\n",
       "      <td>-103.329407</td>\n",
       "      <td>0.000000</td>\n",
       "      <td>7.00</td>\n",
       "      <td>1.75</td>\n",
       "      <td>5.25</td>\n",
       "      <td>-98.079407</td>\n",
       "      <td>0,00%</td>\n",
       "      <td>0.000000</td>\n",
       "      <td>0.00000</td>\n",
       "      <td>1.750000</td>\n",
       "    </tr>\n",
       "    <tr>\n",
       "      <td>...</td>\n",
       "      <td>...</td>\n",
       "      <td>...</td>\n",
       "      <td>...</td>\n",
       "      <td>...</td>\n",
       "      <td>...</td>\n",
       "      <td>...</td>\n",
       "      <td>...</td>\n",
       "      <td>...</td>\n",
       "      <td>...</td>\n",
       "      <td>...</td>\n",
       "      <td>...</td>\n",
       "      <td>...</td>\n",
       "      <td>...</td>\n",
       "      <td>...</td>\n",
       "      <td>...</td>\n",
       "      <td>...</td>\n",
       "      <td>...</td>\n",
       "      <td>...</td>\n",
       "      <td>...</td>\n",
       "      <td>...</td>\n",
       "      <td>...</td>\n",
       "    </tr>\n",
       "    <tr>\n",
       "      <td>92</td>\n",
       "      <td>03.06.2013</td>\n",
       "      <td>765647.0</td>\n",
       "      <td>765.65</td>\n",
       "      <td>6.64</td>\n",
       "      <td>27.58</td>\n",
       "      <td>0.068</td>\n",
       "      <td>0.010</td>\n",
       "      <td>0.0</td>\n",
       "      <td>0.0</td>\n",
       "      <td>0.0</td>\n",
       "      <td>...</td>\n",
       "      <td>29.600000</td>\n",
       "      <td>29.600000</td>\n",
       "      <td>5.48</td>\n",
       "      <td>1.37</td>\n",
       "      <td>4.11</td>\n",
       "      <td>33.710000</td>\n",
       "      <td>5,00%</td>\n",
       "      <td>1.685500</td>\n",
       "      <td>1.68550</td>\n",
       "      <td>32.655500</td>\n",
       "    </tr>\n",
       "    <tr>\n",
       "      <td>93</td>\n",
       "      <td>01.05.2013</td>\n",
       "      <td>790333.0</td>\n",
       "      <td>790.33</td>\n",
       "      <td>6.67</td>\n",
       "      <td>22.04</td>\n",
       "      <td>0.069</td>\n",
       "      <td>0.010</td>\n",
       "      <td>0.0</td>\n",
       "      <td>0.0</td>\n",
       "      <td>0.0</td>\n",
       "      <td>...</td>\n",
       "      <td>29.600000</td>\n",
       "      <td>29.600000</td>\n",
       "      <td>5.48</td>\n",
       "      <td>1.37</td>\n",
       "      <td>4.11</td>\n",
       "      <td>33.710000</td>\n",
       "      <td>5,00%</td>\n",
       "      <td>1.685500</td>\n",
       "      <td>1.68550</td>\n",
       "      <td>32.655500</td>\n",
       "    </tr>\n",
       "    <tr>\n",
       "      <td>94</td>\n",
       "      <td>01.04.2013</td>\n",
       "      <td>784766.0</td>\n",
       "      <td>784.77</td>\n",
       "      <td>6.67</td>\n",
       "      <td>20.02</td>\n",
       "      <td>0.070</td>\n",
       "      <td>0.010</td>\n",
       "      <td>0.0</td>\n",
       "      <td>0.0</td>\n",
       "      <td>0.0</td>\n",
       "      <td>...</td>\n",
       "      <td>29.600000</td>\n",
       "      <td>29.600000</td>\n",
       "      <td>5.48</td>\n",
       "      <td>1.37</td>\n",
       "      <td>4.11</td>\n",
       "      <td>33.710000</td>\n",
       "      <td>5,00%</td>\n",
       "      <td>1.685500</td>\n",
       "      <td>1.68550</td>\n",
       "      <td>32.655500</td>\n",
       "    </tr>\n",
       "    <tr>\n",
       "      <td>95</td>\n",
       "      <td>01.03.2013</td>\n",
       "      <td>781795.0</td>\n",
       "      <td>781.80</td>\n",
       "      <td>6.66</td>\n",
       "      <td>23.69</td>\n",
       "      <td>0.069</td>\n",
       "      <td>-0.063</td>\n",
       "      <td>0.0</td>\n",
       "      <td>0.0</td>\n",
       "      <td>0.0</td>\n",
       "      <td>...</td>\n",
       "      <td>-187.124433</td>\n",
       "      <td>0.000000</td>\n",
       "      <td>5.48</td>\n",
       "      <td>1.37</td>\n",
       "      <td>4.11</td>\n",
       "      <td>-183.014433</td>\n",
       "      <td>5,00%</td>\n",
       "      <td>-9.150722</td>\n",
       "      <td>5.00000</td>\n",
       "      <td>6.370000</td>\n",
       "    </tr>\n",
       "    <tr>\n",
       "      <td>96</td>\n",
       "      <td>01.02.2013</td>\n",
       "      <td>777884.0</td>\n",
       "      <td>777.88</td>\n",
       "      <td>6.66</td>\n",
       "      <td>19.47</td>\n",
       "      <td>0.069</td>\n",
       "      <td>0.044</td>\n",
       "      <td>0.0</td>\n",
       "      <td>0.0</td>\n",
       "      <td>0.0</td>\n",
       "      <td>...</td>\n",
       "      <td>131.445005</td>\n",
       "      <td>131.445005</td>\n",
       "      <td>5.48</td>\n",
       "      <td>1.37</td>\n",
       "      <td>4.11</td>\n",
       "      <td>135.555005</td>\n",
       "      <td>5,00%</td>\n",
       "      <td>6.777750</td>\n",
       "      <td>6.77775</td>\n",
       "      <td>139.592756</td>\n",
       "    </tr>\n",
       "  </tbody>\n",
       "</table>\n",
       "<p>97 rows × 27 columns</p>\n",
       "</div>"
      ],
      "text/plain": [
       "          Date  Households position - mln euro  Retail volumes - bln euro  \\\n",
       "0   01.02.2021                       1275063.0                    1275.06   \n",
       "1   04.01.2021                       1275063.0                    1275.06   \n",
       "2   01.12.2020                       1251330.0                    1251.33   \n",
       "3   02.11.2020                       1225822.0                    1225.82   \n",
       "4   01.10.2020                       1123552.0                    1123.55   \n",
       "..         ...                             ...                        ...   \n",
       "92  03.06.2013                        765647.0                     765.65   \n",
       "93  01.05.2013                        790333.0                     790.33   \n",
       "94  01.04.2013                        784766.0                     784.77   \n",
       "95  01.03.2013                        781795.0                     781.80   \n",
       "96  01.02.2013                        777884.0                     777.88   \n",
       "\n",
       "    ln (Retail volumes)   V1XI  Unemployment rate  Index Return  Fin Literacy  \\\n",
       "0                  7.15  34.83              0.060        -0.023           1.0   \n",
       "1                  7.15  32.66              0.060         0.043           1.0   \n",
       "2                  7.13  28.18              0.061         0.162           1.0   \n",
       "3                  7.11  43.54              0.061        -0.087           1.0   \n",
       "4                  7.02  32.54              0.062        -0.035           1.0   \n",
       "..                  ...    ...                ...           ...           ...   \n",
       "92                 6.64  27.58              0.068         0.010           0.0   \n",
       "93                 6.67  22.04              0.069         0.010           0.0   \n",
       "94                 6.67  20.02              0.070         0.010           0.0   \n",
       "95                 6.66  23.69              0.069        -0.063           0.0   \n",
       "96                 6.66  19.47              0.069         0.044           0.0   \n",
       "\n",
       "    Marginal Trading  CMU  ...  After Capital Gain tax  \\\n",
       "0                1.0  1.0  ...              -67.209764   \n",
       "1                1.0  1.0  ...              125.900661   \n",
       "2                1.0  1.0  ...              479.699886   \n",
       "3                1.0  1.0  ...             -257.305951   \n",
       "4                1.0  1.0  ...             -103.329407   \n",
       "..               ...  ...  ...                     ...   \n",
       "92               0.0  0.0  ...               29.600000   \n",
       "93               0.0  0.0  ...               29.600000   \n",
       "94               0.0  0.0  ...               29.600000   \n",
       "95               0.0  0.0  ...             -187.124433   \n",
       "96               0.0  0.0  ...              131.445005   \n",
       "\n",
       "    After Capital Gain tax total  Dividends monthly  Dividend tax  \\\n",
       "0                       0.000000               7.00          1.75   \n",
       "1                     125.900661               7.00          1.75   \n",
       "2                     479.699886               7.00          1.75   \n",
       "3                       0.000000               7.00          1.75   \n",
       "4                       0.000000               7.00          1.75   \n",
       "..                           ...                ...           ...   \n",
       "92                     29.600000               5.48          1.37   \n",
       "93                     29.600000               5.48          1.37   \n",
       "94                     29.600000               5.48          1.37   \n",
       "95                      0.000000               5.48          1.37   \n",
       "96                    131.445005               5.48          1.37   \n",
       "\n",
       "    After Dividend tax  Total Gain  Comission (for trading)  Comissions paid  \\\n",
       "0                 5.25  -61.959764                    0,00%         0.000000   \n",
       "1                 5.25  131.150660                    0,00%         0.000000   \n",
       "2                 5.25  484.949886                    0,00%         0.000000   \n",
       "3                 5.25 -252.055951                    0,00%         0.000000   \n",
       "4                 5.25  -98.079407                    0,00%         0.000000   \n",
       "..                 ...         ...                      ...              ...   \n",
       "92                4.11   33.710000                    5,00%         1.685500   \n",
       "93                4.11   33.710000                    5,00%         1.685500   \n",
       "94                4.11   33.710000                    5,00%         1.685500   \n",
       "95                4.11 -183.014433                    5,00%        -9.150722   \n",
       "96                4.11  135.555005                    5,00%         6.777750   \n",
       "\n",
       "    Comissions paid total  Cost To Trade total  \n",
       "0                 0.00000             1.750000  \n",
       "1                 0.00000           127.650661  \n",
       "2                 0.00000           481.449886  \n",
       "3                 0.00000             1.750000  \n",
       "4                 0.00000             1.750000  \n",
       "..                    ...                  ...  \n",
       "92                1.68550            32.655500  \n",
       "93                1.68550            32.655500  \n",
       "94                1.68550            32.655500  \n",
       "95                5.00000             6.370000  \n",
       "96                6.77775           139.592756  \n",
       "\n",
       "[97 rows x 27 columns]"
      ]
     },
     "execution_count": 303,
     "metadata": {},
     "output_type": "execute_result"
    }
   ],
   "source": [
    "#------------------------------------------------------------------------------------------------------------------------------#\n",
    "#                                        Загрузка датафрейма Германия                                                                  #\n",
    "#------------------------------------------------------------------------------------------------------------------------------#\n",
    "\n",
    "\n",
    "dataset_ger = pd.read_csv(r\"C:\\Users\\peter\\OneDrive\\Документы\\ВКР\\ВКР работа\\Dataset_Germany.csv\", delimiter = ';', decimal = ',')\n",
    "dataset_ger = pd.DataFrame(dataset_ger)\n",
    "dataset_ger = dataset_ger.drop (dataset_ger.tail (1) .index)\n",
    "dataset_ger"
   ]
  },
  {
   "cell_type": "code",
   "execution_count": 304,
   "metadata": {},
   "outputs": [],
   "source": [
    "Cost_to_trade_Gr = dataset_ger[\"Cost To Trade total\"]\n",
    "ln_retail_volumes_Gr = dataset_ger[\"ln (Retail volumes)\"]\n",
    "V1XI = dataset_ger[\"V1XI\"]\n",
    "Unempl_Gr = dataset_ger[\"Unemployment rate\"]\n",
    "Infl_Gr = dataset_ger[\"Infl\"]\n",
    "Int_rate_Gr = dataset_ger[\"Int rate\"]\n",
    "Deriv_Gr = dataset_ger[\"Der Turnover (mln dollars)\"]\n",
    "GDP_Gr = dataset_ger[\"GDP growth\"]\n",
    "CMU = dataset_ger[\"CMU\"]\n",
    "Fin_lit_Gr = dataset_ger[\"Fin Literacy\"]\n",
    "Marg_trade_Gr = dataset_ger[\"Marginal Trading\"]\n",
    "Return_Gr = dataset_ger[\"Index Return\"]"
   ]
  },
  {
   "cell_type": "code",
   "execution_count": 305,
   "metadata": {},
   "outputs": [],
   "source": [
    "series_2 = pd.Series([ln_retail_volumes_Gr, Return_Gr, Unempl_Gr, V1XI, Marg_trade_Gr, GDP_Gr, Deriv_Gr, Infl_Gr, Int_rate_Gr, CMU, Fin_lit_Gr, Cost_to_trade_Gr, CMU])"
   ]
  },
  {
   "cell_type": "code",
   "execution_count": 313,
   "metadata": {},
   "outputs": [],
   "source": [
    "frame2 = {'ln_retail_volumes' : ln_retail_volumes_Gr, 'V1XI' : V1XI, 'Cost_to_trade' : Cost_to_trade_Gr, 'Unempl' : Unempl_Gr, \n",
    "        'GDP' : GDP_Gr, 'Fin_lit' : Fin_lit_Gr, 'Marg_trade' : Marg_trade_Gr, 'Return' : Return_Gr, 'Infl' : Infl, 'Int_rate' : Int_rate_Gr,\n",
    "         'Deriv' : Deriv_Gr, \"CMU\" : CMU}"
   ]
  },
  {
   "cell_type": "code",
   "execution_count": 319,
   "metadata": {},
   "outputs": [
    {
     "data": {
      "text/html": [
       "<div>\n",
       "<style scoped>\n",
       "    .dataframe tbody tr th:only-of-type {\n",
       "        vertical-align: middle;\n",
       "    }\n",
       "\n",
       "    .dataframe tbody tr th {\n",
       "        vertical-align: top;\n",
       "    }\n",
       "\n",
       "    .dataframe thead th {\n",
       "        text-align: right;\n",
       "    }\n",
       "</style>\n",
       "<table border=\"1\" class=\"dataframe\">\n",
       "  <thead>\n",
       "    <tr style=\"text-align: right;\">\n",
       "      <th></th>\n",
       "      <th>ln_retail_volumes</th>\n",
       "      <th>V1XI</th>\n",
       "      <th>Cost_to_trade</th>\n",
       "      <th>Unempl</th>\n",
       "      <th>GDP</th>\n",
       "      <th>Fin_lit</th>\n",
       "      <th>Marg_trade</th>\n",
       "      <th>Return</th>\n",
       "      <th>Infl</th>\n",
       "      <th>Int_rate</th>\n",
       "      <th>Deriv</th>\n",
       "      <th>CMU</th>\n",
       "    </tr>\n",
       "  </thead>\n",
       "  <tbody>\n",
       "    <tr>\n",
       "      <td>0</td>\n",
       "      <td>7.15</td>\n",
       "      <td>34.83</td>\n",
       "      <td>1.750000</td>\n",
       "      <td>0.060</td>\n",
       "      <td>-0.015</td>\n",
       "      <td>1.0</td>\n",
       "      <td>1.0</td>\n",
       "      <td>-0.023</td>\n",
       "      <td>0.0043</td>\n",
       "      <td>0.0000</td>\n",
       "      <td>1057729.0</td>\n",
       "      <td>1.0</td>\n",
       "    </tr>\n",
       "    <tr>\n",
       "      <td>1</td>\n",
       "      <td>7.15</td>\n",
       "      <td>32.66</td>\n",
       "      <td>127.650661</td>\n",
       "      <td>0.060</td>\n",
       "      <td>-0.015</td>\n",
       "      <td>1.0</td>\n",
       "      <td>1.0</td>\n",
       "      <td>0.043</td>\n",
       "      <td>0.0055</td>\n",
       "      <td>0.0000</td>\n",
       "      <td>976140.0</td>\n",
       "      <td>1.0</td>\n",
       "    </tr>\n",
       "    <tr>\n",
       "      <td>2</td>\n",
       "      <td>7.13</td>\n",
       "      <td>28.18</td>\n",
       "      <td>481.449886</td>\n",
       "      <td>0.061</td>\n",
       "      <td>0.003</td>\n",
       "      <td>1.0</td>\n",
       "      <td>1.0</td>\n",
       "      <td>0.162</td>\n",
       "      <td>0.0009</td>\n",
       "      <td>0.0000</td>\n",
       "      <td>1035280.0</td>\n",
       "      <td>1.0</td>\n",
       "    </tr>\n",
       "    <tr>\n",
       "      <td>3</td>\n",
       "      <td>7.11</td>\n",
       "      <td>43.54</td>\n",
       "      <td>1.750000</td>\n",
       "      <td>0.061</td>\n",
       "      <td>0.003</td>\n",
       "      <td>1.0</td>\n",
       "      <td>1.0</td>\n",
       "      <td>-0.087</td>\n",
       "      <td>-0.0006</td>\n",
       "      <td>0.0000</td>\n",
       "      <td>1221809.0</td>\n",
       "      <td>1.0</td>\n",
       "    </tr>\n",
       "    <tr>\n",
       "      <td>4</td>\n",
       "      <td>7.02</td>\n",
       "      <td>32.54</td>\n",
       "      <td>1.750000</td>\n",
       "      <td>0.062</td>\n",
       "      <td>0.003</td>\n",
       "      <td>1.0</td>\n",
       "      <td>1.0</td>\n",
       "      <td>-0.035</td>\n",
       "      <td>0.0004</td>\n",
       "      <td>0.0000</td>\n",
       "      <td>930653.0</td>\n",
       "      <td>1.0</td>\n",
       "    </tr>\n",
       "    <tr>\n",
       "      <td>...</td>\n",
       "      <td>...</td>\n",
       "      <td>...</td>\n",
       "      <td>...</td>\n",
       "      <td>...</td>\n",
       "      <td>...</td>\n",
       "      <td>...</td>\n",
       "      <td>...</td>\n",
       "      <td>...</td>\n",
       "      <td>...</td>\n",
       "      <td>...</td>\n",
       "      <td>...</td>\n",
       "      <td>...</td>\n",
       "    </tr>\n",
       "    <tr>\n",
       "      <td>92</td>\n",
       "      <td>6.64</td>\n",
       "      <td>27.58</td>\n",
       "      <td>32.655500</td>\n",
       "      <td>0.068</td>\n",
       "      <td>0.008</td>\n",
       "      <td>0.0</td>\n",
       "      <td>0.0</td>\n",
       "      <td>0.010</td>\n",
       "      <td>0.0024</td>\n",
       "      <td>0.0050</td>\n",
       "      <td>1840827.0</td>\n",
       "      <td>0.0</td>\n",
       "    </tr>\n",
       "    <tr>\n",
       "      <td>93</td>\n",
       "      <td>6.67</td>\n",
       "      <td>22.04</td>\n",
       "      <td>32.655500</td>\n",
       "      <td>0.069</td>\n",
       "      <td>0.008</td>\n",
       "      <td>0.0</td>\n",
       "      <td>0.0</td>\n",
       "      <td>0.010</td>\n",
       "      <td>0.0018</td>\n",
       "      <td>0.0050</td>\n",
       "      <td>2484611.0</td>\n",
       "      <td>0.0</td>\n",
       "    </tr>\n",
       "    <tr>\n",
       "      <td>94</td>\n",
       "      <td>6.67</td>\n",
       "      <td>20.02</td>\n",
       "      <td>32.655500</td>\n",
       "      <td>0.070</td>\n",
       "      <td>0.008</td>\n",
       "      <td>0.0</td>\n",
       "      <td>0.0</td>\n",
       "      <td>0.010</td>\n",
       "      <td>-0.0010</td>\n",
       "      <td>0.0075</td>\n",
       "      <td>2729727.0</td>\n",
       "      <td>0.0</td>\n",
       "    </tr>\n",
       "    <tr>\n",
       "      <td>95</td>\n",
       "      <td>6.66</td>\n",
       "      <td>23.69</td>\n",
       "      <td>6.370000</td>\n",
       "      <td>0.069</td>\n",
       "      <td>-0.015</td>\n",
       "      <td>0.0</td>\n",
       "      <td>0.0</td>\n",
       "      <td>-0.063</td>\n",
       "      <td>0.0026</td>\n",
       "      <td>0.0075</td>\n",
       "      <td>3322906.0</td>\n",
       "      <td>0.0</td>\n",
       "    </tr>\n",
       "    <tr>\n",
       "      <td>96</td>\n",
       "      <td>6.66</td>\n",
       "      <td>19.47</td>\n",
       "      <td>139.592756</td>\n",
       "      <td>0.069</td>\n",
       "      <td>-0.015</td>\n",
       "      <td>0.0</td>\n",
       "      <td>0.0</td>\n",
       "      <td>0.044</td>\n",
       "      <td>0.0082</td>\n",
       "      <td>0.0075</td>\n",
       "      <td>3322906.0</td>\n",
       "      <td>0.0</td>\n",
       "    </tr>\n",
       "  </tbody>\n",
       "</table>\n",
       "<p>97 rows × 12 columns</p>\n",
       "</div>"
      ],
      "text/plain": [
       "    ln_retail_volumes   V1XI  Cost_to_trade  Unempl    GDP  Fin_lit  \\\n",
       "0                7.15  34.83       1.750000   0.060 -0.015      1.0   \n",
       "1                7.15  32.66     127.650661   0.060 -0.015      1.0   \n",
       "2                7.13  28.18     481.449886   0.061  0.003      1.0   \n",
       "3                7.11  43.54       1.750000   0.061  0.003      1.0   \n",
       "4                7.02  32.54       1.750000   0.062  0.003      1.0   \n",
       "..                ...    ...            ...     ...    ...      ...   \n",
       "92               6.64  27.58      32.655500   0.068  0.008      0.0   \n",
       "93               6.67  22.04      32.655500   0.069  0.008      0.0   \n",
       "94               6.67  20.02      32.655500   0.070  0.008      0.0   \n",
       "95               6.66  23.69       6.370000   0.069 -0.015      0.0   \n",
       "96               6.66  19.47     139.592756   0.069 -0.015      0.0   \n",
       "\n",
       "    Marg_trade  Return    Infl  Int_rate      Deriv  CMU  \n",
       "0          1.0  -0.023  0.0043    0.0000  1057729.0  1.0  \n",
       "1          1.0   0.043  0.0055    0.0000   976140.0  1.0  \n",
       "2          1.0   0.162  0.0009    0.0000  1035280.0  1.0  \n",
       "3          1.0  -0.087 -0.0006    0.0000  1221809.0  1.0  \n",
       "4          1.0  -0.035  0.0004    0.0000   930653.0  1.0  \n",
       "..         ...     ...     ...       ...        ...  ...  \n",
       "92         0.0   0.010  0.0024    0.0050  1840827.0  0.0  \n",
       "93         0.0   0.010  0.0018    0.0050  2484611.0  0.0  \n",
       "94         0.0   0.010 -0.0010    0.0075  2729727.0  0.0  \n",
       "95         0.0  -0.063  0.0026    0.0075  3322906.0  0.0  \n",
       "96         0.0   0.044  0.0082    0.0075  3322906.0  0.0  \n",
       "\n",
       "[97 rows x 12 columns]"
      ]
     },
     "execution_count": 319,
     "metadata": {},
     "output_type": "execute_result"
    }
   ],
   "source": [
    "new_data_Gr = pd.DataFrame(frame2)\n",
    "new_data_Gr"
   ]
  },
  {
   "cell_type": "code",
   "execution_count": 328,
   "metadata": {},
   "outputs": [
    {
     "data": {
      "text/html": [
       "<table class=\"simpletable\">\n",
       "<caption>OLS Regression Results</caption>\n",
       "<tr>\n",
       "  <th>Dep. Variable:</th>    <td>ln_retail_volumes</td> <th>  R-squared:         </th> <td>   0.853</td>\n",
       "</tr>\n",
       "<tr>\n",
       "  <th>Model:</th>                   <td>OLS</td>        <th>  Adj. R-squared:    </th> <td>   0.834</td>\n",
       "</tr>\n",
       "<tr>\n",
       "  <th>Method:</th>             <td>Least Squares</td>   <th>  F-statistic:       </th> <td>   44.79</td>\n",
       "</tr>\n",
       "<tr>\n",
       "  <th>Date:</th>             <td>Wed, 28 Apr 2021</td>  <th>  Prob (F-statistic):</th> <td>1.14e-30</td>\n",
       "</tr>\n",
       "<tr>\n",
       "  <th>Time:</th>                 <td>00:26:57</td>      <th>  Log-Likelihood:    </th> <td>  154.34</td>\n",
       "</tr>\n",
       "<tr>\n",
       "  <th>No. Observations:</th>      <td>    97</td>       <th>  AIC:               </th> <td>  -284.7</td>\n",
       "</tr>\n",
       "<tr>\n",
       "  <th>Df Residuals:</th>          <td>    85</td>       <th>  BIC:               </th> <td>  -253.8</td>\n",
       "</tr>\n",
       "<tr>\n",
       "  <th>Df Model:</th>              <td>    11</td>       <th>                     </th>     <td> </td>   \n",
       "</tr>\n",
       "<tr>\n",
       "  <th>Covariance Type:</th>      <td>nonrobust</td>     <th>                     </th>     <td> </td>   \n",
       "</tr>\n",
       "</table>\n",
       "<table class=\"simpletable\">\n",
       "<tr>\n",
       "        <td></td>           <th>coef</th>     <th>std err</th>      <th>t</th>      <th>P>|t|</th>  <th>[0.025</th>    <th>0.975]</th>  \n",
       "</tr>\n",
       "<tr>\n",
       "  <th>const</th>         <td>    7.4434</td> <td>    0.099</td> <td>   75.115</td> <td> 0.000</td> <td>    7.246</td> <td>    7.640</td>\n",
       "</tr>\n",
       "<tr>\n",
       "  <th>V1XI</th>          <td>    0.0050</td> <td>    0.001</td> <td>    3.517</td> <td> 0.001</td> <td>    0.002</td> <td>    0.008</td>\n",
       "</tr>\n",
       "<tr>\n",
       "  <th>Cost_to_trade</th> <td>   -0.0001</td> <td>    0.000</td> <td>   -1.017</td> <td> 0.312</td> <td>   -0.000</td> <td>    0.000</td>\n",
       "</tr>\n",
       "<tr>\n",
       "  <th>Unempl</th>        <td>  -12.8728</td> <td>    1.498</td> <td>   -8.596</td> <td> 0.000</td> <td>  -15.850</td> <td>   -9.895</td>\n",
       "</tr>\n",
       "<tr>\n",
       "  <th>GDP</th>           <td>   -0.2835</td> <td>    0.254</td> <td>   -1.117</td> <td> 0.267</td> <td>   -0.788</td> <td>    0.221</td>\n",
       "</tr>\n",
       "<tr>\n",
       "  <th>Fin_lit</th>       <td>    0.0579</td> <td>    0.032</td> <td>    1.783</td> <td> 0.078</td> <td>   -0.007</td> <td>    0.122</td>\n",
       "</tr>\n",
       "<tr>\n",
       "  <th>Marg_trade</th>    <td>    0.2208</td> <td>    0.026</td> <td>    8.629</td> <td> 0.000</td> <td>    0.170</td> <td>    0.272</td>\n",
       "</tr>\n",
       "<tr>\n",
       "  <th>Return</th>        <td>    0.6581</td> <td>    0.243</td> <td>    2.710</td> <td> 0.008</td> <td>    0.175</td> <td>    1.141</td>\n",
       "</tr>\n",
       "<tr>\n",
       "  <th>Infl</th>          <td>    3.0443</td> <td>    2.195</td> <td>    1.387</td> <td> 0.169</td> <td>   -1.319</td> <td>    7.408</td>\n",
       "</tr>\n",
       "<tr>\n",
       "  <th>Int_rate</th>      <td>   -8.3666</td> <td>    8.153</td> <td>   -1.026</td> <td> 0.308</td> <td>  -24.577</td> <td>    7.843</td>\n",
       "</tr>\n",
       "<tr>\n",
       "  <th>Deriv</th>         <td>  1.18e-08</td> <td>  1.8e-08</td> <td>    0.656</td> <td> 0.514</td> <td> -2.4e-08</td> <td> 4.76e-08</td>\n",
       "</tr>\n",
       "<tr>\n",
       "  <th>CMU</th>           <td>   -0.0141</td> <td>    0.019</td> <td>   -0.745</td> <td> 0.458</td> <td>   -0.052</td> <td>    0.023</td>\n",
       "</tr>\n",
       "</table>\n",
       "<table class=\"simpletable\">\n",
       "<tr>\n",
       "  <th>Omnibus:</th>       <td>20.614</td> <th>  Durbin-Watson:     </th> <td>   0.911</td>\n",
       "</tr>\n",
       "<tr>\n",
       "  <th>Prob(Omnibus):</th> <td> 0.000</td> <th>  Jarque-Bera (JB):  </th> <td>  36.472</td>\n",
       "</tr>\n",
       "<tr>\n",
       "  <th>Skew:</th>          <td> 0.860</td> <th>  Prob(JB):          </th> <td>1.20e-08</td>\n",
       "</tr>\n",
       "<tr>\n",
       "  <th>Kurtosis:</th>      <td> 5.463</td> <th>  Cond. No.          </th> <td>2.20e+09</td>\n",
       "</tr>\n",
       "</table><br/><br/>Warnings:<br/>[1] Standard Errors assume that the covariance matrix of the errors is correctly specified.<br/>[2] The condition number is large, 2.2e+09. This might indicate that there are<br/>strong multicollinearity or other numerical problems."
      ],
      "text/plain": [
       "<class 'statsmodels.iolib.summary.Summary'>\n",
       "\"\"\"\n",
       "                            OLS Regression Results                            \n",
       "==============================================================================\n",
       "Dep. Variable:      ln_retail_volumes   R-squared:                       0.853\n",
       "Model:                            OLS   Adj. R-squared:                  0.834\n",
       "Method:                 Least Squares   F-statistic:                     44.79\n",
       "Date:                Wed, 28 Apr 2021   Prob (F-statistic):           1.14e-30\n",
       "Time:                        00:26:57   Log-Likelihood:                 154.34\n",
       "No. Observations:                  97   AIC:                            -284.7\n",
       "Df Residuals:                      85   BIC:                            -253.8\n",
       "Df Model:                          11                                         \n",
       "Covariance Type:            nonrobust                                         \n",
       "=================================================================================\n",
       "                    coef    std err          t      P>|t|      [0.025      0.975]\n",
       "---------------------------------------------------------------------------------\n",
       "const             7.4434      0.099     75.115      0.000       7.246       7.640\n",
       "V1XI              0.0050      0.001      3.517      0.001       0.002       0.008\n",
       "Cost_to_trade    -0.0001      0.000     -1.017      0.312      -0.000       0.000\n",
       "Unempl          -12.8728      1.498     -8.596      0.000     -15.850      -9.895\n",
       "GDP              -0.2835      0.254     -1.117      0.267      -0.788       0.221\n",
       "Fin_lit           0.0579      0.032      1.783      0.078      -0.007       0.122\n",
       "Marg_trade        0.2208      0.026      8.629      0.000       0.170       0.272\n",
       "Return            0.6581      0.243      2.710      0.008       0.175       1.141\n",
       "Infl              3.0443      2.195      1.387      0.169      -1.319       7.408\n",
       "Int_rate         -8.3666      8.153     -1.026      0.308     -24.577       7.843\n",
       "Deriv           1.18e-08    1.8e-08      0.656      0.514    -2.4e-08    4.76e-08\n",
       "CMU              -0.0141      0.019     -0.745      0.458      -0.052       0.023\n",
       "==============================================================================\n",
       "Omnibus:                       20.614   Durbin-Watson:                   0.911\n",
       "Prob(Omnibus):                  0.000   Jarque-Bera (JB):               36.472\n",
       "Skew:                           0.860   Prob(JB):                     1.20e-08\n",
       "Kurtosis:                       5.463   Cond. No.                     2.20e+09\n",
       "==============================================================================\n",
       "\n",
       "Warnings:\n",
       "[1] Standard Errors assume that the covariance matrix of the errors is correctly specified.\n",
       "[2] The condition number is large, 2.2e+09. This might indicate that there are\n",
       "strong multicollinearity or other numerical problems.\n",
       "\"\"\""
      ]
     },
     "execution_count": 328,
     "metadata": {},
     "output_type": "execute_result"
    }
   ],
   "source": [
    "Y_Gr = new_data_Gr['ln_retail_volumes'] \n",
    "X_Gr = new_data_Gr[['V1XI', 'Cost_to_trade', 'Unempl', 'GDP', 'Fin_lit', 'Marg_trade', 'Return', 'Infl', 'Int_rate',\n",
    "         'Deriv', 'CMU']]\n",
    "\n",
    "X_Gr = sm.add_constant(X_Gr)\n",
    "model_Gr = sm.OLS(Y_Gr, X_Gr).fit()\n",
    "predictions = model_Gr.predict(X_Gr)\n",
    "model_Gr.summary()"
   ]
  },
  {
   "cell_type": "code",
   "execution_count": 321,
   "metadata": {},
   "outputs": [
    {
     "data": {
      "text/html": [
       "<div>\n",
       "<style scoped>\n",
       "    .dataframe tbody tr th:only-of-type {\n",
       "        vertical-align: middle;\n",
       "    }\n",
       "\n",
       "    .dataframe tbody tr th {\n",
       "        vertical-align: top;\n",
       "    }\n",
       "\n",
       "    .dataframe thead th {\n",
       "        text-align: right;\n",
       "    }\n",
       "</style>\n",
       "<table border=\"1\" class=\"dataframe\">\n",
       "  <thead>\n",
       "    <tr style=\"text-align: right;\">\n",
       "      <th></th>\n",
       "      <th>VIF Factor</th>\n",
       "      <th>features</th>\n",
       "    </tr>\n",
       "  </thead>\n",
       "  <tbody>\n",
       "    <tr>\n",
       "      <td>0</td>\n",
       "      <td>343.582785</td>\n",
       "      <td>const</td>\n",
       "    </tr>\n",
       "    <tr>\n",
       "      <td>1</td>\n",
       "      <td>3.777858</td>\n",
       "      <td>V1XI</td>\n",
       "    </tr>\n",
       "    <tr>\n",
       "      <td>2</td>\n",
       "      <td>3.754998</td>\n",
       "      <td>Cost_to_trade</td>\n",
       "    </tr>\n",
       "    <tr>\n",
       "      <td>3</td>\n",
       "      <td>3.351818</td>\n",
       "      <td>Unempl</td>\n",
       "    </tr>\n",
       "    <tr>\n",
       "      <td>4</td>\n",
       "      <td>1.278876</td>\n",
       "      <td>GDP</td>\n",
       "    </tr>\n",
       "    <tr>\n",
       "      <td>5</td>\n",
       "      <td>5.327119</td>\n",
       "      <td>Fin_lit</td>\n",
       "    </tr>\n",
       "    <tr>\n",
       "      <td>6</td>\n",
       "      <td>1.329800</td>\n",
       "      <td>Marg_trade</td>\n",
       "    </tr>\n",
       "    <tr>\n",
       "      <td>7</td>\n",
       "      <td>5.938297</td>\n",
       "      <td>Return</td>\n",
       "    </tr>\n",
       "    <tr>\n",
       "      <td>8</td>\n",
       "      <td>1.390534</td>\n",
       "      <td>Infl</td>\n",
       "    </tr>\n",
       "    <tr>\n",
       "      <td>9</td>\n",
       "      <td>7.237853</td>\n",
       "      <td>Int_rate</td>\n",
       "    </tr>\n",
       "    <tr>\n",
       "      <td>10</td>\n",
       "      <td>3.495818</td>\n",
       "      <td>Deriv</td>\n",
       "    </tr>\n",
       "    <tr>\n",
       "      <td>11</td>\n",
       "      <td>2.979155</td>\n",
       "      <td>CMU</td>\n",
       "    </tr>\n",
       "  </tbody>\n",
       "</table>\n",
       "</div>"
      ],
      "text/plain": [
       "    VIF Factor       features\n",
       "0   343.582785          const\n",
       "1     3.777858           V1XI\n",
       "2     3.754998  Cost_to_trade\n",
       "3     3.351818         Unempl\n",
       "4     1.278876            GDP\n",
       "5     5.327119        Fin_lit\n",
       "6     1.329800     Marg_trade\n",
       "7     5.938297         Return\n",
       "8     1.390534           Infl\n",
       "9     7.237853       Int_rate\n",
       "10    3.495818          Deriv\n",
       "11    2.979155            CMU"
      ]
     },
     "execution_count": 321,
     "metadata": {},
     "output_type": "execute_result"
    }
   ],
   "source": [
    "vif_Gr = pd.DataFrame()\n",
    "vif_Gr[\"VIF Factor\"] = [variance_inflation_factor(X_Gr.values, i) for i in range(X_Gr.shape[1])]\n",
    "vif_Gr[\"features\"] = X_Gr.columns\n",
    "vif_Gr"
   ]
  },
  {
   "cell_type": "code",
   "execution_count": 322,
   "metadata": {},
   "outputs": [],
   "source": [
    "ln_Deriv_Gr = np.log(Deriv_Gr)\n",
    "ln_V1XI = np.log(V1XI)\n",
    "ln_Cost_to_trade_Gr = np.log(Cost_to_trade_Gr)"
   ]
  },
  {
   "cell_type": "code",
   "execution_count": 326,
   "metadata": {},
   "outputs": [
    {
     "data": {
      "text/html": [
       "<div>\n",
       "<style scoped>\n",
       "    .dataframe tbody tr th:only-of-type {\n",
       "        vertical-align: middle;\n",
       "    }\n",
       "\n",
       "    .dataframe tbody tr th {\n",
       "        vertical-align: top;\n",
       "    }\n",
       "\n",
       "    .dataframe thead th {\n",
       "        text-align: right;\n",
       "    }\n",
       "</style>\n",
       "<table border=\"1\" class=\"dataframe\">\n",
       "  <thead>\n",
       "    <tr style=\"text-align: right;\">\n",
       "      <th></th>\n",
       "      <th>ln_retail_volumes</th>\n",
       "      <th>V1XI</th>\n",
       "      <th>Cost_to_trade</th>\n",
       "      <th>Unempl</th>\n",
       "      <th>GDP</th>\n",
       "      <th>Fin_lit</th>\n",
       "      <th>Marg_trade</th>\n",
       "      <th>Return</th>\n",
       "      <th>Infl</th>\n",
       "      <th>Int_rate</th>\n",
       "      <th>Deriv</th>\n",
       "      <th>CMU</th>\n",
       "      <th>ln_Deriv</th>\n",
       "      <th>ln_Cost_to_trade</th>\n",
       "      <th>ln_VIXI</th>\n",
       "      <th>ln_V1XI</th>\n",
       "    </tr>\n",
       "  </thead>\n",
       "  <tbody>\n",
       "    <tr>\n",
       "      <td>0</td>\n",
       "      <td>7.15</td>\n",
       "      <td>34.83</td>\n",
       "      <td>1.750000</td>\n",
       "      <td>0.060</td>\n",
       "      <td>-0.015</td>\n",
       "      <td>1.0</td>\n",
       "      <td>1.0</td>\n",
       "      <td>-0.023</td>\n",
       "      <td>0.0043</td>\n",
       "      <td>0.0000</td>\n",
       "      <td>1057729.0</td>\n",
       "      <td>1.0</td>\n",
       "      <td>13.871635</td>\n",
       "      <td>0.559616</td>\n",
       "      <td>3.550479</td>\n",
       "      <td>3.550479</td>\n",
       "    </tr>\n",
       "    <tr>\n",
       "      <td>1</td>\n",
       "      <td>7.15</td>\n",
       "      <td>32.66</td>\n",
       "      <td>127.650661</td>\n",
       "      <td>0.060</td>\n",
       "      <td>-0.015</td>\n",
       "      <td>1.0</td>\n",
       "      <td>1.0</td>\n",
       "      <td>0.043</td>\n",
       "      <td>0.0055</td>\n",
       "      <td>0.0000</td>\n",
       "      <td>976140.0</td>\n",
       "      <td>1.0</td>\n",
       "      <td>13.791361</td>\n",
       "      <td>4.849297</td>\n",
       "      <td>3.486151</td>\n",
       "      <td>3.486151</td>\n",
       "    </tr>\n",
       "    <tr>\n",
       "      <td>2</td>\n",
       "      <td>7.13</td>\n",
       "      <td>28.18</td>\n",
       "      <td>481.449886</td>\n",
       "      <td>0.061</td>\n",
       "      <td>0.003</td>\n",
       "      <td>1.0</td>\n",
       "      <td>1.0</td>\n",
       "      <td>0.162</td>\n",
       "      <td>0.0009</td>\n",
       "      <td>0.0000</td>\n",
       "      <td>1035280.0</td>\n",
       "      <td>1.0</td>\n",
       "      <td>13.850182</td>\n",
       "      <td>6.176802</td>\n",
       "      <td>3.338613</td>\n",
       "      <td>3.338613</td>\n",
       "    </tr>\n",
       "    <tr>\n",
       "      <td>3</td>\n",
       "      <td>7.11</td>\n",
       "      <td>43.54</td>\n",
       "      <td>1.750000</td>\n",
       "      <td>0.061</td>\n",
       "      <td>0.003</td>\n",
       "      <td>1.0</td>\n",
       "      <td>1.0</td>\n",
       "      <td>-0.087</td>\n",
       "      <td>-0.0006</td>\n",
       "      <td>0.0000</td>\n",
       "      <td>1221809.0</td>\n",
       "      <td>1.0</td>\n",
       "      <td>14.015843</td>\n",
       "      <td>0.559616</td>\n",
       "      <td>3.773680</td>\n",
       "      <td>3.773680</td>\n",
       "    </tr>\n",
       "    <tr>\n",
       "      <td>4</td>\n",
       "      <td>7.02</td>\n",
       "      <td>32.54</td>\n",
       "      <td>1.750000</td>\n",
       "      <td>0.062</td>\n",
       "      <td>0.003</td>\n",
       "      <td>1.0</td>\n",
       "      <td>1.0</td>\n",
       "      <td>-0.035</td>\n",
       "      <td>0.0004</td>\n",
       "      <td>0.0000</td>\n",
       "      <td>930653.0</td>\n",
       "      <td>1.0</td>\n",
       "      <td>13.743642</td>\n",
       "      <td>0.559616</td>\n",
       "      <td>3.482470</td>\n",
       "      <td>3.482470</td>\n",
       "    </tr>\n",
       "    <tr>\n",
       "      <td>...</td>\n",
       "      <td>...</td>\n",
       "      <td>...</td>\n",
       "      <td>...</td>\n",
       "      <td>...</td>\n",
       "      <td>...</td>\n",
       "      <td>...</td>\n",
       "      <td>...</td>\n",
       "      <td>...</td>\n",
       "      <td>...</td>\n",
       "      <td>...</td>\n",
       "      <td>...</td>\n",
       "      <td>...</td>\n",
       "      <td>...</td>\n",
       "      <td>...</td>\n",
       "      <td>...</td>\n",
       "      <td>...</td>\n",
       "    </tr>\n",
       "    <tr>\n",
       "      <td>92</td>\n",
       "      <td>6.64</td>\n",
       "      <td>27.58</td>\n",
       "      <td>32.655500</td>\n",
       "      <td>0.068</td>\n",
       "      <td>0.008</td>\n",
       "      <td>0.0</td>\n",
       "      <td>0.0</td>\n",
       "      <td>0.010</td>\n",
       "      <td>0.0024</td>\n",
       "      <td>0.0050</td>\n",
       "      <td>1840827.0</td>\n",
       "      <td>0.0</td>\n",
       "      <td>14.425725</td>\n",
       "      <td>3.486013</td>\n",
       "      <td>3.317091</td>\n",
       "      <td>3.317091</td>\n",
       "    </tr>\n",
       "    <tr>\n",
       "      <td>93</td>\n",
       "      <td>6.67</td>\n",
       "      <td>22.04</td>\n",
       "      <td>32.655500</td>\n",
       "      <td>0.069</td>\n",
       "      <td>0.008</td>\n",
       "      <td>0.0</td>\n",
       "      <td>0.0</td>\n",
       "      <td>0.010</td>\n",
       "      <td>0.0018</td>\n",
       "      <td>0.0050</td>\n",
       "      <td>2484611.0</td>\n",
       "      <td>0.0</td>\n",
       "      <td>14.725627</td>\n",
       "      <td>3.486013</td>\n",
       "      <td>3.092859</td>\n",
       "      <td>3.092859</td>\n",
       "    </tr>\n",
       "    <tr>\n",
       "      <td>94</td>\n",
       "      <td>6.67</td>\n",
       "      <td>20.02</td>\n",
       "      <td>32.655500</td>\n",
       "      <td>0.070</td>\n",
       "      <td>0.008</td>\n",
       "      <td>0.0</td>\n",
       "      <td>0.0</td>\n",
       "      <td>0.010</td>\n",
       "      <td>-0.0010</td>\n",
       "      <td>0.0075</td>\n",
       "      <td>2729727.0</td>\n",
       "      <td>0.0</td>\n",
       "      <td>14.819712</td>\n",
       "      <td>3.486013</td>\n",
       "      <td>2.996732</td>\n",
       "      <td>2.996732</td>\n",
       "    </tr>\n",
       "    <tr>\n",
       "      <td>95</td>\n",
       "      <td>6.66</td>\n",
       "      <td>23.69</td>\n",
       "      <td>6.370000</td>\n",
       "      <td>0.069</td>\n",
       "      <td>-0.015</td>\n",
       "      <td>0.0</td>\n",
       "      <td>0.0</td>\n",
       "      <td>-0.063</td>\n",
       "      <td>0.0026</td>\n",
       "      <td>0.0075</td>\n",
       "      <td>3322906.0</td>\n",
       "      <td>0.0</td>\n",
       "      <td>15.016350</td>\n",
       "      <td>1.851599</td>\n",
       "      <td>3.165053</td>\n",
       "      <td>3.165053</td>\n",
       "    </tr>\n",
       "    <tr>\n",
       "      <td>96</td>\n",
       "      <td>6.66</td>\n",
       "      <td>19.47</td>\n",
       "      <td>139.592756</td>\n",
       "      <td>0.069</td>\n",
       "      <td>-0.015</td>\n",
       "      <td>0.0</td>\n",
       "      <td>0.0</td>\n",
       "      <td>0.044</td>\n",
       "      <td>0.0082</td>\n",
       "      <td>0.0075</td>\n",
       "      <td>3322906.0</td>\n",
       "      <td>0.0</td>\n",
       "      <td>15.016350</td>\n",
       "      <td>4.938729</td>\n",
       "      <td>2.968875</td>\n",
       "      <td>2.968875</td>\n",
       "    </tr>\n",
       "  </tbody>\n",
       "</table>\n",
       "<p>97 rows × 16 columns</p>\n",
       "</div>"
      ],
      "text/plain": [
       "    ln_retail_volumes   V1XI  Cost_to_trade  Unempl    GDP  Fin_lit  \\\n",
       "0                7.15  34.83       1.750000   0.060 -0.015      1.0   \n",
       "1                7.15  32.66     127.650661   0.060 -0.015      1.0   \n",
       "2                7.13  28.18     481.449886   0.061  0.003      1.0   \n",
       "3                7.11  43.54       1.750000   0.061  0.003      1.0   \n",
       "4                7.02  32.54       1.750000   0.062  0.003      1.0   \n",
       "..                ...    ...            ...     ...    ...      ...   \n",
       "92               6.64  27.58      32.655500   0.068  0.008      0.0   \n",
       "93               6.67  22.04      32.655500   0.069  0.008      0.0   \n",
       "94               6.67  20.02      32.655500   0.070  0.008      0.0   \n",
       "95               6.66  23.69       6.370000   0.069 -0.015      0.0   \n",
       "96               6.66  19.47     139.592756   0.069 -0.015      0.0   \n",
       "\n",
       "    Marg_trade  Return    Infl  Int_rate      Deriv  CMU   ln_Deriv  \\\n",
       "0          1.0  -0.023  0.0043    0.0000  1057729.0  1.0  13.871635   \n",
       "1          1.0   0.043  0.0055    0.0000   976140.0  1.0  13.791361   \n",
       "2          1.0   0.162  0.0009    0.0000  1035280.0  1.0  13.850182   \n",
       "3          1.0  -0.087 -0.0006    0.0000  1221809.0  1.0  14.015843   \n",
       "4          1.0  -0.035  0.0004    0.0000   930653.0  1.0  13.743642   \n",
       "..         ...     ...     ...       ...        ...  ...        ...   \n",
       "92         0.0   0.010  0.0024    0.0050  1840827.0  0.0  14.425725   \n",
       "93         0.0   0.010  0.0018    0.0050  2484611.0  0.0  14.725627   \n",
       "94         0.0   0.010 -0.0010    0.0075  2729727.0  0.0  14.819712   \n",
       "95         0.0  -0.063  0.0026    0.0075  3322906.0  0.0  15.016350   \n",
       "96         0.0   0.044  0.0082    0.0075  3322906.0  0.0  15.016350   \n",
       "\n",
       "    ln_Cost_to_trade   ln_VIXI   ln_V1XI  \n",
       "0           0.559616  3.550479  3.550479  \n",
       "1           4.849297  3.486151  3.486151  \n",
       "2           6.176802  3.338613  3.338613  \n",
       "3           0.559616  3.773680  3.773680  \n",
       "4           0.559616  3.482470  3.482470  \n",
       "..               ...       ...       ...  \n",
       "92          3.486013  3.317091  3.317091  \n",
       "93          3.486013  3.092859  3.092859  \n",
       "94          3.486013  2.996732  2.996732  \n",
       "95          1.851599  3.165053  3.165053  \n",
       "96          4.938729  2.968875  2.968875  \n",
       "\n",
       "[97 rows x 16 columns]"
      ]
     },
     "execution_count": 326,
     "metadata": {},
     "output_type": "execute_result"
    }
   ],
   "source": [
    "new_data_Gr['ln_Deriv'] = ln_Deriv_Gr\n",
    "new_data_Gr['ln_Cost_to_trade'] = ln_Cost_to_trade_Gr\n",
    "new_data_Gr['ln_V1XI'] = ln_V1XI\n",
    "new_data_Gr"
   ]
  },
  {
   "cell_type": "code",
   "execution_count": 327,
   "metadata": {},
   "outputs": [
    {
     "data": {
      "text/html": [
       "<table class=\"simpletable\">\n",
       "<caption>OLS Regression Results</caption>\n",
       "<tr>\n",
       "  <th>Dep. Variable:</th>    <td>ln_retail_volumes</td> <th>  R-squared:         </th> <td>   0.839</td>\n",
       "</tr>\n",
       "<tr>\n",
       "  <th>Model:</th>                   <td>OLS</td>        <th>  Adj. R-squared:    </th> <td>   0.818</td>\n",
       "</tr>\n",
       "<tr>\n",
       "  <th>Method:</th>             <td>Least Squares</td>   <th>  F-statistic:       </th> <td>   40.23</td>\n",
       "</tr>\n",
       "<tr>\n",
       "  <th>Date:</th>             <td>Wed, 28 Apr 2021</td>  <th>  Prob (F-statistic):</th> <td>5.02e-29</td>\n",
       "</tr>\n",
       "<tr>\n",
       "  <th>Time:</th>                 <td>00:26:16</td>      <th>  Log-Likelihood:    </th> <td>  149.94</td>\n",
       "</tr>\n",
       "<tr>\n",
       "  <th>No. Observations:</th>      <td>    97</td>       <th>  AIC:               </th> <td>  -275.9</td>\n",
       "</tr>\n",
       "<tr>\n",
       "  <th>Df Residuals:</th>          <td>    85</td>       <th>  BIC:               </th> <td>  -245.0</td>\n",
       "</tr>\n",
       "<tr>\n",
       "  <th>Df Model:</th>              <td>    11</td>       <th>                     </th>     <td> </td>   \n",
       "</tr>\n",
       "<tr>\n",
       "  <th>Covariance Type:</th>      <td>nonrobust</td>     <th>                     </th>     <td> </td>   \n",
       "</tr>\n",
       "</table>\n",
       "<table class=\"simpletable\">\n",
       "<tr>\n",
       "          <td></td>            <th>coef</th>     <th>std err</th>      <th>t</th>      <th>P>|t|</th>  <th>[0.025</th>    <th>0.975]</th>  \n",
       "</tr>\n",
       "<tr>\n",
       "  <th>const</th>            <td>    6.9419</td> <td>    0.372</td> <td>   18.661</td> <td> 0.000</td> <td>    6.202</td> <td>    7.682</td>\n",
       "</tr>\n",
       "<tr>\n",
       "  <th>ln_V1XI</th>          <td>    0.0669</td> <td>    0.036</td> <td>    1.860</td> <td> 0.066</td> <td>   -0.005</td> <td>    0.138</td>\n",
       "</tr>\n",
       "<tr>\n",
       "  <th>ln_Cost_to_trade</th> <td>    0.0012</td> <td>    0.008</td> <td>    0.162</td> <td> 0.872</td> <td>   -0.014</td> <td>    0.016</td>\n",
       "</tr>\n",
       "<tr>\n",
       "  <th>Unempl</th>           <td>  -11.9044</td> <td>    1.540</td> <td>   -7.730</td> <td> 0.000</td> <td>  -14.966</td> <td>   -8.843</td>\n",
       "</tr>\n",
       "<tr>\n",
       "  <th>GDP</th>              <td>   -0.3859</td> <td>    0.262</td> <td>   -1.471</td> <td> 0.145</td> <td>   -0.907</td> <td>    0.136</td>\n",
       "</tr>\n",
       "<tr>\n",
       "  <th>Fin_lit</th>          <td>    0.0536</td> <td>    0.034</td> <td>    1.571</td> <td> 0.120</td> <td>   -0.014</td> <td>    0.121</td>\n",
       "</tr>\n",
       "<tr>\n",
       "  <th>Marg_trade</th>       <td>    0.2346</td> <td>    0.028</td> <td>    8.529</td> <td> 0.000</td> <td>    0.180</td> <td>    0.289</td>\n",
       "</tr>\n",
       "<tr>\n",
       "  <th>Return</th>           <td>    0.3107</td> <td>    0.240</td> <td>    1.293</td> <td> 0.200</td> <td>   -0.167</td> <td>    0.788</td>\n",
       "</tr>\n",
       "<tr>\n",
       "  <th>Infl</th>             <td>    3.6431</td> <td>    2.140</td> <td>    1.703</td> <td> 0.092</td> <td>   -0.611</td> <td>    7.898</td>\n",
       "</tr>\n",
       "<tr>\n",
       "  <th>Int_rate</th>         <td>  -11.0827</td> <td>    7.448</td> <td>   -1.488</td> <td> 0.140</td> <td>  -25.892</td> <td>    3.726</td>\n",
       "</tr>\n",
       "<tr>\n",
       "  <th>ln_Deriv</th>         <td>    0.0254</td> <td>    0.025</td> <td>    1.035</td> <td> 0.304</td> <td>   -0.023</td> <td>    0.074</td>\n",
       "</tr>\n",
       "<tr>\n",
       "  <th>CMU</th>              <td>    0.0015</td> <td>    0.021</td> <td>    0.071</td> <td> 0.943</td> <td>   -0.039</td> <td>    0.042</td>\n",
       "</tr>\n",
       "</table>\n",
       "<table class=\"simpletable\">\n",
       "<tr>\n",
       "  <th>Omnibus:</th>       <td>35.240</td> <th>  Durbin-Watson:     </th> <td>   0.749</td>\n",
       "</tr>\n",
       "<tr>\n",
       "  <th>Prob(Omnibus):</th> <td> 0.000</td> <th>  Jarque-Bera (JB):  </th> <td>  88.087</td>\n",
       "</tr>\n",
       "<tr>\n",
       "  <th>Skew:</th>          <td> 1.299</td> <th>  Prob(JB):          </th> <td>7.45e-20</td>\n",
       "</tr>\n",
       "<tr>\n",
       "  <th>Kurtosis:</th>      <td> 6.879</td> <th>  Cond. No.          </th> <td>1.98e+04</td>\n",
       "</tr>\n",
       "</table><br/><br/>Warnings:<br/>[1] Standard Errors assume that the covariance matrix of the errors is correctly specified.<br/>[2] The condition number is large, 1.98e+04. This might indicate that there are<br/>strong multicollinearity or other numerical problems."
      ],
      "text/plain": [
       "<class 'statsmodels.iolib.summary.Summary'>\n",
       "\"\"\"\n",
       "                            OLS Regression Results                            \n",
       "==============================================================================\n",
       "Dep. Variable:      ln_retail_volumes   R-squared:                       0.839\n",
       "Model:                            OLS   Adj. R-squared:                  0.818\n",
       "Method:                 Least Squares   F-statistic:                     40.23\n",
       "Date:                Wed, 28 Apr 2021   Prob (F-statistic):           5.02e-29\n",
       "Time:                        00:26:16   Log-Likelihood:                 149.94\n",
       "No. Observations:                  97   AIC:                            -275.9\n",
       "Df Residuals:                      85   BIC:                            -245.0\n",
       "Df Model:                          11                                         \n",
       "Covariance Type:            nonrobust                                         \n",
       "====================================================================================\n",
       "                       coef    std err          t      P>|t|      [0.025      0.975]\n",
       "------------------------------------------------------------------------------------\n",
       "const                6.9419      0.372     18.661      0.000       6.202       7.682\n",
       "ln_V1XI              0.0669      0.036      1.860      0.066      -0.005       0.138\n",
       "ln_Cost_to_trade     0.0012      0.008      0.162      0.872      -0.014       0.016\n",
       "Unempl             -11.9044      1.540     -7.730      0.000     -14.966      -8.843\n",
       "GDP                 -0.3859      0.262     -1.471      0.145      -0.907       0.136\n",
       "Fin_lit              0.0536      0.034      1.571      0.120      -0.014       0.121\n",
       "Marg_trade           0.2346      0.028      8.529      0.000       0.180       0.289\n",
       "Return               0.3107      0.240      1.293      0.200      -0.167       0.788\n",
       "Infl                 3.6431      2.140      1.703      0.092      -0.611       7.898\n",
       "Int_rate           -11.0827      7.448     -1.488      0.140     -25.892       3.726\n",
       "ln_Deriv             0.0254      0.025      1.035      0.304      -0.023       0.074\n",
       "CMU                  0.0015      0.021      0.071      0.943      -0.039       0.042\n",
       "==============================================================================\n",
       "Omnibus:                       35.240   Durbin-Watson:                   0.749\n",
       "Prob(Omnibus):                  0.000   Jarque-Bera (JB):               88.087\n",
       "Skew:                           1.299   Prob(JB):                     7.45e-20\n",
       "Kurtosis:                       6.879   Cond. No.                     1.98e+04\n",
       "==============================================================================\n",
       "\n",
       "Warnings:\n",
       "[1] Standard Errors assume that the covariance matrix of the errors is correctly specified.\n",
       "[2] The condition number is large, 1.98e+04. This might indicate that there are\n",
       "strong multicollinearity or other numerical problems.\n",
       "\"\"\""
      ]
     },
     "execution_count": 327,
     "metadata": {},
     "output_type": "execute_result"
    }
   ],
   "source": [
    "Y_Gr = new_data_Gr['ln_retail_volumes'] \n",
    "X_Gr = new_data_Gr[['ln_V1XI', 'ln_Cost_to_trade', 'Unempl', 'GDP', 'Fin_lit', 'Marg_trade', 'Return', 'Infl', 'Int_rate',\n",
    "         'ln_Deriv', 'CMU']]\n",
    "\n",
    "X_Gr = sm.add_constant(X_Gr)\n",
    "model_Gr = sm.OLS(Y_Gr, X_Gr).fit()\n",
    "predictions = model_Gr.predict(X_Gr)\n",
    "model_Gr.summary()"
   ]
  },
  {
   "cell_type": "code",
   "execution_count": 329,
   "metadata": {},
   "outputs": [
    {
     "data": {
      "text/plain": [
       "(0.9516411423683167, 0.001306660007685423)"
      ]
     },
     "execution_count": 329,
     "metadata": {},
     "output_type": "execute_result"
    }
   ],
   "source": [
    "shapiro_test_Gr = stats.shapiro(model_Gr.resid)\n",
    "shapiro_test_Gr"
   ]
  },
  {
   "cell_type": "code",
   "execution_count": 330,
   "metadata": {},
   "outputs": [
    {
     "data": {
      "text/plain": [
       "<matplotlib.axes._subplots.AxesSubplot at 0x20bc0e78748>"
      ]
     },
     "execution_count": 330,
     "metadata": {},
     "output_type": "execute_result"
    },
    {
     "data": {
      "image/png": "[encoded data removed]",
      "text/plain": [
       "<Figure size 432x288 with 1 Axes>"
      ]
     },
     "metadata": {
      "needs_background": "light"
     },
     "output_type": "display_data"
    }
   ],
   "source": [
    "new_data_Gr.boxplot(column=['Deriv'])"
   ]
  },
  {
   "cell_type": "code",
   "execution_count": 331,
   "metadata": {},
   "outputs": [
    {
     "data": {
      "text/plain": [
       "<matplotlib.axes._subplots.AxesSubplot at 0x20bc10c23c8>"
      ]
     },
     "execution_count": 331,
     "metadata": {},
     "output_type": "execute_result"
    },
    {
     "data": {
      "image/png": "[encoded data removed]",
      "text/plain": [
       "<Figure size 432x288 with 1 Axes>"
      ]
     },
     "metadata": {
      "needs_background": "light"
     },
     "output_type": "display_data"
    }
   ],
   "source": [
    "new_data_Gr.boxplot(column=['ln_retail_volumes'])"
   ]
  },
  {
   "cell_type": "code",
   "execution_count": 332,
   "metadata": {},
   "outputs": [
    {
     "data": {
      "text/plain": [
       "<matplotlib.axes._subplots.AxesSubplot at 0x20bc0d85e08>"
      ]
     },
     "execution_count": 332,
     "metadata": {},
     "output_type": "execute_result"
    },
    {
     "data": {
      "image/png": "[encoded data removed]",
      "text/plain": [
       "<Figure size 432x288 with 1 Axes>"
      ]
     },
     "metadata": {
      "needs_background": "light"
     },
     "output_type": "display_data"
    }
   ],
   "source": [
    "new_data_Gr.boxplot(column=['Infl'])"
   ]
  },
  {
   "cell_type": "code",
   "execution_count": 333,
   "metadata": {},
   "outputs": [
    {
     "data": {
      "text/plain": [
       "<matplotlib.axes._subplots.AxesSubplot at 0x20bbf77c748>"
      ]
     },
     "execution_count": 333,
     "metadata": {},
     "output_type": "execute_result"
    },
    {
     "data": {
      "image/png": "[encoded data removed]",
      "text/plain": [
       "<Figure size 432x288 with 1 Axes>"
      ]
     },
     "metadata": {
      "needs_background": "light"
     },
     "output_type": "display_data"
    }
   ],
   "source": [
    "new_data_Gr.boxplot(column=['Int_rate'])"
   ]
  },
  {
   "cell_type": "code",
   "execution_count": 334,
   "metadata": {},
   "outputs": [
    {
     "data": {
      "text/plain": [
       "<matplotlib.axes._subplots.AxesSubplot at 0x20bbf48e888>"
      ]
     },
     "execution_count": 334,
     "metadata": {},
     "output_type": "execute_result"
    },
    {
     "data": {
      "image/png": "[encoded data removed]",
      "text/plain": [
       "<Figure size 432x288 with 1 Axes>"
      ]
     },
     "metadata": {
      "needs_background": "light"
     },
     "output_type": "display_data"
    }
   ],
   "source": [
    "new_data_Gr.boxplot(column=['Cost_to_trade'])"
   ]
  },
  {
   "cell_type": "code",
   "execution_count": 335,
   "metadata": {},
   "outputs": [
    {
     "data": {
      "text/plain": [
       "<matplotlib.axes._subplots.AxesSubplot at 0x20bbf1cd948>"
      ]
     },
     "execution_count": 335,
     "metadata": {},
     "output_type": "execute_result"
    },
    {
     "data": {
      "image/png": "[encoded data removed]",
      "text/plain": [
       "<Figure size 432x288 with 1 Axes>"
      ]
     },
     "metadata": {
      "needs_background": "light"
     },
     "output_type": "display_data"
    }
   ],
   "source": [
    "new_data_Gr.boxplot(column=['Unempl'])"
   ]
  },
  {
   "cell_type": "code",
   "execution_count": 336,
   "metadata": {},
   "outputs": [
    {
     "data": {
      "text/plain": [
       "<matplotlib.axes._subplots.AxesSubplot at 0x20bbf12c408>"
      ]
     },
     "execution_count": 336,
     "metadata": {},
     "output_type": "execute_result"
    },
    {
     "data": {
      "image/png": "[encoded data removed]",
      "text/plain": [
       "<Figure size 432x288 with 1 Axes>"
      ]
     },
     "metadata": {
      "needs_background": "light"
     },
     "output_type": "display_data"
    }
   ],
   "source": [
    "new_data_Gr.boxplot(column=['V1XI'])"
   ]
  },
  {
   "cell_type": "code",
   "execution_count": 337,
   "metadata": {},
   "outputs": [
    {
     "data": {
      "text/plain": [
       "<matplotlib.axes._subplots.AxesSubplot at 0x20bbefb0288>"
      ]
     },
     "execution_count": 337,
     "metadata": {},
     "output_type": "execute_result"
    },
    {
     "data": {
      "image/png": "[encoded data removed]",
      "text/plain": [
       "<Figure size 432x288 with 1 Axes>"
      ]
     },
     "metadata": {
      "needs_background": "light"
     },
     "output_type": "display_data"
    }
   ],
   "source": [
    "new_data_Gr.boxplot(column=['Return'])"
   ]
  },
  {
   "cell_type": "code",
   "execution_count": 338,
   "metadata": {
    "scrolled": false
   },
   "outputs": [
    {
     "data": {
      "image/png": "[encoded data removed]",
      "text/plain": [
       "<Figure size 864x432 with 1 Axes>"
      ]
     },
     "metadata": {
      "needs_background": "light"
     },
     "output_type": "display_data"
    }
   ],
   "source": [
    "plt.subplots(figsize=(12, 6))\n",
    "plt.title('Distribution of Residuals')\n",
    "sns.distplot(model_Gr.resid)\n",
    "plt.show()"
   ]
  },
  {
   "cell_type": "code",
   "execution_count": 339,
   "metadata": {},
   "outputs": [
    {
     "name": "stdout",
     "output_type": "stream",
     "text": [
      "Variable: const --- correlation: nan, p-value: nan\n",
      "Variable: V1XI --- correlation: -0.0000, p-value: 1.0000\n",
      "Variable: Cost_to_trade --- correlation: -0.0000, p-value: 1.0000\n",
      "Variable: Unempl --- correlation: 0.0000, p-value: 1.0000\n",
      "Variable: GDP --- correlation: -0.0000, p-value: 1.0000\n",
      "Variable: Fin_lit --- correlation: -0.0000, p-value: 1.0000\n",
      "Variable: Marg_trade --- correlation: -0.0000, p-value: 1.0000\n",
      "Variable: Return --- correlation: -0.0000, p-value: 1.0000\n",
      "Variable: Infl --- correlation: 0.0000, p-value: 1.0000\n",
      "Variable: Int_rate --- correlation: 0.0000, p-value: 1.0000\n",
      "Variable: Deriv --- correlation: 0.0000, p-value: 1.0000\n",
      "Variable: CMU --- correlation: -0.0000, p-value: 1.0000\n"
     ]
    },
    {
     "name": "stderr",
     "output_type": "stream",
     "text": [
      "C:\\Users\\peter\\Anaconda3\\lib\\site-packages\\scipy\\stats\\stats.py:3399: PearsonRConstantInputWarning: An input array is constant; the correlation coefficent is not defined.\n",
      "  warnings.warn(PearsonRConstantInputWarning())\n"
     ]
    }
   ],
   "source": [
    "for column in X_Gr.columns:\n",
    "    corr_test = pearsonr(X_Gr[column], model_Gr.resid)\n",
    "    print(f'Variable: {column} --- correlation: {corr_test[0]:.4f}, p-value: {corr_test[1]:.4f}')\n"
   ]
  },
  {
   "cell_type": "code",
   "execution_count": 340,
   "metadata": {},
   "outputs": [
    {
     "name": "stdout",
     "output_type": "stream",
     "text": [
      "\n",
      " Breusch-Pagan test ----\n",
      "                                      value\n",
      "Lagrange multiplier statistic  4.678498e+01\n",
      "p-value                        2.347966e-06\n",
      "f-value                        7.199445e+00\n",
      "f p-value                      1.595494e-08\n",
      "\n",
      " Goldfeld-Quandt test ----\n",
      "                value\n",
      "F statistic  0.341965\n",
      "p-value      0.999341\n",
      "\n",
      " Residuals plots ----\n"
     ]
    },
    {
     "data": {
      "image/png": "[encoded data removed]",
      "text/plain": [
       "<Figure size 432x288 with 2 Axes>"
      ]
     },
     "metadata": {
      "needs_background": "light"
     },
     "output_type": "display_data"
    }
   ],
   "source": [
    "homoscedasticity_test(model_Gr)"
   ]
  },
  {
   "cell_type": "code",
   "execution_count": 436,
   "metadata": {},
   "outputs": [
    {
     "name": "stdout",
     "output_type": "stream",
     "text": [
      "                     value\n",
      "LM statistic  8.027352e+01\n",
      "p-value       1.804447e-06\n",
      "f-value       1.055821e+01\n",
      "f p-value     1.699245e-15\n"
     ]
    }
   ],
   "source": [
    "white_test_Gr = pd.DataFrame(sms.het_white(model_Gr.resid, model_Gr.model.exog), \n",
    "                           columns=['value'],\n",
    "                           index=['LM statistic', 'p-value', 'f-value', 'f p-value'])\n",
    "print(white_test_Gr)"
   ]
  },
  {
   "cell_type": "code",
   "execution_count": 344,
   "metadata": {},
   "outputs": [
    {
     "name": "stderr",
     "output_type": "stream",
     "text": [
      "C:\\Users\\peter\\Anaconda3\\lib\\site-packages\\statsmodels\\base\\model.py:1752: ValueWarning: covariance of constraints does not have full rank. The number of constraints is 11, but rank is 10\n",
      "  \n"
     ]
    },
    {
     "data": {
      "text/html": [
       "<table class=\"simpletable\">\n",
       "<caption>OLS Regression Results</caption>\n",
       "<tr>\n",
       "  <th>Dep. Variable:</th>    <td>ln_retail_volumes</td> <th>  R-squared:         </th> <td>   0.853</td>\n",
       "</tr>\n",
       "<tr>\n",
       "  <th>Model:</th>                   <td>OLS</td>        <th>  Adj. R-squared:    </th> <td>   0.834</td>\n",
       "</tr>\n",
       "<tr>\n",
       "  <th>Method:</th>             <td>Least Squares</td>   <th>  F-statistic:       </th> <td>   153.1</td>\n",
       "</tr>\n",
       "<tr>\n",
       "  <th>Date:</th>             <td>Wed, 28 Apr 2021</td>  <th>  Prob (F-statistic):</th> <td>6.04e-50</td>\n",
       "</tr>\n",
       "<tr>\n",
       "  <th>Time:</th>                 <td>00:35:15</td>      <th>  Log-Likelihood:    </th> <td>  154.34</td>\n",
       "</tr>\n",
       "<tr>\n",
       "  <th>No. Observations:</th>      <td>    97</td>       <th>  AIC:               </th> <td>  -284.7</td>\n",
       "</tr>\n",
       "<tr>\n",
       "  <th>Df Residuals:</th>          <td>    85</td>       <th>  BIC:               </th> <td>  -253.8</td>\n",
       "</tr>\n",
       "<tr>\n",
       "  <th>Df Model:</th>              <td>    11</td>       <th>                     </th>     <td> </td>   \n",
       "</tr>\n",
       "<tr>\n",
       "  <th>Covariance Type:</th>         <td>HC0</td>        <th>                     </th>     <td> </td>   \n",
       "</tr>\n",
       "</table>\n",
       "<table class=\"simpletable\">\n",
       "<tr>\n",
       "        <td></td>           <th>coef</th>     <th>std err</th>      <th>z</th>      <th>P>|z|</th>  <th>[0.025</th>    <th>0.975]</th>  \n",
       "</tr>\n",
       "<tr>\n",
       "  <th>const</th>         <td>    7.4434</td> <td>    0.099</td> <td>   75.395</td> <td> 0.000</td> <td>    7.250</td> <td>    7.637</td>\n",
       "</tr>\n",
       "<tr>\n",
       "  <th>V1XI</th>          <td>    0.0050</td> <td>    0.002</td> <td>    2.260</td> <td> 0.024</td> <td>    0.001</td> <td>    0.009</td>\n",
       "</tr>\n",
       "<tr>\n",
       "  <th>Cost_to_trade</th> <td>   -0.0001</td> <td>    0.000</td> <td>   -0.970</td> <td> 0.332</td> <td>   -0.000</td> <td>    0.000</td>\n",
       "</tr>\n",
       "<tr>\n",
       "  <th>Unempl</th>        <td>  -12.8728</td> <td>    1.551</td> <td>   -8.297</td> <td> 0.000</td> <td>  -15.914</td> <td>   -9.832</td>\n",
       "</tr>\n",
       "<tr>\n",
       "  <th>GDP</th>           <td>   -0.2835</td> <td>    0.595</td> <td>   -0.477</td> <td> 0.634</td> <td>   -1.449</td> <td>    0.882</td>\n",
       "</tr>\n",
       "<tr>\n",
       "  <th>Fin_lit</th>       <td>    0.0579</td> <td>    0.021</td> <td>    2.781</td> <td> 0.005</td> <td>    0.017</td> <td>    0.099</td>\n",
       "</tr>\n",
       "<tr>\n",
       "  <th>Marg_trade</th>    <td>    0.2208</td> <td>    0.032</td> <td>    6.853</td> <td> 0.000</td> <td>    0.158</td> <td>    0.284</td>\n",
       "</tr>\n",
       "<tr>\n",
       "  <th>Return</th>        <td>    0.6581</td> <td>    0.269</td> <td>    2.442</td> <td> 0.015</td> <td>    0.130</td> <td>    1.186</td>\n",
       "</tr>\n",
       "<tr>\n",
       "  <th>Infl</th>          <td>    3.0443</td> <td>    2.103</td> <td>    1.448</td> <td> 0.148</td> <td>   -1.077</td> <td>    7.166</td>\n",
       "</tr>\n",
       "<tr>\n",
       "  <th>Int_rate</th>      <td>   -8.3666</td> <td>    5.944</td> <td>   -1.408</td> <td> 0.159</td> <td>  -20.016</td> <td>    3.283</td>\n",
       "</tr>\n",
       "<tr>\n",
       "  <th>Deriv</th>         <td>  1.18e-08</td> <td> 1.62e-08</td> <td>    0.729</td> <td> 0.466</td> <td>-1.99e-08</td> <td> 4.35e-08</td>\n",
       "</tr>\n",
       "<tr>\n",
       "  <th>CMU</th>           <td>   -0.0141</td> <td>    0.017</td> <td>   -0.824</td> <td> 0.410</td> <td>   -0.048</td> <td>    0.019</td>\n",
       "</tr>\n",
       "</table>\n",
       "<table class=\"simpletable\">\n",
       "<tr>\n",
       "  <th>Omnibus:</th>       <td>20.614</td> <th>  Durbin-Watson:     </th> <td>   0.911</td>\n",
       "</tr>\n",
       "<tr>\n",
       "  <th>Prob(Omnibus):</th> <td> 0.000</td> <th>  Jarque-Bera (JB):  </th> <td>  36.472</td>\n",
       "</tr>\n",
       "<tr>\n",
       "  <th>Skew:</th>          <td> 0.860</td> <th>  Prob(JB):          </th> <td>1.20e-08</td>\n",
       "</tr>\n",
       "<tr>\n",
       "  <th>Kurtosis:</th>      <td> 5.463</td> <th>  Cond. No.          </th> <td>2.20e+09</td>\n",
       "</tr>\n",
       "</table><br/><br/>Warnings:<br/>[1] Standard Errors are heteroscedasticity robust (HC0)<br/>[2] The condition number is large, 2.2e+09. This might indicate that there are<br/>strong multicollinearity or other numerical problems."
      ],
      "text/plain": [
       "<class 'statsmodels.iolib.summary.Summary'>\n",
       "\"\"\"\n",
       "                            OLS Regression Results                            \n",
       "==============================================================================\n",
       "Dep. Variable:      ln_retail_volumes   R-squared:                       0.853\n",
       "Model:                            OLS   Adj. R-squared:                  0.834\n",
       "Method:                 Least Squares   F-statistic:                     153.1\n",
       "Date:                Wed, 28 Apr 2021   Prob (F-statistic):           6.04e-50\n",
       "Time:                        00:35:15   Log-Likelihood:                 154.34\n",
       "No. Observations:                  97   AIC:                            -284.7\n",
       "Df Residuals:                      85   BIC:                            -253.8\n",
       "Df Model:                          11                                         \n",
       "Covariance Type:                  HC0                                         \n",
       "=================================================================================\n",
       "                    coef    std err          z      P>|z|      [0.025      0.975]\n",
       "---------------------------------------------------------------------------------\n",
       "const             7.4434      0.099     75.395      0.000       7.250       7.637\n",
       "V1XI              0.0050      0.002      2.260      0.024       0.001       0.009\n",
       "Cost_to_trade    -0.0001      0.000     -0.970      0.332      -0.000       0.000\n",
       "Unempl          -12.8728      1.551     -8.297      0.000     -15.914      -9.832\n",
       "GDP              -0.2835      0.595     -0.477      0.634      -1.449       0.882\n",
       "Fin_lit           0.0579      0.021      2.781      0.005       0.017       0.099\n",
       "Marg_trade        0.2208      0.032      6.853      0.000       0.158       0.284\n",
       "Return            0.6581      0.269      2.442      0.015       0.130       1.186\n",
       "Infl              3.0443      2.103      1.448      0.148      -1.077       7.166\n",
       "Int_rate         -8.3666      5.944     -1.408      0.159     -20.016       3.283\n",
       "Deriv           1.18e-08   1.62e-08      0.729      0.466   -1.99e-08    4.35e-08\n",
       "CMU              -0.0141      0.017     -0.824      0.410      -0.048       0.019\n",
       "==============================================================================\n",
       "Omnibus:                       20.614   Durbin-Watson:                   0.911\n",
       "Prob(Omnibus):                  0.000   Jarque-Bera (JB):               36.472\n",
       "Skew:                           0.860   Prob(JB):                     1.20e-08\n",
       "Kurtosis:                       5.463   Cond. No.                     2.20e+09\n",
       "==============================================================================\n",
       "\n",
       "Warnings:\n",
       "[1] Standard Errors are heteroscedasticity robust (HC0)\n",
       "[2] The condition number is large, 2.2e+09. This might indicate that there are\n",
       "strong multicollinearity or other numerical problems.\n",
       "\"\"\""
      ]
     },
     "execution_count": 344,
     "metadata": {},
     "output_type": "execute_result"
    }
   ],
   "source": [
    "Y_Gr = new_data_Gr['ln_retail_volumes'] \n",
    "X_Gr = new_data_Gr[['V1XI', 'Cost_to_trade', 'Unempl', 'GDP', 'Fin_lit', 'Marg_trade', 'Return', 'Infl', 'Int_rate',\n",
    "         'Deriv', 'CMU']]\n",
    "\n",
    "X_Gr = sm.add_constant(X_Gr)\n",
    "model_Gr = sm.OLS(Y_Gr, X_Gr).fit(cov_type='HC0')\n",
    "predictions = model_Gr.predict(X_Gr)\n",
    "model_Gr.summary()"
   ]
  },
  {
   "cell_type": "code",
   "execution_count": 345,
   "metadata": {},
   "outputs": [
    {
     "data": {
      "text/plain": [
       "(0.9516411423683167, 0.001306660007685423)"
      ]
     },
     "execution_count": 345,
     "metadata": {},
     "output_type": "execute_result"
    }
   ],
   "source": [
    "shapiro_test_Gr = stats.shapiro(model_Gr.resid)\n",
    "shapiro_test_Gr"
   ]
  },
  {
   "cell_type": "code",
   "execution_count": 397,
   "metadata": {},
   "outputs": [
    {
     "data": {
      "text/html": [
       "<div>\n",
       "<style scoped>\n",
       "    .dataframe tbody tr th:only-of-type {\n",
       "        vertical-align: middle;\n",
       "    }\n",
       "\n",
       "    .dataframe tbody tr th {\n",
       "        vertical-align: top;\n",
       "    }\n",
       "\n",
       "    .dataframe thead th {\n",
       "        text-align: right;\n",
       "    }\n",
       "</style>\n",
       "<table border=\"1\" class=\"dataframe\">\n",
       "  <thead>\n",
       "    <tr style=\"text-align: right;\">\n",
       "      <th></th>\n",
       "      <th>Date</th>\n",
       "      <th>Households position - mln euro</th>\n",
       "      <th>Retail volumes - bln euro</th>\n",
       "      <th>ln (Retail volumes)</th>\n",
       "      <th>V1XI</th>\n",
       "      <th>Unemployment rate</th>\n",
       "      <th>Index Return</th>\n",
       "      <th>Fin Literacy</th>\n",
       "      <th>Marginal Trading</th>\n",
       "      <th>CMU</th>\n",
       "      <th>...</th>\n",
       "      <th>After Capital Gain tax</th>\n",
       "      <th>After Capital Gain tax total</th>\n",
       "      <th>Dividends monthly</th>\n",
       "      <th>Dividend tax</th>\n",
       "      <th>After Dividend tax</th>\n",
       "      <th>Total Gain</th>\n",
       "      <th>Comission (for trading)</th>\n",
       "      <th>Comissions paid</th>\n",
       "      <th>Comissions paid total</th>\n",
       "      <th>Cost To Trade total</th>\n",
       "    </tr>\n",
       "  </thead>\n",
       "  <tbody>\n",
       "    <tr>\n",
       "      <td>0</td>\n",
       "      <td>01.02.2021</td>\n",
       "      <td>1275063</td>\n",
       "      <td>1275.06</td>\n",
       "      <td>7.15</td>\n",
       "      <td>34.83</td>\n",
       "      <td>0.060</td>\n",
       "      <td>-0.023</td>\n",
       "      <td>1</td>\n",
       "      <td>1</td>\n",
       "      <td>1</td>\n",
       "      <td>...</td>\n",
       "      <td>-67.209764</td>\n",
       "      <td>0.000000</td>\n",
       "      <td>7.00</td>\n",
       "      <td>1.75</td>\n",
       "      <td>5.25</td>\n",
       "      <td>-61.959764</td>\n",
       "      <td>0,00%</td>\n",
       "      <td>0.000000</td>\n",
       "      <td>0.000000</td>\n",
       "      <td>1.750000</td>\n",
       "    </tr>\n",
       "    <tr>\n",
       "      <td>1</td>\n",
       "      <td>04.01.2021</td>\n",
       "      <td>1275063</td>\n",
       "      <td>1275.06</td>\n",
       "      <td>7.15</td>\n",
       "      <td>32.66</td>\n",
       "      <td>0.060</td>\n",
       "      <td>0.043</td>\n",
       "      <td>1</td>\n",
       "      <td>1</td>\n",
       "      <td>1</td>\n",
       "      <td>...</td>\n",
       "      <td>125.900661</td>\n",
       "      <td>125.900661</td>\n",
       "      <td>7.00</td>\n",
       "      <td>1.75</td>\n",
       "      <td>5.25</td>\n",
       "      <td>131.150660</td>\n",
       "      <td>0,00%</td>\n",
       "      <td>0.000000</td>\n",
       "      <td>0.000000</td>\n",
       "      <td>127.650661</td>\n",
       "    </tr>\n",
       "    <tr>\n",
       "      <td>2</td>\n",
       "      <td>02.11.2020</td>\n",
       "      <td>1225822</td>\n",
       "      <td>1225.82</td>\n",
       "      <td>7.11</td>\n",
       "      <td>43.54</td>\n",
       "      <td>0.061</td>\n",
       "      <td>-0.087</td>\n",
       "      <td>1</td>\n",
       "      <td>1</td>\n",
       "      <td>1</td>\n",
       "      <td>...</td>\n",
       "      <td>-257.305951</td>\n",
       "      <td>0.000000</td>\n",
       "      <td>7.00</td>\n",
       "      <td>1.75</td>\n",
       "      <td>5.25</td>\n",
       "      <td>-252.055951</td>\n",
       "      <td>0,00%</td>\n",
       "      <td>0.000000</td>\n",
       "      <td>0.000000</td>\n",
       "      <td>1.750000</td>\n",
       "    </tr>\n",
       "    <tr>\n",
       "      <td>3</td>\n",
       "      <td>01.10.2020</td>\n",
       "      <td>1123552</td>\n",
       "      <td>1123.55</td>\n",
       "      <td>7.02</td>\n",
       "      <td>32.54</td>\n",
       "      <td>0.062</td>\n",
       "      <td>-0.035</td>\n",
       "      <td>1</td>\n",
       "      <td>1</td>\n",
       "      <td>1</td>\n",
       "      <td>...</td>\n",
       "      <td>-103.329407</td>\n",
       "      <td>0.000000</td>\n",
       "      <td>7.00</td>\n",
       "      <td>1.75</td>\n",
       "      <td>5.25</td>\n",
       "      <td>-98.079407</td>\n",
       "      <td>0,00%</td>\n",
       "      <td>0.000000</td>\n",
       "      <td>0.000000</td>\n",
       "      <td>1.750000</td>\n",
       "    </tr>\n",
       "    <tr>\n",
       "      <td>4</td>\n",
       "      <td>01.09.2020</td>\n",
       "      <td>1155204</td>\n",
       "      <td>1155.20</td>\n",
       "      <td>7.05</td>\n",
       "      <td>33.50</td>\n",
       "      <td>0.063</td>\n",
       "      <td>0.041</td>\n",
       "      <td>1</td>\n",
       "      <td>1</td>\n",
       "      <td>1</td>\n",
       "      <td>...</td>\n",
       "      <td>121.867687</td>\n",
       "      <td>121.867687</td>\n",
       "      <td>7.00</td>\n",
       "      <td>1.75</td>\n",
       "      <td>5.25</td>\n",
       "      <td>127.117687</td>\n",
       "      <td>0,00%</td>\n",
       "      <td>0.000000</td>\n",
       "      <td>0.000000</td>\n",
       "      <td>123.617687</td>\n",
       "    </tr>\n",
       "    <tr>\n",
       "      <td>...</td>\n",
       "      <td>...</td>\n",
       "      <td>...</td>\n",
       "      <td>...</td>\n",
       "      <td>...</td>\n",
       "      <td>...</td>\n",
       "      <td>...</td>\n",
       "      <td>...</td>\n",
       "      <td>...</td>\n",
       "      <td>...</td>\n",
       "      <td>...</td>\n",
       "      <td>...</td>\n",
       "      <td>...</td>\n",
       "      <td>...</td>\n",
       "      <td>...</td>\n",
       "      <td>...</td>\n",
       "      <td>...</td>\n",
       "      <td>...</td>\n",
       "      <td>...</td>\n",
       "      <td>...</td>\n",
       "      <td>...</td>\n",
       "      <td>...</td>\n",
       "    </tr>\n",
       "    <tr>\n",
       "      <td>85</td>\n",
       "      <td>01.08.2013</td>\n",
       "      <td>767882</td>\n",
       "      <td>767.88</td>\n",
       "      <td>6.64</td>\n",
       "      <td>22.87</td>\n",
       "      <td>0.068</td>\n",
       "      <td>0.064</td>\n",
       "      <td>0</td>\n",
       "      <td>0</td>\n",
       "      <td>0</td>\n",
       "      <td>...</td>\n",
       "      <td>190.212653</td>\n",
       "      <td>190.212653</td>\n",
       "      <td>5.48</td>\n",
       "      <td>1.37</td>\n",
       "      <td>4.11</td>\n",
       "      <td>194.322653</td>\n",
       "      <td>5,00%</td>\n",
       "      <td>9.716133</td>\n",
       "      <td>9.716133</td>\n",
       "      <td>201.298786</td>\n",
       "    </tr>\n",
       "    <tr>\n",
       "      <td>86</td>\n",
       "      <td>01.07.2013</td>\n",
       "      <td>776457</td>\n",
       "      <td>776.46</td>\n",
       "      <td>6.65</td>\n",
       "      <td>27.18</td>\n",
       "      <td>0.068</td>\n",
       "      <td>-0.039</td>\n",
       "      <td>0</td>\n",
       "      <td>0</td>\n",
       "      <td>0</td>\n",
       "      <td>...</td>\n",
       "      <td>-116.651251</td>\n",
       "      <td>0.000000</td>\n",
       "      <td>5.48</td>\n",
       "      <td>1.37</td>\n",
       "      <td>4.11</td>\n",
       "      <td>-112.541251</td>\n",
       "      <td>5,00%</td>\n",
       "      <td>-5.627063</td>\n",
       "      <td>5.000000</td>\n",
       "      <td>6.370000</td>\n",
       "    </tr>\n",
       "    <tr>\n",
       "      <td>87</td>\n",
       "      <td>03.06.2013</td>\n",
       "      <td>765647</td>\n",
       "      <td>765.65</td>\n",
       "      <td>6.64</td>\n",
       "      <td>27.58</td>\n",
       "      <td>0.068</td>\n",
       "      <td>0.010</td>\n",
       "      <td>0</td>\n",
       "      <td>0</td>\n",
       "      <td>0</td>\n",
       "      <td>...</td>\n",
       "      <td>29.600000</td>\n",
       "      <td>29.600000</td>\n",
       "      <td>5.48</td>\n",
       "      <td>1.37</td>\n",
       "      <td>4.11</td>\n",
       "      <td>33.710000</td>\n",
       "      <td>5,00%</td>\n",
       "      <td>1.685500</td>\n",
       "      <td>1.685500</td>\n",
       "      <td>32.655500</td>\n",
       "    </tr>\n",
       "    <tr>\n",
       "      <td>88</td>\n",
       "      <td>01.05.2013</td>\n",
       "      <td>790333</td>\n",
       "      <td>790.33</td>\n",
       "      <td>6.67</td>\n",
       "      <td>22.04</td>\n",
       "      <td>0.069</td>\n",
       "      <td>0.010</td>\n",
       "      <td>0</td>\n",
       "      <td>0</td>\n",
       "      <td>0</td>\n",
       "      <td>...</td>\n",
       "      <td>29.600000</td>\n",
       "      <td>29.600000</td>\n",
       "      <td>5.48</td>\n",
       "      <td>1.37</td>\n",
       "      <td>4.11</td>\n",
       "      <td>33.710000</td>\n",
       "      <td>5,00%</td>\n",
       "      <td>1.685500</td>\n",
       "      <td>1.685500</td>\n",
       "      <td>32.655500</td>\n",
       "    </tr>\n",
       "    <tr>\n",
       "      <td>89</td>\n",
       "      <td>01.04.2013</td>\n",
       "      <td>784766</td>\n",
       "      <td>784.77</td>\n",
       "      <td>6.67</td>\n",
       "      <td>20.02</td>\n",
       "      <td>0.070</td>\n",
       "      <td>0.010</td>\n",
       "      <td>0</td>\n",
       "      <td>0</td>\n",
       "      <td>0</td>\n",
       "      <td>...</td>\n",
       "      <td>29.600000</td>\n",
       "      <td>29.600000</td>\n",
       "      <td>5.48</td>\n",
       "      <td>1.37</td>\n",
       "      <td>4.11</td>\n",
       "      <td>33.710000</td>\n",
       "      <td>5,00%</td>\n",
       "      <td>1.685500</td>\n",
       "      <td>1.685500</td>\n",
       "      <td>32.655500</td>\n",
       "    </tr>\n",
       "  </tbody>\n",
       "</table>\n",
       "<p>90 rows × 27 columns</p>\n",
       "</div>"
      ],
      "text/plain": [
       "          Date  Households position - mln euro  Retail volumes - bln euro  \\\n",
       "0   01.02.2021                         1275063                    1275.06   \n",
       "1   04.01.2021                         1275063                    1275.06   \n",
       "2   02.11.2020                         1225822                    1225.82   \n",
       "3   01.10.2020                         1123552                    1123.55   \n",
       "4   01.09.2020                         1155204                    1155.20   \n",
       "..         ...                             ...                        ...   \n",
       "85  01.08.2013                          767882                     767.88   \n",
       "86  01.07.2013                          776457                     776.46   \n",
       "87  03.06.2013                          765647                     765.65   \n",
       "88  01.05.2013                          790333                     790.33   \n",
       "89  01.04.2013                          784766                     784.77   \n",
       "\n",
       "    ln (Retail volumes)   V1XI  Unemployment rate  Index Return  Fin Literacy  \\\n",
       "0                  7.15  34.83              0.060        -0.023             1   \n",
       "1                  7.15  32.66              0.060         0.043             1   \n",
       "2                  7.11  43.54              0.061        -0.087             1   \n",
       "3                  7.02  32.54              0.062        -0.035             1   \n",
       "4                  7.05  33.50              0.063         0.041             1   \n",
       "..                  ...    ...                ...           ...           ...   \n",
       "85                 6.64  22.87              0.068         0.064             0   \n",
       "86                 6.65  27.18              0.068        -0.039             0   \n",
       "87                 6.64  27.58              0.068         0.010             0   \n",
       "88                 6.67  22.04              0.069         0.010             0   \n",
       "89                 6.67  20.02              0.070         0.010             0   \n",
       "\n",
       "    Marginal Trading  CMU  ...  After Capital Gain tax  \\\n",
       "0                  1    1  ...              -67.209764   \n",
       "1                  1    1  ...              125.900661   \n",
       "2                  1    1  ...             -257.305951   \n",
       "3                  1    1  ...             -103.329407   \n",
       "4                  1    1  ...              121.867687   \n",
       "..               ...  ...  ...                     ...   \n",
       "85                 0    0  ...              190.212653   \n",
       "86                 0    0  ...             -116.651251   \n",
       "87                 0    0  ...               29.600000   \n",
       "88                 0    0  ...               29.600000   \n",
       "89                 0    0  ...               29.600000   \n",
       "\n",
       "    After Capital Gain tax total  Dividends monthly  Dividend tax  \\\n",
       "0                       0.000000               7.00          1.75   \n",
       "1                     125.900661               7.00          1.75   \n",
       "2                       0.000000               7.00          1.75   \n",
       "3                       0.000000               7.00          1.75   \n",
       "4                     121.867687               7.00          1.75   \n",
       "..                           ...                ...           ...   \n",
       "85                    190.212653               5.48          1.37   \n",
       "86                      0.000000               5.48          1.37   \n",
       "87                     29.600000               5.48          1.37   \n",
       "88                     29.600000               5.48          1.37   \n",
       "89                     29.600000               5.48          1.37   \n",
       "\n",
       "    After Dividend tax  Total Gain  Comission (for trading)  Comissions paid  \\\n",
       "0                 5.25  -61.959764                    0,00%         0.000000   \n",
       "1                 5.25  131.150660                    0,00%         0.000000   \n",
       "2                 5.25 -252.055951                    0,00%         0.000000   \n",
       "3                 5.25  -98.079407                    0,00%         0.000000   \n",
       "4                 5.25  127.117687                    0,00%         0.000000   \n",
       "..                 ...         ...                      ...              ...   \n",
       "85                4.11  194.322653                    5,00%         9.716133   \n",
       "86                4.11 -112.541251                    5,00%        -5.627063   \n",
       "87                4.11   33.710000                    5,00%         1.685500   \n",
       "88                4.11   33.710000                    5,00%         1.685500   \n",
       "89                4.11   33.710000                    5,00%         1.685500   \n",
       "\n",
       "    Comissions paid total  Cost To Trade total  \n",
       "0                0.000000             1.750000  \n",
       "1                0.000000           127.650661  \n",
       "2                0.000000             1.750000  \n",
       "3                0.000000             1.750000  \n",
       "4                0.000000           123.617687  \n",
       "..                    ...                  ...  \n",
       "85               9.716133           201.298786  \n",
       "86               5.000000             6.370000  \n",
       "87               1.685500            32.655500  \n",
       "88               1.685500            32.655500  \n",
       "89               1.685500            32.655500  \n",
       "\n",
       "[90 rows x 27 columns]"
      ]
     },
     "execution_count": 397,
     "metadata": {},
     "output_type": "execute_result"
    }
   ],
   "source": [
    "#------------------------------------------------------------------------------------------------------------------------------#\n",
    "#                                        Загрузка датафрейма Германия без выбросов                                                                #\n",
    "#------------------------------------------------------------------------------------------------------------------------------#\n",
    "\n",
    "\n",
    "dataset_ger_w_o = pd.read_csv(r\"C:\\Users\\peter\\OneDrive\\Документы\\ВКР\\ВКР работа\\Dataset_Germany_without_outliers.csv\", delimiter = ';', decimal = ',')\n",
    "dataset_ger_w_o = pd.DataFrame(dataset_ger_w_o)\n",
    "dataset_ger_w_o"
   ]
  },
  {
   "cell_type": "code",
   "execution_count": 398,
   "metadata": {},
   "outputs": [],
   "source": [
    "Cost_to_trade_Gr_w_o = dataset_ger_w_o[\"Cost To Trade total\"]\n",
    "ln_retail_volumes_Gr_w_o = dataset_ger_w_o[\"ln (Retail volumes)\"]\n",
    "V1XI_w_o = dataset_ger_w_o[\"V1XI\"]\n",
    "Unempl_Gr_w_o = dataset_ger_w_o[\"Unemployment rate\"]\n",
    "Infl_Gr_w_o = dataset_ger_w_o[\"Infl\"]\n",
    "Int_rate_Gr_w_o = dataset_ger_w_o[\"Int rate\"]\n",
    "Deriv_Gr_w_o = dataset_ger_w_o[\"Der Turnover (mln dollars)\"]\n",
    "GDP_Gr_w_o = dataset_ger_w_o[\"GDP growth\"]\n",
    "CMU_w_o = dataset_ger_w_o[\"CMU\"]\n",
    "Fin_lit_Gr_w_o = dataset_ger_w_o[\"Fin Literacy\"]\n",
    "Marg_trade_Gr_w_o = dataset_ger_w_o[\"Marginal Trading\"]\n",
    "Return_Gr_w_o = dataset_ger_w_o[\"Index Return\"]"
   ]
  },
  {
   "cell_type": "code",
   "execution_count": 399,
   "metadata": {},
   "outputs": [],
   "source": [
    "series_2 = pd.Series([ln_retail_volumes_Gr_w_o, Return_Gr_w_o, Unempl_Gr_w_o, V1XI_w_o, Marg_trade_Gr_w_o, GDP_Gr_w_o, Deriv_Gr_w_o, Infl_Gr_w_o, Int_rate_Gr_w_o, CMU_w_o, Fin_lit_Gr_w_o, Cost_to_trade_Gr_w_o, CMU_w_o])"
   ]
  },
  {
   "cell_type": "code",
   "execution_count": 400,
   "metadata": {},
   "outputs": [],
   "source": [
    "frame2_w_o = {'ln_retail_volumes' : ln_retail_volumes_Gr_w_o, 'V1XI' : V1XI_w_o, 'Cost_to_trade' : Cost_to_trade_Gr_w_o, 'Unempl' : Unempl_Gr_w_o, \n",
    "        'GDP' : GDP_Gr_w_o, 'Fin_lit' : Fin_lit_Gr_w_o, 'Marg_trade' : Marg_trade_Gr_w_o, 'Return' : Return_Gr_w_o, 'Infl' : Infl_Gr_w_o, 'Int_rate' : Int_rate_Gr_w_o,\n",
    "         'Deriv' : Deriv_Gr_w_o, \"CMU\" : CMU_w_o}"
   ]
  },
  {
   "cell_type": "code",
   "execution_count": 401,
   "metadata": {},
   "outputs": [
    {
     "data": {
      "text/html": [
       "<div>\n",
       "<style scoped>\n",
       "    .dataframe tbody tr th:only-of-type {\n",
       "        vertical-align: middle;\n",
       "    }\n",
       "\n",
       "    .dataframe tbody tr th {\n",
       "        vertical-align: top;\n",
       "    }\n",
       "\n",
       "    .dataframe thead th {\n",
       "        text-align: right;\n",
       "    }\n",
       "</style>\n",
       "<table border=\"1\" class=\"dataframe\">\n",
       "  <thead>\n",
       "    <tr style=\"text-align: right;\">\n",
       "      <th></th>\n",
       "      <th>ln_retail_volumes</th>\n",
       "      <th>V1XI</th>\n",
       "      <th>Cost_to_trade</th>\n",
       "      <th>Unempl</th>\n",
       "      <th>GDP</th>\n",
       "      <th>Fin_lit</th>\n",
       "      <th>Marg_trade</th>\n",
       "      <th>Return</th>\n",
       "      <th>Infl</th>\n",
       "      <th>Int_rate</th>\n",
       "      <th>Deriv</th>\n",
       "      <th>CMU</th>\n",
       "    </tr>\n",
       "  </thead>\n",
       "  <tbody>\n",
       "    <tr>\n",
       "      <td>0</td>\n",
       "      <td>7.15</td>\n",
       "      <td>34.83</td>\n",
       "      <td>1.750000</td>\n",
       "      <td>0.060</td>\n",
       "      <td>-0.015</td>\n",
       "      <td>1</td>\n",
       "      <td>1</td>\n",
       "      <td>-0.023</td>\n",
       "      <td>0.0078</td>\n",
       "      <td>0.0000</td>\n",
       "      <td>1057729</td>\n",
       "      <td>1</td>\n",
       "    </tr>\n",
       "    <tr>\n",
       "      <td>1</td>\n",
       "      <td>7.15</td>\n",
       "      <td>32.66</td>\n",
       "      <td>127.650661</td>\n",
       "      <td>0.060</td>\n",
       "      <td>-0.015</td>\n",
       "      <td>1</td>\n",
       "      <td>1</td>\n",
       "      <td>0.043</td>\n",
       "      <td>0.0067</td>\n",
       "      <td>0.0000</td>\n",
       "      <td>976140</td>\n",
       "      <td>1</td>\n",
       "    </tr>\n",
       "    <tr>\n",
       "      <td>2</td>\n",
       "      <td>7.11</td>\n",
       "      <td>43.54</td>\n",
       "      <td>1.750000</td>\n",
       "      <td>0.061</td>\n",
       "      <td>0.003</td>\n",
       "      <td>1</td>\n",
       "      <td>1</td>\n",
       "      <td>-0.087</td>\n",
       "      <td>-0.0085</td>\n",
       "      <td>0.0000</td>\n",
       "      <td>1221809</td>\n",
       "      <td>1</td>\n",
       "    </tr>\n",
       "    <tr>\n",
       "      <td>3</td>\n",
       "      <td>7.02</td>\n",
       "      <td>32.54</td>\n",
       "      <td>1.750000</td>\n",
       "      <td>0.062</td>\n",
       "      <td>0.003</td>\n",
       "      <td>1</td>\n",
       "      <td>1</td>\n",
       "      <td>-0.035</td>\n",
       "      <td>0.0009</td>\n",
       "      <td>0.0000</td>\n",
       "      <td>930653</td>\n",
       "      <td>1</td>\n",
       "    </tr>\n",
       "    <tr>\n",
       "      <td>4</td>\n",
       "      <td>7.05</td>\n",
       "      <td>33.50</td>\n",
       "      <td>123.617687</td>\n",
       "      <td>0.063</td>\n",
       "      <td>0.085</td>\n",
       "      <td>1</td>\n",
       "      <td>1</td>\n",
       "      <td>0.041</td>\n",
       "      <td>-0.0019</td>\n",
       "      <td>0.0000</td>\n",
       "      <td>868791</td>\n",
       "      <td>1</td>\n",
       "    </tr>\n",
       "    <tr>\n",
       "      <td>...</td>\n",
       "      <td>...</td>\n",
       "      <td>...</td>\n",
       "      <td>...</td>\n",
       "      <td>...</td>\n",
       "      <td>...</td>\n",
       "      <td>...</td>\n",
       "      <td>...</td>\n",
       "      <td>...</td>\n",
       "      <td>...</td>\n",
       "      <td>...</td>\n",
       "      <td>...</td>\n",
       "      <td>...</td>\n",
       "    </tr>\n",
       "    <tr>\n",
       "      <td>85</td>\n",
       "      <td>6.64</td>\n",
       "      <td>22.87</td>\n",
       "      <td>201.298786</td>\n",
       "      <td>0.068</td>\n",
       "      <td>0.005</td>\n",
       "      <td>0</td>\n",
       "      <td>0</td>\n",
       "      <td>0.064</td>\n",
       "      <td>0.0000</td>\n",
       "      <td>0.0050</td>\n",
       "      <td>3042619</td>\n",
       "      <td>0</td>\n",
       "    </tr>\n",
       "    <tr>\n",
       "      <td>86</td>\n",
       "      <td>6.65</td>\n",
       "      <td>27.18</td>\n",
       "      <td>6.370000</td>\n",
       "      <td>0.068</td>\n",
       "      <td>0.005</td>\n",
       "      <td>0</td>\n",
       "      <td>0</td>\n",
       "      <td>-0.039</td>\n",
       "      <td>0.0047</td>\n",
       "      <td>0.0050</td>\n",
       "      <td>2450110</td>\n",
       "      <td>0</td>\n",
       "    </tr>\n",
       "    <tr>\n",
       "      <td>87</td>\n",
       "      <td>6.64</td>\n",
       "      <td>27.58</td>\n",
       "      <td>32.655500</td>\n",
       "      <td>0.068</td>\n",
       "      <td>0.008</td>\n",
       "      <td>0</td>\n",
       "      <td>0</td>\n",
       "      <td>0.010</td>\n",
       "      <td>0.0009</td>\n",
       "      <td>0.0050</td>\n",
       "      <td>1840827</td>\n",
       "      <td>0</td>\n",
       "    </tr>\n",
       "    <tr>\n",
       "      <td>88</td>\n",
       "      <td>6.67</td>\n",
       "      <td>22.04</td>\n",
       "      <td>32.655500</td>\n",
       "      <td>0.069</td>\n",
       "      <td>0.008</td>\n",
       "      <td>0</td>\n",
       "      <td>0</td>\n",
       "      <td>0.010</td>\n",
       "      <td>0.0038</td>\n",
       "      <td>0.0050</td>\n",
       "      <td>2484611</td>\n",
       "      <td>0</td>\n",
       "    </tr>\n",
       "    <tr>\n",
       "      <td>89</td>\n",
       "      <td>6.67</td>\n",
       "      <td>20.02</td>\n",
       "      <td>32.655500</td>\n",
       "      <td>0.070</td>\n",
       "      <td>0.008</td>\n",
       "      <td>0</td>\n",
       "      <td>0</td>\n",
       "      <td>0.010</td>\n",
       "      <td>-0.0047</td>\n",
       "      <td>0.0075</td>\n",
       "      <td>2729727</td>\n",
       "      <td>0</td>\n",
       "    </tr>\n",
       "  </tbody>\n",
       "</table>\n",
       "<p>90 rows × 12 columns</p>\n",
       "</div>"
      ],
      "text/plain": [
       "    ln_retail_volumes   V1XI  Cost_to_trade  Unempl    GDP  Fin_lit  \\\n",
       "0                7.15  34.83       1.750000   0.060 -0.015        1   \n",
       "1                7.15  32.66     127.650661   0.060 -0.015        1   \n",
       "2                7.11  43.54       1.750000   0.061  0.003        1   \n",
       "3                7.02  32.54       1.750000   0.062  0.003        1   \n",
       "4                7.05  33.50     123.617687   0.063  0.085        1   \n",
       "..                ...    ...            ...     ...    ...      ...   \n",
       "85               6.64  22.87     201.298786   0.068  0.005        0   \n",
       "86               6.65  27.18       6.370000   0.068  0.005        0   \n",
       "87               6.64  27.58      32.655500   0.068  0.008        0   \n",
       "88               6.67  22.04      32.655500   0.069  0.008        0   \n",
       "89               6.67  20.02      32.655500   0.070  0.008        0   \n",
       "\n",
       "    Marg_trade  Return    Infl  Int_rate    Deriv  CMU  \n",
       "0            1  -0.023  0.0078    0.0000  1057729    1  \n",
       "1            1   0.043  0.0067    0.0000   976140    1  \n",
       "2            1  -0.087 -0.0085    0.0000  1221809    1  \n",
       "3            1  -0.035  0.0009    0.0000   930653    1  \n",
       "4            1   0.041 -0.0019    0.0000   868791    1  \n",
       "..         ...     ...     ...       ...      ...  ...  \n",
       "85           0   0.064  0.0000    0.0050  3042619    0  \n",
       "86           0  -0.039  0.0047    0.0050  2450110    0  \n",
       "87           0   0.010  0.0009    0.0050  1840827    0  \n",
       "88           0   0.010  0.0038    0.0050  2484611    0  \n",
       "89           0   0.010 -0.0047    0.0075  2729727    0  \n",
       "\n",
       "[90 rows x 12 columns]"
      ]
     },
     "execution_count": 401,
     "metadata": {},
     "output_type": "execute_result"
    }
   ],
   "source": [
    "new_data_Gr_w_o = pd.DataFrame(frame2_w_o)\n",
    "new_data_Gr_w_o"
   ]
  },
  {
   "cell_type": "code",
   "execution_count": 440,
   "metadata": {},
   "outputs": [
    {
     "name": "stderr",
     "output_type": "stream",
     "text": [
      "C:\\Users\\peter\\Anaconda3\\lib\\site-packages\\numpy\\core\\fromnumeric.py:2389: FutureWarning: Method .ptp is deprecated and will be removed in a future version. Use numpy.ptp instead.\n",
      "  return ptp(axis=axis, out=out, **kwargs)\n",
      "C:\\Users\\peter\\Anaconda3\\lib\\site-packages\\statsmodels\\base\\model.py:1752: ValueWarning: covariance of constraints does not have full rank. The number of constraints is 11, but rank is 10\n",
      "  \n"
     ]
    },
    {
     "data": {
      "text/html": [
       "<table class=\"simpletable\">\n",
       "<caption>OLS Regression Results</caption>\n",
       "<tr>\n",
       "  <th>Dep. Variable:</th>    <td>ln_retail_volumes</td> <th>  R-squared:         </th> <td>   0.892</td>\n",
       "</tr>\n",
       "<tr>\n",
       "  <th>Model:</th>                   <td>OLS</td>        <th>  Adj. R-squared:    </th> <td>   0.876</td>\n",
       "</tr>\n",
       "<tr>\n",
       "  <th>Method:</th>             <td>Least Squares</td>   <th>  F-statistic:       </th> <td>   79.65</td>\n",
       "</tr>\n",
       "<tr>\n",
       "  <th>Date:</th>             <td>Thu, 29 Apr 2021</td>  <th>  Prob (F-statistic):</th> <td>9.91e-37</td>\n",
       "</tr>\n",
       "<tr>\n",
       "  <th>Time:</th>                 <td>01:08:50</td>      <th>  Log-Likelihood:    </th> <td>  160.15</td>\n",
       "</tr>\n",
       "<tr>\n",
       "  <th>No. Observations:</th>      <td>    90</td>       <th>  AIC:               </th> <td>  -296.3</td>\n",
       "</tr>\n",
       "<tr>\n",
       "  <th>Df Residuals:</th>          <td>    78</td>       <th>  BIC:               </th> <td>  -266.3</td>\n",
       "</tr>\n",
       "<tr>\n",
       "  <th>Df Model:</th>              <td>    11</td>       <th>                     </th>     <td> </td>   \n",
       "</tr>\n",
       "<tr>\n",
       "  <th>Covariance Type:</th>         <td>HC0</td>        <th>                     </th>     <td> </td>   \n",
       "</tr>\n",
       "</table>\n",
       "<table class=\"simpletable\">\n",
       "<tr>\n",
       "        <td></td>           <th>coef</th>     <th>std err</th>      <th>z</th>      <th>P>|z|</th>  <th>[0.025</th>    <th>0.975]</th>  \n",
       "</tr>\n",
       "<tr>\n",
       "  <th>const</th>         <td>    7.7171</td> <td>    0.089</td> <td>   86.308</td> <td> 0.000</td> <td>    7.542</td> <td>    7.892</td>\n",
       "</tr>\n",
       "<tr>\n",
       "  <th>V1XI</th>          <td>-6.091e-05</td> <td>    0.002</td> <td>   -0.038</td> <td> 0.970</td> <td>   -0.003</td> <td>    0.003</td>\n",
       "</tr>\n",
       "<tr>\n",
       "  <th>Cost_to_trade</th> <td>-9.566e-05</td> <td>    0.000</td> <td>   -0.786</td> <td> 0.432</td> <td>   -0.000</td> <td>    0.000</td>\n",
       "</tr>\n",
       "<tr>\n",
       "  <th>Unempl</th>        <td>  -14.7123</td> <td>    1.202</td> <td>  -12.244</td> <td> 0.000</td> <td>  -17.067</td> <td>  -12.357</td>\n",
       "</tr>\n",
       "<tr>\n",
       "  <th>GDP</th>           <td>    1.4892</td> <td>    0.825</td> <td>    1.805</td> <td> 0.071</td> <td>   -0.127</td> <td>    3.106</td>\n",
       "</tr>\n",
       "<tr>\n",
       "  <th>Fin_lit</th>       <td>    0.0069</td> <td>    0.018</td> <td>    0.378</td> <td> 0.705</td> <td>   -0.029</td> <td>    0.043</td>\n",
       "</tr>\n",
       "<tr>\n",
       "  <th>Marg_trade</th>    <td>    0.2660</td> <td>    0.044</td> <td>    6.096</td> <td> 0.000</td> <td>    0.180</td> <td>    0.352</td>\n",
       "</tr>\n",
       "<tr>\n",
       "  <th>Return</th>        <td>    0.4047</td> <td>    0.234</td> <td>    1.730</td> <td> 0.084</td> <td>   -0.054</td> <td>    0.863</td>\n",
       "</tr>\n",
       "<tr>\n",
       "  <th>Infl</th>          <td>    0.2264</td> <td>    1.174</td> <td>    0.193</td> <td> 0.847</td> <td>   -2.074</td> <td>    2.527</td>\n",
       "</tr>\n",
       "<tr>\n",
       "  <th>Int_rate</th>      <td>   -4.7538</td> <td>    5.044</td> <td>   -0.942</td> <td> 0.346</td> <td>  -14.640</td> <td>    5.132</td>\n",
       "</tr>\n",
       "<tr>\n",
       "  <th>Deriv</th>         <td>-1.174e-08</td> <td> 1.24e-08</td> <td>   -0.943</td> <td> 0.346</td> <td>-3.61e-08</td> <td> 1.27e-08</td>\n",
       "</tr>\n",
       "<tr>\n",
       "  <th>CMU</th>           <td>    0.0119</td> <td>    0.016</td> <td>    0.745</td> <td> 0.456</td> <td>   -0.019</td> <td>    0.043</td>\n",
       "</tr>\n",
       "</table>\n",
       "<table class=\"simpletable\">\n",
       "<tr>\n",
       "  <th>Omnibus:</th>       <td> 6.309</td> <th>  Durbin-Watson:     </th> <td>   1.240</td>\n",
       "</tr>\n",
       "<tr>\n",
       "  <th>Prob(Omnibus):</th> <td> 0.043</td> <th>  Jarque-Bera (JB):  </th> <td>  10.455</td>\n",
       "</tr>\n",
       "<tr>\n",
       "  <th>Skew:</th>          <td>-0.066</td> <th>  Prob(JB):          </th> <td> 0.00537</td>\n",
       "</tr>\n",
       "<tr>\n",
       "  <th>Kurtosis:</th>      <td> 4.664</td> <th>  Cond. No.          </th> <td>2.27e+09</td>\n",
       "</tr>\n",
       "</table><br/><br/>Warnings:<br/>[1] Standard Errors are heteroscedasticity robust (HC0)<br/>[2] The condition number is large, 2.27e+09. This might indicate that there are<br/>strong multicollinearity or other numerical problems."
      ],
      "text/plain": [
       "<class 'statsmodels.iolib.summary.Summary'>\n",
       "\"\"\"\n",
       "                            OLS Regression Results                            \n",
       "==============================================================================\n",
       "Dep. Variable:      ln_retail_volumes   R-squared:                       0.892\n",
       "Model:                            OLS   Adj. R-squared:                  0.876\n",
       "Method:                 Least Squares   F-statistic:                     79.65\n",
       "Date:                Thu, 29 Apr 2021   Prob (F-statistic):           9.91e-37\n",
       "Time:                        01:08:50   Log-Likelihood:                 160.15\n",
       "No. Observations:                  90   AIC:                            -296.3\n",
       "Df Residuals:                      78   BIC:                            -266.3\n",
       "Df Model:                          11                                         \n",
       "Covariance Type:                  HC0                                         \n",
       "=================================================================================\n",
       "                    coef    std err          z      P>|z|      [0.025      0.975]\n",
       "---------------------------------------------------------------------------------\n",
       "const             7.7171      0.089     86.308      0.000       7.542       7.892\n",
       "V1XI          -6.091e-05      0.002     -0.038      0.970      -0.003       0.003\n",
       "Cost_to_trade -9.566e-05      0.000     -0.786      0.432      -0.000       0.000\n",
       "Unempl          -14.7123      1.202    -12.244      0.000     -17.067     -12.357\n",
       "GDP               1.4892      0.825      1.805      0.071      -0.127       3.106\n",
       "Fin_lit           0.0069      0.018      0.378      0.705      -0.029       0.043\n",
       "Marg_trade        0.2660      0.044      6.096      0.000       0.180       0.352\n",
       "Return            0.4047      0.234      1.730      0.084      -0.054       0.863\n",
       "Infl              0.2264      1.174      0.193      0.847      -2.074       2.527\n",
       "Int_rate         -4.7538      5.044     -0.942      0.346     -14.640       5.132\n",
       "Deriv         -1.174e-08   1.24e-08     -0.943      0.346   -3.61e-08    1.27e-08\n",
       "CMU               0.0119      0.016      0.745      0.456      -0.019       0.043\n",
       "==============================================================================\n",
       "Omnibus:                        6.309   Durbin-Watson:                   1.240\n",
       "Prob(Omnibus):                  0.043   Jarque-Bera (JB):               10.455\n",
       "Skew:                          -0.066   Prob(JB):                      0.00537\n",
       "Kurtosis:                       4.664   Cond. No.                     2.27e+09\n",
       "==============================================================================\n",
       "\n",
       "Warnings:\n",
       "[1] Standard Errors are heteroscedasticity robust (HC0)\n",
       "[2] The condition number is large, 2.27e+09. This might indicate that there are\n",
       "strong multicollinearity or other numerical problems.\n",
       "\"\"\""
      ]
     },
     "execution_count": 440,
     "metadata": {},
     "output_type": "execute_result"
    }
   ],
   "source": [
    "Y_Gr_w_o = new_data_Gr_w_o['ln_retail_volumes'] \n",
    "X_Gr_w_o = new_data_Gr_w_o[['V1XI', 'Cost_to_trade', 'Unempl', 'GDP', 'Fin_lit', 'Marg_trade', 'Return', 'Infl', 'Int_rate',\n",
    "         'Deriv', 'CMU']]\n",
    "\n",
    "X_Gr_w_o = sm.add_constant(X_Gr_w_o)\n",
    "model_Gr_w_o = sm.OLS(Y_Gr_w_o, X_Gr_w_o).fit(cov_type='HC0')\n",
    "predictions = model_Gr.predict(X_Gr_w_o)\n",
    "model_Gr_w_o.summary()"
   ]
  },
  {
   "cell_type": "code",
   "execution_count": 403,
   "metadata": {},
   "outputs": [
    {
     "data": {
      "text/plain": [
       "(0.9722070693969727, 0.05063571408390999)"
      ]
     },
     "execution_count": 403,
     "metadata": {},
     "output_type": "execute_result"
    }
   ],
   "source": [
    "shapiro_test_Gr_w_o = stats.shapiro(model_Gr_w_o.resid)\n",
    "shapiro_test_Gr_w_o"
   ]
  },
  {
   "cell_type": "code",
   "execution_count": 404,
   "metadata": {},
   "outputs": [
    {
     "data": {
      "image/png": "[encoded data removed]",
      "text/plain": [
       "<Figure size 864x432 with 1 Axes>"
      ]
     },
     "metadata": {
      "needs_background": "light"
     },
     "output_type": "display_data"
    }
   ],
   "source": [
    "plt.subplots(figsize=(12, 6))\n",
    "plt.title('Distribution of Residuals')\n",
    "sns.distplot(model_Gr_w_o.resid)\n",
    "plt.show()"
   ]
  },
  {
   "cell_type": "code",
   "execution_count": 405,
   "metadata": {},
   "outputs": [
    {
     "data": {
      "text/plain": [
       "<matplotlib.axes._subplots.AxesSubplot at 0x20bc1b7d2c8>"
      ]
     },
     "execution_count": 405,
     "metadata": {},
     "output_type": "execute_result"
    },
    {
     "data": {
      "image/png": "[encoded data removed]",
      "text/plain": [
       "<Figure size 432x288 with 1 Axes>"
      ]
     },
     "metadata": {
      "needs_background": "light"
     },
     "output_type": "display_data"
    }
   ],
   "source": [
    "new_data_Gr_w_o.boxplot(column=['V1XI'])"
   ]
  },
  {
   "cell_type": "code",
   "execution_count": 406,
   "metadata": {},
   "outputs": [
    {
     "data": {
      "text/plain": [
       "<matplotlib.axes._subplots.AxesSubplot at 0x20bc1c5acc8>"
      ]
     },
     "execution_count": 406,
     "metadata": {},
     "output_type": "execute_result"
    },
    {
     "data": {
      "image/png": "[encoded data removed]",
      "text/plain": [
       "<Figure size 432x288 with 1 Axes>"
      ]
     },
     "metadata": {
      "needs_background": "light"
     },
     "output_type": "display_data"
    }
   ],
   "source": [
    "new_data_Gr_w_o.boxplot(column=['Infl'])"
   ]
  },
  {
   "cell_type": "code",
   "execution_count": 407,
   "metadata": {},
   "outputs": [
    {
     "data": {
      "text/plain": [
       "<matplotlib.axes._subplots.AxesSubplot at 0x20bc1be7108>"
      ]
     },
     "execution_count": 407,
     "metadata": {},
     "output_type": "execute_result"
    },
    {
     "data": {
      "image/png": "[encoded data removed]",
      "text/plain": [
       "<Figure size 432x288 with 1 Axes>"
      ]
     },
     "metadata": {
      "needs_background": "light"
     },
     "output_type": "display_data"
    }
   ],
   "source": [
    "new_data_Gr_w_o.boxplot(column=['GDP'])"
   ]
  },
  {
   "cell_type": "code",
   "execution_count": 408,
   "metadata": {},
   "outputs": [
    {
     "data": {
      "text/plain": [
       "<matplotlib.axes._subplots.AxesSubplot at 0x20bc1ced3c8>"
      ]
     },
     "execution_count": 408,
     "metadata": {},
     "output_type": "execute_result"
    },
    {
     "data": {
      "image/png": "[encoded data removed]",
      "text/plain": [
       "<Figure size 432x288 with 1 Axes>"
      ]
     },
     "metadata": {
      "needs_background": "light"
     },
     "output_type": "display_data"
    }
   ],
   "source": [
    "new_data_Gr_w_o.boxplot(column=['Deriv'])"
   ]
  },
  {
   "cell_type": "code",
   "execution_count": 409,
   "metadata": {},
   "outputs": [
    {
     "data": {
      "text/plain": [
       "<matplotlib.axes._subplots.AxesSubplot at 0x20bc2e94f48>"
      ]
     },
     "execution_count": 409,
     "metadata": {},
     "output_type": "execute_result"
    },
    {
     "data": {
      "image/png": "[encoded data removed]",
      "text/plain": [
       "<Figure size 432x288 with 1 Axes>"
      ]
     },
     "metadata": {
      "needs_background": "light"
     },
     "output_type": "display_data"
    }
   ],
   "source": [
    "new_data_Gr_w_o.boxplot(column=['Return'])"
   ]
  },
  {
   "cell_type": "code",
   "execution_count": 410,
   "metadata": {},
   "outputs": [
    {
     "name": "stderr",
     "output_type": "stream",
     "text": [
      "C:\\Users\\peter\\Anaconda3\\lib\\site-packages\\ipykernel_launcher.py:2: UserWarning: Matplotlib is currently using module://ipykernel.pylab.backend_inline, which is a non-GUI backend, so cannot show the figure.\n",
      "  \n"
     ]
    },
    {
     "data": {
      "image/png": "[encoded data removed]",
      "text/plain": [
       "<Figure size 432x288 with 1 Axes>"
      ]
     },
     "metadata": {
      "needs_background": "light"
     },
     "output_type": "display_data"
    }
   ],
   "source": [
    "acf = smt.graphics.plot_acf(model_Gr_w_o.resid, lags=40 , alpha=0.05)\n",
    "acf.show()"
   ]
  },
  {
   "cell_type": "code",
   "execution_count": 428,
   "metadata": {},
   "outputs": [
    {
     "data": {
      "image/png": "[encoded data removed]",
      "text/plain": [
       "<Figure size 432x288 with 2 Axes>"
      ]
     },
     "metadata": {
      "needs_background": "light"
     },
     "output_type": "display_data"
    }
   ],
   "source": [
    "linearity_test(model_Gr_w_o, Y_Gr_w_o)"
   ]
  },
  {
   "cell_type": "code",
   "execution_count": 435,
   "metadata": {},
   "outputs": [
    {
     "data": {
      "text/html": [
       "<div>\n",
       "<style scoped>\n",
       "    .dataframe tbody tr th:only-of-type {\n",
       "        vertical-align: middle;\n",
       "    }\n",
       "\n",
       "    .dataframe tbody tr th {\n",
       "        vertical-align: top;\n",
       "    }\n",
       "\n",
       "    .dataframe thead th {\n",
       "        text-align: right;\n",
       "    }\n",
       "</style>\n",
       "<table border=\"1\" class=\"dataframe\">\n",
       "  <thead>\n",
       "    <tr style=\"text-align: right;\">\n",
       "      <th></th>\n",
       "      <th>VIF Factor</th>\n",
       "      <th>features</th>\n",
       "    </tr>\n",
       "  </thead>\n",
       "  <tbody>\n",
       "    <tr>\n",
       "      <td>0</td>\n",
       "      <td>373.389668</td>\n",
       "      <td>const</td>\n",
       "    </tr>\n",
       "    <tr>\n",
       "      <td>1</td>\n",
       "      <td>4.057876</td>\n",
       "      <td>V1XI</td>\n",
       "    </tr>\n",
       "    <tr>\n",
       "      <td>2</td>\n",
       "      <td>4.587697</td>\n",
       "      <td>Cost_to_trade</td>\n",
       "    </tr>\n",
       "    <tr>\n",
       "      <td>3</td>\n",
       "      <td>3.124165</td>\n",
       "      <td>Unempl</td>\n",
       "    </tr>\n",
       "    <tr>\n",
       "      <td>4</td>\n",
       "      <td>1.456291</td>\n",
       "      <td>GDP</td>\n",
       "    </tr>\n",
       "    <tr>\n",
       "      <td>5</td>\n",
       "      <td>5.520402</td>\n",
       "      <td>Fin_lit</td>\n",
       "    </tr>\n",
       "    <tr>\n",
       "      <td>6</td>\n",
       "      <td>1.425761</td>\n",
       "      <td>Marg_trade</td>\n",
       "    </tr>\n",
       "    <tr>\n",
       "      <td>7</td>\n",
       "      <td>6.301570</td>\n",
       "      <td>Return</td>\n",
       "    </tr>\n",
       "    <tr>\n",
       "      <td>8</td>\n",
       "      <td>1.208130</td>\n",
       "      <td>Infl</td>\n",
       "    </tr>\n",
       "    <tr>\n",
       "      <td>9</td>\n",
       "      <td>6.334929</td>\n",
       "      <td>Int_rate</td>\n",
       "    </tr>\n",
       "    <tr>\n",
       "      <td>10</td>\n",
       "      <td>2.822693</td>\n",
       "      <td>Deriv</td>\n",
       "    </tr>\n",
       "    <tr>\n",
       "      <td>11</td>\n",
       "      <td>2.883727</td>\n",
       "      <td>CMU</td>\n",
       "    </tr>\n",
       "  </tbody>\n",
       "</table>\n",
       "</div>"
      ],
      "text/plain": [
       "    VIF Factor       features\n",
       "0   373.389668          const\n",
       "1     4.057876           V1XI\n",
       "2     4.587697  Cost_to_trade\n",
       "3     3.124165         Unempl\n",
       "4     1.456291            GDP\n",
       "5     5.520402        Fin_lit\n",
       "6     1.425761     Marg_trade\n",
       "7     6.301570         Return\n",
       "8     1.208130           Infl\n",
       "9     6.334929       Int_rate\n",
       "10    2.822693          Deriv\n",
       "11    2.883727            CMU"
      ]
     },
     "execution_count": 435,
     "metadata": {},
     "output_type": "execute_result"
    }
   ],
   "source": [
    "vif_Gr_w_o = pd.DataFrame()\n",
    "vif_Gr_w_o[\"VIF Factor\"] = [variance_inflation_factor(X_Gr_w_o.values, i) for i in range(X_Gr_w_o.shape[1])]\n",
    "vif_Gr_w_o[\"features\"] = X_Gr_w_o.columns\n",
    "vif_Gr_w_o"
   ]
  },
  {
   "cell_type": "code",
   "execution_count": 437,
   "metadata": {},
   "outputs": [
    {
     "data": {
      "text/plain": [
       "0.9455545126415568"
      ]
     },
     "execution_count": 437,
     "metadata": {},
     "output_type": "execute_result"
    },
    {
     "data": {
      "image/png": "[encoded data removed]",
      "text/plain": [
       "<Figure size 432x180 with 1 Axes>"
      ]
     },
     "metadata": {
      "needs_background": "light"
     },
     "output_type": "display_data"
    }
   ],
   "source": [
    "fig, ax = plt.subplots(figsize=(6,2.5))\n",
    "_, (__, ___, r) = sp.stats.probplot(model_Gr.resid, plot=ax, fit=True)\n",
    "r**2"
   ]
  },
  {
   "cell_type": "code",
   "execution_count": 438,
   "metadata": {},
   "outputs": [
    {
     "data": {
      "text/plain": [
       "0.963480038380818"
      ]
     },
     "execution_count": 438,
     "metadata": {},
     "output_type": "execute_result"
    },
    {
     "data": {
      "image/png": "[encoded data removed]",
      "text/plain": [
       "<Figure size 432x180 with 1 Axes>"
      ]
     },
     "metadata": {
      "needs_background": "light"
     },
     "output_type": "display_data"
    }
   ],
   "source": [
    "fig, ax = plt.subplots(figsize=(6,2.5))\n",
    "_, (__, ___, r) = sp.stats.probplot(model_Gr_w_o.resid, plot=ax, fit=True)\n",
    "r**2"
   ]
  },
  {
   "cell_type": "code",
   "execution_count": 439,
   "metadata": {},
   "outputs": [
    {
     "data": {
      "text/plain": [
       "(36.47246235761118, 1.2025563322914934e-08)"
      ]
     },
     "execution_count": 439,
     "metadata": {},
     "output_type": "execute_result"
    }
   ],
   "source": [
    "jb = stats.jarque_bera(model_Gr.resid)\n",
    "jb"
   ]
  }
 ],
 "metadata": {
  "kernelspec": {
   "display_name": "Python 3 (ipykernel)",
   "language": "python",
   "name": "python3"
  },
  "language_info": {
   "codemirror_mode": {
    "name": "ipython",
    "version": 3
   },
   "file_extension": ".py",
   "mimetype": "text/x-python",
   "name": "python",
   "nbconvert_exporter": "python",
   "pygments_lexer": "ipython3",
   "version": "3.9.7"
  }
 },
 "nbformat": 4,
 "nbformat_minor": 2
}
